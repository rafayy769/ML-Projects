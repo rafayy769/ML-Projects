{
 "cells": [
  {
   "cell_type": "markdown",
   "metadata": {},
   "source": [
    "# Programming Assignment 2: Naïve Bayes\n",
    "## Part 2: Classification\n",
    "\n",
    "#### Name: Abdul Rafay\n",
    "#### Roll Number: 24100173\n",
    "\n",
    "### Instructions\n",
    "*   In this part of the assignment you will be implementing a Naïve Bayes Classification Model for classification from scratch.\n",
    "*   Your code must be in the Python programming language.\n",
    "*   You are encouraged to use procedural programming and throughly comment your code.\n",
    "*   For Part 2, you can only use standard libraries i.e. numpy, pandas, regex, matplotlib and scipy. You are **not** allowed to use any machine learning toolkits or libraries for training and testing your model. \n",
    "*   **Carefully read the submission guidelines, plagiarism and late days policy.**\n",
    "\n",
    "### Submission Guidelines\n",
    "Submit your code both as notebook file (.ipynb) and python script (.py) as individual files on LMS. Name both files as RollNumber_PA2_PartNum, i.e. this part should be named as `2xxxxxxx_PA4_2`. If you don’t know how to save .ipynb as .py see [this](https://i.stack.imgur.com/L1rQH.png). Failing to submit any one of them might result in the reduction of marks. All cells **MUST** be run to get credit.\n",
    "\n",
    "### Plagiarism Policy\n",
    "The code **MUST** be done independently. Any plagiarism or cheating of work from others or the internet will be immediately referred to the DC. If you are confused about what constitutes plagiarism, it is **YOUR** responsibility to consult with the instructor or the TA in a timely manner. No “after the fact” negotiations will be possible. The only way to guarantee that you do not lose marks is **DO NOT LOOK AT ANYONE ELSE'S CODE NOR DISCUSS IT WITH THEM**.\n",
    "\n",
    "### Late Days Policy\n",
    "\n",
    "The deadline for the assignment is final. However, in order to accommodate all the 11th-hour issues, there is a late submission policy i.e. you can submit your assignment within 3 days after the deadline with a 25% deduction each day.\n"
   ]
  },
  {
   "cell_type": "markdown",
   "metadata": {},
   "source": [
    "### Introduction\n",
    "\n",
    "In this part, you will be implementing and training a Naïve Bayes Classification model to classify news articles into different categories. Specifically, you will need to implement [this](https://drive.google.com/file/d/1lNXwNpU6ydeP8I6cPsXLdbA4RQu17G9E/view?usp=sharing) algorithm. For more details of the algorithm and insights into the Naïve Bayes, you can also consult [Chapter 4](https://web.stanford.edu/~jurafsky/slp3/4.pdf) of the Speech and Language Processing book as reference.\n",
    "\n",
    "\n",
    "### Dataset\n",
    "You will be using the [AG News Classification Dataset](https://www.kaggle.com/datasets/amananandrai/ag-news-classification-dataset) for the purposes of this part of the assignment. This contains 120,000 training samples and 7600 testing samples of news articles belonging to 4 categories: World, Sports, Business, and Sci/Tech. \n",
    "The data has already been spilt into train and test files.\n",
    "You're required to implement a model that classifies the articles among the 4 aforementioned categories."
   ]
  },
  {
   "cell_type": "markdown",
   "metadata": {},
   "source": [
    "Start by importing all required libraries here."
   ]
  },
  {
   "cell_type": "code",
   "execution_count": 47,
   "metadata": {},
   "outputs": [],
   "source": [
    "import re\n",
    "import numpy as np\n",
    "import pandas as pd\n",
    "import matplotlib.pyplot as plt\n",
    "import numba as nb\n",
    "import seaborn as sns"
   ]
  },
  {
   "cell_type": "markdown",
   "metadata": {},
   "source": [
    "### 2.1 - Loading and Preprocessing the Dataset"
   ]
  },
  {
   "cell_type": "markdown",
   "metadata": {},
   "source": [
    "Load the dataset - both training and test samples"
   ]
  },
  {
   "cell_type": "code",
   "execution_count": 2,
   "metadata": {},
   "outputs": [
    {
     "data": {
      "text/html": [
       "<div>\n",
       "<style scoped>\n",
       "    .dataframe tbody tr th:only-of-type {\n",
       "        vertical-align: middle;\n",
       "    }\n",
       "\n",
       "    .dataframe tbody tr th {\n",
       "        vertical-align: top;\n",
       "    }\n",
       "\n",
       "    .dataframe thead th {\n",
       "        text-align: right;\n",
       "    }\n",
       "</style>\n",
       "<table border=\"1\" class=\"dataframe\">\n",
       "  <thead>\n",
       "    <tr style=\"text-align: right;\">\n",
       "      <th></th>\n",
       "      <th>Class Index</th>\n",
       "      <th>Description</th>\n",
       "    </tr>\n",
       "  </thead>\n",
       "  <tbody>\n",
       "    <tr>\n",
       "      <th>0</th>\n",
       "      <td>3</td>\n",
       "      <td>Unions representing workers at Turner   Newall...</td>\n",
       "    </tr>\n",
       "    <tr>\n",
       "      <th>1</th>\n",
       "      <td>4</td>\n",
       "      <td>SPACE.com - TORONTO, Canada -- A second\\team o...</td>\n",
       "    </tr>\n",
       "    <tr>\n",
       "      <th>2</th>\n",
       "      <td>4</td>\n",
       "      <td>AP - A company founded by a chemistry research...</td>\n",
       "    </tr>\n",
       "    <tr>\n",
       "      <th>3</th>\n",
       "      <td>4</td>\n",
       "      <td>AP - It's barely dawn when Mike Fitzpatrick st...</td>\n",
       "    </tr>\n",
       "    <tr>\n",
       "      <th>4</th>\n",
       "      <td>4</td>\n",
       "      <td>AP - Southern California's smog-fighting agenc...</td>\n",
       "    </tr>\n",
       "  </tbody>\n",
       "</table>\n",
       "</div>"
      ],
      "text/plain": [
       "   Class Index                                        Description\n",
       "0            3  Unions representing workers at Turner   Newall...\n",
       "1            4  SPACE.com - TORONTO, Canada -- A second\\team o...\n",
       "2            4  AP - A company founded by a chemistry research...\n",
       "3            4  AP - It's barely dawn when Mike Fitzpatrick st...\n",
       "4            4  AP - Southern California's smog-fighting agenc..."
      ]
     },
     "execution_count": 2,
     "metadata": {},
     "output_type": "execute_result"
    }
   ],
   "source": [
    "# code here\n",
    "\n",
    "dataset_path = 'DataP2'\n",
    "\n",
    "train = pd.read_csv(dataset_path + '/train.csv')\n",
    "test  = pd.read_csv(dataset_path + '/test.csv')\n",
    "\n",
    "# remove the Title column from the train and test data\n",
    "train.drop('Title', axis=1, inplace=True)\n",
    "test.drop('Title', axis=1, inplace=True)\n",
    "\n",
    "test.head()"
   ]
  },
  {
   "cell_type": "code",
   "execution_count": 3,
   "metadata": {},
   "outputs": [],
   "source": [
    "X_train = train['Description'].to_numpy()\n",
    "y_train = train['Class Index'].to_numpy()\n",
    "\n",
    "X_test = test['Description'].to_numpy()\n",
    "y_test = test['Class Index'].to_numpy()\n",
    "\n",
    "# create a copy of the original data\n",
    "X_train_orig = X_train.copy()\n",
    "X_test_orig = X_test.copy()"
   ]
  },
  {
   "cell_type": "code",
   "execution_count": 4,
   "metadata": {},
   "outputs": [],
   "source": [
    "stop_words = []\n",
    "\n",
    "with open(dataset_path + '/stop_words.txt', 'r') as f:\n",
    "    for line in f:\n",
    "        stop_words.append(line.strip())"
   ]
  },
  {
   "cell_type": "markdown",
   "metadata": {},
   "source": [
    "Use regex to pre-process the data loaded. Go through the data and use your own discretion to decide on what kind of pre-processing might be required."
   ]
  },
  {
   "cell_type": "code",
   "execution_count": 5,
   "metadata": {},
   "outputs": [],
   "source": [
    "# code here\n",
    "# remove stop words from the train and test data\n",
    "def remove_stop_words(X):\n",
    "    for i in range(len(X)):\n",
    "        X[i] = ' '.join([word for word in X[i].split() if word not in stop_words])\n",
    "    return X\n",
    "\n",
    "# remove punctuation from the train and test data\n",
    "def remove_punctuation(X):\n",
    "    for i in range(len(X)):\n",
    "        X[i] = re.sub(r'[^\\w\\s]','',X[i])\n",
    "    return X\n",
    "\n",
    "# remove digits from the train and test data\n",
    "def remove_digits(X):\n",
    "    for i in range(len(X)):\n",
    "        X[i] = re.sub(r'\\d+','',X[i])\n",
    "    return X\n",
    "\n",
    "# remove extra spaces from the train and test data\n",
    "def remove_extra_spaces(X):\n",
    "    for i in range(len(X)):\n",
    "        X[i] = re.sub(r'\\s+',' ',X[i])\n",
    "    return X\n",
    "\n",
    "# convert all characters to lower case from the train and test data\n",
    "def lower_case(X):\n",
    "    for i in range(len(X)):\n",
    "        X[i] = X[i].lower()\n",
    "    return X\n",
    "\n",
    "# remove urls from the train and test data\n",
    "def remove_urls(X):\n",
    "    for i in range(len(X)):\n",
    "        X[i] = re.sub(r'http\\S+','',X[i])\n",
    "    return X\n",
    "\n",
    "X_train = lower_case(X_train)\n",
    "X_train = remove_stop_words(X_train)\n",
    "X_train = remove_punctuation(X_train)\n",
    "X_train = remove_digits(X_train)\n",
    "X_train = remove_urls(X_train)\n",
    "X_train = remove_extra_spaces(X_train)\n",
    "\n",
    "X_test = lower_case(X_test)\n",
    "X_test = remove_stop_words(X_test)\n",
    "X_test = remove_punctuation(X_test)\n",
    "X_test = remove_digits(X_test)\n",
    "X_test = remove_urls(X_test)\n",
    "X_test = remove_extra_spaces(X_test)"
   ]
  },
  {
   "cell_type": "markdown",
   "metadata": {},
   "source": [
    "Show the results of your preprocessing by printing a random sample of 10 articles before and after pre-processing."
   ]
  },
  {
   "cell_type": "code",
   "execution_count": 6,
   "metadata": {},
   "outputs": [
    {
     "name": "stdout",
     "output_type": "stream",
     "text": [
      "Before preprocessing: \n",
      "['Japanese electronics giant NEC Corp has begun selling the world #39;s fastest supercomputer. NEC claimed its SX-8 is the most powerful  quot;vector-type quot; supercomputer, with a sustainable '\n",
      " 'PalmSource finally unveiled its new OS, version 1.1 of Palm OS Cobalt, as  quot;the first PalmOS designed specifically to support phones quot;.'\n",
      " 'Pakistani security forces have arrested more suspected militants in a series of raids following Sunday #39;s killing of a top al-Qaida leader and the arrest of two of his aides.'\n",
      " ' NEW YORK (Reuters) - FedEx Corp. &lt;A HREF=\"http://www.investor.reuters.com/FullQuote.aspx?ticker=FDX.N target=/stocks/quickinfo/fullquote\"&gt;FDX.N&lt;/A&gt;, the world\\'s top  air-express shipper, on Thursday said quarterly profit more  than tripled on strength in its international, ground and  freight businesses, and the company raised its full-year  earnings forecast.'\n",
      " 'com September 30, 2004, 9:28 AM PT. There #39;s no doubt the Internet will continue to make its mark in the world of business and technology.'\n",
      " ' TORONTO (Reuters) - National Hockey League team owners and  players appear poised to enter long contract negotiations  Thursday in a last-ditch bid to start the season on schedule.'\n",
      " 'The term throwing in the towel takes on new meaning this week, thanks again to televisions continuing creative contribution to sport.'\n",
      " 'Kanpur - Opener Andrew Hall #39;s tenacious 163 put South Africa in command of the first test match against India on Sunday. Hall #39;s defiant 144-run partnership for the sixth wicket with rookie Zander de Bryun '\n",
      " \"It is the body's internal chemicals and hormones that send diseases out to strut their stuff at night.\"\n",
      " 'Euro Disney plans a life-saving 250 million euro (\\\\$322 million) capital increase in mid-January if market conditions permit, said its finance ']\n",
      "After preprocessing: \n",
      "['japanese electronics giant nec corp begun selling world s fastest supercomputer nec claimed sx powerful quotvectortype quot supercomputer sustainable'\n",
      " 'palmsource finally unveiled new os version palm os cobalt quotthe first palmos designed specifically support phones quot'\n",
      " 'pakistani security forces arrested suspected militants series raids following sunday s killing top alqaida leader arrest two aides'\n",
      " 'new york reuters fedex corp lta href targetstocksquickinfofullquotegtfdxnltagt worlds top airexpress shipper thursday said quarterly profit tripled strength international ground freight businesses company raised fullyear earnings forecast'\n",
      " 'com september pt s doubt internet continue make mark world business technology'\n",
      " 'toronto reuters national hockey league team owners players appear poised enter long contract negotiations thursday lastditch bid start season schedule'\n",
      " 'term throwing towel takes new meaning week thanks televisions continuing creative contribution sport'\n",
      " 'kanpur opener andrew hall s tenacious put south africa command first test match india sunday hall s defiant run partnership sixth wicket rookie zander de bryun'\n",
      " 'bodys internal chemicals hormones send diseases strut stuff night'\n",
      " 'euro disney plans lifesaving million euro million capital increase midjanuary market conditions permit said finance']\n"
     ]
    }
   ],
   "source": [
    "np.random.seed(0)\n",
    "print(\"Before preprocessing: \")\n",
    "print(np.random.choice(X_train_orig, 10))\n",
    "\n",
    "np.random.seed(0)\n",
    "print(\"After preprocessing: \")\n",
    "print(np.random.choice(X_train, 10))"
   ]
  },
  {
   "cell_type": "markdown",
   "metadata": {},
   "source": [
    "### 2.2 - Training Naïve Bayes"
   ]
  },
  {
   "cell_type": "markdown",
   "metadata": {},
   "source": [
    "Create a bag of words representation for the data. Also report the number of unique words in your vocabulary, as well as in each class."
   ]
  },
  {
   "cell_type": "code",
   "execution_count": 7,
   "metadata": {},
   "outputs": [
    {
     "name": "stdout",
     "output_type": "stream",
     "text": [
      "Vocabulary size:  84045\n"
     ]
    }
   ],
   "source": [
    "# create vocabulary from training set\n",
    "vocab = set()\n",
    "for i in range(len(X_train)):\n",
    "    vocab.update(X_train[i].split())\n",
    "\n",
    "print(\"Vocabulary size: \", len(vocab))\n",
    "vocab = list(vocab)"
   ]
  },
  {
   "cell_type": "code",
   "execution_count": 9,
   "metadata": {},
   "outputs": [],
   "source": [
    "# split the data based on the class\n",
    "def split_data(X, y):\n",
    "    X_split = {}\n",
    "    for i in range(len(X)):\n",
    "        if y[i] not in X_split.keys():\n",
    "            X_split[y[i]] = []\n",
    "        X_split[y[i]].append(X[i])\n",
    "    return X_split\n",
    "\n",
    "# function to create vocab for each class\n",
    "def create_vocab(X, y):\n",
    "    vocab = {}\n",
    "    for i in range(len(X)):\n",
    "        if y[i] not in vocab.keys():\n",
    "            vocab[y[i]] = set()\n",
    "        vocab[y[i]].update(X[i].split())\n",
    "\n",
    "    # convert the vocab to a list\n",
    "    for key in vocab.keys():\n",
    "        vocab[key] = list(vocab[key])\n",
    "    return vocab\n",
    "\n",
    "# function to create a dictionary of words and their counts for each class\n",
    "def create_word_counts(X, y):\n",
    "    word_counts = {}\n",
    "    for i in range(len(X)):\n",
    "        if y[i] not in word_counts.keys():\n",
    "            word_counts[y[i]] = {}\n",
    "        for word in X[i].split():\n",
    "            if word not in word_counts[y[i]].keys():\n",
    "                word_counts[y[i]][word] = 0\n",
    "            word_counts[y[i]][word] += 1\n",
    "    return word_counts"
   ]
  },
  {
   "cell_type": "code",
   "execution_count": 13,
   "metadata": {},
   "outputs": [
    {
     "name": "stdout",
     "output_type": "stream",
     "text": [
      "Class:  3 Vocab size:  32297 Class size:  30000 Word count:  603274\n",
      "Class:  4 Vocab size:  39887 Class size:  30000 Word count:  580779\n",
      "Class:  2 Vocab size:  32382 Class size:  30000 Word count:  580901\n",
      "Class:  1 Vocab size:  33837 Class size:  30000 Word count:  604775\n"
     ]
    }
   ],
   "source": [
    "X_train_split = split_data(X_train, y_train)\n",
    "\n",
    "# create vocab for each class\n",
    "vocab_class = create_vocab(X_train, y_train)\n",
    "\n",
    "\n",
    "# create word counts for each class\n",
    "word_counts_class = create_word_counts(X_train, y_train)\n",
    "\n",
    "# print the size of each class vocab\n",
    "for key in vocab_class:\n",
    "    print(\"Class: \", key, \"Vocab size: \", len(vocab_class[key]), \"Class size: \", len(X_train_split[key]), \"Word count: \", sum(word_counts_class[key].values()))"
   ]
  },
  {
   "cell_type": "code",
   "execution_count": 21,
   "metadata": {},
   "outputs": [
    {
     "name": "stdout",
     "output_type": "stream",
     "text": [
      "\n",
      "Class  1\n",
      "Progress: [################################################# ] 99.9%\n",
      "Class  2\n",
      "Progress: [################################################# ] 99.9%\n",
      "Class  3\n",
      "Progress: [################################################# ] 99.9%\n",
      "Class  4\n",
      "Progress: [################################################# ] 99.9%\n",
      "BOW representation finished.\n"
     ]
    }
   ],
   "source": [
    "# function to create bag of words representation for each class.\n",
    "# @nb.njit(fastmath=True)\n",
    "def create_bow(sentence, vocab, len_train_vocab):\n",
    "    bow = np.ones(len_train_vocab).astype('uint8')\n",
    "    sentences = sentence.split()\n",
    "    for word in sentences:\n",
    "        # if word in vocab:\n",
    "        bow[vocab.index(word)] += 1\n",
    "    return bow\n",
    "    \n",
    "train_bow_list = []\n",
    "x = len(vocab)\n",
    "for class_index, class_data in X_train_split.items():\n",
    "    print(\"\\nClass: \", class_index)\n",
    "    j = 1000\n",
    "    for sentence in class_data:\n",
    "        bow = create_bow(sentence, vocab, x)\n",
    "        train_bow_list.append(bow)\n",
    "        # print a dynamic progress bar\n",
    "        if j > 1000:\n",
    "            print('\\r', end='')\n",
    "            print('Progress: [{0:50s}] {1:.1f}%'.format('#' * int((j / len(class_data)) * 50), (j / len(class_data)) * 100), end='')\n",
    "            # write to file\n",
    "        j += 1"
   ]
  },
  {
   "cell_type": "markdown",
   "metadata": {},
   "source": [
    "Implement a general `trainNaiveBayes` function that returns log priors and liklehoods for each class in a given dataset. Apply Laplace smoothing."
   ]
  },
  {
   "cell_type": "code",
   "execution_count": 20,
   "metadata": {},
   "outputs": [],
   "source": [
    "# create a dataframe of sentences and their classes\n",
    "df = pd.DataFrame({'sentence': X_train, 'class': y_train})\n",
    "\n",
    "classes = df['class'].unique()"
   ]
  },
  {
   "cell_type": "code",
   "execution_count": 23,
   "metadata": {},
   "outputs": [],
   "source": [
    "word_counts = {}\n",
    "\n",
    "for sentence in df['sentence']:\n",
    "    for word in sentence.split():\n",
    "        if word not in word_counts.keys():\n",
    "            word_counts[word] = 1\n",
    "        word_counts[word] += 1"
   ]
  },
  {
   "cell_type": "code",
   "execution_count": 24,
   "metadata": {},
   "outputs": [
    {
     "name": "stdout",
     "output_type": "stream",
     "text": [
      "Total number of words:  84045\n",
      "Sum of word counts:  2453774\n"
     ]
    }
   ],
   "source": [
    "print(\"Total number of words: \", len(word_counts))\n",
    "print(\"Sum of word counts: \", sum(word_counts.values()))"
   ]
  },
  {
   "cell_type": "code",
   "execution_count": 25,
   "metadata": {},
   "outputs": [],
   "source": [
    "def find_count(word, vocab, word_counts_class, class_index):\n",
    "    if word in word_counts_class[class_index].keys():\n",
    "        return word_counts_class[class_index][word]\n",
    "    else:\n",
    "        return 0\n",
    "\n",
    "denom = {classes[i]: sum(word_counts_class[classes[i]].values()) + len(vocab) for i in range(len(classes))}"
   ]
  },
  {
   "cell_type": "code",
   "execution_count": 26,
   "metadata": {},
   "outputs": [],
   "source": [
    "# code here\n",
    "def trainNaiveBayes(df, classes, classes_vocab, classes_data, classes_word_counts):\n",
    "    log_prior = {}\n",
    "    log_likelihood = {}\n",
    "\n",
    "    for class_id in classes:\n",
    "        print(\"Class: \", class_id)\n",
    "\n",
    "        N_doc = len(df)\n",
    "        N_c = len(classes_data[class_id])\n",
    "\n",
    "        log_prior[class_id] = np.log(N_c / N_doc)\n",
    "\n",
    "        for word in vocab:\n",
    "            count_wc = find_count(word, vocab, classes_word_counts, class_id)\n",
    "            log_likelihood_wc = np.log((count_wc + 1) / denom[class_id])\n",
    "            if word not in log_likelihood.keys():\n",
    "                log_likelihood[word] = {}\n",
    "            log_likelihood[word][class_id] = log_likelihood_wc\n",
    "            \n",
    "\n",
    "    return log_prior, log_likelihood"
   ]
  },
  {
   "cell_type": "markdown",
   "metadata": {},
   "source": [
    "Call the function on the training data to train your model."
   ]
  },
  {
   "cell_type": "code",
   "execution_count": 28,
   "metadata": {},
   "outputs": [
    {
     "name": "stdout",
     "output_type": "stream",
     "text": [
      "Class:  3\n",
      "Class:  4\n",
      "Class:  2\n",
      "Class:  1\n"
     ]
    }
   ],
   "source": [
    "# code here\n",
    "prior_prob, log_likelihood = trainNaiveBayes(df, classes, vocab_class, X_train_split, word_counts_class)"
   ]
  },
  {
   "cell_type": "markdown",
   "metadata": {},
   "source": [
    "### 2.3 - Testing Naïve Bayes"
   ]
  },
  {
   "cell_type": "markdown",
   "metadata": {},
   "source": [
    "Create a `testNaiveBayes` function that return predicted class for each article."
   ]
  },
  {
   "cell_type": "code",
   "execution_count": 30,
   "metadata": {},
   "outputs": [],
   "source": [
    "# code here\n",
    "def test_naive_bayes(log_prior, log_likelihood, classes, sentence):\n",
    "    sum_c = {classs: 0 for classs in classes}\n",
    "    for class_id in classes:\n",
    "        sum_c[class_id] = log_prior[class_id]\n",
    "        for word in sentence.split():\n",
    "            if word in log_likelihood.keys():\n",
    "                # if class_id in log_likelihood[word].keys():\n",
    "                sum_c[class_id] += log_likelihood[word][class_id]\n",
    "\n",
    "    return max(sum_c, key=sum_c.get)"
   ]
  },
  {
   "cell_type": "code",
   "execution_count": 35,
   "metadata": {},
   "outputs": [],
   "source": [
    "# test the model\n",
    "def test_model(X_test, y_test, log_prior, log_likelihood, classes):\n",
    "    y_pred = []\n",
    "    for i in range(len(X_test)):\n",
    "        y_pred.append(test_naive_bayes(log_prior, log_likelihood, classes, X_test[i]))\n",
    "\n",
    "    return y_pred"
   ]
  },
  {
   "cell_type": "markdown",
   "metadata": {},
   "source": [
    "Create an `evaluation` function that returns the accuracy, f1 score, and confusion matrix for test predictions"
   ]
  },
  {
   "cell_type": "code",
   "execution_count": 55,
   "metadata": {},
   "outputs": [],
   "source": [
    "def accuracy_score(y_true, y_pred):\n",
    "    return np.sum(y_true == y_pred) / len(y_true)\n",
    "\n",
    "def confusion_matrix(y_true, y_pred):\n",
    "    classes = np.unique(y_true)\n",
    "    cm = np.zeros((len(classes), len(classes)))\n",
    "    for i, j in zip(y_true, y_pred):\n",
    "        cm[i-1, j-1] += 1\n",
    "    \n",
    "    return cm.astype('int')\n",
    "\n",
    "def calculate_macro_f1(conf_matrix):\n",
    "    micro_f1 = []\n",
    "    classes = 4\n",
    "    for i in range(classes):\n",
    "        tp = conf_matrix[i, i]\n",
    "        fp = np.sum(conf_matrix[:, i]) - tp\n",
    "        fn = np.sum(conf_matrix[i, :]) - tp\n",
    "\n",
    "        recall = tp / (tp + fn)\n",
    "        precision = tp / (tp + fp)\n",
    "\n",
    "        f1 = 2 * (precision * recall) / (precision + recall)\n",
    "\n",
    "        micro_f1.append(f1)\n",
    "\n",
    "    return sum(micro_f1) / len(micro_f1)\n",
    "\n",
    "def classification_report(y_true, y_pred):\n",
    "    cm = confusion_matrix(y_true, y_pred)\n",
    "    print(\"Accuracy: \", accuracy_score(y_true, y_pred))\n",
    "    print(\"Precision: \", end = '')\n",
    "    print(np.mean((cm.diagonal() / cm.sum(axis=0))))\n",
    "    print(\"Recall: \", end = '')\n",
    "    print(np.mean(cm.diagonal() / cm.sum(axis=1)))\n",
    "    print(\"Macro F1 Score: \", calculate_macro_f1(cm))\n",
    "\n",
    "    # plot confusion matrix\n",
    "    plt.figure(figsize=(10, 10))\n",
    "    sns.heatmap(cm, annot=True, fmt='d', cmap='Blues')\n",
    "    # change the tick labels to the class labels\n",
    "    tick_marks = np.array([1,2,3,4])\n",
    "    plt.xticks(tick_marks, classes)\n",
    "    plt.yticks(tick_marks, classes)\n",
    "    plt.title('Confusion Matrix')\n",
    "    plt.ylabel('Actual')\n",
    "    plt.xlabel('Predicted')\n",
    "    plt.show()"
   ]
  },
  {
   "cell_type": "markdown",
   "metadata": {},
   "source": [
    "Use the defined functions to predict labels for the test data and evaluate your model's performance. Print the output."
   ]
  },
  {
   "cell_type": "code",
   "execution_count": 56,
   "metadata": {},
   "outputs": [
    {
     "name": "stdout",
     "output_type": "stream",
     "text": [
      "Accuracy:  0.8923684210526316\n",
      "Precision: 0.8919704359798661\n",
      "Recall: 0.8923684210526315\n",
      "Macro F1 Score:  0.8921144066079568\n"
     ]
    },
    {
     "data": {
      "image/png": "[encoded data removed]",
      "text/plain": [
       "<Figure size 1000x1000 with 2 Axes>"
      ]
     },
     "metadata": {},
     "output_type": "display_data"
    },
    {
     "name": "stdout",
     "output_type": "stream",
     "text": [
      "None\n"
     ]
    }
   ],
   "source": [
    "# code here\n",
    "y_pred = test_model(X_test, y_test, prior_prob, log_likelihood, classes)\n",
    "\n",
    "def evaluation(y_true, y_pred):\n",
    "    print(classification_report(y_true, y_pred))\n",
    "\n",
    "evaluation(y_test, y_pred)"
   ]
  },
  {
   "cell_type": "markdown",
   "metadata": {},
   "source": [
    "### 2.4 - Discussion"
   ]
  },
  {
   "cell_type": "markdown",
   "metadata": {},
   "source": [
    "Answer the following questions:\n",
    "- How did you decide what kind of pre-processing to do? How did this effect the performance of the classifier?\n",
    "- How does your f1 score rate the performance of your model? What can be done to improve it?\n",
    "- The given dataset has an equal number of samples in each class. How, if at all, would the performance of the model change if the data had a class imbalance?\n",
    "- The fundamental Naïve Bayes assumption is that each feature makes an independent and equal contribution to the outcome. Is this strictly true for this dataset? How might the assumption have impacted the predictions?"
   ]
  },
  {
   "cell_type": "markdown",
   "metadata": {},
   "source": [
    "Answer here:\n",
    "\n",
    "1. Initially only whitespaces and punctuations were removed, which led to a mediocre accuracy. However, once I removed digits, punctuations, and stop words the accuracy of the classifier improved a lot. Similarly, urls were removed as well after observing that they were not adding any value to the classification task.\n",
    "2. 0.89 is a very good F1 score, where the model is able to classify the articles with a high precision and recall. That is, the model gives a high correct number of positive class predictions that actually belong to the positive class, for each class in this case of multiclassification, and the model also has a high ratio of the number of positive class predictions made out of all positive examples in the dataset. The model can be improved by using a more complex model, such as a deep learning model. Similarly, better and even more advanced pre-processing techniques can be used to improve the performance of the model.\n",
    "3. If dataset had a class imbalance, the model would have a hard time classifying the minority class. This is because the model would have a hard time learning the features of the minority class. To overcome this, we can use a sampling technique such as SMOTE, or fair-SMOTE to oversample the minority class.\n",
    "4. Each feature is generally not independent of each other. A few words are more likely to appear together than others. For example, the word \"Trump\" is more likely to appear with the word \"president\" than the word \"apple\". This assumption can impact the predictions by making the model less accurate. Thus the assumption of independence is not true and does not take into account the context of the words."
   ]
  }
 ],
 "metadata": {
  "kernelspec": {
   "display_name": "Python 3.8.15 ('urduenv')",
   "language": "python",
   "name": "python3"
  },
  "language_info": {
   "codemirror_mode": {
    "name": "ipython",
    "version": 3
   },
   "file_extension": ".py",
   "mimetype": "text/x-python",
   "name": "python",
   "nbconvert_exporter": "python",
   "pygments_lexer": "ipython3",
   "version": "3.8.15"
  },
  "vscode": {
   "interpreter": {
    "hash": "53da4203b51a5e8642ed38c1240b496943d6923d110002f5bcbe1c2c4e26d767"
   }
  }
 },
 "nbformat": 4,
 "nbformat_minor": 4
}
