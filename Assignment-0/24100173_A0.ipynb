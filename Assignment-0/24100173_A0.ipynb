{
 "cells": [
  {
   "cell_type": "markdown",
   "metadata": {
    "id": "occYz8iXWKQk"
   },
   "source": [
    "# Programming Assignment 0: Python Tutorial\n",
    "\n",
    "Credits: This notebook is based on a [Python tutorial](http://cs231n.github.io/python-numpy-tutorial/) by [Justin Johnson](https://web.eecs.umich.edu/~justincj/) for [CS231n](http://cs231n.github.io/). "
   ]
  },
  {
   "cell_type": "markdown",
   "metadata": {},
   "source": [
    "### Name: Abdul Rafay\n",
    "### Roll Num: 24100173"
   ]
  },
  {
   "cell_type": "markdown",
   "metadata": {},
   "source": [
    "## Submission Instructions\n",
    "\n",
    "Submit BOTH the notebook (.ipynb file) and python (.py) file (get this from File->Download As->.py) in a zipped file titled rollnumber_A0 on the LMS assignment tab within the deadline. Make sure you follow the instructions in order to get credit for your submission. "
   ]
  },
  {
   "cell_type": "markdown",
   "metadata": {
    "id": "W-trfVF5WKQw"
   },
   "source": [
    "## Introduction"
   ]
  },
  {
   "cell_type": "markdown",
   "metadata": {
    "id": "zR7IRFdyWKQy"
   },
   "source": [
    "We will use the Python programming language for all assignments in this course. Python is a great general-purpose programming language on its own, but with the help of a few popular libraries (numpy, scipy, matplotlib) it becomes a powerful environment for scientific computing.\n",
    "\n",
    "We expect that many of you will have some experience with Python and numpy; for the rest of you, this section will serve as a quick crash course both on the Python programming language and on the use of Python for scientific computing."
   ]
  },
  {
   "cell_type": "markdown",
   "metadata": {
    "id": "A1LyBMR8WKQ1"
   },
   "source": [
    "In this tutorial, we will cover:\n",
    "\n",
    "* Basic Python: Basic data types (Containers, Lists, Dictionaries, Sets, Tuples), Functions, Classes\n",
    "* Numpy: Arrays, Array indexing, Datatypes, Array math, Broadcasting\n",
    "* Matplotlib: Plotting, Subplots, Images\n",
    "* IPython: Creating notebooks, Typical workflows"
   ]
  },
  {
   "cell_type": "markdown",
   "metadata": {
    "id": "bdv-xJ-VWKQ3"
   },
   "source": [
    "## Basics of Python"
   ]
  },
  {
   "cell_type": "markdown",
   "metadata": {
    "id": "G78id_A-WKQ4"
   },
   "source": [
    "Python is a high-level, dynamically typed multiparadigm programming language. Python code is often said to be almost like pseudocode, since it allows you to express very powerful ideas in very few lines of code while being very readable. As an example, here is an implementation of the classic quicksort algorithm in Python:"
   ]
  },
  {
   "cell_type": "code",
   "execution_count": 3,
   "metadata": {
    "id": "-rtIO5QqWKQ6"
   },
   "outputs": [
    {
     "name": "stdout",
     "output_type": "stream",
     "text": [
      "[0, 1, 5, 5, 14, 16, 50]\n"
     ]
    }
   ],
   "source": [
    "def quicksort(arr):\n",
    "    if len(arr) <= 1:\n",
    "        return arr\n",
    "    pivot = arr[len(arr) // 2]\n",
    "    left = [x for x in arr if x < pivot]\n",
    "    middle = [x for x in arr if x == pivot]\n",
    "    right = [x for x in arr if x > pivot]\n",
    "    return quicksort(left) + middle + quicksort(right)\n",
    "\n",
    "print(quicksort([5,16,1,50,0,5,14]))\n",
    "# Prints \"[0, 1, 5, 5, 14, 16, 50]\""
   ]
  },
  {
   "cell_type": "markdown",
   "metadata": {
    "id": "90nqR-PyWKQ-"
   },
   "source": [
    "### Python versions"
   ]
  },
  {
   "cell_type": "markdown",
   "metadata": {
    "id": "7R_NmqJrWKQ_"
   },
   "source": [
    "For this class all code will use Python 3.7. You can check your Python version by executing the cell below:"
   ]
  },
  {
   "cell_type": "code",
   "execution_count": 4,
   "metadata": {
    "id": "_GCl5VfmWKRB"
   },
   "outputs": [
    {
     "name": "stdout",
     "output_type": "stream",
     "text": [
      "Python 3.8.8\n"
     ]
    }
   ],
   "source": [
    "!python --version"
   ]
  },
  {
   "cell_type": "markdown",
   "metadata": {
    "id": "rUJqaUE7WKRD"
   },
   "source": [
    "### Basic data types"
   ]
  },
  {
   "cell_type": "markdown",
   "metadata": {
    "id": "iCRB131rWKRE"
   },
   "source": [
    "#### Numbers"
   ]
  },
  {
   "cell_type": "markdown",
   "metadata": {
    "id": "vmWbDg3OWKRF"
   },
   "source": [
    "Integers and floats work as you would expect from other languages:"
   ]
  },
  {
   "cell_type": "code",
   "execution_count": 5,
   "metadata": {
    "id": "Gvp0I3p6WKRG"
   },
   "outputs": [
    {
     "name": "stdout",
     "output_type": "stream",
     "text": [
      "<class 'int'>\n",
      "10\n"
     ]
    }
   ],
   "source": [
    "x = 10\n",
    "print(type(x)) # Prints \"<class 'int'>\"\n",
    "print(x)       # Prints \"3\""
   ]
  },
  {
   "cell_type": "code",
   "execution_count": 6,
   "metadata": {
    "id": "vCByb8r0WKRG"
   },
   "outputs": [
    {
     "name": "stdout",
     "output_type": "stream",
     "text": [
      "11\n",
      "9\n",
      "20\n",
      "100\n"
     ]
    }
   ],
   "source": [
    "print(x + 1)   # Addition; prints \"4\"\n",
    "print(x - 1)   # Subtraction; prints \"2\"\n",
    "print(x * 2)   # Multiplication; prints \"6\"\n",
    "print(x ** 2)  # Exponentiation; prints \"9\""
   ]
  },
  {
   "cell_type": "code",
   "execution_count": 7,
   "metadata": {
    "id": "M8kvYCWbWKRH"
   },
   "outputs": [
    {
     "name": "stdout",
     "output_type": "stream",
     "text": [
      "11\n",
      "22\n"
     ]
    }
   ],
   "source": [
    "x += 1\n",
    "print(x)  # Prints \"4\"\n",
    "x *= 2\n",
    "print(x)  # Prints \"8\""
   ]
  },
  {
   "cell_type": "code",
   "execution_count": 8,
   "metadata": {
    "id": "JgGZ9niAWKRI"
   },
   "outputs": [
    {
     "name": "stdout",
     "output_type": "stream",
     "text": [
      "<class 'float'>\n",
      "9.5 10.5 19.0 90.25\n"
     ]
    }
   ],
   "source": [
    "y = 9.5\n",
    "print(type(y)) # Prints \"<class 'float'>\"\n",
    "print(y, y + 1, y * 2, y ** 2) # Prints \"2.5 3.5 5.0 6.25\""
   ]
  },
  {
   "cell_type": "markdown",
   "metadata": {
    "id": "CiLEtnVKWKRK"
   },
   "source": [
    "Note that unlike many languages, Python does not have unary increment (x++) or decrement (x--) operators.\n",
    "\n",
    "Python also has built-in types for long integers and complex numbers; you can find all of the details in the [documentation](https://docs.python.org/3.7/library/stdtypes.html#numeric-types-int-float-complex)."
   ]
  },
  {
   "cell_type": "markdown",
   "metadata": {
    "id": "PlxHAPYfWKRK"
   },
   "source": [
    "#### Booleans"
   ]
  },
  {
   "cell_type": "markdown",
   "metadata": {
    "id": "Fr6CZepgWKRL"
   },
   "source": [
    "Python implements all of the usual operators for Boolean logic, but uses English words rather than symbols (`&&`, `||`, etc.):"
   ]
  },
  {
   "cell_type": "code",
   "execution_count": 9,
   "metadata": {
    "id": "LW9CK7R7WKRM"
   },
   "outputs": [
    {
     "name": "stdout",
     "output_type": "stream",
     "text": [
      "<class 'bool'>\n",
      "False\n",
      "True\n",
      "False\n",
      "True\n"
     ]
    }
   ],
   "source": [
    "t = True\n",
    "f = False\n",
    "print(type(t)) # Prints \"<class 'bool'>\"\n",
    "print(t and f) # Logical AND; prints \"False\"\n",
    "print(t or f)  # Logical OR; prints \"True\"\n",
    "print(not t)   # Logical NOT; prints \"False\"\n",
    "print(t != f)  # Logical XOR; prints \"True\""
   ]
  },
  {
   "cell_type": "markdown",
   "metadata": {
    "id": "fXqBE_oOWKRM"
   },
   "source": [
    "#### Strings\n",
    "\n",
    "Python has great support for strings:"
   ]
  },
  {
   "cell_type": "code",
   "execution_count": 10,
   "metadata": {
    "id": "0XeQcNmPWKRN"
   },
   "outputs": [
    {
     "name": "stdout",
     "output_type": "stream",
     "text": [
      "machine\n",
      "7\n",
      "machine learning\n",
      "machine learning 535\n"
     ]
    }
   ],
   "source": [
    "machine = 'machine'    # String literals can use single quotes\n",
    "learning = \"learning\"    # or double quotes; it does not matter.\n",
    "print(machine)       # Prints \"machine\"\n",
    "print(len(machine))  # String length; prints \"7\"\n",
    "course = machine + ' ' + learning  # String concatenation\n",
    "print(course)  # prints \"machine learning\"\n",
    "code = '%s %s %d' % (machine, learning, 535)  # sprintf style string formatting\n",
    "print(code)  # prints \"machine learning 535\""
   ]
  },
  {
   "cell_type": "markdown",
   "metadata": {
    "id": "dVne6LXbWKRO"
   },
   "source": [
    "String objects have a bunch of useful methods; for example:"
   ]
  },
  {
   "cell_type": "code",
   "execution_count": 11,
   "metadata": {
    "id": "OWT9hYmUWKRP"
   },
   "outputs": [
    {
     "name": "stdout",
     "output_type": "stream",
     "text": [
      "Neural networks\n",
      "NEURAL NETWORKS\n",
      "     neural networks\n",
      "  neural networks   \n",
      "neu(ral) networks\n",
      "AI\n"
     ]
    }
   ],
   "source": [
    "s = \"neural networks\"\n",
    "print(s.capitalize())  # Capitalize a string; prints \"Neural nerworks\"\n",
    "print(s.upper())       # Convert a string to uppercase; prints \"NEURAL NETWORKS\"\n",
    "print(s.rjust(20))      # Right-justify a string, padding with spaces; prints \"     neural networks\"\n",
    "print(s.center(20))     # Center a string, padding with spaces; prints \"  neural networks   \"\n",
    "print(s.replace('ral', '(ral)'))  # Replace all instances of one substring with another;\n",
    "                                # prints \"he(ell)(ell)o\"\n",
    "print('  AI    '.strip())  # Strip leading and trailing whitespace; prints \"AI\""
   ]
  },
  {
   "cell_type": "markdown",
   "metadata": {
    "id": "sEiCd17mWKRR"
   },
   "source": [
    "You can find a list of all string methods in the [documentation](https://docs.python.org/3.7/library/stdtypes.html#string-methods)."
   ]
  },
  {
   "cell_type": "markdown",
   "metadata": {
    "id": "1sT-jG2mWKRS"
   },
   "source": [
    "### Containers"
   ]
  },
  {
   "cell_type": "markdown",
   "metadata": {
    "id": "XJY9zJhFWKRS"
   },
   "source": [
    "Python includes several built-in container types: lists, dictionaries, sets, and tuples."
   ]
  },
  {
   "cell_type": "markdown",
   "metadata": {
    "id": "koPtVnfrWKRT"
   },
   "source": [
    "#### Lists"
   ]
  },
  {
   "cell_type": "markdown",
   "metadata": {
    "id": "LLOlN2a-WKRV"
   },
   "source": [
    "A list is the Python equivalent of an array, but is resizeable and can contain elements of different types:"
   ]
  },
  {
   "cell_type": "code",
   "execution_count": 12,
   "metadata": {
    "id": "721AsuibWKRW"
   },
   "outputs": [
    {
     "name": "stdout",
     "output_type": "stream",
     "text": [
      "[5, 1, 9] 9\n",
      "9\n",
      "[5, 1, 'scrap']\n",
      "[5, 1, 'scrap', '!']\n",
      "! [5, 1, 'scrap']\n"
     ]
    }
   ],
   "source": [
    "xs = [5, 1, 9]    # Create a list\n",
    "print(xs, xs[2])  # Prints \"[5, 1, 9] 9\"\n",
    "print(xs[-1])     # Negative indices count from the end of the list; prints \"9\"\n",
    "xs[2] = 'scrap'     # Lists can contain elements of different types\n",
    "print(xs)         # Prints \"[5, 1, 'scrap']\"\n",
    "xs.append('!')  # Add a new element to the end of the list\n",
    "print(xs)         # Prints \"[5, 1, 'scrap', '!']\"\n",
    "x = xs.pop()      # Remove and return the last element of the list\n",
    "print(x, xs)      # Prints \"! [5, 1, 'scrap']\""
   ]
  },
  {
   "cell_type": "markdown",
   "metadata": {
    "id": "qF_gZH_-WKRX"
   },
   "source": [
    "As usual, you can find all the gory details about lists in the [documentation](https://docs.python.org/3.7/tutorial/datastructures.html#more-on-lists)."
   ]
  },
  {
   "cell_type": "markdown",
   "metadata": {
    "id": "iYNOm2OWWKRY"
   },
   "source": [
    "##### Slicing"
   ]
  },
  {
   "cell_type": "markdown",
   "metadata": {
    "id": "ols_O8sMWKRZ"
   },
   "source": [
    "In addition to accessing list elements one at a time, Python provides concise syntax to access sublists; this is known as slicing:"
   ]
  },
  {
   "cell_type": "code",
   "execution_count": 13,
   "metadata": {
    "id": "P9oCx5TLWKRZ"
   },
   "outputs": [
    {
     "name": "stdout",
     "output_type": "stream",
     "text": [
      "[0, 1, 2, 3, 4]\n",
      "[2, 3]\n",
      "[2, 3, 4]\n",
      "[0, 1]\n",
      "[0, 1, 2, 3, 4]\n",
      "[0, 1, 2, 3]\n",
      "[0, 1, 8, 9, 4]\n"
     ]
    }
   ],
   "source": [
    "nums = list(range(5))     # range is a built-in function that creates a list of integers\n",
    "print(nums)               # Prints \"[0, 1, 2, 3, 4]\"\n",
    "print(nums[2:4])          # Get a slice from index 2 to 4 (exclusive); prints \"[2, 3]\"\n",
    "print(nums[2:])           # Get a slice from index 2 to the end; prints \"[2, 3, 4]\"\n",
    "print(nums[:2])           # Get a slice from the start to index 2 (exclusive); prints \"[0, 1]\"\n",
    "print(nums[:])            # Get a slice of the whole list; prints \"[0, 1, 2, 3, 4]\"\n",
    "print(nums[:-1])          # Slice indices can be negative; prints \"[0, 1, 2, 3]\"\n",
    "nums[2:4] = [8, 9]        # Assign a new sublist to a slice\n",
    "print(nums)               # Prints \"[0, 1, 8, 9, 4]\""
   ]
  },
  {
   "cell_type": "markdown",
   "metadata": {
    "id": "fuV6A-OyWKRa"
   },
   "source": [
    "##### Loops"
   ]
  },
  {
   "cell_type": "markdown",
   "metadata": {
    "id": "E6_9iRsRWKRb"
   },
   "source": [
    "You can loop over the elements of a list like this:"
   ]
  },
  {
   "cell_type": "code",
   "execution_count": 14,
   "metadata": {
    "id": "5sbYXMb-WKRb"
   },
   "outputs": [
    {
     "name": "stdout",
     "output_type": "stream",
     "text": [
      "CS:GO\n",
      "Valorant\n",
      "Rainbow Siege\n"
     ]
    }
   ],
   "source": [
    "games = ['CS:GO', 'Valorant', 'Rainbow Siege']\n",
    "for game in games:\n",
    "    print(game)\n",
    "# Prints \"CS:GO\", \"Valorant\", \"Rainbow Siege\", each on its own line."
   ]
  },
  {
   "cell_type": "markdown",
   "metadata": {
    "id": "T6AP24tLWKRb"
   },
   "source": [
    "If you want access to the index of each element within the body of a loop, use the built-in `enumerate` function:"
   ]
  },
  {
   "cell_type": "code",
   "execution_count": 15,
   "metadata": {
    "id": "B9gICtLPWKRc"
   },
   "outputs": [
    {
     "name": "stdout",
     "output_type": "stream",
     "text": [
      "#1: Cat\n",
      "#2: Duck\n",
      "#3: Dog\n"
     ]
    }
   ],
   "source": [
    "animals = ['Cat', 'Duck', 'Dog']\n",
    "for idx, animal in enumerate(animals):\n",
    "    print('#%d: %s' % (idx + 1, animal))\n",
    "# Prints \"#1: Cat\", \"#2: Duck\", \"#3: Dog\", each on its own line"
   ]
  },
  {
   "cell_type": "markdown",
   "metadata": {
    "id": "Ns8c1kUJWKRc"
   },
   "source": [
    "##### List comprehensions:"
   ]
  },
  {
   "cell_type": "markdown",
   "metadata": {
    "id": "Mw0WiWpTWKRd"
   },
   "source": [
    "When programming, frequently we want to transform one type of data into another. As a simple example, consider the following code that computes square numbers:"
   ]
  },
  {
   "cell_type": "code",
   "execution_count": 16,
   "metadata": {
    "id": "rwt9iY-9WKRd"
   },
   "outputs": [
    {
     "name": "stdout",
     "output_type": "stream",
     "text": [
      "[0, 1, 4, 9, 16]\n"
     ]
    }
   ],
   "source": [
    "nums = [0, 1, 2, 3, 4]\n",
    "squares = []\n",
    "for x in nums:\n",
    "    squares.append(x ** 2)\n",
    "print(squares)   # Prints [0, 1, 4, 9, 16]"
   ]
  },
  {
   "cell_type": "markdown",
   "metadata": {
    "id": "zln903BXWKRe"
   },
   "source": [
    "You can make this code simpler using a list comprehension:"
   ]
  },
  {
   "cell_type": "code",
   "execution_count": 17,
   "metadata": {
    "id": "-qwt30seWKRe"
   },
   "outputs": [
    {
     "name": "stdout",
     "output_type": "stream",
     "text": [
      "[0, 1, 4, 9, 16]\n"
     ]
    }
   ],
   "source": [
    "nums = [0, 1, 2, 3, 4]\n",
    "squares = [x ** 2 for x in nums]\n",
    "print(squares)   # Prints [0, 1, 4, 9, 16]"
   ]
  },
  {
   "cell_type": "markdown",
   "metadata": {
    "id": "sqTWOBJtWKRf"
   },
   "source": [
    "List comprehensions can also contain conditions:"
   ]
  },
  {
   "cell_type": "code",
   "execution_count": 18,
   "metadata": {
    "id": "6ZH4uijNWKRf"
   },
   "outputs": [
    {
     "name": "stdout",
     "output_type": "stream",
     "text": [
      "[0, 4, 16]\n",
      "[1, 9]\n"
     ]
    }
   ],
   "source": [
    "nums = [0, 1, 2, 3, 4]\n",
    "even_squares = [x ** 2 for x in nums if x % 2 == 0]\n",
    "print(even_squares)  # Prints \"[0, 4, 16]\"\n",
    "odd_squares = [x ** 2 for x in nums if x % 2 != 0]\n",
    "print(odd_squares)  # Prints \"[1, 9]\""
   ]
  },
  {
   "cell_type": "markdown",
   "metadata": {
    "id": "VWaFen4HWKRg"
   },
   "source": [
    "#### Dictionaries"
   ]
  },
  {
   "cell_type": "markdown",
   "metadata": {
    "id": "-4qbEpSYWKRi"
   },
   "source": [
    "A dictionary stores (key, value) pairs, similar to a `Map` in Java or an object in Javascript. You can use it like this:"
   ]
  },
  {
   "cell_type": "code",
   "execution_count": 19,
   "metadata": {
    "id": "kUuSdyIdWKRi"
   },
   "outputs": [
    {
     "name": "stdout",
     "output_type": "stream",
     "text": [
      "fun\n",
      "True\n",
      "cute\n",
      "N/A\n",
      "cute\n",
      "N/A\n"
     ]
    }
   ],
   "source": [
    "d = {'swings': 'fun', 'pasta': 'tasty'}  # Create a new dictionary with some data\n",
    "print(d['swings'])       # Get an entry from a dictionary; prints \"fun\"\n",
    "print('swings' in d)     # Check if a dictionary has a given key; prints \"True\"\n",
    "d['duck'] = 'cute'     # Set an entry in a dictionary\n",
    "print(d['duck'])      # Prints \"cute\"\n",
    "# print(d['cat'])  # KeyError: 'cat' not a key of d\n",
    "print(d.get('monkey', 'N/A'))  # Get an element with a default; prints \"N/A\"\n",
    "print(d.get('duck', 'N/A'))    # Get an element with a default; prints \"cute\"\n",
    "del d['duck']         # Remove an element from a dictionary\n",
    "print(d.get('duck', 'N/A')) # \"duck\" is no longer a key; prints \"N/A\""
   ]
  },
  {
   "cell_type": "markdown",
   "metadata": {
    "id": "M2ciTBx-WKRj"
   },
   "source": [
    "You can find all you need to know about dictionaries in the [documentation](https://docs.python.org/3.7/library/stdtypes.html#dict)."
   ]
  },
  {
   "cell_type": "markdown",
   "metadata": {
    "id": "KHhTnHmHWKRk"
   },
   "source": [
    "##### Loops \n",
    "\n",
    "It is easy to iterate over the keys in a dictionary:"
   ]
  },
  {
   "cell_type": "code",
   "execution_count": 20,
   "metadata": {
    "id": "B9h_gkKcWKRl"
   },
   "outputs": [
    {
     "name": "stdout",
     "output_type": "stream",
     "text": [
      "Real Madrid has 14 UEFA Champions League titles\n",
      "Liverpool has 6 UEFA Champions League titles\n",
      "Barcelona has 5 UEFA Champions League titles\n"
     ]
    }
   ],
   "source": [
    "d = {'Real Madrid': 14, 'Liverpool': 6, 'Barcelona': 5}\n",
    "for team in d:\n",
    "    titles = d[team]\n",
    "    print('%s has %d UEFA Champions League titles' % (team, titles))\n",
    "# Prints \"Real Madrid has 14 UEFA Champions League titles\", \"Liverpool has 6 UEFA Champions League titles\", \"Barcelona has 5 UEFA Champions League titles\""
   ]
  },
  {
   "cell_type": "markdown",
   "metadata": {
    "id": "IZqW7Y2uWKRl"
   },
   "source": [
    "If you want access to keys and their corresponding values, use the `items` method:"
   ]
  },
  {
   "cell_type": "code",
   "execution_count": 21,
   "metadata": {
    "id": "Ik7NhDsAWKRm"
   },
   "outputs": [
    {
     "name": "stdout",
     "output_type": "stream",
     "text": [
      "Real Madrid has 14 UEFA Champions League titles\n",
      "Liverpool has 6 UEFA Champions League titles\n",
      "Barcelona has 5 UEFA Champions League titles\n"
     ]
    }
   ],
   "source": [
    "d = {'Real Madrid': 14, 'Liverpool': 6, 'Barcelona': 5}\n",
    "for team, titles in d.items():\n",
    "    print('%s has %d UEFA Champions League titles' % (team, titles))\n",
    "# Prints \"Real Madrid has 14 UEFA Champions League titles\", \"Liverpool has 6 UEFA Champions League titles\", \"Barcelona has 5 UEFA Champions League titles\""
   ]
  },
  {
   "cell_type": "markdown",
   "metadata": {
    "id": "kLBhlWmvWKRn"
   },
   "source": [
    "##### Dictionary comprehensions \n",
    "\n",
    "These are similar to list comprehensions, but allow you to easily construct dictionaries. For example:"
   ]
  },
  {
   "cell_type": "code",
   "execution_count": 22,
   "metadata": {
    "id": "rtQAkqFZWKRn"
   },
   "outputs": [
    {
     "name": "stdout",
     "output_type": "stream",
     "text": [
      "{1: 1, 3: 9, 5: 25}\n"
     ]
    }
   ],
   "source": [
    "nums = [0, 1, 2, 3, 4, 5]\n",
    "odd_num_to_square = {x: x ** 2 for x in nums if x % 2 != 0}\n",
    "print(odd_num_to_square)  # Prints \"{1: 1, 3: 9, 5: 25}\""
   ]
  },
  {
   "cell_type": "markdown",
   "metadata": {
    "id": "NkKG4tu3WKRo"
   },
   "source": [
    "#### Sets"
   ]
  },
  {
   "cell_type": "markdown",
   "metadata": {
    "id": "x4N6a4pZWKRo"
   },
   "source": [
    "A set is an unordered collection of distinct elements. As a simple example, consider the following:"
   ]
  },
  {
   "cell_type": "code",
   "execution_count": 23,
   "metadata": {
    "id": "4TPSu65sWKRo"
   },
   "outputs": [
    {
     "name": "stdout",
     "output_type": "stream",
     "text": [
      "True\n",
      "False\n",
      "True\n",
      "3\n",
      "3\n",
      "2\n"
     ]
    }
   ],
   "source": [
    "animals = {'cat', 'dog'}\n",
    "print('cat' in animals)   # Check if an element is in a set; prints \"True\"\n",
    "print('fish' in animals)  # prints \"False\"\n",
    "animals.add('fish')       # Add an element to a set\n",
    "print('fish' in animals)  # Prints \"True\"\n",
    "print(len(animals))       # Number of elements in a set; prints \"3\"\n",
    "animals.add('cat')        # Adding an element that is already in the set does nothing\n",
    "print(len(animals))       # Prints \"3\"\n",
    "animals.remove('cat')     # Remove an element from a set\n",
    "print(len(animals))       # Prints \"2\""
   ]
  },
  {
   "cell_type": "markdown",
   "metadata": {
    "id": "qzKB4Vu0WKRp"
   },
   "source": [
    "As usual, everything you want to know about sets can be found in the [documentation](https://docs.python.org/3.7/library/stdtypes.html#set)."
   ]
  },
  {
   "cell_type": "markdown",
   "metadata": {
    "id": "XujICTuEWKRq"
   },
   "source": [
    "##### Loops \n",
    "\n",
    "Iterating over a set has the same syntax as iterating over a list; however since sets are unordered, you cannot make assumptions about the order in which you visit the elements of the set:"
   ]
  },
  {
   "cell_type": "code",
   "execution_count": 24,
   "metadata": {
    "id": "QU7E9nAvWKRq"
   },
   "outputs": [
    {
     "name": "stdout",
     "output_type": "stream",
     "text": [
      "#1: fish\n",
      "#2: cat\n",
      "#3: dog\n"
     ]
    }
   ],
   "source": [
    "animals = {'cat', 'dog', 'fish'}\n",
    "for idx, animal in enumerate(animals):\n",
    "    print('#%d: %s' % (idx + 1, animal))\n",
    "# Prints \"#1: fish\", \"#2: cat\", \"#3: dog\""
   ]
  },
  {
   "cell_type": "markdown",
   "metadata": {
    "id": "jFCXy8BdWKRr"
   },
   "source": [
    "##### Set comprehensions\n",
    "\n",
    "Like lists and dictionaries, we can easily construct sets using set comprehensions:"
   ]
  },
  {
   "cell_type": "code",
   "execution_count": 25,
   "metadata": {
    "id": "01I1CuKvWKRr"
   },
   "outputs": [
    {
     "name": "stdout",
     "output_type": "stream",
     "text": [
      "{0, 1, 2, 3, 4, 5}\n"
     ]
    }
   ],
   "source": [
    "from math import sqrt\n",
    "nums = {int(sqrt(x)) for x in range(30)}\n",
    "print(nums)  # Prints \"{0, 1, 2, 3, 4, 5}\""
   ]
  },
  {
   "cell_type": "markdown",
   "metadata": {
    "id": "vY_VPNSrWKRs"
   },
   "source": [
    "#### Tuples"
   ]
  },
  {
   "cell_type": "markdown",
   "metadata": {
    "id": "fGZC4a0tWKRt"
   },
   "source": [
    "A tuple is an (immutable) ordered list of values. A tuple is in many ways similar to a list; one of the most important differences is that tuples can be used as keys in dictionaries and as elements of sets, while lists cannot. Here is a trivial example:"
   ]
  },
  {
   "cell_type": "code",
   "execution_count": 26,
   "metadata": {
    "id": "iJe5C--VWKRt"
   },
   "outputs": [
    {
     "name": "stdout",
     "output_type": "stream",
     "text": [
      "<class 'tuple'>\n",
      "8\n",
      "8\n"
     ]
    }
   ],
   "source": [
    "d = {(x, 9 - x): x for x in range(10)}  # Create a dictionary with tuple keys\n",
    "t = (8, 1)        # Create a tuple\n",
    "print(type(t))    # Prints \"<class 'tuple'>\"\n",
    "print(d[t])       # Prints \"8\"\n",
    "print(d[(8, 1)])  # Prints \"8\""
   ]
  },
  {
   "cell_type": "markdown",
   "metadata": {
    "id": "HLjBlI0IWKRt"
   },
   "source": [
    "The [documentation](https://docs.python.org/3.7/tutorial/datastructures.html#tuples-and-sequences) has more information about tuples."
   ]
  },
  {
   "cell_type": "markdown",
   "metadata": {
    "id": "uBOJVmqMWKRt"
   },
   "source": [
    "### Functions"
   ]
  },
  {
   "cell_type": "markdown",
   "metadata": {
    "id": "Jei3ft82WKRu"
   },
   "source": [
    "Python functions are defined using the `def` keyword. For example:"
   ]
  },
  {
   "cell_type": "code",
   "execution_count": 27,
   "metadata": {
    "id": "4C-aNT7iWKRu"
   },
   "outputs": [
    {
     "name": "stdout",
     "output_type": "stream",
     "text": [
      "negative\n",
      "zero\n",
      "positive\n"
     ]
    }
   ],
   "source": [
    "def sign(x):\n",
    "    if x > 0:\n",
    "        return 'positive'\n",
    "    elif x < 0:\n",
    "        return 'negative'\n",
    "    else:\n",
    "        return 'zero'\n",
    "\n",
    "for x in [-1, 0, 1]:\n",
    "    print(sign(x))\n",
    "# Prints \"negative\", \"zero\", \"positive\""
   ]
  },
  {
   "cell_type": "markdown",
   "metadata": {
    "id": "cFAuVS7kWKRw"
   },
   "source": [
    "We will often define functions to take optional keyword arguments, like this:"
   ]
  },
  {
   "cell_type": "code",
   "execution_count": 28,
   "metadata": {
    "id": "t-648u1gWKRx"
   },
   "outputs": [
    {
     "name": "stdout",
     "output_type": "stream",
     "text": [
      "Hello, Rick\n",
      "HELLO, MORTY!\n"
     ]
    }
   ],
   "source": [
    "def hello(name, loud=False):\n",
    "    if loud:\n",
    "        print('HELLO, %s!' % name.upper())\n",
    "    else:\n",
    "        print('Hello, %s' % name)\n",
    "\n",
    "hello('Rick') # Prints \"Hello, Bob\"\n",
    "hello('Morty', loud=True)  # Prints \"HELLO, FRED!\""
   ]
  },
  {
   "cell_type": "markdown",
   "metadata": {
    "id": "0X6CcKdsWKRz"
   },
   "source": [
    "There is a lot more information about Python functions in the [documentation](https://docs.python.org/3.7/tutorial/controlflow.html#defining-functions)."
   ]
  },
  {
   "cell_type": "markdown",
   "metadata": {
    "id": "UAoEJA8V-0xM"
   },
   "source": [
    "#### Lambda Functions\n",
    "These are anonymous functions in Python which take any number of arguments but only one expression. Syntax: \n",
    "`lambda arguments : expression`. They are one line function and expression are representing the body of a normal function."
   ]
  },
  {
   "cell_type": "code",
   "execution_count": 29,
   "metadata": {
    "id": "49LbTQdQAs0V"
   },
   "outputs": [
    {
     "name": "stdout",
     "output_type": "stream",
     "text": [
      "14\n",
      "6000\n"
     ]
    }
   ],
   "source": [
    "l = lambda a : a+10  ## lambda function 'l' is created which is taking 'a' as an argument and expression adds 10 to the value of argument a\n",
    "print(l(4))  ## passing 4 as value of 'a' argument of lambda function 'l' . This will return 12(12 = 4+10) as output.\n",
    "\n",
    "l1 = lambda a,b,c : a * b * c ## lambda function 'l1' is created which is taking 3 arguments (a,b,c) and return the result by multiplying them all.\n",
    "print(l1(10,20,30))  ## passing 10,20,30 as arguments 'a', 'b', 'c' respectively to 'l1' function. Print result 6000 (6000 = 10*20*30)"
   ]
  },
  {
   "cell_type": "markdown",
   "metadata": {
    "id": "ZMq_za7-Cwvm"
   },
   "source": [
    "We can use Lambda function anonymously inside other functions. Example is shown below"
   ]
  },
  {
   "cell_type": "code",
   "execution_count": 30,
   "metadata": {
    "id": "KJivSg5lDAHo"
   },
   "outputs": [
    {
     "name": "stdout",
     "output_type": "stream",
     "text": [
      "0.7\n"
     ]
    }
   ],
   "source": [
    "def func(n):  ## define a function that takes argument 'n' and returns a lambda function after dividing some unknown argument 'a' with given 'n'\n",
    "  return lambda a: a/n\n",
    "\n",
    "l2 = func(10)  ## passing 10 as value of 'n' in 'func' function. This will return lambda function 'l2' where n is assigned a value of 10.\n",
    "print(l2(7)) ## This will call lambda function 'l2' where 7 is given as value for argument 'a'. Print 0.7(0.7 = 7/10) as result "
   ]
  },
  {
   "cell_type": "markdown",
   "metadata": {
    "id": "xQNGLLXKWKRz"
   },
   "source": [
    "### Classes"
   ]
  },
  {
   "cell_type": "markdown",
   "metadata": {
    "id": "6SGqEAprWKR0"
   },
   "source": [
    "The syntax for defining classes in Python is straightforward:"
   ]
  },
  {
   "cell_type": "code",
   "execution_count": 31,
   "metadata": {
    "id": "qIBGkxIhWKR1"
   },
   "outputs": [
    {
     "name": "stdout",
     "output_type": "stream",
     "text": [
      "Hello, Nezuko\n",
      "HELLO, NEZUKO!\n"
     ]
    }
   ],
   "source": [
    "class Greeter(object):\n",
    "\n",
    "    # Constructor\n",
    "    def __init__(self, name):\n",
    "        self.name = name  # Create an instance variable\n",
    "\n",
    "    # Instance method\n",
    "    def greet(self, loud=False):\n",
    "        if loud:\n",
    "            print('HELLO, %s!' % self.name.upper())\n",
    "        else:\n",
    "            print('Hello, %s' % self.name)\n",
    "\n",
    "g = Greeter('Nezuko')  # Construct an instance of the Greeter class\n",
    "g.greet()            # Call an instance method; prints \"Hello, Fred\"\n",
    "g.greet(loud=True)   # Call an instance method; prints \"HELLO, FRED!\""
   ]
  },
  {
   "cell_type": "markdown",
   "metadata": {
    "id": "wjqA7mYRWKR1"
   },
   "source": [
    "You can read a lot more about Python classes in the [documentation](https://docs.python.org/3.7/tutorial/classes.html)."
   ]
  },
  {
   "cell_type": "markdown",
   "metadata": {
    "id": "42h3QLCSWKR3"
   },
   "source": [
    "## Numpy"
   ]
  },
  {
   "cell_type": "markdown",
   "metadata": {
    "id": "zU2WaCbkWKR3"
   },
   "source": [
    "[Numpy](https://numpy.org/) is the core library for scientific computing in Python. It provides a high-performance multidimensional array object, and tools for working with these arrays."
   ]
  },
  {
   "cell_type": "markdown",
   "metadata": {
    "id": "g589xsxOWKR4"
   },
   "source": [
    "To use Numpy, we first need to import the `numpy` package:"
   ]
  },
  {
   "cell_type": "code",
   "execution_count": 32,
   "metadata": {
    "id": "LTTqN8XzWKR4"
   },
   "outputs": [],
   "source": [
    "import numpy as np"
   ]
  },
  {
   "cell_type": "markdown",
   "metadata": {
    "id": "n9VDoMTUWKR5"
   },
   "source": [
    "### Arrays"
   ]
  },
  {
   "cell_type": "markdown",
   "metadata": {
    "id": "bobIuV-dWKR6"
   },
   "source": [
    "A numpy array is a grid of values, all of the same type, and is indexed by a tuple of nonnegative integers. The number of dimensions is the rank of the array; the shape of an array is a tuple of integers giving the size of the array along each dimension."
   ]
  },
  {
   "cell_type": "markdown",
   "metadata": {
    "id": "jPWmsGeuWKR6"
   },
   "source": [
    "We can initialize numpy arrays from nested Python lists, and access elements using square brackets:"
   ]
  },
  {
   "cell_type": "code",
   "execution_count": 33,
   "metadata": {
    "id": "BmJsPbzLWKR7"
   },
   "outputs": [
    {
     "name": "stdout",
     "output_type": "stream",
     "text": [
      "<class 'numpy.ndarray'>\n",
      "(3,)\n",
      "1 2 3\n",
      "[5 2 3]\n",
      "(2, 3)\n",
      "1 2 4\n"
     ]
    }
   ],
   "source": [
    "a = np.array([1, 2, 3])   # Create a rank 1 array\n",
    "print(type(a))            # Prints \"<class 'numpy.ndarray'>\"\n",
    "print(a.shape)            # Prints \"(3,)\"\n",
    "print(a[0], a[1], a[2])   # Prints \"1 2 3\"\n",
    "a[0] = 5                  # Change an element of the array\n",
    "print(a)                  # Prints \"[5, 2, 3]\"\n",
    "\n",
    "b = np.array([[1,2,3],[4,5,6]])    # Create a rank 2 array\n",
    "print(b.shape)                     # Prints \"(2, 3)\"\n",
    "print(b[0, 0], b[0, 1], b[1, 0])   # Prints \"1 2 4\""
   ]
  },
  {
   "cell_type": "markdown",
   "metadata": {
    "id": "j9YOQcsOWKR7"
   },
   "source": [
    "Numpy also provides many functions to create arrays:"
   ]
  },
  {
   "cell_type": "code",
   "execution_count": 34,
   "metadata": {
    "id": "Oq-lu5hVWKR8"
   },
   "outputs": [
    {
     "name": "stdout",
     "output_type": "stream",
     "text": [
      "[[0. 0.]\n",
      " [0. 0.]]\n",
      "[[1. 1.]]\n",
      "[[7 7]\n",
      " [7 7]]\n",
      "[[1. 0.]\n",
      " [0. 1.]]\n",
      "[[0.44787034 0.66278881]\n",
      " [0.22747279 0.0226939 ]]\n"
     ]
    }
   ],
   "source": [
    "a = np.zeros((2,2))   # Create an array of all zeros\n",
    "print(a)              # Prints \"[[ 0.  0.]\n",
    "                      #          [ 0.  0.]]\"\n",
    "\n",
    "b = np.ones((1,2))    # Create an array of all ones\n",
    "print(b)              # Prints \"[[ 1.  1.]]\"\n",
    "\n",
    "c = np.full((2,2), 7)  # Create a constant array\n",
    "print(c)               # Prints \"[[ 7.  7.]\n",
    "                       #          [ 7.  7.]]\"\n",
    "\n",
    "d = np.eye(2)         # Create a 2x2 identity matrix\n",
    "print(d)              # Prints \"[[ 1.  0.]\n",
    "                      #          [ 0.  1.]]\"\n",
    "\n",
    "e = np.random.random((2,2))  # Create an array filled with random values\n",
    "print(e)                     # Might print \"[[ 0.91940167  0.08143941]\n",
    "                             #               [ 0.68744134  0.87236687]]\""
   ]
  },
  {
   "cell_type": "markdown",
   "metadata": {
    "id": "7QNOLklPWKR9"
   },
   "source": [
    "You can read about other methods of array creation in the [documentation](https://docs.scipy.org/doc/numpy/user/basics.creation.html#arrays-creation)."
   ]
  },
  {
   "cell_type": "markdown",
   "metadata": {
    "id": "U6fnf7AVWKR9"
   },
   "source": [
    "### Array indexing"
   ]
  },
  {
   "cell_type": "markdown",
   "metadata": {
    "id": "NegrMjkKWKR-"
   },
   "source": [
    "Numpy offers several ways to index into arrays."
   ]
  },
  {
   "cell_type": "markdown",
   "metadata": {
    "id": "jSIFZAlWWKR-"
   },
   "source": [
    "#### Slicing \n",
    "\n",
    "Similar to Python lists, numpy arrays can be sliced. Since arrays may be multidimensional, you must specify a slice for each dimension of the array:"
   ]
  },
  {
   "cell_type": "code",
   "execution_count": 35,
   "metadata": {
    "id": "XVNWtWt_WKR_"
   },
   "outputs": [
    {
     "name": "stdout",
     "output_type": "stream",
     "text": [
      "2\n",
      "77\n"
     ]
    }
   ],
   "source": [
    "# Create the following rank 2 array with shape (3, 4)\n",
    "# [[ 1  2  3  4]\n",
    "#  [ 5  6  7  8]\n",
    "#  [ 9 10 11 12]]\n",
    "a = np.array([[1,2,3,4], [5,6,7,8], [9,10,11,12]])\n",
    "\n",
    "# Use slicing to pull out the subarray consisting of the first 2 rows\n",
    "# and columns 1 and 2; b is the following array of shape (2, 2):\n",
    "# [[2 3]\n",
    "#  [6 7]]\n",
    "b = a[:2, 1:3]\n",
    "\n",
    "# A slice of an array is a view into the same data, so modifying it\n",
    "# will modify the original array.\n",
    "print(a[0, 1])   # Prints \"2\"\n",
    "b[0, 0] = 77     # b[0, 0] is the same piece of data as a[0, 1]\n",
    "print(a[0, 1])   # Prints \"77\""
   ]
  },
  {
   "cell_type": "markdown",
   "metadata": {
    "id": "1F5mB7crWKR_"
   },
   "source": [
    "You can also mix integer indexing with slice indexing. However, doing so will yield an array of lower rank than the original array:"
   ]
  },
  {
   "cell_type": "code",
   "execution_count": 36,
   "metadata": {
    "id": "xWFd9PbyWKSA"
   },
   "outputs": [
    {
     "name": "stdout",
     "output_type": "stream",
     "text": [
      "[5 6 7 8] (4,)\n",
      "[[5 6 7 8]] (1, 4)\n",
      "[ 2  6 10] (3,)\n",
      "[[ 2]\n",
      " [ 6]\n",
      " [10]] (3, 1)\n"
     ]
    }
   ],
   "source": [
    "# Create the following rank 2 array with shape (3, 4)\n",
    "# [[ 1  2  3  4]\n",
    "#  [ 5  6  7  8]\n",
    "#  [ 9 10 11 12]]\n",
    "a = np.array([[1,2,3,4], [5,6,7,8], [9,10,11,12]])\n",
    "\n",
    "# Two ways of accessing the data in the middle row of the array.\n",
    "# Mixing integer indexing with slices yields an array of lower rank,\n",
    "# while using only slices yields an array of the same rank as the\n",
    "# original array:\n",
    "row_r1 = a[1, :]    # Rank 1 view of the second row of a\n",
    "row_r2 = a[1:2, :]  # Rank 2 view of the second row of a\n",
    "print(row_r1, row_r1.shape)  # Prints \"[5 6 7 8] (4,)\"\n",
    "print(row_r2, row_r2.shape)  # Prints \"[[5 6 7 8]] (1, 4)\"\n",
    "\n",
    "# We can make the same distinction when accessing columns of an array:\n",
    "col_r1 = a[:, 1]\n",
    "col_r2 = a[:, 1:2]\n",
    "print(col_r1, col_r1.shape)  # Prints \"[ 2  6 10] (3,)\"\n",
    "print(col_r2, col_r2.shape)  # Prints \"[[ 2]\n",
    "                             #          [ 6]\n",
    "                             #          [10]] (3, 1)\""
   ]
  },
  {
   "cell_type": "markdown",
   "metadata": {
    "id": "BWJe42ZzWKSA"
   },
   "source": [
    "#### Integer array indexing\n",
    "\n",
    "When you index into numpy arrays using slicing, the resulting array view will always be a subarray of the original array. In contrast, integer array indexing allows you to construct arbitrary arrays using the data from another array. Here is an example:"
   ]
  },
  {
   "cell_type": "code",
   "execution_count": 37,
   "metadata": {
    "id": "8bME80H_WKSB"
   },
   "outputs": [
    {
     "name": "stdout",
     "output_type": "stream",
     "text": [
      "[1 4 5]\n",
      "[1 4 5]\n",
      "[2 2]\n",
      "[2 2]\n"
     ]
    }
   ],
   "source": [
    "a = np.array([[1,2], [3, 4], [5, 6]])\n",
    "\n",
    "# An example of integer array indexing.\n",
    "# The returned array will have shape (3,) and\n",
    "print(a[[0, 1, 2], [0, 1, 0]])  # Prints \"[1 4 5]\"\n",
    "\n",
    "# The above example of integer array indexing is equivalent to this:\n",
    "print(np.array([a[0, 0], a[1, 1], a[2, 0]]))  # Prints \"[1 4 5]\"\n",
    "\n",
    "# When using integer array indexing, you can reuse the same\n",
    "# element from the source array:\n",
    "print(a[[0, 0], [1, 1]])  # Prints \"[2 2]\"\n",
    "\n",
    "# Equivalent to the previous integer array indexing example\n",
    "print(np.array([a[0, 1], a[0, 1]]))  # Prints \"[2 2]\""
   ]
  },
  {
   "cell_type": "markdown",
   "metadata": {
    "id": "Kcjct936WKSE"
   },
   "source": [
    "One useful trick with integer array indexing is selecting or mutating one element from each row of a matrix:"
   ]
  },
  {
   "cell_type": "code",
   "execution_count": 38,
   "metadata": {
    "id": "P5UW9D2tWKSF"
   },
   "outputs": [
    {
     "name": "stdout",
     "output_type": "stream",
     "text": [
      "[[ 1  2  3]\n",
      " [ 4  5  6]\n",
      " [ 7  8  9]\n",
      " [10 11 12]]\n",
      "[ 1  6  7 11]\n",
      "[[11  2  3]\n",
      " [ 4  5 16]\n",
      " [17  8  9]\n",
      " [10 21 12]]\n"
     ]
    }
   ],
   "source": [
    "# Create a new array from which we will select elements\n",
    "a = np.array([[1,2,3], [4,5,6], [7,8,9], [10, 11, 12]])\n",
    "\n",
    "print(a)  # prints \"array([[ 1,  2,  3],\n",
    "          #                [ 4,  5,  6],\n",
    "          #                [ 7,  8,  9],\n",
    "          #                [10, 11, 12]])\"\n",
    "\n",
    "# Create an array of indices\n",
    "b = np.array([0, 2, 0, 1])\n",
    "\n",
    "# Select one element from each row of a using the indices in b\n",
    "print(a[np.arange(4), b])  # Prints \"[ 1  6  7 11]\"\n",
    "\n",
    "# Mutate one element from each row of a using the indices in b\n",
    "a[np.arange(4), b] += 10\n",
    "\n",
    "print(a)  # prints \"array([[11,  2,  3],\n",
    "          #                [ 4,  5, 16],\n",
    "          #                [17,  8,  9],\n",
    "          #                [10, 21, 12]])"
   ]
  },
  {
   "cell_type": "markdown",
   "metadata": {
    "id": "ellIekboWKSH"
   },
   "source": [
    "#### Boolean array indexing \n",
    "\n",
    "Boolean array indexing lets you pick out arbitrary elements of an array. Frequently this type of indexing is used to select the elements of an array that satisfy some condition. Here is an example:"
   ]
  },
  {
   "cell_type": "code",
   "execution_count": 39,
   "metadata": {
    "id": "BEBKkhaLWKSH"
   },
   "outputs": [
    {
     "name": "stdout",
     "output_type": "stream",
     "text": [
      "[[False False]\n",
      " [ True  True]\n",
      " [ True  True]]\n",
      "[3 4 5 6]\n",
      "[3 4 5 6]\n"
     ]
    }
   ],
   "source": [
    "a = np.array([[1,2], [3, 4], [5, 6]])\n",
    "\n",
    "bool_idx = (a > 2)   # Find the elements of a that are bigger than 2;\n",
    "                     # this returns a numpy array of Booleans of the same\n",
    "                     # shape as a, where each slot of bool_idx tells\n",
    "                     # whether that element of a is > 2.\n",
    "\n",
    "print(bool_idx)      # Prints \"[[False False]\n",
    "                     #          [ True  True]\n",
    "                     #          [ True  True]]\"\n",
    "\n",
    "# We use boolean array indexing to construct a rank 1 array\n",
    "# consisting of the elements of a corresponding to the True values\n",
    "# of bool_idx\n",
    "print(a[bool_idx])  # Prints \"[3 4 5 6]\"\n",
    "\n",
    "# We can do all of the above in a single concise statement:\n",
    "print(a[a > 2])     # Prints \"[3 4 5 6]\""
   ]
  },
  {
   "cell_type": "markdown",
   "metadata": {
    "id": "ddW5arpNWKSI"
   },
   "source": [
    "For brevity we have left out a lot of details about numpy array indexing; if you want to know more you should read the [documentation](https://docs.scipy.org/doc/numpy/reference/arrays.indexing.html)."
   ]
  },
  {
   "cell_type": "markdown",
   "metadata": {
    "id": "u2lHw5BsWKSI"
   },
   "source": [
    "### Datatypes"
   ]
  },
  {
   "cell_type": "markdown",
   "metadata": {
    "id": "n69riEsDWKSI"
   },
   "source": [
    "Every numpy array is a grid of elements of the same type. Numpy provides a large set of numeric datatypes that you can use to construct arrays. Numpy tries to guess a datatype when you create an array, but functions that construct arrays usually also include an optional argument to explicitly specify the datatype. Here is an example:"
   ]
  },
  {
   "cell_type": "code",
   "execution_count": 40,
   "metadata": {
    "id": "j056PH3yWKSJ"
   },
   "outputs": [
    {
     "name": "stdout",
     "output_type": "stream",
     "text": [
      "int64\n",
      "float64\n",
      "int64\n"
     ]
    }
   ],
   "source": [
    "x = np.array([1, 2])   # Let numpy choose the datatype\n",
    "print(x.dtype)         # Prints \"int64\"\n",
    "\n",
    "x = np.array([1.0, 2.0])   # Let numpy choose the datatype\n",
    "print(x.dtype)             # Prints \"float64\"\n",
    "\n",
    "x = np.array([1, 2], dtype=np.int64)   # Force a particular datatype\n",
    "print(x.dtype)                         # Prints \"int64\""
   ]
  },
  {
   "cell_type": "markdown",
   "metadata": {
    "id": "V_Oie3GTWKSJ"
   },
   "source": [
    "You can read all about numpy datatypes in the [documentation](https://docs.scipy.org/doc/numpy/reference/arrays.dtypes.html)."
   ]
  },
  {
   "cell_type": "markdown",
   "metadata": {
    "id": "W6O03EaaWKSJ"
   },
   "source": [
    "### Array math"
   ]
  },
  {
   "cell_type": "markdown",
   "metadata": {
    "id": "_oImgJjgWKSK"
   },
   "source": [
    "Basic mathematical functions operate elementwise on arrays, and are available both as operator overloads and as functions in the numpy module:"
   ]
  },
  {
   "cell_type": "code",
   "execution_count": 41,
   "metadata": {
    "id": "eXMzKEmiWKSK"
   },
   "outputs": [
    {
     "name": "stdout",
     "output_type": "stream",
     "text": [
      "[[ 6.  8.]\n",
      " [10. 12.]]\n",
      "[[ 6.  8.]\n",
      " [10. 12.]]\n",
      "[[-4. -4.]\n",
      " [-4. -4.]]\n",
      "[[-4. -4.]\n",
      " [-4. -4.]]\n",
      "[[ 5. 12.]\n",
      " [21. 32.]]\n",
      "[[ 5. 12.]\n",
      " [21. 32.]]\n",
      "[[0.2        0.33333333]\n",
      " [0.42857143 0.5       ]]\n",
      "[[0.2        0.33333333]\n",
      " [0.42857143 0.5       ]]\n",
      "[[1.         1.41421356]\n",
      " [1.73205081 2.        ]]\n"
     ]
    }
   ],
   "source": [
    "x = np.array([[1,2],[3,4]], dtype=np.float64)\n",
    "y = np.array([[5,6],[7,8]], dtype=np.float64)\n",
    "\n",
    "# Elementwise sum; both produce the array\n",
    "# [[ 6.0  8.0]\n",
    "#  [10.0 12.0]]\n",
    "print(x + y)\n",
    "print(np.add(x, y))\n",
    "\n",
    "# Elementwise difference; both produce the array\n",
    "# [[-4.0 -4.0]\n",
    "#  [-4.0 -4.0]]\n",
    "print(x - y)\n",
    "print(np.subtract(x, y))\n",
    "\n",
    "# Elementwise product; both produce the array\n",
    "# [[ 5.0 12.0]\n",
    "#  [21.0 32.0]]\n",
    "print(x * y)\n",
    "print(np.multiply(x, y))\n",
    "\n",
    "# Elementwise division; both produce the array\n",
    "# [[ 0.2         0.33333333]\n",
    "#  [ 0.42857143  0.5       ]]\n",
    "print(x / y)\n",
    "print(np.divide(x, y))\n",
    "\n",
    "# Elementwise square root; produces the array\n",
    "# [[ 1.          1.41421356]\n",
    "#  [ 1.73205081  2.        ]]\n",
    "print(np.sqrt(x))"
   ]
  },
  {
   "cell_type": "markdown",
   "metadata": {
    "id": "xDSCM-UoWKSL"
   },
   "source": [
    "We use the dot function to compute inner products of vectors, to multiply a vector by a matrix, and to multiply matrices. dot is available both as a function in the numpy module and as an instance method of array objects:"
   ]
  },
  {
   "cell_type": "code",
   "execution_count": 42,
   "metadata": {
    "id": "v4NoMOoiWKSM"
   },
   "outputs": [
    {
     "name": "stdout",
     "output_type": "stream",
     "text": [
      "219\n",
      "219\n",
      "[29 67]\n",
      "[29 67]\n",
      "[[19 22]\n",
      " [43 50]]\n",
      "[[19 22]\n",
      " [43 50]]\n"
     ]
    }
   ],
   "source": [
    "x = np.array([[1,2],[3,4]])\n",
    "y = np.array([[5,6],[7,8]])\n",
    "\n",
    "v = np.array([9,10])\n",
    "w = np.array([11, 12])\n",
    "\n",
    "# Inner product of vectors; both produce 219\n",
    "print(v.dot(w))\n",
    "print(np.dot(v, w))\n",
    "\n",
    "# Matrix / vector product; both produce the rank 1 array [29 67]\n",
    "print(x.dot(v))\n",
    "print(np.dot(x, v))\n",
    "\n",
    "# Matrix / matrix product; both produce the rank 2 array\n",
    "# [[19 22]\n",
    "#  [43 50]]\n",
    "print(x.dot(y))\n",
    "print(np.dot(x, y))"
   ]
  },
  {
   "cell_type": "markdown",
   "metadata": {
    "id": "1D70_KurWKSM"
   },
   "source": [
    "Numpy provides many useful functions for performing computations on arrays; one of the most useful is `sum`:"
   ]
  },
  {
   "cell_type": "code",
   "execution_count": 43,
   "metadata": {
    "id": "rV2-npEjWKSM"
   },
   "outputs": [
    {
     "name": "stdout",
     "output_type": "stream",
     "text": [
      "10\n",
      "[4 6]\n",
      "[3 7]\n"
     ]
    }
   ],
   "source": [
    "x = np.array([[1,2],[3,4]])\n",
    "\n",
    "print(np.sum(x))  # Compute sum of all elements; prints \"10\"\n",
    "print(np.sum(x, axis=0))  # Compute sum of each column; prints \"[4 6]\"\n",
    "print(np.sum(x, axis=1))  # Compute sum of each row; prints \"[3 7]\""
   ]
  },
  {
   "cell_type": "markdown",
   "metadata": {
    "id": "S6CC77cnWKSN"
   },
   "source": [
    "You can find the full list of mathematical functions provided by numpy in the [documentation](https://docs.scipy.org/doc/numpy/reference/routines.math.html).\n",
    "\n",
    "Apart from computing mathematical functions using arrays, we frequently need to reshape or otherwise manipulate data in arrays. The simplest example of this type of operation is transposing a matrix; to transpose a matrix, simply use the T attribute of an array object:"
   ]
  },
  {
   "cell_type": "code",
   "execution_count": 44,
   "metadata": {
    "id": "zDab1bssWKSN"
   },
   "outputs": [
    {
     "name": "stdout",
     "output_type": "stream",
     "text": [
      "[[1 2]\n",
      " [3 4]]\n",
      "[[1 3]\n",
      " [2 4]]\n",
      "[1 2 3]\n",
      "[1 2 3]\n"
     ]
    }
   ],
   "source": [
    "x = np.array([[1,2], [3,4]])\n",
    "print(x)    # Prints \"[[1 2]\n",
    "            #          [3 4]]\"\n",
    "print(x.T)  # Prints \"[[1 3]\n",
    "            #          [2 4]]\"\n",
    "\n",
    "# Note that taking the transpose of a rank 1 array does nothing:\n",
    "v = np.array([1,2,3])\n",
    "print(v)    # Prints \"[1 2 3]\"\n",
    "print(v.T)  # Prints \"[1 2 3]\""
   ]
  },
  {
   "cell_type": "markdown",
   "metadata": {
    "id": "7sYNo5d-WKSO"
   },
   "source": [
    "Numpy provides many more functions for manipulating arrays; you can see the full list in the [documentation](https://docs.scipy.org/doc/numpy/reference/routines.array-manipulation.html)."
   ]
  },
  {
   "cell_type": "markdown",
   "metadata": {
    "id": "fuld54y4WKSO"
   },
   "source": [
    "### Broadcasting"
   ]
  },
  {
   "cell_type": "markdown",
   "metadata": {
    "id": "MWTOmS2FWKSP"
   },
   "source": [
    "Broadcasting is a powerful mechanism that allows numpy to work with arrays of different shapes when performing arithmetic operations. Frequently we have a smaller array and a larger array, and we want to use the smaller array multiple times to perform some operation on the larger array.\n",
    "\n",
    "For example, suppose that we want to add a constant vector to each row of a matrix. We could do it like this:"
   ]
  },
  {
   "cell_type": "code",
   "execution_count": 45,
   "metadata": {
    "id": "FhNRmwXKWKSP"
   },
   "outputs": [
    {
     "name": "stdout",
     "output_type": "stream",
     "text": [
      "[[ 2  2  4]\n",
      " [ 5  5  7]\n",
      " [ 8  8 10]\n",
      " [11 11 13]]\n"
     ]
    }
   ],
   "source": [
    "# We will add the vector v to each row of the matrix x,\n",
    "# storing the result in the matrix y\n",
    "x = np.array([[1,2,3], [4,5,6], [7,8,9], [10, 11, 12]])\n",
    "v = np.array([1, 0, 1])\n",
    "y = np.empty_like(x)   # Create an empty matrix with the same shape as x\n",
    "\n",
    "# Add the vector v to each row of the matrix x with an explicit loop\n",
    "for i in range(4):\n",
    "    y[i, :] = x[i, :] + v\n",
    "\n",
    "# Now y is the following\n",
    "# [[ 2  2  4]\n",
    "#  [ 5  5  7]\n",
    "#  [ 8  8 10]\n",
    "#  [11 11 13]]\n",
    "print(y)"
   ]
  },
  {
   "cell_type": "markdown",
   "metadata": {
    "id": "z_Lk23RrWKSQ"
   },
   "source": [
    "This works; however when the matrix `x` is very large, computing an explicit loop in Python could be slow. Note that adding the vector `v` to each row of the matrix `x` is equivalent to forming a matrix `vv` by stacking multiple copies of `v` vertically, then performing elementwise summation of `x` and `vv`. We could implement this approach like this:"
   ]
  },
  {
   "cell_type": "code",
   "execution_count": 46,
   "metadata": {
    "id": "FLw5y_KoWKSQ"
   },
   "outputs": [
    {
     "name": "stdout",
     "output_type": "stream",
     "text": [
      "[[1 0 1]\n",
      " [1 0 1]\n",
      " [1 0 1]\n",
      " [1 0 1]]\n",
      "[[ 2  2  4]\n",
      " [ 5  5  7]\n",
      " [ 8  8 10]\n",
      " [11 11 13]]\n"
     ]
    }
   ],
   "source": [
    "# We will add the vector v to each row of the matrix x,\n",
    "# storing the result in the matrix y\n",
    "x = np.array([[1,2,3], [4,5,6], [7,8,9], [10, 11, 12]])\n",
    "v = np.array([1, 0, 1])\n",
    "vv = np.tile(v, (4, 1))   # Stack 4 copies of v on top of each other\n",
    "print(vv)                 # Prints \"[[1 0 1]\n",
    "                          #          [1 0 1]\n",
    "                          #          [1 0 1]\n",
    "                          #          [1 0 1]]\"\n",
    "y = x + vv  # Add x and vv elementwise\n",
    "print(y)  # Prints \"[[ 2  2  4\n",
    "          #          [ 5  5  7]\n",
    "          #          [ 8  8 10]\n",
    "          #          [11 11 13]]\""
   ]
  },
  {
   "cell_type": "markdown",
   "metadata": {
    "id": "4zIopNHsWKSR"
   },
   "source": [
    "Numpy broadcasting allows us to perform this computation without actually creating multiple copies of `v`. Consider this version, using broadcasting:"
   ]
  },
  {
   "cell_type": "code",
   "execution_count": 47,
   "metadata": {
    "id": "XlD0dy8iWKSR"
   },
   "outputs": [
    {
     "name": "stdout",
     "output_type": "stream",
     "text": [
      "[[ 2  2  4]\n",
      " [ 5  5  7]\n",
      " [ 8  8 10]\n",
      " [11 11 13]]\n"
     ]
    }
   ],
   "source": [
    "# We will add the vector v to each row of the matrix x,\n",
    "# storing the result in the matrix y\n",
    "x = np.array([[1,2,3], [4,5,6], [7,8,9], [10, 11, 12]])\n",
    "v = np.array([1, 0, 1])\n",
    "y = x + v  # Add v to each row of x using broadcasting\n",
    "print(y)  # Prints \"[[ 2  2  4]\n",
    "          #          [ 5  5  7]\n",
    "          #          [ 8  8 10]\n",
    "          #          [11 11 13]]\""
   ]
  },
  {
   "cell_type": "markdown",
   "metadata": {
    "id": "U9sJAgKBWKSS"
   },
   "source": [
    "The line `y = x + v` works even though `x` has shape `(4, 3)` and `v` has shape `(3,)` due to broadcasting; this line works as if `v` actually had shape `(4, 3)`, where each row was a copy of `v`, and the sum was performed elementwise.\n",
    "\n",
    "Broadcasting two arrays together follows these rules:\n",
    "\n",
    "If the arrays do not have the same rank, prepend the shape of the lower rank array with 1s until both shapes have the same length.\n",
    "The two arrays are said to be compatible in a dimension if they have the same size in the dimension, or if one of the arrays has size 1 in that dimension.\n",
    "The arrays can be broadcast together if they are compatible in all dimensions.\n",
    "After broadcasting, each array behaves as if it had shape equal to the elementwise maximum of shapes of the two input arrays.\n",
    "In any dimension where one array had size 1 and the other array had size greater than 1, the first array behaves as if it were copied along that dimension\n",
    "If this explanation does not make sense, try reading the explanation from the [documentation](https://docs.scipy.org/doc/numpy/user/basics.broadcasting.html) or this [explanation](https://numpy.org/devdocs/user/theory.broadcasting.html).\n",
    "\n",
    "Functions that support broadcasting are known as universal functions. You can find the list of all universal functions in the [documentation](https://docs.scipy.org/doc/numpy/reference/ufuncs.html#available-ufuncs).\n",
    "\n",
    "Here are some applications of broadcasting:"
   ]
  },
  {
   "cell_type": "code",
   "execution_count": 48,
   "metadata": {
    "id": "61nwixDfWKST"
   },
   "outputs": [
    {
     "name": "stdout",
     "output_type": "stream",
     "text": [
      "[[ 4  5]\n",
      " [ 8 10]\n",
      " [12 15]]\n",
      "[[2 4 6]\n",
      " [5 7 9]]\n",
      "[[ 5  6  7]\n",
      " [ 9 10 11]]\n",
      "[[ 5  6  7]\n",
      " [ 9 10 11]]\n",
      "[[ 2  4  6]\n",
      " [ 8 10 12]]\n"
     ]
    }
   ],
   "source": [
    "# Compute outer product of vectors\n",
    "v = np.array([1,2,3])  # v has shape (3,)\n",
    "w = np.array([4,5])    # w has shape (2,)\n",
    "# To compute an outer product, we first reshape v to be a column\n",
    "# vector of shape (3, 1); we can then broadcast it against w to yield\n",
    "# an output of shape (3, 2), which is the outer product of v and w:\n",
    "# [[ 4  5]\n",
    "#  [ 8 10]\n",
    "#  [12 15]]\n",
    "print(np.reshape(v, (3, 1)) * w)\n",
    "\n",
    "# Add a vector to each row of a matrix\n",
    "x = np.array([[1,2,3], [4,5,6]])\n",
    "# x has shape (2, 3) and v has shape (3,) so they broadcast to (2, 3),\n",
    "# giving the following matrix:\n",
    "# [[2 4 6]\n",
    "#  [5 7 9]]\n",
    "print(x + v)\n",
    "\n",
    "# Add a vector to each column of a matrix\n",
    "# x has shape (2, 3) and w has shape (2,).\n",
    "# If we transpose x then it has shape (3, 2) and can be broadcast\n",
    "# against w to yield a result of shape (3, 2); transposing this result\n",
    "# yields the final result of shape (2, 3) which is the matrix x with\n",
    "# the vector w added to each column. Gives the following matrix:\n",
    "# [[ 5  6  7]\n",
    "#  [ 9 10 11]]\n",
    "print((x.T + w).T)\n",
    "# Another solution is to reshape w to be a column vector of shape (2, 1);\n",
    "# we can then broadcast it directly against x to produce the same\n",
    "# output.\n",
    "print(x + np.reshape(w, (2, 1)))\n",
    "\n",
    "# Multiply a matrix by a constant:\n",
    "# x has shape (2, 3). Numpy treats scalars as arrays of shape ();\n",
    "# these can be broadcast together to shape (2, 3), producing the\n",
    "# following array:\n",
    "# [[ 2  4  6]\n",
    "#  [ 8 10 12]]\n",
    "print(x * 2)"
   ]
  },
  {
   "cell_type": "markdown",
   "metadata": {
    "id": "REL7CA21WKSU"
   },
   "source": [
    "Broadcasting typically makes your code more concise and faster, so you should strive to use it where possible."
   ]
  },
  {
   "cell_type": "markdown",
   "metadata": {
    "id": "AeYhJt6_WKSV"
   },
   "source": [
    "This brief overview has touched on many of the important things that you need to know about numpy, but is far from complete. Check out the [numpy reference](https://docs.scipy.org/doc/numpy/reference/) to find out much more about numpy."
   ]
  },
  {
   "cell_type": "markdown",
   "metadata": {
    "id": "r0_WmUyYBhse"
   },
   "source": [
    "## Iterators\n",
    "\n",
    "Iterators are objects that contain countable number of values. Iterators can traverse the different structures like list, dictionaries, tuples, strings and sets etc through their values. The structures on which iterators can iterate on are called **iterable objects**. For example, we will make a list and return iterator from it.The `next()` function on iterator is called to get the next item from iterator."
   ]
  },
  {
   "cell_type": "code",
   "execution_count": 49,
   "metadata": {
    "id": "Il9UycHDC5zY"
   },
   "outputs": [
    {
     "name": "stdout",
     "output_type": "stream",
     "text": [
      "blue\n",
      "orange\n",
      "green\n",
      "yellow\n"
     ]
    }
   ],
   "source": [
    "mylist = ['blue', 'orange', 'green', 'yellow']  ## create a list 'mylist'\n",
    "itr = iter(mylist)  ## create an iterator of mylist using iter() function\n",
    "print(next(itr))  ## print 1st element of mylist\n",
    "print(next(itr))  ## print 2nd element of mylist\n",
    "print(next(itr))  ## print 3rd element of mylist\n",
    "print(next(itr))  ## print 4rth element of mylist"
   ]
  },
  {
   "cell_type": "markdown",
   "metadata": {
    "id": "ZHTOpnsbG1SC"
   },
   "source": [
    "## Zip in Python\n",
    "Zip function returns a zip object which is an iterator of tuples where first tuple represent the first enteries of the two passed tuples paired together, second tuple represents the second entries of passed tuples paired together and so on.\n",
    "Example below shows two tuples `a` and `b` passed as input to `zip` function to zip respective entries together.\n"
   ]
  },
  {
   "cell_type": "code",
   "execution_count": 50,
   "metadata": {
    "id": "tegAs3CVNEAG"
   },
   "outputs": [
    {
     "name": "stdout",
     "output_type": "stream",
     "text": [
      "(('2', '4'), ('3', '9'), ('4', '16'), ('5', '25'), ('6', '36'))\n"
     ]
    }
   ],
   "source": [
    "a = ('2', '3', '4', '5', '6')  ## create tuple 'a'\n",
    "b = ('4', '9', '16', '25', '36')  ## create b tuple 'b'\n",
    "z = zip(a,b) ## zip both tuples \n",
    "print(tuple(z)) ## print zip result. Will print (('2', '4'), ('3', '9'), ('4', '16'), ('5', '25'), ('6', '36'))"
   ]
  },
  {
   "cell_type": "markdown",
   "metadata": {
    "id": "YHuVQrcoQtSW"
   },
   "source": [
    "### Zip Lists\n",
    "\n",
    "Zip can also be used to zip entries of two lists together. Example is given below:"
   ]
  },
  {
   "cell_type": "code",
   "execution_count": 51,
   "metadata": {
    "id": "axC--DuyN6K2"
   },
   "outputs": [
    {
     "name": "stdout",
     "output_type": "stream",
     "text": [
      "[('l1', 's1'), ('l2', 's2'), ('l3', 's3'), ('l4', 's4'), ('l5', 's5')]\n"
     ]
    }
   ],
   "source": [
    "a = ['l1', 'l2', 'l3', 'l4', 'l5'] ## create list 'a'\n",
    "b = ['s1', 's2', 's3', 's4', 's5'] ## create tuple 'b'\n",
    "z = zip(a,b) ## zip both lists \n",
    "print(list(z))## print zip result. Will print [('l1', 's1'), ('l2', 's2'), ('l3', 's3'), ('l4', 's4'), ('l5', 's5')]"
   ]
  },
  {
   "cell_type": "markdown",
   "metadata": {
    "id": "vQMZ4_3ZNtnO"
   },
   "source": [
    "### Zip Lists to a dictionary\n",
    "We can zip entries of two lists together to form a dictionary. Given an example below use `zip` and `dict` functions. `dict` converts zip iterator to a dictionary."
   ]
  },
  {
   "cell_type": "code",
   "execution_count": 52,
   "metadata": {
    "id": "6qmO3agSPV_4"
   },
   "outputs": [
    {
     "name": "stdout",
     "output_type": "stream",
     "text": [
      "{'Alphabet C': 3452, 'VCPlus': 1127, 'TCS': 2750}\n"
     ]
    }
   ],
   "source": [
    "stocks = ['Alphabet C', 'VCPlus', 'TCS']  ## create list 'stocks'\n",
    "prices = [3452, 1127, 2750]  ## create list 'prices'\n",
    "dictionary = dict(zip(stocks, prices))   ## zip the two lists and convert zip object to a dictionary using dict()\n",
    "print(dictionary) ## print dictionary {'Alphabet C': 3452, 'VCPlus': 1127, 'TCS': 2750}"
   ]
  },
  {
   "cell_type": "markdown",
   "metadata": {
    "id": "jsQjzDRDTgnI"
   },
   "source": [
    "To read more on zip built-in function, refer to [documentation](https://docs.python.org/3/library/functions.html#zip) here."
   ]
  },
  {
   "cell_type": "markdown",
   "metadata": {
    "id": "IoCBqMS9WKSW"
   },
   "source": [
    "## Matplotlib"
   ]
  },
  {
   "cell_type": "markdown",
   "metadata": {
    "id": "6fcef1L8WKSW"
   },
   "source": [
    "[Matplotlib](https://matplotlib.org/) is a plotting library. In this section give a brief introduction to the `matplotlib.pyplot` module, which provides a plotting system similar to that of MATLAB."
   ]
  },
  {
   "cell_type": "code",
   "execution_count": 53,
   "metadata": {
    "id": "aa1Qp-9cWKSX"
   },
   "outputs": [],
   "source": [
    "import matplotlib.pyplot as plt"
   ]
  },
  {
   "cell_type": "markdown",
   "metadata": {
    "id": "v9jjd93vWKSX"
   },
   "source": [
    "By running this special iPython command, we will be displaying plots inline:"
   ]
  },
  {
   "cell_type": "code",
   "execution_count": 54,
   "metadata": {
    "id": "o0Fb-dJSWKSY"
   },
   "outputs": [],
   "source": [
    "%matplotlib inline"
   ]
  },
  {
   "cell_type": "markdown",
   "metadata": {
    "id": "Y70GeIJgWKSZ"
   },
   "source": [
    "### Plotting"
   ]
  },
  {
   "cell_type": "markdown",
   "metadata": {
    "id": "gjV_pGftWKSZ"
   },
   "source": [
    "The most important function in `matplotlib` is `plot`, which allows you to plot 2D data. Here is a simple example:"
   ]
  },
  {
   "cell_type": "code",
   "execution_count": 55,
   "metadata": {
    "colab": {
     "base_uri": "https://localhost:8080/",
     "height": 265
    },
    "executionInfo": {
     "elapsed": 85,
     "status": "ok",
     "timestamp": 1632761731859,
     "user": {
      "displayName": "Eman Gpu",
      "photoUrl": "https://lh3.googleusercontent.com/a/default-user=s64",
      "userId": "10062528383135308282"
     },
     "user_tz": -300
    },
    "id": "Yu4-N8n-WKSa",
    "outputId": "80652f49-7a8c-44cf-c895-f93070979a69"
   },
   "outputs": [
    {
     "data": {
      "image/png": "[encoded data removed]",
      "text/plain": [
       "<Figure size 432x288 with 1 Axes>"
      ]
     },
     "metadata": {
      "needs_background": "light"
     },
     "output_type": "display_data"
    }
   ],
   "source": [
    "# Compute the x and y coordinates for points on a sine curve\n",
    "x = np.arange(0, 3 * np.pi, 0.1)\n",
    "y = np.sin(x)\n",
    "\n",
    "# Plot the points using matplotlib\n",
    "plt.plot(x, y)\n",
    "plt.show()  # You must call plt.show() to make graphics appear."
   ]
  },
  {
   "cell_type": "markdown",
   "metadata": {
    "id": "hPg7iOcwWKSa"
   },
   "source": [
    "With just a little bit of extra work we can easily plot multiple lines at once, and add a title, legend, and axis labels:"
   ]
  },
  {
   "cell_type": "code",
   "execution_count": 56,
   "metadata": {
    "colab": {
     "base_uri": "https://localhost:8080/",
     "height": 295
    },
    "executionInfo": {
     "elapsed": 698,
     "status": "ok",
     "timestamp": 1632761734439,
     "user": {
      "displayName": "Eman Gpu",
      "photoUrl": "https://lh3.googleusercontent.com/a/default-user=s64",
      "userId": "10062528383135308282"
     },
     "user_tz": -300
    },
    "id": "65z3ngzCWKSa",
    "outputId": "ee49eedb-7330-431c-9d37-3f3ce438dc0b"
   },
   "outputs": [
    {
     "data": {
      "image/png": "[encoded data removed]",
      "text/plain": [
       "<Figure size 432x288 with 1 Axes>"
      ]
     },
     "metadata": {
      "needs_background": "light"
     },
     "output_type": "display_data"
    }
   ],
   "source": [
    "# Compute the x and y coordinates for points on sine and cosine curves\n",
    "x = np.arange(0, 3 * np.pi, 0.1)\n",
    "y_sin = np.sin(x)\n",
    "y_cos = np.cos(x)\n",
    "\n",
    "# Plot the points using matplotlib\n",
    "plt.plot(x, y_sin)\n",
    "plt.plot(x, y_cos)\n",
    "plt.xlabel('x axis label')\n",
    "plt.ylabel('y axis label')\n",
    "plt.title('Sine and Cosine')\n",
    "plt.legend(['Sine', 'Cosine'])\n",
    "plt.show()"
   ]
  },
  {
   "cell_type": "markdown",
   "metadata": {
    "id": "BXdl9cX1WKSb"
   },
   "source": [
    "You can read much more about the `plot` function in the [documentation](https://matplotlib.org/api/pyplot_api.html#matplotlib.pyplot.plot)."
   ]
  },
  {
   "cell_type": "markdown",
   "metadata": {
    "id": "yjv8odw0WKSb"
   },
   "source": [
    "### Subplots "
   ]
  },
  {
   "cell_type": "markdown",
   "metadata": {
    "id": "9t2sZt62WKSc"
   },
   "source": [
    "You can plot different things in the same figure using the subplot function. Here is an example:"
   ]
  },
  {
   "cell_type": "code",
   "execution_count": 57,
   "metadata": {
    "colab": {
     "base_uri": "https://localhost:8080/",
     "height": 281
    },
    "executionInfo": {
     "elapsed": 471,
     "status": "ok",
     "timestamp": 1632764801722,
     "user": {
      "displayName": "Eman Gpu",
      "photoUrl": "https://lh3.googleusercontent.com/a/default-user=s64",
      "userId": "10062528383135308282"
     },
     "user_tz": -300
    },
    "id": "XuTfX3CcWKSc",
    "outputId": "a17df40b-a68b-44f9-e785-3109ba6607ed"
   },
   "outputs": [
    {
     "data": {
      "image/png": "[encoded data removed]",
      "text/plain": [
       "<Figure size 432x288 with 2 Axes>"
      ]
     },
     "metadata": {
      "needs_background": "light"
     },
     "output_type": "display_data"
    }
   ],
   "source": [
    "# Compute the x and y coordinates for points on sine and cosine curves\n",
    "x = np.arange(0, 3 * np.pi, 0.1)\n",
    "y_sin = np.sin(x)\n",
    "y_cos = np.cos(x)\n",
    "\n",
    "# Set up a subplot grid that has height 2 and width 1,\n",
    "# and set the first such subplot as active.\n",
    "plt.subplot(2, 1, 1)\n",
    "\n",
    "# Make the first plot\n",
    "plt.plot(x, y_sin)\n",
    "plt.title('Sine')\n",
    "\n",
    "# Set the second subplot as active, and make the second plot.\n",
    "plt.subplot(2, 1, 2)\n",
    "plt.plot(x, y_cos)\n",
    "plt.title('Cosine')\n",
    "\n",
    "# Show the figure.\n",
    "plt.show()"
   ]
  },
  {
   "cell_type": "markdown",
   "metadata": {
    "id": "2WRJ69zXWKSc"
   },
   "source": [
    "You can read much more about the `subplot` function in the [documentation](https://matplotlib.org/api/pyplot_api.html#matplotlib.pyplot.subplot)."
   ]
  },
  {
   "cell_type": "markdown",
   "metadata": {
    "id": "drzsBrKVaYcv"
   },
   "source": [
    "## Regex\n",
    "\n",
    "A regular expression (or RE) specifies a set of strings that matches it; the functions in this module let you check if a particular string matches a given regular expression (or if a given regular expression matches a particular string, which comes down to the same thing). Regex may involve metacharaters/Sequences/Sets that form a search pattern.\n",
    "\n",
    "1. `^` matches the start of the string\n",
    "2. `*` matches zero or more number of repitions of preceding Regular expression.\n",
    "3.  `$` matches the end of string with given sequence.\n",
    "4.  `\\d`\tReturns a match where the string contains digits (numbers from 0-9)\n",
    "5.  `\\s` returns a match where the string contains a white space character\n",
    "6.  `[a-n]` returns a match for any lower case character, alphabetically between a and n.\n",
    "7.  `[0-9]` returns a match for any digit between 0 and 9\n",
    "\n",
    "Complete list of sequences can be found [here](https://docs.python.org/3/library/re.html)\n",
    "\n",
    "To use Regex, we first need to import the package."
   ]
  },
  {
   "cell_type": "code",
   "execution_count": 58,
   "metadata": {
    "id": "U7nvlhLtcBwX"
   },
   "outputs": [],
   "source": [
    "import re"
   ]
  },
  {
   "cell_type": "markdown",
   "metadata": {
    "id": "QqyKqSrlcpMY"
   },
   "source": [
    "This package offers variety of different functions which can be used to find patterns in the string."
   ]
  },
  {
   "cell_type": "markdown",
   "metadata": {
    "id": "0-LpOKUheedf"
   },
   "source": [
    "###FindAll()\n",
    "This method is used to print a list of all the matches of given string. If no matches are found then an empty list is returned. Following examples will explain:"
   ]
  },
  {
   "cell_type": "code",
   "execution_count": 59,
   "metadata": {
    "id": "hjnI4JNIccGV"
   },
   "outputs": [
    {
     "name": "stdout",
     "output_type": "stream",
     "text": [
      "['day', 'day']\n"
     ]
    }
   ],
   "source": [
    "txt = \"Its been an energetic day today.\"\n",
    "x = re.findall(\"day\", txt) ## find all instances of string 'day' in txt string\n",
    "print(x) ## print all occurences if exist"
   ]
  },
  {
   "cell_type": "code",
   "execution_count": 60,
   "metadata": {
    "id": "TgXqKIUof3UX"
   },
   "outputs": [
    {
     "name": "stdout",
     "output_type": "stream",
     "text": [
      "[]\n"
     ]
    }
   ],
   "source": [
    "txt = \"from\"\n",
    "x = \"We are going there tomorrow.\"\n",
    "x = re.findall(\"is\", txt) ## find all instances of string 'is' in txt string\n",
    "print(x) ## print empty string since no such instances exist"
   ]
  },
  {
   "cell_type": "markdown",
   "metadata": {
    "id": "VNGPR3MDhis_"
   },
   "source": [
    "### Split()\n",
    "Split function is used to return a list where there the string has been split at each match. In example below, regular expression `\\s` splits the string at each white space character."
   ]
  },
  {
   "cell_type": "code",
   "execution_count": 61,
   "metadata": {
    "id": "uQnxudvzi16a"
   },
   "outputs": [
    {
     "name": "stdout",
     "output_type": "stream",
     "text": [
      "['We', 'are', 'going', 'to', 'a', 'park.']\n"
     ]
    }
   ],
   "source": [
    "txt = \"We are going to a park.\"\n",
    "x = re.split(\"\\s\", txt)\n",
    "print(x)\n"
   ]
  },
  {
   "cell_type": "markdown",
   "metadata": {
    "id": "oKX76GaAjHVT"
   },
   "source": [
    "We can control the maximum number of splits by providing `maxsplit` parameter. In example below, only first 2 splits occurences will be found and returned as list."
   ]
  },
  {
   "cell_type": "code",
   "execution_count": 62,
   "metadata": {
    "id": "mJY_i5e0i2yz"
   },
   "outputs": [
    {
     "name": "stdout",
     "output_type": "stream",
     "text": [
      "['We', 'are', 'going to a park.']\n"
     ]
    }
   ],
   "source": [
    "txt = \"We are going to a park.\"\n",
    "x = re.split(\"\\s\", txt, 2)\n",
    "print(x)"
   ]
  },
  {
   "cell_type": "markdown",
   "metadata": {
    "id": "Q2MH7_GpkArR"
   },
   "source": [
    "### Sub()\n",
    "The sub() function replaces the matches with the text of your choice. For example, [0-9] regex will replace digits with given string."
   ]
  },
  {
   "cell_type": "code",
   "execution_count": 63,
   "metadata": {
    "colab": {
     "base_uri": "https://localhost:8080/"
    },
    "executionInfo": {
     "elapsed": 410,
     "status": "ok",
     "timestamp": 1632385567896,
     "user": {
      "displayName": "Eman Gpu",
      "photoUrl": "https://lh3.googleusercontent.com/a/default-user=s64",
      "userId": "10062528383135308282"
     },
     "user_tz": -300
    },
    "id": "P86p7D0xjWMY",
    "outputId": "990b273a-82e0-4049-957a-c113ee4c10ac"
   },
   "outputs": [
    {
     "name": "stdout",
     "output_type": "stream",
     "text": [
      "Some digits like --- and --- are replaced.\n"
     ]
    }
   ],
   "source": [
    "txt = \"Some digits like 100 and 490 are replaced.\"\n",
    "x = re.sub(\"[0-9]\", \"-\", txt)\n",
    "print(x) "
   ]
  },
  {
   "cell_type": "markdown",
   "metadata": {
    "id": "uKpK2z16x47W"
   },
   "source": [
    "### Search()\n",
    "Returns a Match object if there is a match anywhere in the string.\n",
    "Using this method, the regular expression in given example looks for any words that starts with an upper case \"S\":"
   ]
  },
  {
   "cell_type": "code",
   "execution_count": 64,
   "metadata": {
    "id": "MxuFolNDwtl2"
   },
   "outputs": [
    {
     "name": "stdout",
     "output_type": "stream",
     "text": [
      "<re.Match object; span=(12, 17), match='Spain'>\n",
      "Spain\n"
     ]
    }
   ],
   "source": [
    "txt = \"The rain in Spain.\"\n",
    "x = re.search(r\"\\bS\\w+\", txt)\n",
    "print(x) ## prints match object\n",
    "print(x.group()) ## prints a tuple containing all the subgroups of the match,"
   ]
  },
  {
   "cell_type": "markdown",
   "metadata": {
    "id": "5RsNIii2ynoR"
   },
   "source": [
    "## Reading from the File"
   ]
  },
  {
   "cell_type": "code",
   "execution_count": 65,
   "metadata": {
    "id": "MIqG127jaILZ",
    "scrolled": true
   },
   "outputs": [
    {
     "data": {
      "text/html": [
       "<div>\n",
       "<style scoped>\n",
       "    .dataframe tbody tr th:only-of-type {\n",
       "        vertical-align: middle;\n",
       "    }\n",
       "\n",
       "    .dataframe tbody tr th {\n",
       "        vertical-align: top;\n",
       "    }\n",
       "\n",
       "    .dataframe thead th {\n",
       "        text-align: right;\n",
       "    }\n",
       "</style>\n",
       "<table border=\"1\" class=\"dataframe\">\n",
       "  <thead>\n",
       "    <tr style=\"text-align: right;\">\n",
       "      <th></th>\n",
       "      <th>gender</th>\n",
       "      <th>race/ethnicity</th>\n",
       "      <th>parental level of education</th>\n",
       "      <th>lunch</th>\n",
       "      <th>test preparation course</th>\n",
       "      <th>math score</th>\n",
       "      <th>reading score</th>\n",
       "      <th>writing score</th>\n",
       "    </tr>\n",
       "  </thead>\n",
       "  <tbody>\n",
       "    <tr>\n",
       "      <th>0</th>\n",
       "      <td>female</td>\n",
       "      <td>group B</td>\n",
       "      <td>bachelor's degree</td>\n",
       "      <td>standard</td>\n",
       "      <td>none</td>\n",
       "      <td>72</td>\n",
       "      <td>72</td>\n",
       "      <td>74</td>\n",
       "    </tr>\n",
       "    <tr>\n",
       "      <th>1</th>\n",
       "      <td>female</td>\n",
       "      <td>group C</td>\n",
       "      <td>some college</td>\n",
       "      <td>standard</td>\n",
       "      <td>completed</td>\n",
       "      <td>69</td>\n",
       "      <td>90</td>\n",
       "      <td>88</td>\n",
       "    </tr>\n",
       "    <tr>\n",
       "      <th>2</th>\n",
       "      <td>female</td>\n",
       "      <td>group B</td>\n",
       "      <td>master's degree</td>\n",
       "      <td>standard</td>\n",
       "      <td>none</td>\n",
       "      <td>90</td>\n",
       "      <td>95</td>\n",
       "      <td>93</td>\n",
       "    </tr>\n",
       "    <tr>\n",
       "      <th>3</th>\n",
       "      <td>male</td>\n",
       "      <td>group A</td>\n",
       "      <td>associate's degree</td>\n",
       "      <td>free/reduced</td>\n",
       "      <td>none</td>\n",
       "      <td>47</td>\n",
       "      <td>57</td>\n",
       "      <td>44</td>\n",
       "    </tr>\n",
       "    <tr>\n",
       "      <th>4</th>\n",
       "      <td>male</td>\n",
       "      <td>group C</td>\n",
       "      <td>some college</td>\n",
       "      <td>standard</td>\n",
       "      <td>none</td>\n",
       "      <td>76</td>\n",
       "      <td>78</td>\n",
       "      <td>75</td>\n",
       "    </tr>\n",
       "  </tbody>\n",
       "</table>\n",
       "</div>"
      ],
      "text/plain": [
       "   gender race/ethnicity parental level of education         lunch  \\\n",
       "0  female        group B           bachelor's degree      standard   \n",
       "1  female        group C                some college      standard   \n",
       "2  female        group B             master's degree      standard   \n",
       "3    male        group A          associate's degree  free/reduced   \n",
       "4    male        group C                some college      standard   \n",
       "\n",
       "  test preparation course  math score  reading score  writing score  \n",
       "0                    none          72             72             74  \n",
       "1               completed          69             90             88  \n",
       "2                    none          90             95             93  \n",
       "3                    none          47             57             44  \n",
       "4                    none          76             78             75  "
      ]
     },
     "execution_count": 65,
     "metadata": {},
     "output_type": "execute_result"
    }
   ],
   "source": [
    "import pandas as pd\n",
    "data = pd.read_csv('https://raw.githubusercontent.com/daniaahmad13/Dataset/main/StudentsPerformance.csv')\n",
    "data.head()\n"
   ]
  },
  {
   "cell_type": "markdown",
   "metadata": {},
   "source": [
    "To filter pandas dataframe based on a value from a column"
   ]
  },
  {
   "cell_type": "code",
   "execution_count": 66,
   "metadata": {},
   "outputs": [
    {
     "data": {
      "text/html": [
       "<div>\n",
       "<style scoped>\n",
       "    .dataframe tbody tr th:only-of-type {\n",
       "        vertical-align: middle;\n",
       "    }\n",
       "\n",
       "    .dataframe tbody tr th {\n",
       "        vertical-align: top;\n",
       "    }\n",
       "\n",
       "    .dataframe thead th {\n",
       "        text-align: right;\n",
       "    }\n",
       "</style>\n",
       "<table border=\"1\" class=\"dataframe\">\n",
       "  <thead>\n",
       "    <tr style=\"text-align: right;\">\n",
       "      <th></th>\n",
       "      <th>gender</th>\n",
       "      <th>race/ethnicity</th>\n",
       "      <th>parental level of education</th>\n",
       "      <th>lunch</th>\n",
       "      <th>test preparation course</th>\n",
       "      <th>math score</th>\n",
       "      <th>reading score</th>\n",
       "      <th>writing score</th>\n",
       "    </tr>\n",
       "  </thead>\n",
       "  <tbody>\n",
       "    <tr>\n",
       "      <th>1</th>\n",
       "      <td>female</td>\n",
       "      <td>group C</td>\n",
       "      <td>some college</td>\n",
       "      <td>standard</td>\n",
       "      <td>completed</td>\n",
       "      <td>69</td>\n",
       "      <td>90</td>\n",
       "      <td>88</td>\n",
       "    </tr>\n",
       "    <tr>\n",
       "      <th>4</th>\n",
       "      <td>male</td>\n",
       "      <td>group C</td>\n",
       "      <td>some college</td>\n",
       "      <td>standard</td>\n",
       "      <td>none</td>\n",
       "      <td>76</td>\n",
       "      <td>78</td>\n",
       "      <td>75</td>\n",
       "    </tr>\n",
       "    <tr>\n",
       "      <th>10</th>\n",
       "      <td>male</td>\n",
       "      <td>group C</td>\n",
       "      <td>associate's degree</td>\n",
       "      <td>standard</td>\n",
       "      <td>none</td>\n",
       "      <td>58</td>\n",
       "      <td>54</td>\n",
       "      <td>52</td>\n",
       "    </tr>\n",
       "    <tr>\n",
       "      <th>15</th>\n",
       "      <td>female</td>\n",
       "      <td>group C</td>\n",
       "      <td>some high school</td>\n",
       "      <td>standard</td>\n",
       "      <td>none</td>\n",
       "      <td>69</td>\n",
       "      <td>75</td>\n",
       "      <td>78</td>\n",
       "    </tr>\n",
       "    <tr>\n",
       "      <th>16</th>\n",
       "      <td>male</td>\n",
       "      <td>group C</td>\n",
       "      <td>high school</td>\n",
       "      <td>standard</td>\n",
       "      <td>none</td>\n",
       "      <td>88</td>\n",
       "      <td>89</td>\n",
       "      <td>86</td>\n",
       "    </tr>\n",
       "  </tbody>\n",
       "</table>\n",
       "</div>"
      ],
      "text/plain": [
       "    gender race/ethnicity parental level of education     lunch  \\\n",
       "1   female        group C                some college  standard   \n",
       "4     male        group C                some college  standard   \n",
       "10    male        group C          associate's degree  standard   \n",
       "15  female        group C            some high school  standard   \n",
       "16    male        group C                 high school  standard   \n",
       "\n",
       "   test preparation course  math score  reading score  writing score  \n",
       "1                completed          69             90             88  \n",
       "4                     none          76             78             75  \n",
       "10                    none          58             54             52  \n",
       "15                    none          69             75             78  \n",
       "16                    none          88             89             86  "
      ]
     },
     "execution_count": 66,
     "metadata": {},
     "output_type": "execute_result"
    }
   ],
   "source": [
    "new_df = data.loc[data['race/ethnicity'] == \"group C\"]\n",
    "new_df.head()"
   ]
  },
  {
   "cell_type": "markdown",
   "metadata": {
    "id": "ldoTPKRXhDB3"
   },
   "source": [
    "## Writing to a File"
   ]
  },
  {
   "cell_type": "code",
   "execution_count": 67,
   "metadata": {
    "id": "KVXr3o7Vgqmy"
   },
   "outputs": [],
   "source": [
    "#open the file in the append mode as the write mode overwrites the first line\n",
    "file1 = open(\"myfile.txt\",\"a\")\n",
    "file1.write(\"Today \\n\")\n",
    "file1.close()"
   ]
  },
  {
   "cell_type": "markdown",
   "metadata": {
    "id": "TCOCfpWOp1qo"
   },
   "source": [
    "## Scikit Learn\n",
    "\n",
    "Scikit-learn, commonly known as sklearn, is a free Machine Learning library for the Python programming language. It offers numerous classification, regression, and clustering algorithms, including K-Means, Linear Regression, Logistic Regression, Naive Bayes and State Vector Machines, etc. Moreover, it supports tasks such as feature extraction, feature selection, model evaluation, model selection, parameter tuning, etc. \n",
    "\n",
    "Sklearn is a widely used library due to numerous reasons, such as:\n",
    "\n",
    "1.   It is easy to learn and use.\n",
    "2.   It covers all aspects of Machine Learning.\n",
    "3.   It is very versatile and powerful.\n",
    "4.   It is very versatile and powerful.\n",
    "5.   It is an open-source library with an active community and detailed documentation.\n",
    "\n",
    "\n",
    "More information regarding Sklearn, including its implementation, can be found [here](https://scikit-learn.org/stable/).\n"
   ]
  },
  {
   "cell_type": "markdown",
   "metadata": {
    "id": "60c4war2HIAr"
   },
   "source": [
    "## Questions\n",
    "Solve some of the questions below to get more clear understanding of python basics:"
   ]
  },
  {
   "cell_type": "markdown",
   "metadata": {
    "id": "J8Cr9I0fRCdG"
   },
   "source": [
    "**Q1: Write the code to determine the parity (`even` or `odd`) of a given number.**             \n",
    "\n",
    "[3 marks]"
   ]
  },
  {
   "cell_type": "code",
   "execution_count": 68,
   "metadata": {
    "id": "tQ8eUq_vRjMj"
   },
   "outputs": [
    {
     "name": "stdout",
     "output_type": "stream",
     "text": [
      "The number 1 is odd\n",
      "The number 2 is even\n",
      "The number 3 is odd\n",
      "The number 4 is even\n",
      "The number 5 is odd\n",
      "The number 6 is even\n",
      "The number 7 is odd\n",
      "The number 8 is even\n",
      "The number 9 is odd\n"
     ]
    }
   ],
   "source": [
    "### write code here...\n",
    "def parityCheck(number):\n",
    "    return (\"even\" if (number % 2 == 0) else \"odd\")\n",
    "\n",
    "for number in range(1,10):\n",
    "    print(f\"The number {number} is {parityCheck(number)}\")"
   ]
  },
  {
   "cell_type": "markdown",
   "metadata": {
    "id": "pB2VBGtgH0sA"
   },
   "source": [
    "**Q2: For the given list of strings, check if the length of the string is even or odd. Print \"`even`\" or \"`odd`\" accordingly.** [3 marks]"
   ]
  },
  {
   "cell_type": "code",
   "execution_count": 69,
   "metadata": {
    "id": "9bzTD62FH0sE"
   },
   "outputs": [
    {
     "name": "stdout",
     "output_type": "stream",
     "text": [
      "mangos: even\n",
      "apple: odd\n",
      "watermelon: even\n",
      "آڑو: odd\n",
      "انار: even\n"
     ]
    }
   ],
   "source": [
    "x = ['mangos', 'apple', 'watermelon', 'آڑو', 'انار']\n",
    "### write code here...\n",
    "for i in x:\n",
    "    print(f\"{i}: {parityCheck(len(i))}\")"
   ]
  },
  {
   "cell_type": "markdown",
   "metadata": {
    "id": "HuEAV1tiRpB0"
   },
   "source": [
    "**Q3: Write a code to reverse the string \"HAIKYU!!\" using indexing.** [2 marks]"
   ]
  },
  {
   "cell_type": "code",
   "execution_count": 70,
   "metadata": {
    "id": "Fmv2vpowRuPO"
   },
   "outputs": [
    {
     "name": "stdout",
     "output_type": "stream",
     "text": [
      "Reverse is '!!UYKIAH'\n"
     ]
    }
   ],
   "source": [
    "### write code here...\n",
    "str = \"HAIKYU!!\"\n",
    "print(f\"Reverse is \\'{str[::-1]}\\'\")"
   ]
  },
  {
   "cell_type": "markdown",
   "metadata": {
    "id": "w9uN3aQbldUr"
   },
   "source": [
    "**Q4: For numbers in range 1 to 150, return a list of those that are multiple of 4 but not 6 using list comprehension .**  [3 marks]"
   ]
  },
  {
   "cell_type": "code",
   "execution_count": 71,
   "metadata": {
    "id": "oMz2wfz5lcHG"
   },
   "outputs": [
    {
     "name": "stdout",
     "output_type": "stream",
     "text": [
      "[4, 8, 16, 20, 28, 32, 40, 44, 52, 56, 64, 68, 76, 80, 88, 92, 100, 104, 112, 116, 124, 128, 136, 140, 148]\n"
     ]
    }
   ],
   "source": [
    "### write code here...\n",
    "x = [i for i in range(1, 151) if (i%4 == 0) and (i % 6 != 0)]\n",
    "print(x)"
   ]
  },
  {
   "cell_type": "markdown",
   "metadata": {
    "id": "nIbpYb6Q2hEV"
   },
   "source": [
    "**Q5: Generate two numpy arrays x and y of 20 random integers between [1,6], compute a new array where each element is the square root of sum of corresponding entries in x and y. Use broadcasting in this question**. [5 marks]\n",
    "\n",
    "For example: x =[1,2,0] , y =[3,4,5] \n",
    "Result: [2, 2.449, 2.236]"
   ]
  },
  {
   "cell_type": "code",
   "execution_count": 72,
   "metadata": {
    "id": "xISKdth141iq"
   },
   "outputs": [
    {
     "name": "stdout",
     "output_type": "stream",
     "text": [
      "[2.82842712 3.16227766 2.23606798 3.         1.73205081 2.23606798\n",
      " 2.64575131 2.44948974 2.44948974 2.23606798 2.         2.\n",
      " 2.64575131 3.16227766 3.31662479 1.41421356 1.73205081 2.\n",
      " 2.23606798 2.23606798]\n"
     ]
    }
   ],
   "source": [
    "import numpy as np\n",
    "\n",
    "### write code here...\n",
    "x = np.random.randint(low=1,high=7,size=20)\n",
    "# print(x)\n",
    "y = np.random.randint(low=1,high=7,size=20)\n",
    "\n",
    "z = np.sqrt(x + y)\n",
    "print(z)"
   ]
  },
  {
   "cell_type": "markdown",
   "metadata": {
    "id": "YvUa7J2tK-Y6"
   },
   "source": [
    "**Q6: Given two dictionaries of ids and imdb rating, write a function to return a dictionary where keys are movie ids and values are a list containing the corresponding movie name and the imdb rating.** [5 marks]\n"
   ]
  },
  {
   "cell_type": "code",
   "execution_count": 125,
   "metadata": {
    "id": "B6CKH7EkLNeP"
   },
   "outputs": [
    {
     "name": "stdout",
     "output_type": "stream",
     "text": [
      "{4: ['The Godfather', 9.2], 2: ['The Dark Knight', 9.0], 1: ['The Lord of The Rings', 8.9], 3: ['Inception', 8.7], 5: ['The Matrix', 8.7]}\n"
     ]
    }
   ],
   "source": [
    "ids = {4: 'The Godfather', 2: 'The Dark Knight', 1: 'The Lord of The Rings', 3: 'Inception', 5: 'The Matrix'} ## keys are movie ids and values are movie names\n",
    "imdb_ratings = {2: 9.0, 1: 8.9, 3: 8.7, 5: 8.7, 4: 9.2}  ## keys are movie ids and values are imdb ratings\n",
    "\n",
    "### write code here..\n",
    "def retDict(ids, ratings):\n",
    "    return {i: [ids[i], ratings[i]] for i in ids.keys()}\n",
    "\n",
    "print(retDict(ids, imdb_ratings))"
   ]
  },
  {
   "cell_type": "markdown",
   "metadata": {
    "id": "c6MuT8TYLnvv"
   },
   "source": [
    "**Q7: Given a numpy array `x`, write a function to find all negative elements and replace them with their squares. Use boolean indexing.** [3 marks]"
   ]
  },
  {
   "cell_type": "code",
   "execution_count": 74,
   "metadata": {
    "id": "tWEfvOzhLjER"
   },
   "outputs": [
    {
     "name": "stdout",
     "output_type": "stream",
     "text": [
      "[[  5   1   2]\n",
      " [ 25   4  12]\n",
      " [  5 225 100]]\n"
     ]
    }
   ],
   "source": [
    "x = np.array([[5,-1,2],[-5,-2,12],[5,-15,-10]])\n",
    "### write code here...\n",
    "def replace_negatives(x):\n",
    "    x[x < 0] = (x[x < 0])**2\n",
    "    return x\n",
    "\n",
    "print(replace_negatives(x))"
   ]
  },
  {
   "cell_type": "markdown",
   "metadata": {
    "id": "OKej-1UHSAbf"
   },
   "source": [
    "**Q8: Write a function which takes that numpy array as input and returns the following:**  [3 marks]\n",
    " \n",
    "\n",
    "1.   Maximum value in the array\n",
    "2.   Standard Deviation\n",
    "3.   Sum of all the elements in the array\n",
    "\n",
    "\n",
    "\n",
    "\n",
    "\n"
   ]
  },
  {
   "cell_type": "code",
   "execution_count": 75,
   "metadata": {
    "id": "Y70Mv7HISUOl"
   },
   "outputs": [
    {
     "name": "stdout",
     "output_type": "stream",
     "text": [
      "(71, 37.32393855006313, -31)\n"
     ]
    }
   ],
   "source": [
    "x = np.array([[5,-10,71,-5],[-10,41,-82,5],[5,5,-1,-55]])\n",
    "### write code here...\n",
    "def get_array_stats(x):\n",
    "    max_val = np.max(x)\n",
    "    std = np.std(x)\n",
    "    sum = np.sum(x)\n",
    "\n",
    "    return max_val, std, sum\n",
    "\n",
    "print(get_array_stats(x))"
   ]
  },
  {
   "cell_type": "markdown",
   "metadata": {
    "id": "GyE7f5cdSjme"
   },
   "source": [
    "**Q9: Write a Python function that accepts a string and calculates the number of upper case letters and lower case letters.**   [3 marks]\n",
    "\n"
   ]
  },
  {
   "cell_type": "code",
   "execution_count": 76,
   "metadata": {
    "id": "iPawA5zjSqJ5"
   },
   "outputs": [
    {
     "name": "stdout",
     "output_type": "stream",
     "text": [
      "Uppercase: 5\n",
      "Lowecase: 13\n"
     ]
    }
   ],
   "source": [
    "str = \"I am Batman. Dun Dun Dun!\"\n",
    "### write code here...\n",
    "def calculateLetters(str):\n",
    "    uppercase = re.findall(r\"[A-Z]\", str)\n",
    "    lowercase = re.findall(r\"[a-z]\", str)\n",
    "\n",
    "    print(f\"Uppercase: {len(uppercase)}\\nLowecase: {len(lowercase)}\")\n",
    "\n",
    "calculateLetters(str)"
   ]
  },
  {
   "cell_type": "markdown",
   "metadata": {
    "id": "vGhdJEBISz0T"
   },
   "source": [
    "**Q10: Write a function that prints the integers from 1 to 150. But for multiples of five, print \"Na Na Na\" instead of the number, and for the multiples of six print \"Batman\". For numbers which are multiples of both five and six print \"Na Na Na Batman\".**   [3 marks]"
   ]
  },
  {
   "cell_type": "code",
   "execution_count": 77,
   "metadata": {
    "id": "1rXLf2KWS74A"
   },
   "outputs": [
    {
     "name": "stdout",
     "output_type": "stream",
     "text": [
      "1\n",
      "2\n",
      "3\n",
      "4\n",
      "Na Na Na\n",
      "Batman\n",
      "7\n",
      "8\n",
      "9\n",
      "Na Na Na\n",
      "11\n",
      "Batman\n",
      "13\n",
      "14\n",
      "Na Na Na\n",
      "16\n",
      "17\n",
      "Batman\n",
      "19\n",
      "Na Na Na\n",
      "21\n",
      "22\n",
      "23\n",
      "Batman\n",
      "Na Na Na\n",
      "26\n",
      "27\n",
      "28\n",
      "29\n",
      "Na Na Na Batman\n",
      "31\n",
      "32\n",
      "33\n",
      "34\n",
      "Na Na Na\n",
      "Batman\n",
      "37\n",
      "38\n",
      "39\n",
      "Na Na Na\n",
      "41\n",
      "Batman\n",
      "43\n",
      "44\n",
      "Na Na Na\n",
      "46\n",
      "47\n",
      "Batman\n",
      "49\n",
      "Na Na Na\n",
      "51\n",
      "52\n",
      "53\n",
      "Batman\n",
      "Na Na Na\n",
      "56\n",
      "57\n",
      "58\n",
      "59\n",
      "Na Na Na Batman\n",
      "61\n",
      "62\n",
      "63\n",
      "64\n",
      "Na Na Na\n",
      "Batman\n",
      "67\n",
      "68\n",
      "69\n",
      "Na Na Na\n",
      "71\n",
      "Batman\n",
      "73\n",
      "74\n",
      "Na Na Na\n",
      "76\n",
      "77\n",
      "Batman\n",
      "79\n",
      "Na Na Na\n",
      "81\n",
      "82\n",
      "83\n",
      "Batman\n",
      "Na Na Na\n",
      "86\n",
      "87\n",
      "88\n",
      "89\n",
      "Na Na Na Batman\n",
      "91\n",
      "92\n",
      "93\n",
      "94\n",
      "Na Na Na\n",
      "Batman\n",
      "97\n",
      "98\n",
      "99\n",
      "Na Na Na\n",
      "101\n",
      "Batman\n",
      "103\n",
      "104\n",
      "Na Na Na\n",
      "106\n",
      "107\n",
      "Batman\n",
      "109\n",
      "Na Na Na\n",
      "111\n",
      "112\n",
      "113\n",
      "Batman\n",
      "Na Na Na\n",
      "116\n",
      "117\n",
      "118\n",
      "119\n",
      "Na Na Na Batman\n",
      "121\n",
      "122\n",
      "123\n",
      "124\n",
      "Na Na Na\n",
      "Batman\n",
      "127\n",
      "128\n",
      "129\n",
      "Na Na Na\n",
      "131\n",
      "Batman\n",
      "133\n",
      "134\n",
      "Na Na Na\n",
      "136\n",
      "137\n",
      "Batman\n",
      "139\n",
      "Na Na Na\n",
      "141\n",
      "142\n",
      "143\n",
      "Batman\n",
      "Na Na Na\n",
      "146\n",
      "147\n",
      "148\n",
      "149\n",
      "Na Na Na Batman\n"
     ]
    }
   ],
   "source": [
    "### write code here...\n",
    "for i in range(1,151):\n",
    "    if i%5 == 0 and i %6 == 0:\n",
    "        print(\"Na Na Na Batman\")\n",
    "    elif i%5 == 0:\n",
    "        print(\"Na Na Na\")\n",
    "    elif i%6 == 0:\n",
    "        print(\"Batman\")\n",
    "    else:\n",
    "        print(i)"
   ]
  },
  {
   "cell_type": "markdown",
   "metadata": {
    "id": "xADW_rCrTE1W"
   },
   "source": [
    "**Q11: Write a function, `calculateSum(l,k)` which will take a list, `l` and a number `k` as input and return two numbers from `l` that add up to `k`.**   [5 marks]"
   ]
  },
  {
   "cell_type": "code",
   "execution_count": 78,
   "metadata": {
    "id": "Vgrax_Z-TIax"
   },
   "outputs": [
    {
     "name": "stdout",
     "output_type": "stream",
     "text": [
      "(10, 22)\n"
     ]
    }
   ],
   "source": [
    "l = [5, 1, 10, 22, 14, 2, 66]\n",
    "k = 32\n",
    "### write code here...\n",
    "def calculateSum(l, k):\n",
    "    for i in l:\n",
    "        if (k-i) in l:\n",
    "            return i, (k-i)\n",
    "    \n",
    "    return 0, 0\n",
    "\n",
    "print(calculateSum(l, k))"
   ]
  },
  {
   "cell_type": "markdown",
   "metadata": {
    "id": "rz4skoNTTPab"
   },
   "source": [
    "**Q12: Write a function, `find_superhero`  that receives the superhero dictionary and a team name, and returns a list with names in sorted order of all superheros whose team matches the team in the argument.**   [5 marks]"
   ]
  },
  {
   "cell_type": "code",
   "execution_count": 79,
   "metadata": {
    "colab": {
     "base_uri": "https://localhost:8080/"
    },
    "executionInfo": {
     "elapsed": 576,
     "status": "ok",
     "timestamp": 1632827337892,
     "user": {
      "displayName": "Dania Ahmad",
      "photoUrl": "https://lh3.googleusercontent.com/a/default-user=s64",
      "userId": "09643934378086205076"
     },
     "user_tz": -300
    },
    "id": "C0MZwcLLTUQP",
    "outputId": "34cea024-ac17-4385-e8f7-e581075c94c2"
   },
   "outputs": [
    {
     "name": "stdout",
     "output_type": "stream",
     "text": [
      "['Black Widow', 'Captain America', 'Iron-man', 'Scarlet Witch']\n"
     ]
    }
   ],
   "source": [
    "def find_superheros(team, superheros):\n",
    "    names = []\n",
    "    for key, value in superheros.items():\n",
    "        if value['Team'] == team:\n",
    "            names.append(key)\n",
    "    \n",
    "    return sorted(names)\n",
    "    ### write code here...\n",
    "\n",
    "superheros = {\n",
    "      \"Black Widow\": {\"age\": 32, \"Team\": \"The Avengers\"},\n",
    "      \"Scarlet Witch\": {\"age\": 21, \"Team\": \"The Avengers\"},\n",
    "      \"Captain America\": {\"age\": 80, \"Team\": \"The Avengers\"},\n",
    "      \"Iron-man\": {\"age\": 48, \"Team\": \"The Avengers\"},\n",
    "      \"Wonder Woman\": {\"age\": 800, \"Team\": \"Justice League\"}, \n",
    "      \"Batman\": {\"age\": 81, \"Team\": \"Justice League\"}, \n",
    "      \"Star-Lord\": {\"age\": 38, \"Team\": \"Guardians of the Galaxy\"},\n",
    "      \"Groot\": {\"age\": 25, \"Team\": \"Guardians of the Galaxy\"},\n",
    "      \"Gamora\": {\"age\": 29, \"Team\": \"Guardians of the Galaxy\"},\n",
    "}\n",
    "print(find_superheros(\"The Avengers\", superheros))"
   ]
  },
  {
   "cell_type": "markdown",
   "metadata": {
    "id": "iZ8SMLqQTdFR"
   },
   "source": [
    "**Q13: Edit the following iterator class to return all the positive odd numbers from 1 to (n).**      [3 marks]"
   ]
  },
  {
   "cell_type": "code",
   "execution_count": 80,
   "metadata": {
    "id": "AowdlG29Thhg"
   },
   "outputs": [
    {
     "name": "stdout",
     "output_type": "stream",
     "text": [
      "[1, 3, 5, 7, 9, 11]\n"
     ]
    }
   ],
   "source": [
    "### Write code here...\n",
    "class iterator:\n",
    "    def __init__(self):\n",
    "        self.odds_list = []\n",
    "    def odds_method(self, n):\n",
    "        self.odds_list = [i for i in range(1, n+1) if i%2 != 0]\n",
    "        return self.odds_list\n",
    "\n",
    "test_odd = iterator()\n",
    "print(test_odd.odds_method(11))"
   ]
  },
  {
   "cell_type": "markdown",
   "metadata": {
    "id": "P8vZbdD8Tr9v"
   },
   "source": [
    "**Q14: Using keys and indexing, grab the 'hello' from the given dictionaries.**\n",
    "[3 marks]\n"
   ]
  },
  {
   "cell_type": "code",
   "execution_count": 81,
   "metadata": {
    "id": "r1nI0vt7Tzxy"
   },
   "outputs": [
    {
     "name": "stdout",
     "output_type": "stream",
     "text": [
      "hello\n",
      "hello\n",
      "hello\n"
     ]
    }
   ],
   "source": [
    "d1 = {'simple_key':('hello')}\n",
    "\n",
    "d2 = {'k1':{'k2':['hello']}}\n",
    "\n",
    "d3 = {'k1':[{'nest_key':['this is deep',[({\"k2\": 'hello'})]]}]}\n",
    "\n",
    "### write code here...\n",
    "print(d1[list(d1.keys())[0]])\n",
    "print(d2['k1']['k2'][0])\n",
    "print(d3['k1'][0]['nest_key'][1][0]['k2'])"
   ]
  },
  {
   "cell_type": "markdown",
   "metadata": {
    "id": "5f8yWxZwGBH-"
   },
   "source": [
    "**Q15: Write a python Class that accepts a tuple, has two instance variables, setter and getter methods and also write these methods to compute results accordingly:** [10 marks]\n",
    "\n",
    "1.   def Addition(tup )\n",
    "2.   def  Subtraction (tup)\n",
    "3.   def Multiplication(tup)\n",
    "4.   def Division(tup )\n",
    "5.   def Power(tup)\n"
   ]
  },
  {
   "cell_type": "code",
   "execution_count": 82,
   "metadata": {
    "id": "2gPaYB_6GtMQ"
   },
   "outputs": [
    {
     "name": "stdout",
     "output_type": "stream",
     "text": [
      "10 + 2 = 12\n",
      "10 - 2 = 8\n",
      "10 * 2 = 20\n",
      "10 / 2 = 5.0\n",
      "10 ^ 2 = 100\n"
     ]
    }
   ],
   "source": [
    "### write code here...\n",
    "class Calculator:\n",
    "    def __init__(self):\n",
    "        self.op1 = 0\n",
    "        self.op2 = 0\n",
    "    \n",
    "    def setOp1(self, a): self.op1 = a\n",
    "    def setOp2(self, b): self.op2 = b\n",
    "    def getOp1(self): return self.op1\n",
    "    def getOp2(self): return self.op2\n",
    "\n",
    "    def Addition(self,tup):\n",
    "        return tup[0] + tup[1]\n",
    "    def Subtraction(self,tup):\n",
    "        return tup[0] - tup[1]\n",
    "    def Multiplication(self,tup):\n",
    "        return tup[0] * tup[1]\n",
    "    def Division(self,tup):\n",
    "        return tup[0] / tup[1]\n",
    "    def Power(self,tup):\n",
    "        return tup[0] ** tup[1]\n",
    "\n",
    "CalculatorTest = Calculator()\n",
    "test_tuple = (10,2)\n",
    "print(f\"{test_tuple[0]} + {test_tuple[1]} = {CalculatorTest.Addition(test_tuple)}\")\n",
    "print(f\"{test_tuple[0]} - {test_tuple[1]} = {CalculatorTest.Subtraction(test_tuple)}\")\n",
    "print(f\"{test_tuple[0]} * {test_tuple[1]} = {CalculatorTest.Multiplication(test_tuple)}\")\n",
    "print(f\"{test_tuple[0]} / {test_tuple[1]} = {CalculatorTest.Division(test_tuple)}\")\n",
    "print(f\"{test_tuple[0]} ^ {test_tuple[1]} = {CalculatorTest.Power(test_tuple)}\")"
   ]
  },
  {
   "cell_type": "markdown",
   "metadata": {
    "id": "NwuvJ74zL9cr"
   },
   "source": [
    "**Q16. For given array x of floating point numbers. Print plots for the following functions with the specified properties. Make a different subplot for each listed number.**    [10 marks]\n",
    "\n",
    "1. $y1$ = $x^{2} + 10$,\n",
    "$y2$ = $x^{3} + x^{2}$\n",
    "* X and Y axis labels\n",
    "* Legend in top right corner\n",
    "* Give appropriate title\n",
    "* y1 line with red color\n",
    "* y2 line with blue color\n",
    "\n",
    "2. y1 = $sin(x) * sin(x)^{2}$ * $sin(x)^{3}$\n",
    "* X and Y axis labels\n",
    "* Legend in bottom center\n",
    "* Give appropriate title\n",
    "* line fontsize 20\n",
    "\n",
    "3. y1 = $cos(x)^{3}$\n",
    "* X and Y axis labels\n",
    "* Legend in bottom left corner\n",
    "* Give appropriate title\n",
    "* y1 graph with green circles only and circles should not be connected via line.\n",
    "\n"
   ]
  },
  {
   "cell_type": "code",
   "execution_count": 83,
   "metadata": {
    "id": "yhB8hFK0TALX"
   },
   "outputs": [
    {
     "data": {
      "image/png": "[encoded data removed]",
      "text/plain": [
       "<Figure size 720x720 with 3 Axes>"
      ]
     },
     "metadata": {
      "needs_background": "light"
     },
     "output_type": "display_data"
    }
   ],
   "source": [
    "import matplotlib.pyplot as plt\n",
    "x = np.arange(-10,10, 0.2)\n",
    "## Write your code here...\n",
    "fig, ax = plt.subplots(2, 2, figsize=(10,10))\n",
    "# fig.suptitle('Horizontally stacked subplots')\n",
    "y1 = x**2 + 10\n",
    "y2 = x**3 + x**2\n",
    "ax[0, 0].plot(x, y1)\n",
    "ax[0, 0].plot(x, y2)\n",
    "ax[0, 0].set_xlabel('x-axis')\n",
    "ax[0, 0].set_ylabel('y-axis')\n",
    "ax[0, 0].set_title('Graph of ($x^2+10$) and ($x^3+x^2$)')\n",
    "ax[0, 0].legend(['$y_1 = x^2+10$', '$y_2 = x^3+x^2$'],loc='upper right')\n",
    "\n",
    "y1 = np.sin(x) * (np.sin(x)**2) * (np.sin(x)**3)\n",
    "ax[0, 1].plot(x, y1, linewidth=20)  # why 20???\n",
    "ax[0, 1].set_xlabel('x-axis')\n",
    "ax[0, 1].set_ylabel('y-axis')\n",
    "ax[0, 1].set_title('Graph of $sin(x)sin^2(x)sin^3(x)$')\n",
    "ax[0, 1].legend(['$y = sin(x)sin^2(x)sin^3(x)$'],loc='lower center')\n",
    "\n",
    "y1 = (np.cos(x))**3\n",
    "ax[1, 0].plot(x, y1, 'go', fillstyle='none')\n",
    "ax[1, 0].set_xlabel('x-axis')\n",
    "ax[1, 0].set_ylabel('y-axis')\n",
    "ax[1, 0].set_title('Graph of $cos^3(x)$')\n",
    "ax[1, 0].legend(['$y = cos^3(x)$'],loc='lower left')\n",
    "fig.delaxes(ax[1,1])\n",
    "plt.show()"
   ]
  },
  {
   "cell_type": "markdown",
   "metadata": {
    "id": "OAuW-W6ZltOx"
   },
   "source": [
    "**Q17: Read the data given in the file `marvel-vs-dc.csv` and display it.\n",
    "Also, plot two graphs one for `rate` and one for `metascore` for Marvel and DC seperately. `ID` should be on x-axis** [10 marks]\n",
    "\n",
    "Remember to do the following:\n",
    "\n",
    "1.   Assign X and Y labels\n",
    "2.   Assign an appropriate title\n",
    "\n",
    "\n",
    "\n",
    "\n"
   ]
  },
  {
   "cell_type": "code",
   "execution_count": 84,
   "metadata": {
    "id": "wjBkd4a_nR2e"
   },
   "outputs": [
    {
     "data": {
      "text/plain": [
       "Text(0.5, 0.98, 'Comparison of Rating and Metascore of DC and Marvel movies')"
      ]
     },
     "execution_count": 84,
     "metadata": {},
     "output_type": "execute_result"
    },
    {
     "data": {
      "image/png": "[encoded data removed]",
      "text/plain": [
       "<Figure size 720x432 with 2 Axes>"
      ]
     },
     "metadata": {
      "needs_background": "light"
     },
     "output_type": "display_data"
    }
   ],
   "source": [
    "import pandas as pd\n",
    "## Write your code here...\n",
    "data = pd.read_csv('marvel-vs-dc.csv')\n",
    "# print(data)\n",
    "\n",
    "marvel_rate = data[data.Company == 'Marvel']['Rate']\n",
    "dc_rate = data[data.Company == 'DC'][\"Rate\"]\n",
    "marvel_meta = data[data.Company == 'Marvel']['Metascore']\n",
    "dc_meta = data[data.Company == 'DC'][\"Metascore\"]\n",
    "\n",
    "fig, ax = plt.subplots(1, 2, figsize=(10,6))\n",
    "\n",
    "ax[0].plot(marvel_rate)\n",
    "ax[0].plot(dc_rate)\n",
    "ax[0].set_xlabel(\"ID\")\n",
    "ax[0].set_ylabel(\"Rating\")\n",
    "ax[0].legend([\"Marvel\", \"DC\"])\n",
    "\n",
    "ax[1].plot(marvel_meta)\n",
    "ax[1].plot(dc_meta)\n",
    "ax[1].set_xlabel(\"ID\")\n",
    "ax[1].set_ylabel(\"Metascore\")\n",
    "ax[1].legend([\"Marvel\", \"DC\"])\n",
    "\n",
    "fig.suptitle(\"Comparison of Rating and Metascore of DC and Marvel movies\")"
   ]
  },
  {
   "cell_type": "markdown",
   "metadata": {
    "id": "DSLdLbomJ4qw"
   },
   "source": [
    "## Text analysis using Regex\n",
    "Solving some of the questions below can help you in getting better understanding of REGEX."
   ]
  },
  {
   "cell_type": "markdown",
   "metadata": {
    "id": "xs-J-ibGKaWp"
   },
   "source": [
    "**Q18. Search for all the English words in the articles. Return a set of all English words. Note: A Set doesn't contain duplicates.**  [5 marks]"
   ]
  },
  {
   "cell_type": "code",
   "execution_count": 146,
   "metadata": {
    "id": "N1ozORWqND9Y"
   },
   "outputs": [
    {
     "name": "stdout",
     "output_type": "stream",
     "text": [
      "['conjugate', 'Solduz', 'Eagle', 'Sinnamary', 'Somatic', 'Banglalion', 'Taleb', 'diaphragm', 'Whatever', 'Khargush', 'Oriental', 'Fairbanks', 'Hawaii', 'Garros', \"Agency's\", 'Hürrem', 'Protected', 'ISPR', 'maybe', 'Chendeh', 'XV', 'Raya', 'Taiwan', 'Reign', 'MV', 'sqn', 'LI', 'IslandSpratly', 'cost', 'hospital', 'subcritical', 'monocytic', 'pk', 'Gliese', 'Morskie', 'RichardFeynman-', 'Dehkhoda', 'Zard', 'Clinton', 'wise', 'SahityaAkademiFellowship', 'bounded', 'codes', 'Electronic', 'palliation', 'RMG', 'ten', 'W', 'failure', 'genes']\n"
     ]
    }
   ],
   "source": [
    "### write code here...\n",
    "def find_english_words(articles):\n",
    "    eng_words = set()\n",
    "    for article in articles:\n",
    "        lst_words = re.findall(r\"\\b[A-Za-zÀ-ÿ'\\-]+\\b\", article)\n",
    "        eng_words.update(lst_words)\n",
    "\n",
    "    return eng_words\n",
    "\n",
    "data = pd.read_csv('UrduWiki.csv')\n",
    "\n",
    "articles = data.content\n",
    "\n",
    "words = find_english_words(articles)\n",
    "print(list(words)[:50]) # Only printing the first 50"
   ]
  },
  {
   "cell_type": "markdown",
   "metadata": {
    "id": "fBUqbyaPNBe2"
   },
   "source": [
    "**Q19: Remove all punctuation marks, digits and single English characters from the articles. Return a list of all the cleaned articles. Punctuation marks include [؛ ، ٫  ؟ ۔ ٪ \\ / ! @ ( ) ° . - ; ″ ′ \\ -].**      [3 marks]"
   ]
  },
  {
   "cell_type": "code",
   "execution_count": 147,
   "metadata": {
    "id": "ONaXfQLBSFKr"
   },
   "outputs": [
    {
     "name": "stdout",
     "output_type": "stream",
     "text": [
      "['سینٹمگنے\\nمتناسقات: N W  N W   \\nسینٹمگنے فرانس کا ایک فرانسیسی کمیون جو Canton of BelinBéliet میں واقع ہے\\nسینٹمگنے کا رقبہ  مربع کیلومیٹر ہے اور اس کی مجموعی آبادی  افراد پر مشتمل ہے اور  میٹر سطح دریا سے بلندی پر واقع ہے\\n', 'سینٹجنینلابرگرے\\nمتناسقات: N E  N E   \\nسینٹجنینلابرگرے فرانس کا ایک فرانسیسی کمیون جو کروز میں واقع ہے\\nسینٹجنینلابرگرے کا رقبہ  مربع کیلومیٹر ہے اور اس کی مجموعی آبادی  افراد پر مشتمل ہے اور  میٹر سطح دریا سے بلندی پر واقع ہے\\n', 'علم طب و حکمت اور شعبۂ حیاتیات میں عضو سے مراد کسی نسیج سے ملکر بننے والے ایک ایسے جسم کی ہوتی ہے کہ جو کوئی مخصوص فعل انجام دیتا ہو اور عام طور پر اپنے لیے معاون دیگر اعضاء کے ساتھ شامل ہو کر ایک نظام جسم تشکیل دے سکتا ہو اس کی جمع اعضاء کی جاتی ہے اور انگریزی میں اسے Organ کہا جاتا ہے مختلف اعضاء کی عام مثالوں میں  معدہ دماغ قلب و گردے وغیرہ کے نام پیش کیے جاسکتے ہیں\\n', 'پیدائش: ء\\nوفات:ء\\nماہر قانون اور سابق اٹارنی جنرل آف پاکستان یحییٰ بختیار انیس سو بائیس میں کوئٹہ میں پیدا ہوئے انیس سو اکتالیس میں وہ آل انڈیا مسلم لیگ کے رکن بنے انیس سو بیالیس میں پنجاب مسلم سٹوڈنٹس فیڈریشن کے رکن بنے اور قائد اعظم اور دیگر طلبہ کے ساتھ پاکستان کا پیغام پنجاب سرحد اور بلوچستان پہنچاتے رہے بعد میں آل انڈیا مسلم سٹوڈنٹس کے نائب صدر بنے اور انیس سو چھیالیس میں لاہور سے ایم اے کیا اور پھر لندن بیرسٹری کے لیے چلے گئے لندن سے واپسی پر لیاقت علی خان نے انہیں بلوچستان ایڈوائزری کونسل کا رکن نامزد کیا اور انیس سو باون میں آئین ساز اسمبلی کے بنیادی حقوق کمیٹی کے رکن بھی بنے \\nکے مارشل لا کو انیس سو اٹھاون میں پہلی مرتبہ یحییٰ بختیار نے ہی چیلنج کیا انیس سو چونسٹھ سے انیس سو اکہتر تک وہ تین مرتبہ بلا مقابلہ مغربی پاکستان مسلم لیگ کے صدر منتخب ہوئے وہ انیس سو اکہتر میں ذوالفقار علی بھٹو کی خواہش پر پاکستان کے اٹارنی جنرل منتخب ہوئے اور وہ پاکستان کے پہلے اٹارنی جنرل تھے جنہیں مرکزی وزیر کا عہدہ دیا گیا وہ انیس سو چوہتر تک مسلم لیگ سے وابستہ رہے اور بعد میں پاکستان پیپلز پارٹی میں شامل ہو گئے\\nیحییٰ بختیار نے انیس سو بہتر اور تہتر میں ہیگ کی بین الاقوامی عدالت میں پاکستان کی طرف سے انڈیا کے خلاف مقدموں کی پیروی کی اس کے علاوہ انڈیا میں قید پاکستانی جنگی قیدیوں کے مقدمے کی بھی پیروی کی انہون نے انیس سو ستتر میں معزول وزیر اعظم ذو الفقار علی بھٹو اور بیگم نصرت بھٹو کے مقدمے کی پیروی کی ضیاء الحق کے مارشل لا پر تنقید کرنے کے الزام میں ان کو گرفتار بھی کیا گیا اور جیل میں بہت پیٹا گیا تھا کوئٹہ میں ان کا انتقال ہوا مشہور فلمسٹار زیبا بختیار ان کی صاحبزادی ہیں\\n', 'ریاستہائے متحدہ امریکا کی ریاست شمالی ڈکوٹا کی ایک کاؤنٹی\\n']\n"
     ]
    }
   ],
   "source": [
    "### write code here...\n",
    "def remove_punc(str):\n",
    "    return re.sub(r\"[؛،٫؟۔٪\\\\\\/!@()°.\\-;″′\\-]\", \"\", str)\n",
    "\n",
    "def remove_digits(str):\n",
    "    return re.sub(r\"[0-9]+\", \"\", str)\n",
    "\n",
    "def remove_char(str):\n",
    "    return re.sub(\"\\b[a-zA-Z]\\s|\\s[a-zA-Z]\\b\",\"\",str)\n",
    "\n",
    "def clean(articles):\n",
    "    lst = []\n",
    "    for article in articles:\n",
    "        article = remove_char(remove_digits(remove_punc(article)))\n",
    "        lst.append(article)\n",
    "\n",
    "    return lst\n",
    "\n",
    "data = pd.read_csv('UrduWiki.csv')\n",
    "\n",
    "articles = data.content\n",
    "\n",
    "list_clean = clean(articles)\n",
    "\n",
    "print(list(list_clean)[:5]) # Only printing the first 50"
   ]
  },
  {
   "cell_type": "markdown",
   "metadata": {
    "id": "XToIySemNCAv"
   },
   "source": [
    "**Q20 Replace all the digits with Urdu digits, remove English words and remove punctuation marks.\n",
    "Urdu digits: [۰ ۱ ۲ ۳ ۴ ۵ ۶ ۷ ۸ ۹]** [3 marks]"
   ]
  },
  {
   "cell_type": "code",
   "execution_count": 143,
   "metadata": {
    "executionInfo": {
     "elapsed": 6,
     "status": "ok",
     "timestamp": 1632896894804,
     "user": {
      "displayName": "Taimoor Arif",
      "photoUrl": "https://lh3.googleusercontent.com/a-/AOh14GhiTOevi-evqxLhQUzvO2shI9n7vJbTmwE9rYyuuw=s64",
      "userId": "03232148475366633594"
     },
     "user_tz": -300
    },
    "id": "5uCaJOAdScNy"
   },
   "outputs": [
    {
     "name": "stdout",
     "output_type": "stream",
     "text": [
      "['سینٹمگنے\\nمتناسقات: ۴۴۳۱۴۱ ۰۳۹۲۴  ۴۴۵۲۸۱ ۰۶۵۶۷  ۴۴۵۲۸۱ ۰۶۵۶۷\\nسینٹمگنے فرانس کا ایک فرانسیسی کمیون جو    میں واقع ہے\\nسینٹمگنے کا رقبہ ۸۲۶۶ مربع کیلومیٹر ہے اور اس کی مجموعی آبادی ۹۹۳ افراد پر مشتمل ہے اور ۷۰ میٹر سطح دریا سے بلندی پر واقع ہے\\n', 'سینٹجنینلابرگرے\\nمتناسقات: ۴۵۵۳۰۵ ۱۴۵۲۲  ۴۵۸۸۴۷ ۱۷۵۶۱  ۴۵۸۸۴۷ ۱۷۵۶۱\\nسینٹجنینلابرگرے فرانس کا ایک فرانسیسی کمیون جو کروز میں واقع ہے\\nسینٹجنینلابرگرے کا رقبہ ۲۵۶۶ مربع کیلومیٹر ہے اور اس کی مجموعی آبادی ۱۵۶ افراد پر مشتمل ہے اور ۵۲۰ میٹر سطح دریا سے بلندی پر واقع ہے\\n', 'علم طب و حکمت اور شعبۂ حیاتیات میں عضو سے مراد کسی نسیج سے ملکر بننے والے ایک ایسے جسم کی ہوتی ہے کہ جو کوئی مخصوص فعل انجام دیتا ہو اور عام طور پر اپنے لیے معاون دیگر اعضاء کے ساتھ شامل ہو کر ایک نظام جسم تشکیل دے سکتا ہو اس کی جمع اعضاء کی جاتی ہے اور انگریزی میں اسے  کہا جاتا ہے مختلف اعضاء کی عام مثالوں میں  معدہ دماغ قلب و گردے وغیرہ کے نام پیش کیے جاسکتے ہیں\\n', 'پیدائش: ۱۹۲۲ء\\nوفات:۲۰۰۳ء\\nماہر قانون اور سابق اٹارنی جنرل آف پاکستان یحییٰ بختیار انیس سو بائیس میں کوئٹہ میں پیدا ہوئے انیس سو اکتالیس میں وہ آل انڈیا مسلم لیگ کے رکن بنے انیس سو بیالیس میں پنجاب مسلم سٹوڈنٹس فیڈریشن کے رکن بنے اور قائد اعظم اور دیگر طلبہ کے ساتھ پاکستان کا پیغام پنجاب سرحد اور بلوچستان پہنچاتے رہے بعد میں آل انڈیا مسلم سٹوڈنٹس کے نائب صدر بنے اور انیس سو چھیالیس میں لاہور سے ایم اے کیا اور پھر لندن بیرسٹری کے لیے چلے گئے لندن سے واپسی پر لیاقت علی خان نے انہیں بلوچستان ایڈوائزری کونسل کا رکن نامزد کیا اور انیس سو باون میں آئین ساز اسمبلی کے بنیادی حقوق کمیٹی کے رکن بھی بنے \\nکے مارشل لا کو انیس سو اٹھاون میں پہلی مرتبہ یحییٰ بختیار نے ہی چیلنج کیا انیس سو چونسٹھ سے انیس سو اکہتر تک وہ تین مرتبہ بلا مقابلہ مغربی پاکستان مسلم لیگ کے صدر منتخب ہوئے وہ انیس سو اکہتر میں ذوالفقار علی بھٹو کی خواہش پر پاکستان کے اٹارنی جنرل منتخب ہوئے اور وہ پاکستان کے پہلے اٹارنی جنرل تھے جنہیں مرکزی وزیر کا عہدہ دیا گیا وہ انیس سو چوہتر تک مسلم لیگ سے وابستہ رہے اور بعد میں پاکستان پیپلز پارٹی میں شامل ہو گئے\\nیحییٰ بختیار نے انیس سو بہتر اور تہتر میں ہیگ کی بین الاقوامی عدالت میں پاکستان کی طرف سے انڈیا کے خلاف مقدموں کی پیروی کی اس کے علاوہ انڈیا میں قید پاکستانی جنگی قیدیوں کے مقدمے کی بھی پیروی کی انہون نے انیس سو ستتر میں معزول وزیر اعظم ذو الفقار علی بھٹو اور بیگم نصرت بھٹو کے مقدمے کی پیروی کی ضیاء الحق کے مارشل لا پر تنقید کرنے کے الزام میں ان کو گرفتار بھی کیا گیا اور جیل میں بہت پیٹا گیا تھا کوئٹہ میں ان کا انتقال ہوا مشہور فلمسٹار زیبا بختیار ان کی صاحبزادی ہیں\\n', 'ریاستہائے متحدہ امریکا کی ریاست شمالی ڈکوٹا کی ایک کاؤنٹی\\n']\n"
     ]
    }
   ],
   "source": [
    "### write code here...\n",
    "urdu_digits = ['۰', '۱', '۲', '۳', '۴', '۵', '۶', '۷', '۸', '۹']\n",
    "def replace_digits(article):\n",
    "    return re.sub(r\"[0-9]\", lambda match_obj: urdu_digits[int(match_obj.group(0))], article)\n",
    "\n",
    "def remove_english(article):\n",
    "    return re.sub(r\"\\b[A-Za-zÀ-ÿ'\\-]+\\b\", \"\", article)\n",
    "\n",
    "def clean_article(articles):\n",
    "    clean_article = []\n",
    "    for article in articles:\n",
    "        temp = remove_punc(remove_english(replace_digits(article)))\n",
    "        clean_article.append(temp)\n",
    "    \n",
    "    return clean_article\n",
    "\n",
    "data = pd.read_csv('UrduWiki.csv')\n",
    "\n",
    "articles = data.content\n",
    "\n",
    "temp = clean_article(articles)\n",
    "print(temp[0:5])"
   ]
  },
  {
   "cell_type": "markdown",
   "metadata": {
    "id": "pHshfF2jNCFp"
   },
   "source": [
    "**Q21 Return the top 10 most frequently used words starting with(`م`) in all the articles.**  [5 marks]"
   ]
  },
  {
   "cell_type": "code",
   "execution_count": 137,
   "metadata": {
    "id": "Eur9Oh1xWzwP"
   },
   "outputs": [
    {
     "name": "stdout",
     "output_type": "stream",
     "text": [
      "Top 10 words are:\n",
      "میں\n",
      "مجموعی\n",
      "مشتمل\n",
      "متحدہ\n",
      "مربع\n",
      "میٹر\n",
      "محمد\n",
      "مطابق\n",
      "موجود\n",
      "مگر\n"
     ]
    }
   ],
   "source": [
    "### write code here...\n",
    "from collections import Counter\n",
    "\n",
    "def return_most_freq(articles):\n",
    "    lst_of_words = []\n",
    "    temp = []\n",
    "\n",
    "    for article in articles:\n",
    "        # another possible regex is \\bم(?:[^\\W]\\S)+\\b (just ensures any non urdu character after meem doesn't get matched)\n",
    "        temp = re.findall(r\"\\bم\\S+\\b\",article)\n",
    "        lst_of_words += temp\n",
    "    \n",
    "    ctr = Counter(lst_of_words)\n",
    "    most_freq = ctr.most_common(10)\n",
    "    \n",
    "    return [i[0] for i in most_freq]\n",
    "\n",
    "\n",
    "data = pd.read_csv('UrduWiki.csv')\n",
    "\n",
    "articles = data.content\n",
    "\n",
    "print(\"Top 10 words are:\")\n",
    "for i in return_most_freq(articles):\n",
    "    print(i)"
   ]
  },
  {
   "cell_type": "markdown",
   "metadata": {
    "id": "RFaIh_HlW4y9"
   },
   "source": [
    "**Q22: Remove all urls (starting with http/https) from the articles and return a set of them.** [5 marks]\n",
    "\n",
    "\n"
   ]
  },
  {
   "cell_type": "code",
   "execution_count": 129,
   "metadata": {
    "id": "Xyh5tYLs_ogq"
   },
   "outputs": [
    {
     "name": "stdout",
     "output_type": "stream",
     "text": [
      "{'https://ur.wikipedia.org/wiki/20', 'https://ur.wikipedia.org/wiki/1714', 'https://ur.wikipedia.org/wiki/1505', 'https://ur.wikipedia.org/wiki/1336%D8%A1', 'https://ur.wikipedia.org/wiki/1311%DA%BE', 'https://ur.wikipedia.org/wiki/18_%D8%B1%D8%A8%DB%8C%D8%B9_%D8%A7%D9%84%D8%A7%D9%88%D9%84', 'https://ur.wikipedia.org/wiki/1163%DA%BE', 'https://ur.wikipedia.org/wiki/1603', 'https://ur.wikipedia.org/wiki/1930_FIFA_World_Cup', 'https://ur.wikipedia.org/wiki/1768%D8%A1', 'https://ur.wikipedia.org/wiki/1800', 'https://ur.wikipedia.org/wiki/1120_(%D8%B9%D8%AF%D8%AF)', 'https://ur.wikipedia.org/wiki/16_%D8%AC%D9%88%D9%84%D8%A7%D8%A6', 'https://ur.wikipedia.org/wiki/2000%D8%B3%D8%A8%D9%85', 'https://ur.wikipedia.org/wiki/126%DA%BE', 'https://ur.wikipedia.org/wiki/13_%D8%B1%D8%AC%D8%A8', 'https://ur.wikipedia.org/wiki/1351', 'http://www.okhlaheadlines.com/celebrities/ashraf-ali-bastavi.html*', 'https://ur.wikipedia.org/wiki/1787', 'https://ur.wikipedia.org/wiki/17_%D8%AC%D9%86%D9%88%D8%B1%DB%8C', 'https://ur.wikipedia.org/wiki/1567_(%D8%B9%D8%AF%D8%AF)', 'https://ur.wikipedia.org/wiki/1983_%D9%83%D8%B1%D9%83%D9%B9_%D8%B9%D8%A7%D9%84%D9%85%D9%8A_%D9%83%D9%BE_%D9%81%D8%A7%D8%A6%D9%86%D9%84', 'https://ur.wikipedia.org/wiki/1058_(%D8%B9%D8%AF%D8%AF)', 'https://ur.wikipedia.org/wiki/1749%D8%A1', 'https://ur.wikipedia.org/wiki/1510', 'https://ur.wikipedia.org/wiki/1505_(%D8%B9%D8%AF%D8%AF)', 'https://ur.wikipedia.org/wiki/1339%DA%BE', 'https://ur.wikipedia.org/wiki/1771', 'https://ur.wikipedia.org/wiki/18%D9%86%D8%A8%D9%88%D9%8A_%D9%85%D9%8A%DA%BA_%D8%B3%D9%8A%D8%B1%D8%AA_%D9%86%D8%A8%D9%88%D9%8A', 'https://ur.wikipedia.org/wiki/11_%D9%85%D8%A6%DB%8C', 'https://ur.wikipedia.org/wiki/1108_(%D8%B9%D8%AF%D8%AF)', 'https://ur.wikipedia.org/wiki/1998%D8%A1', 'https://ur.wikipedia.org/wiki/118%D8%A1', 'https://ur.wikipedia.org/wiki/1922%D8%A1_%DA%A9%DB%8C_%D8%A8%D8%A7%D9%84%DB%8C_%D9%88%D9%88%DA%88_%D9%81%D9%84%D9%85%D9%88%DA%BA_%DA%A9%DB%8C_%D9%81%DB%81%D8%B1%D8%B3%D8%AA', 'https://ur.wikipedia.org/wiki/1638_(%D8%B9%D8%AF%D8%AF)', 'https://ur.wikipedia.org/wiki/1448%D8%A1', 'https://ur.wikipedia.org/wiki/1300%D8%A1_%D9%83%D9%8A_%D8%AF%DB%81%D8%A7%D8%A6%D9%8A', 'https://ur.wikipedia.org/wiki/1932%D8%A1_%DA%AF%D8%B1%D9%85%D8%A7%D8%A6%DB%8C_%D8%A7%D9%88%D9%84%D9%85%D9%BE%DA%A9%D8%B3', 'https://ur.wikipedia.org/wiki/1950%D8%A1_%D9%81%DB%8C%D9%81%D8%A7_%D8%B9%D8%A7%D9%84%D9%85%DB%8C_%DA%A9%D9%BE', 'https://ur.wikipedia.org/wiki/1559', 'https://ur.wikipedia.org/wiki/166', 'https://ur.wikipedia.org/wiki/11', 'https://ur.wikipedia.org/wiki/150%D8%A1_%D9%83%D9%8A_%D8%AF%DB%81%D8%A7%D8%A6%D9%8A', 'https://ur.wikipedia.org/wiki/14_%D8%AC%D9%85%D8%A7%D8%AF%DB%8C_%D8%A7%D9%84%D8%AB%D8%A7%D9%86%DB%8C', 'https://ur.wikipedia.org/wiki/1652%D8%A1', 'https://ur.wikipedia.org/wiki/180%D8%A1_%DA%A9%DB%8C_%D8%AF%DB%81%D8%A7%D8%A6%DB%8C', 'https://ur.wikipedia.org/wiki/1151%DA%BE', 'https://ur.wikipedia.org/wiki/1205%D8%A1', 'https://ur.wikipedia.org/wiki/169_(%D8%B9%D8%AF%D8%AF)', 'https://ur.wikipedia.org/wiki/140_%D9%83%D9%8A_%D8%AF%DB%81%D8%A7%D8%A6%D9%8A', 'https://ur.wikipedia.org/wiki/1180_(%D8%B9%D8%AF%D8%AF)', 'https://ur.wikipedia.org/wiki/1218%D8%A1', 'https://ur.wikipedia.org/wiki/1191%D8%A1', 'https://ur.wikipedia.org/wiki/1216%D8%A1', 'https://ur.wikipedia.org/wiki/1508_(%D8%B9%D8%AF%D8%AF)', 'https://ur.wikipedia.org/wiki/1380%DA%BE', 'https://ur.wikipedia.org/wiki/1376_(%D8%B9%D8%AF%D8%AF)', 'https://ur.wikipedia.org/wiki/1447%D8%A1', 'https://ur.wikipedia.org/wiki/1828%D8%A1', 'https://ur.wikipedia.org/wiki/1556', 'https://ur.wikipedia.org/wiki/1066%D8%A1_%D9%85%DB%8C%DA%BA_%D8%BA%D8%B1%D9%86%D8%A7%D8%B7%DB%81_%D9%85%DB%8C%DA%BA_%D8%AE%D9%88%D9%86_%D8%B1%DB%8C%D8%B2%DB%8C', 'https://ur.wikipedia.org/wiki/1504%D8%A1_%DB%81%D9%86%D8%AF%D9%88%D8%B3%D8%AA%D8%A7%D9%86_%D9%85%DB%8C%DA%BA', 'https://ur.wikipedia.org/wiki/1444', 'https://ur.wikipedia.org/wiki/14_%D8%B4%D8%B9%D8%A8%D8%A7%D9%86', 'https://ur.wikipedia.org/wiki/1960_%DA%A9%DB%8C_%D8%AF%DB%81%D8%A7%D8%A6%DB%8C', 'https://ur.wikipedia.org/wiki/1794_(%D8%B9%D8%AF%D8%AF)', 'https://ur.wikipedia.org/wiki/1800%D8%A1_%DA%A9%DB%8C_%D8%AF%DB%81%D8%A7%D8%A6%DB%8C', 'https://ur.wikipedia.org/wiki/1100', 'https://ur.wikipedia.org/wiki/1660_%DA%A9%DB%8C_%D8%AF%DB%81%D8%A7%D8%A6%DB%8C', 'https://ur.wikipedia.org/wiki/1396%DA%BE', 'https://ur.wikipedia.org/wiki/1088', 'https://ur.wikipedia.org/wiki/1131%D8%A1', 'https://ur.wikipedia.org/wiki/1886', 'https://ur.wikipedia.org/wiki/1375%D8%A1', 'https://ur.wikipedia.org/wiki/1950_%DA%A9%DB%8C_%D8%AF%DB%81%D8%A7%D8%A6%DB%8C', 'https://ur.wikipedia.org/wiki/1920%D8%A1_%DA%AF%D8%B1%D9%85%D8%A7%D8%A6%D9%8A_%D8%A7%D9%88%D9%84%D9%85%D9%BE%D9%83%D8%B3', 'https://ur.wikipedia.org/wiki/1581_(%D8%B9%D8%AF%D8%AF)', 'https://ur.wikipedia.org/wiki/1710%D8%A1', 'https://ur.wikipedia.org/wiki/1868', 'https://ur.wikipedia.org/wiki/13%D9%88%D9%8A%DA%BA_%D8%B9%D8%AF%D8%AF_%D9%83%D8%A7_%D8%AE%D9%88%D9%81', 'https://ur.wikipedia.org/wiki/1588_(%D8%B9%D8%AF%D8%AF)', 'https://ur.wikipedia.org/wiki/17_%D8%AC%D9%88%D9%84%D8%A7%D8%A6', 'https://ur.wikipedia.org/wiki/1465_(%D8%B9%D8%AF%D8%AF)', 'https://ur.wikipedia.org/wiki/2003%D8%A1_%D9%85%D9%8A%DA%BA_%D9%BE%D8%A7%D9%83%D8%B3%D8%AA%D8%A7%D9%86', 'https://ur.wikipedia.org/wiki/1799_(%D8%B9%D8%AF%D8%AF)', 'https://ur.wikipedia.org/wiki/1074', 'https://ur.wikipedia.org/wiki/1800%D8%B5%D8%A8%D9%85', 'https://ur.wikipedia.org/wiki/10_%DA%A9%DB%8C_%D8%AF%DB%81%D8%A7%D8%A6%DB%8C', 'https://ur.wikipedia.org/wiki/1355%D8%A1', 'https://ur.wikipedia.org/wiki/1085%DA%BE', 'https://ur.wikipedia.org/wiki/1989%D8%A1', 'https://ur.wikipedia.org/wiki/2003%D8%A1_%D9%85%DB%8C%DA%BA_%D9%BE%D8%A7%DA%A9%D8%B3%D8%AA%D8%A7%D9%86', 'https://ur.wikipedia.org/wiki/1143_(%D8%B9%D8%AF%D8%AF)', 'https://ur.wikipedia.org/wiki/1792_(%D8%B9%D8%AF%D8%AF)', 'https://ur.wikipedia.org/wiki/1890', 'https://ur.wikipedia.org/wiki/19_%D8%B1%D8%A8%DB%8C%D8%B9_%D8%A7%D9%84%D8%AB%D8%A7%D9%86%DB%8C', 'https://ur.wikipedia.org/wiki/1894_(%D8%B9%D8%AF%D8%AF)', 'https://ur.wikipedia.org/wiki/1448_(%D8%B9%D8%AF%D8%AF)', 'https://ur.wikipedia.org/wiki/18_%D8%AC%D9%88%D9%86', 'https://ur.wikipedia.org/wiki/1380%D8%A1_%D9%83%D9%8A_%D8%AF%DB%81%D8%A7%D8%A6%D9%8A', 'https://ur.wikipedia.org/wiki/1144_(%D8%B9%D8%AF%D8%AF)', 'https://ur.wikipedia.org/wiki/1830_(%D8%B9%D8%AF%D8%AF)', 'https://ur.wikipedia.org/wiki/1282_(%D8%B9%D8%AF%D8%AF)', 'https://ur.wikipedia.org/wiki/1730%D8%A1', 'https://ur.wikipedia.org/wiki/18_%D8%B1%D8%A8%DB%8C%D8%B9_%D8%A7%D9%84%D8%AB%D8%A7%D9%86%DB%8C', 'https://ur.wikipedia.org/wiki/1291', 'https://ur.wikipedia.org/wiki/1960', 'https://ur.wikipedia.org/wiki/1703%D8%A1', 'https://ur.wikipedia.org/wiki/1360_%DA%A9%DB%8C_%D8%AF%DB%81%D8%A7%D8%A6%DB%8C', 'https://ur.wikipedia.org/wiki/1642_(%D8%B9%D8%AF%D8%AF)', 'https://ur.wikipedia.org/wiki/13_%D8%B0%D9%88%D8%A7%D9%84%D9%82%D8%B9%D8%AF%DB%81', 'https://ur.wikipedia.org/wiki/1793', 'https://ur.wikipedia.org/wiki/1162_(%D8%B9%D8%AF%D8%AF)', 'https://ur.wikipedia.org/wiki/1231_(%D8%B9%D8%AF%D8%AF)', 'https://ur.wikipedia.org/wiki/1200_(%D8%B9%D8%AF%D8%AF)', 'https://ur.wikipedia.org/wiki/1160%DA%BE', 'https://ur.wikipedia.org/wiki/1142%D8%A1', 'https://ur.wikipedia.org/wiki/1614%D8%A1', 'https://ur.wikipedia.org/wiki/1392%DA%BE', 'https://ur.wikipedia.org/wiki/18_%D8%A7%DA%AF%D8%B3%D8%AA', 'https://ur.wikipedia.org/wiki/11_%D8%B0%D9%88%D8%A7%D9%84%D8%AD%D8%AC%DB%81', 'https://ur.wikipedia.org/wiki/14_%D9%85%D8%AD%D8%B1%D9%85', 'https://ur.wikipedia.org/wiki/1241%D8%A1', 'https://ur.wikipedia.org/wiki/1909', 'https://ur.wikipedia.org/wiki/1340_%D9%83%D9%8A_%D8%AF%DB%81%D8%A7%D8%A6%D9%8A', 'https://ur.wikipedia.org/wiki/1338_(%D8%B9%D8%AF%D8%AF)', 'https://ur.wikipedia.org/wiki/2001_%D9%85%DB%8C%DA%BA_%D9%BE%D8%A7%DA%A9%D8%B3%D8%AA%D8%A7%D9%86', 'https://ur.wikipedia.org/wiki/1167_(%D8%B9%D8%AF%D8%AF)', 'https://ur.wikipedia.org/wiki/11_%D8%B5%D9%81%D8%B1', 'https://ur.wikipedia.org/wiki/1372_(%D8%B9%D8%AF%D8%AF)', 'https://ur.wikipedia.org/wiki/1721%D8%A1', 'https://ur.wikipedia.org/wiki/1_%D9%86%D8%A7%D8%A6%D9%B9_(%D9%81%D9%84%D9%85)', 'https://ur.wikipedia.org/wiki/1860_%D9%83%D9%8A_%D8%AF%DB%81%D8%A7%D8%A6%D9%8A', 'https://ur.wikipedia.org/wiki/1976_%DA%AF%D8%B1%D9%85%D8%A7%D8%A6%DB%8C_%D8%A7%D9%88%D9%84%D9%85%D9%BE%DA%A9%D8%B3', 'https://ur.wikipedia.org/wiki/1316%D8%A1', 'https://ur.wikipedia.org/wiki/1982', 'https://ur.wikipedia.org/wiki/1169%DA%BE', 'https://ur.wikipedia.org/wiki/1793%D8%A1', 'https://ur.wikipedia.org/wiki/1878%D8%A1', 'https://ur.wikipedia.org/wiki/188%DA%BE', 'https://ur.wikipedia.org/wiki/1939_(%D8%B9%D8%AF%D8%AF)', 'https://ur.wikipedia.org/wiki/1862', 'https://ur.wikipedia.org/wiki/1657_(%D8%B9%D8%AF%D8%AF)', 'https://ur.wikipedia.org/wiki/1996%D8%A1_%DA%AF%D8%B1%D9%85%D8%A7%D8%A6%D9%8A_%D8%A7%D9%88%D9%84%D9%85%D9%BE%D9%83%D8%B3', 'https://ur.wikipedia.org/wiki/1619_(%D8%B9%D8%AF%D8%AF)', 'https://ur.wikipedia.org/wiki/1180%D8%A1_%DA%A9%DB%8C_%D8%AF%DB%81%D8%A7%D8%A6%DB%8C', 'https://ur.wikipedia.org/wiki/1512_(%D8%B9%D8%AF%D8%AF)', 'https://ur.wikipedia.org/wiki/1546', 'https://ur.wikipedia.org/wiki/1954%D8%A1', 'https://ur.wikipedia.org/wiki/1786%D8%A1', 'https://ur.wikipedia.org/wiki/141', 'https://ur.wikipedia.org/wiki/1584%D8%A1', 'https://ur.wikipedia.org/wiki/1912_(%D8%B9%D8%AF%D8%AF)', 'https://ur.wikipedia.org/wiki/1655', 'https://ur.wikipedia.org/wiki/10_%D8%AC%D9%85%D8%A7%D8%AF%D9%8A_%D8%A7%D9%84%D8%AB%D8%A7%D9%86%D9%8A', 'https://ur.wikipedia.org/wiki/1137%D8%A1', 'https://ur.wikipedia.org/wiki/1908_%DA%AF%D8%B1%D9%85%D8%A7%D8%A6%D9%8A_%D8%A7%D9%88%D9%84%D9%85%D9%BE%D9%83%D8%B3_%D9%83%DB%92_%D9%85%D9%8A%D8%AF%D8%A7%D9%86', 'https://ur.wikipedia.org/wiki/1083_(%D8%B9%D8%AF%D8%AF)', 'https://ur.wikipedia.org/wiki/1709', 'https://ur.wikipedia.org/wiki/1115_(%D8%B9%D8%AF%D8%AF)', 'https://ur.wikipedia.org/wiki/1551%D8%A1', 'https://ur.wikipedia.org/wiki/1951_%D9%85%DB%8C%DA%BA_%D9%BE%D8%A7%DA%A9%D8%B3%D8%AA%D8%A7%D9%86', 'https://ur.wikipedia.org/wiki/1182', 'https://ur.wikipedia.org/wiki/1060_(%D8%B9%D8%AF%D8%AF)', 'https://ur.wikipedia.org/wiki/1539%D8%A1', 'https://ur.wikipedia.org/wiki/16_%D8%A7%D9%83%D8%AA%D9%88%D8%A8%D8%B1', 'https://ur.wikipedia.org/wiki/189%DA%BE', 'https://ur.wikipedia.org/wiki/1336', 'https://ur.wikipedia.org/wiki/1780', 'https://ur.wikipedia.org/wiki/10_%D8%AC%D9%86%D9%88%D8%B1%D9%8A', 'https://ur.wikipedia.org/wiki/18_%D8%AC%D9%85%D8%A7%D8%AF%D9%8A_%D8%A7%D9%84%D8%A7%D9%88%D9%84', 'https://ur.wikipedia.org/wiki/1438_(%D8%B9%D8%AF%D8%AF)', 'https://ur.wikipedia.org/wiki/1650_%DA%A9%DB%8C_%D8%AF%DB%81%D8%A7%D8%A6%DB%8C', 'https://ur.wikipedia.org/wiki/1210_(%D8%B9%D8%AF%D8%AF)', 'https://ur.wikipedia.org/wiki/1968%D8%A1_%DA%AF%D8%B1%D9%85%D8%A7%D8%A6%DB%8C_%D8%A7%D9%88%D9%84%D9%85%D9%BE%DA%A9%D8%B3', 'https://ur.wikipedia.org/wiki/1498', 'https://ur.wikipedia.org/wiki/16_%D8%B1%D8%A8%D9%8A%D8%B9_%D8%A7%D9%84%D8%AB%D8%A7%D9%86%D9%8A', 'https://ur.wikipedia.org/wiki/15_%D8%AC%D9%85%D8%A7%D8%AF%DB%8C_%D8%A7%D9%84%D8%AB%D8%A7%D9%86%DB%8C', 'https://ur.wikipedia.org/wiki/1970_%D8%A8%DA%BE%D9%88%D9%84%D8%A7_%D8%B3%D8%A7%D8%A6%DB%8C%DA%A9%D9%84%D9%88%D9%86', 'https://ur.wikipedia.org/wiki/1_%D8%AF%D8%B3%D9%85%D8%A8%D8%B1%DB%92_%D8%8C_%D8%B1%D9%88%D9%85%D8%A7%D9%86%D9%8A%DB%81', 'https://ur.wikipedia.org/wiki/165', 'https://ur.wikipedia.org/wiki/18_%D8%B4%D8%B9%D8%A8%D8%A7%D9%86', 'https://ur.wikipedia.org/wiki/1291%D8%A1', 'https://ur.wikipedia.org/wiki/1840_%D9%83%D9%8A_%D8%AF%DB%81%D8%A7%D8%A6%D9%8A', 'https://ur.wikipedia.org/wiki/1075%DA%BE', 'https://ur.wikipedia.org/wiki/1477', 'https://ur.wikipedia.org/wiki/1504', 'https://ur.wikipedia.org/wiki/2002_%DA%A9%D8%B1%D8%A7%DA%86%DB%8C_%D8%A8%D8%B3_%D8%A8%D9%85_%D8%AF%DA%BE%D9%85%D8%A7%DA%A9%D8%A7', 'https://ur.wikipedia.org/wiki/1157%DA%BE', 'https://ur.wikipedia.org/wiki/1124_(%D8%B9%D8%AF%D8%AF)', 'https://ur.wikipedia.org/wiki/1831_(%D8%B9%D8%AF%D8%AF)', 'https://ur.wikipedia.org/wiki/1930_%D9%81%D9%8A%D9%81%D8%A7_%D8%B9%D8%A7%D9%84%D9%85%D9%8A_%D9%83%D9%BE', 'https://ur.wikipedia.org/wiki/1917_(%D8%B9%D8%AF%D8%AF)', 'https://ur.wikipedia.org/wiki/1_%D8%B1%D8%A8%DB%8C%D8%B9_%D8%A7%D9%84%D8%A7%D9%88%D9%84', 'https://ur.wikipedia.org/wiki/1937%D8%A1_%D9%83%DB%92_%D8%A7%D9%86%D8%AA%D8%AE%D8%A7%D8%A8%D8%A7%D8%AA', 'https://ur.wikipedia.org/wiki/1994', 'https://ur.wikipedia.org/wiki/1613%D8%A1', 'https://ur.wikipedia.org/wiki/1750_%D9%83%D9%8A_%D8%AF%DB%81%D8%A7%D8%A6%D9%8A', 'https://ur.wikipedia.org/wiki/1200%D8%A1_%D9%83%D9%8A_%D8%AF%DB%81%D8%A7%D8%A6%D9%8A', 'https://ur.wikipedia.org/wiki/12', 'https://ur.wikipedia.org/wiki/14%D8%A7%D9%BE%D8%B1%DB%8C%D9%84', 'https://ur.wikipedia.org/wiki/107', 'https://ur.wikipedia.org/wiki/1172_(%D8%B9%D8%AF%D8%AF)', 'https://ur.wikipedia.org/wiki/1659%D8%A1', 'https://ur.wikipedia.org/wiki/123_(%D8%B9%D8%AF%D8%AF)', 'https://ur.wikipedia.org/wiki/1940_(%D8%B9%D8%AF%D8%AF)', 'https://ur.wikipedia.org/wiki/1286', 'https://ur.wikipedia.org/wiki/1919', 'https://ur.wikipedia.org/wiki/1919_(%D8%B9%D8%AF%D8%AF)', 'https://ur.wikipedia.org/wiki/1163', 'https://ur.wikipedia.org/wiki/1690', 'https://ur.wikipedia.org/wiki/1946_(%D8%B9%D8%AF%D8%AF)', 'https://ur.wikipedia.org/wiki/179%D8%A1', 'https://ur.wikipedia.org/wiki/1696_%DB%81%D9%86%D8%AF%D9%88%D8%B3%D8%AA%D8%A7%D9%86_%D9%85%DB%8C%DA%BA', 'https://ur.wikipedia.org/wiki/10_(%D8%B6%D8%AF_%D8%A7%D8%A8%DB%81%D8%A7%D9%85)', 'https://ur.wikipedia.org/wiki/1515', 'https://ur.wikipedia.org/wiki/1843', 'https://ur.wikipedia.org/wiki/1371%D8%A1', 'https://ur.wikipedia.org/wiki/1488', 'https://ur.wikipedia.org/wiki/1747%D8%A1', 'https://ur.wikipedia.org/wiki/1579%D8%A1', 'https://ur.wikipedia.org/wiki/1504_%DB%81%D9%86%D8%AF%D9%88%D8%B3%D8%AA%D8%A7%D9%86_%D9%85%D9%8A%DA%BA', 'https://ur.wikipedia.org/wiki/1085%D8%A1', 'https://ur.wikipedia.org/wiki/1098%D8%A1', 'https://ur.wikipedia.org/wiki/1094%DA%BE', 'https://ur.wikipedia.org/wiki/1197%D8%A1', 'https://ur.wikipedia.org/wiki/1900%D8%A1_%DA%A9%DB%8C_%D8%AF%DB%81%D8%A7%D8%A6%DB%8C', 'https://ur.wikipedia.org/wiki/1057_(%D8%B9%D8%AF%D8%AF)', 'https://ur.wikipedia.org/wiki/1118%D8%A1', 'https://ur.wikipedia.org/wiki/175%DA%BE', 'https://ur.wikipedia.org/wiki/173_(%D8%B9%D8%AF%D8%AF)', 'https://ur.wikipedia.org/wiki/1180', 'https://ur.wikipedia.org/wiki/1980%D8%A1_%DA%A9%DB%8C_%D8%AF%DB%81%D8%A7%D8%A6%DB%8C', 'https://ur.wikipedia.org/wiki/1832', 'https://ur.wikipedia.org/wiki/1996', 'https://ur.wikipedia.org/wiki/1269', 'https://ur.wikipedia.org/wiki/1584', 'https://ur.wikipedia.org/wiki/1500', 'https://ur.wikipedia.org/wiki/1228', 'https://ur.wikipedia.org/wiki/1368_%D8%B9%D9%8A%D8%B3%D9%88%D9%8A_%D8%AA%D8%A7_1945_%D8%B9%D9%8A%D8%B3%D9%88%D9%8A', 'https://ur.wikipedia.org/wiki/109_(%D8%B9%D8%AF%D8%AF)', 'https://ur.wikipedia.org/wiki/1992', 'https://ur.wikipedia.org/wiki/1376%D8%A1', 'https://ur.wikipedia.org/wiki/1712%D8%A1', 'https://ur.wikipedia.org/wiki/1970_%D9%81%D9%8A%D9%81%D8%A7_%D8%B9%D8%A7%D9%84%D9%85%D9%8A_%D9%83%D9%BE', 'https://ur.wikipedia.org/wiki/1544_(%D8%B9%D8%AF%D8%AF)', 'https://ur.wikipedia.org/wiki/1569', 'https://ur.wikipedia.org/wiki/1996_%DA%AF%D8%B1%D9%85%D8%A7%D8%A6%D9%8A_%D8%A7%D9%88%D9%84%D9%85%D9%BE%D9%83%D8%B3', 'https://ur.wikipedia.org/wiki/1394%DA%BE', 'https://ur.wikipedia.org/wiki/126%D8%A1', 'https://ur.wikipedia.org/wiki/1573', 'https://ur.wikipedia.org/wiki/1352', 'https://ur.wikipedia.org/wiki/1470%D8%A1_%D9%83%D9%8A_%D8%AF%DB%81%D8%A7%D8%A6%D9%8A', 'https://ur.wikipedia.org/wiki/1145_(%D8%B9%D8%AF%D8%AF)', 'https://ur.wikipedia.org/wiki/11_%D8%AC%D9%85%D8%A7%D8%AF%D9%8A_%D8%A7%D9%84%D8%AB%D8%A7%D9%86%D9%8A', 'https://ur.wikipedia.org/wiki/14_%D8%AC%D9%85%D8%A7%D8%AF%DB%8C_%D8%A7%D9%84%D8%A7%D9%88%D9%84', 'https://simerg.com/literary-readings/on-the-imamat-and-ismailis-by-his-highness-the-aga-khan-the-ismaili-constitution-azim-nanji-and-abbas-hamdani/', 'https://ur.wikipedia.org/wiki/18_%D8%B0%D9%88%D8%A7%D9%84%D8%AD%D8%AC%DB%81', 'https://ur.wikipedia.org/wiki/1649_(%D8%B9%D8%AF%D8%AF)', 'https://ur.wikipedia.org/wiki/1061%DA%BE', 'https://ur.wikipedia.org/wiki/1569%D8%A1', 'https://ur.wikipedia.org/wiki/1078%DA%BE', 'https://ur.wikipedia.org/wiki/1224', 'https://ur.wikipedia.org/wiki/17_%D8%A7%D9%BE%D8%B1%DB%8C%D9%84', 'https://ur.wikipedia.org/wiki/1689', 'https://ur.wikipedia.org/wiki/1072_(%D8%B9%D8%AF%D8%AF)', 'https://ur.wikipedia.org/wiki/14%D8%A1', 'https://ur.wikipedia.org/wiki/1958_(%D8%B9%D8%AF%D8%AF)', 'https://ur.wikipedia.org/wiki/1846%D8%A1', 'https://ur.wikipedia.org/wiki/1806%D8%A1', 'https://ur.wikipedia.org/wiki/10%D9%81%D8%B1%D9%88%D8%B1%D9%8A', 'https://ur.wikipedia.org/wiki/1621%D8%A1', 'https://ur.wikipedia.org/wiki/1535', 'https://ur.wikipedia.org/wiki/1362%DA%BE', 'https://ur.wikipedia.org/wiki/1430%D8%A1_%DA%A9%DB%8C_%D8%AF%DB%81%D8%A7%D8%A6%DB%8C', 'https://ur.wikipedia.org/wiki/1425%DA%BE', 'https://ur.wikipedia.org/wiki/2001', 'https://ur.wikipedia.org/wiki/13_%D9%85%D8%A7%D8%B1%DA%86', 'https://ur.wikipedia.org/wiki/1412', 'https://ur.wikipedia.org/wiki/1345_(%D8%B9%D8%AF%D8%AF)', 'https://ur.wikipedia.org/wiki/1424%D8%A1', 'https://ur.wikipedia.org/wiki/140%D8%A1_%D9%83%D9%8A_%D8%AF%DB%81%D8%A7%D8%A6%D9%8A', 'https://ur.wikipedia.org/wiki/19_%D8%B1%D8%A8%D9%8A%D8%B9_%D8%A7%D9%84%D8%AB%D8%A7%D9%86%D9%8A', 'https://ur.wikipedia.org/wiki/1877%D8%A1', 'https://ur.wikipedia.org/wiki/1277%DA%BE', 'https://ur.wikipedia.org/wiki/1066', 'https://ur.wikipedia.org/wiki/14_%D8%A7%DA%AF%D8%B3%D8%AA', 'https://ur.wikipedia.org/wiki/116_(%D8%B9%D8%AF%D8%AF)', 'https://ur.wikipedia.org/wiki/1290_%DA%A9%DB%8C_%D8%AF%DB%81%D8%A7%D8%A6%DB%8C', 'https://ur.wikipedia.org/wiki/2001%D8%A1_%D9%85%DB%8C%DA%BA_%D9%BE%D8%A7%DA%A9%D8%B3%D8%AA%D8%A7%D9%86_%D9%85%DB%8C%DA%BA_%D8%AF%DB%81%D8%B4%D8%AA_%DA%AF%D8%B1%D8%AF%DB%8C', 'https://ur.wikipedia.org/wiki/11%D9%85%D8%A7%D8%B1%DA%86', 'https://ur.wikipedia.org/wiki/1270_%DA%A9%DB%8C_%D8%AF%DB%81%D8%A7%D8%A6%DB%8C', 'https://ur.wikipedia.org/wiki/2.0_(%D9%81%D9%84%D9%85)', 'https://ur.wikipedia.org/wiki/1204', 'https://ur.wikipedia.org/wiki/19_%D8%A7%DA%AF%D8%B3%D8%AA', 'https://ur.wikipedia.org/wiki/18_%D8%B0%D9%88%D8%A7%D9%84%D8%AD%D8%AC%DB%83', 'https://ur.wikipedia.org/wiki/148%D8%A1', 'https://ur.wikipedia.org/wiki/1323', 'https://ur.wikipedia.org/wiki/1734', 'https://ur.wikipedia.org/wiki/1781%D8%A1', 'https://ur.wikipedia.org/wiki/1_%D8%B1%D8%A8%DB%8C%D8%B9_%D8%A7%D9%84%D8%AB%D8%A7%D9%86%DB%8C', 'https://ur.wikipedia.org/wiki/18_%D9%85%D8%A6%D9%8A', 'https://ur.wikipedia.org/wiki/125%D8%A1', 'https://ur.wikipedia.org/wiki/1444_(%D8%B9%D8%AF%D8%AF)', 'https://ur.wikipedia.org/wiki/1180%D8%A1_%D9%83%D9%8A_%D8%AF%DB%81%D8%A7%D8%A6%D9%8A', 'https://ur.wikipedia.org/wiki/1565_(%D8%B9%D8%AF%D8%AF)', 'https://ur.wikipedia.org/wiki/1620%D8%A1_%D9%83%D9%8A_%D8%AF%DB%81%D8%A7%D8%A6%D9%8A', 'https://ur.wikipedia.org/wiki/1513', 'https://ur.wikipedia.org/wiki/1%D8%B5%D8%AF%DB%8C_%DB%81%D8%AC%D8%B1%DB%8C', 'https://ur.wikipedia.org/wiki/1302%DA%BE', 'https://ur.wikipedia.org/wiki/1424_(%D8%B9%D8%AF%D8%AF)', 'https://ur.wikipedia.org/wiki/1914_(%D8%B9%D8%AF%D8%AF)', 'https://ur.wikipedia.org/wiki/1148%D8%A1', 'https://ur.wikipedia.org/wiki/1621', 'https://ur.wikipedia.org/wiki/1880', 'https://ur.wikipedia.org/wiki/13%D9%86%D9%88%D9%85%D8%A8%D8%B1_%D9%8A%D9%88%D9%85_%D8%B4%DB%81%D8%AF%D8%A7%D8%A6%DB%92_%D8%A8%D9%84%D9%88%DA%86%D8%B3%D8%AA%D8%A7%D9%86', 'https://ur.wikipedia.org/wiki/2003_%D9%85%D9%8A%DA%BA_%D9%BE%D8%A7%D9%83%D8%B3%D8%AA%D8%A7%D9%86_%D9%85%D9%8A%DA%BA_%D8%AF%DB%81%D8%B4%D8%AA_%DA%AF%D8%B1%D8%AF%D9%8A_%D9%83%DB%92_%D9%88%D8%A7%D9%82%D8%B9%D8%A7%D8%AA', 'https://ur.wikipedia.org/wiki/1295_(%D8%B9%D8%AF%D8%AF)', 'https://ur.wikipedia.org/wiki/1868_(%D8%B9%D8%AF%D8%AF)', 'https://ur.wikipedia.org/wiki/1979_%D9%83%D8%B1%D9%83%D9%B9_%D8%B9%D8%A7%D9%84%D9%85%D9%8A_%D9%83%D9%BE_%D9%81%D8%A7%D8%A6%D9%86%D9%84', 'https://ur.wikipedia.org/wiki/2000%D9%85%D8%A8%D9%85', 'https://ur.wikipedia.org/wiki/1352_(%D8%B9%D8%AF%D8%AF)', 'https://ur.wikipedia.org/wiki/1993', 'https://ur.wikipedia.org/wiki/1_%DB%81%D8%AC%D8%B1%DB%8C', 'https://ur.wikipedia.org/wiki/1989_(%D8%B9%D8%AF%D8%AF)', 'https://ur.wikipedia.org/wiki/16_%D9%85%D8%A6%DB%8C', 'https://ur.wikipedia.org/wiki/1980%D8%A1_%DA%AF%D8%B1%D9%85%D8%A7%D8%A6%D9%8A_%D8%A7%D9%88%D9%84%D9%85%D9%BE%D9%83%D8%B3', 'https://ur.wikipedia.org/wiki/1200_%D9%83%D9%8A_%D8%AF%DB%81%D8%A7%D8%A6%D9%8A', 'https://ur.wikipedia.org/wiki/17_%D8%AC%D9%85%D8%A7%D8%AF%DB%8C_%D8%A7%D9%84%D8%AB%D8%A7%D9%86%DB%8C', 'http://mocas.home.sapo.pt/ngagecool.rar', 'https://ur.wikipedia.org/wiki/1293_(%D8%B9%D8%AF%D8%AF)', 'https://ur.wikipedia.org/wiki/1284%DA%BE', 'https://ur.wikipedia.org/wiki/1968', 'https://ur.wikipedia.org/wiki/1998_(%D8%B9%D8%AF%D8%AF)', 'https://ur.wikipedia.org/wiki/1360%D8%A1_%D9%83%D9%8A_%D8%AF%DB%81%D8%A7%D8%A6%D9%8A', 'https://ur.wikipedia.org/wiki/1720_%DA%A9%DB%8C_%D8%AF%DB%81%D8%A7%D8%A6%DB%8C', 'https://ur.wikipedia.org/wiki/1900_%DA%AF%D8%B1%D9%85%D8%A7%D8%A6%D9%8A_%D8%A7%D9%88%D9%84%D9%85%D9%BE%D9%83%D8%B3_%D9%83%DB%92_%D9%85%D9%8A%D8%AF%D8%A7%D9%86', 'https://ur.wikipedia.org/wiki/1787%D8%A1', 'https://ur.wikipedia.org/wiki/1507%D8%A1', 'https://ur.wikipedia.org/wiki/2003%D8%A1', 'https://ur.wikipedia.org/wiki/1093_(%D8%B9%D8%AF%D8%AF)', 'https://ur.wikipedia.org/wiki/1371%DA%BE', 'https://ur.wikipedia.org/wiki/13_%D8%A7%DA%AF%D8%B3%D8%AA', 'https://ur.wikipedia.org/wiki/1285%D8%A1', 'https://ur.wikipedia.org/wiki/1172', 'https://ur.wikipedia.org/wiki/1345', 'https://ur.wikipedia.org/wiki/1093%DA%BE', 'http://www.uisr.org.ua/news/36/83.html', 'https://ur.wikipedia.org/wiki/1956', 'https://ur.wikipedia.org/wiki/1058%DA%BE', 'https://ur.wikipedia.org/wiki/1484_(%D8%B9%D8%AF%D8%AF)', 'https://ur.wikipedia.org/wiki/1932%D8%A1_%DA%AF%D8%B1%D9%85%D8%A7%D8%A6%D9%8A_%D8%A7%D9%88%D9%84%D9%85%D9%BE%D9%83%D8%B3', 'https://ur.wikipedia.org/wiki/1966%D8%A1_%D9%81%DB%8C%D9%81%D8%A7_%D8%B9%D8%A7%D9%84%D9%85%DB%8C_%DA%A9%D9%BE', 'https://ur.wikipedia.org/wiki/1676', 'https://ur.wikipedia.org/wiki/1570%D8%A1_%DA%A9%DB%8C_%D8%AF%DB%81%D8%A7%D8%A6%DB%8C', 'https://ur.wikipedia.org/wiki/1115%D8%A1', 'https://ur.wikipedia.org/wiki/1216%DA%BE', 'https://ur.wikipedia.org/wiki/170%D8%A1_%DA%A9%DB%8C_%D8%AF%DB%81%D8%A7%D8%A6%DB%8C', 'https://ur.wikipedia.org/wiki/194', 'https://ur.wikipedia.org/wiki/1752%D8%A1', 'https://ur.wikipedia.org/wiki/193%DA%BE', 'https://ur.wikipedia.org/wiki/1410_(%D8%B9%D8%AF%D8%AF)', 'https://ur.wikipedia.org/wiki/1960_%D9%83%D9%8A_%D8%AF%DB%81%D8%A7%D8%A6%D9%8A', 'https://ur.wikipedia.org/wiki/117_(%D8%B9%D8%AF%D8%AF)', 'https://ur.wikipedia.org/wiki/1314_(%D8%B9%D8%AF%D8%AF)', 'https://ur.wikipedia.org/wiki/1144%DA%BE', 'https://ur.wikipedia.org/wiki/1837_(%D8%B9%D8%AF%D8%AF)', 'https://ur.wikipedia.org/wiki/198%D8%A1', 'https://ur.wikipedia.org/wiki/1892', 'https://ur.wikipedia.org/wiki/1141%D8%A1', 'https://ur.wikipedia.org/wiki/1374', 'https://ur.wikipedia.org/wiki/1617', 'https://ur.wikipedia.org/wiki/1947_%D9%83%D9%88%D8%B1%D9%86%DA%AF%D9%8A_%D9%83%D8%B1%D9%8A%D9%83_%DB%81%D9%88%D8%A7%D8%A6%D9%8A_%D8%AD%D8%A7%D8%AF%D8%AB%DB%81', 'https://ur.wikipedia.org/wiki/1502_(%D8%B9%D8%AF%D8%AF)', 'https://ur.wikipedia.org/wiki/1147', 'https://ur.wikipedia.org/wiki/1566_%DB%81%D9%86%D8%AF%D9%88%D8%B3%D8%AA%D8%A7%D9%86_%D9%85%DB%8C%DA%BA', 'https://ur.wikipedia.org/wiki/1442%D8%A1', 'https://ur.wikipedia.org/wiki/13_%D8%AC%D9%88%D9%84%D8%A7%D8%A6%D9%8A', 'https://ur.wikipedia.org/wiki/1532_(%D8%B9%D8%AF%D8%AF)', 'https://ur.wikipedia.org/wiki/1623_(%D8%B9%D8%AF%D8%AF)', 'https://ur.wikipedia.org/wiki/152%D8%A1', 'https://ur.wikipedia.org/wiki/1215', 'https://ur.wikipedia.org/wiki/152%DA%BE', 'https://ur.wikipedia.org/wiki/2002_(%D8%B9%D8%AF%D8%AF)', 'https://ur.wikipedia.org/wiki/2002%D8%A1_%D9%85%D9%8A%DA%BA_%D9%BE%D8%A7%D9%83%D8%B3%D8%AA%D8%A7%D9%86_%D9%85%D9%8A%DA%BA_%D8%AF%DB%81%D8%B4%D8%AA_%DA%AF%D8%B1%D8%AF%D9%8A_%D9%83%DB%92_%D9%88%D8%A7%D9%82%D8%B9%D8%A7%D8%AA', 'https://ur.wikipedia.org/wiki/1666', 'https://ur.wikipedia.org/wiki/1839_(%D8%B9%D8%AF%D8%AF)', 'https://ur.wikipedia.org/wiki/1158_(%D8%B9%D8%AF%D8%AF)', 'https://ur.wikipedia.org/wiki/1213%D8%A1', 'https://ur.wikipedia.org/wiki/1353_(%D8%B9%D8%AF%D8%AF)', 'https://ur.wikipedia.org/wiki/17_(%D8%B9%D8%AF%D8%AF)', 'https://ur.wikipedia.org/wiki/1141_(%D8%B9%D8%AF%D8%AF)', 'https://ur.wikipedia.org/wiki/121_(%D8%B9%D8%AF%D8%AF)', 'https://ur.wikipedia.org/wiki/1675_(%D8%B9%D8%AF%D8%AF)', 'https://ur.wikipedia.org/wiki/1386%D8%A1', 'https://ur.wikipedia.org/wiki/1766%D8%A1', 'https://ur.wikipedia.org/wiki/1536%D8%A1', 'https://ur.wikipedia.org/wiki/1594', 'https://ur.wikipedia.org/wiki/1358%D8%A1', 'https://ur.wikipedia.org/wiki/1442%DA%BE', 'https://ur.wikipedia.org/wiki/1350_%DA%A9%DB%8C_%D8%AF%DB%81%D8%A7%D8%A6%DB%8C', 'https://ur.wikipedia.org/wiki/1275%DA%BE', 'https://ur.wikipedia.org/wiki/156_(%D8%B9%D8%AF%D8%AF)', 'https://ur.wikipedia.org/wiki/1529_(%D8%B9%D8%AF%D8%AF)', 'https://ur.wikipedia.org/wiki/1840_%DA%A9%DB%8C_%D8%AF%DB%81%D8%A7%D8%A6%DB%8C', 'https://ur.wikipedia.org/wiki/1994_%D9%81%DB%8C%D9%81%D8%A7_%D8%B9%D8%A7%D9%84%D9%85%DB%8C_%DA%A9%D9%BE', 'https://ur.wikipedia.org/wiki/1976', 'https://ur.wikipedia.org/wiki/127_(%D8%B9%D8%AF%D8%AF)', 'https://ur.wikipedia.org/wiki/1999_%D9%83%D8%B1%D9%83%D9%B9_%D8%B9%D8%A7%D9%84%D9%85%D9%8A_%D9%83%D9%BE', 'https://ur.wikipedia.org/wiki/1250%D8%A1_%DA%A9%DB%8C_%D8%AF%DB%81%D8%A7%D8%A6%DB%8C', 'https://ur.wikipedia.org/wiki/19_%D8%B0%D9%88%D8%A7%D9%84%D9%82%D8%B9%D8%AF%DB%81', 'https://ur.wikipedia.org/wiki/1640_%DA%A9%DB%8C_%D8%AF%DB%81%D8%A7%D8%A6%DB%8C', 'https://ur.wikipedia.org/wiki/1287%DA%BE', 'https://ur.wikipedia.org/wiki/1376', 'https://ur.wikipedia.org/wiki/1207%DA%BE', 'https://ur.wikipedia.org/wiki/18_%D8%AF%D8%B3%D9%85%D8%A8%D8%B1', 'https://ur.wikipedia.org/wiki/1999', 'https://ur.wikipedia.org/wiki/18_%D8%B4%D9%88%D8%A7%D9%84', 'https://ur.wikipedia.org/wiki/1%D9%85%D8%A7%D8%B1%DA%86', 'https://ur.wikipedia.org/wiki/1342%DA%BE', 'https://ur.wikipedia.org/wiki/1405_(%D8%B9%D8%AF%D8%AF)', 'https://ur.wikipedia.org/wiki/1474', 'https://ur.wikipedia.org/wiki/1168_(%D8%B9%D8%AF%D8%AF)', 'https://ur.wikipedia.org/wiki/2003_%D9%85%D9%8A%DA%BA_%D9%BE%D8%A7%D9%83%D8%B3%D8%AA%D8%A7%D9%86', 'https://ur.wikipedia.org/wiki/1423_(%D8%B9%D8%AF%D8%AF)', 'https://ur.wikipedia.org/wiki/10_%D9%85%D9%8A%D9%B9%D8%B1_%D8%A7%D9%8A%D8%A6%D8%B1_%D8%B1%D8%A7%D8%A6%D9%81%D9%84', 'https://ur.wikipedia.org/wiki/1814_(%D8%B9%D8%AF%D8%AF)', 'https://ur.wikipedia.org/wiki/1764%D8%A1', 'https://ur.wikipedia.org/wiki/110', 'https://ur.wikipedia.org/wiki/1292%D8%A1', 'https://ur.wikipedia.org/wiki/1475_(%D8%B9%D8%AF%D8%AF)', 'https://ur.wikipedia.org/wiki/1357%DA%BE', 'https://ur.wikipedia.org/wiki/110%DA%BE', 'https://ur.wikipedia.org/wiki/1895_(%D8%B9%D8%AF%D8%AF)', 'https://ur.wikipedia.org/wiki/1879', 'https://ur.wikipedia.org/wiki/1354%DA%BE', 'https://ur.wikipedia.org/wiki/1129_(%D8%B9%D8%AF%D8%AF)', 'https://ur.wikipedia.org/wiki/1970_%D9%81%DB%8C%D9%81%D8%A7_%D8%B9%D8%A7%D9%84%D9%85%DB%8C_%DA%A9%D9%BE', 'https://ur.wikipedia.org/wiki/1825%D8%A1', 'https://ur.wikipedia.org/wiki/17%D8%AC%D9%86%D9%88%D8%B1%DB%8C', 'https://ur.wikipedia.org/wiki/1461%D8%A1', 'https://ur.wikipedia.org/wiki/143_(%D8%B9%D8%AF%D8%AF)', 'https://ur.wikipedia.org/wiki/1838%D8%A1', 'https://ur.wikipedia.org/wiki/1996_%DA%AF%D8%B1%D9%85%D8%A7%D8%A6%DB%8C_%D8%A7%D9%88%D9%84%D9%85%D9%BE%DA%A9%D8%B3', 'https://ur.wikipedia.org/wiki/1768_(%D8%B9%D8%AF%D8%AF)', 'https://ur.wikipedia.org/wiki/1773', 'https://ur.wikipedia.org/wiki/1305%D8%A1', 'https://ur.wikipedia.org/wiki/191_(%D8%B9%D8%AF%D8%AF)', 'https://ur.wikipedia.org/wiki/1249%D8%A1', 'https://ur.wikipedia.org/wiki/2002%D8%A1_%D9%83%D8%B1%D8%A7%DA%86%D9%8A_%D8%A8%D8%B3_%D9%BE%D8%B1_%D8%A8%D9%85_%D8%AD%D9%85%D9%84%DB%81', 'https://ur.wikipedia.org/wiki/1337%D8%A1', 'https://ur.wikipedia.org/wiki/122', 'https://ur.wikipedia.org/wiki/1857_%D9%83%D9%8A_%D8%AC%D9%86%DA%AF_%D8%A7%D8%B2%D8%A7%D8%AF%D9%8A', 'https://ur.wikipedia.org/wiki/1980%D8%A1', 'https://ur.wikipedia.org/wiki/1958%D8%A1_%D9%81%DB%8C%D9%81%D8%A7_%D8%B9%D8%A7%D9%84%D9%85%DB%8C_%DA%A9%D9%BE', 'https://ur.wikipedia.org/wiki/1918', 'https://ur.wikipedia.org/wiki/1080%D8%A1', 'http://www.hingol.comhttp://www.wildlifeofpakistan.com/ProtectedAreasofPakistan/Hingol_NP.htm', 'https://ur.wikipedia.org/wiki/1322%D8%A1', 'https://ur.wikipedia.org/wiki/1248%D8%A1', 'https://ur.wikipedia.org/wiki/1408%DA%BE', 'https://ur.wikipedia.org/wiki/1383', 'https://ur.wikipedia.org/wiki/1552', 'https://ur.wikipedia.org/wiki/11_%D8%B4%D8%B9%D8%A8%D8%A7%D9%86', 'https://ur.wikipedia.org/wiki/1116%DA%BE', 'https://ur.wikipedia.org/wiki/1%D8%B5%D8%AF%D9%8A_%DB%81%D8%AC%D8%B1%D9%8A', 'https://ur.wikipedia.org/wiki/10_%D8%B0%D9%88%D8%A7%D9%84%D8%AD%D8%AC%DB%83', 'https://ur.wikipedia.org/wiki/1462_(%D8%B9%D8%AF%D8%AF)', 'https://ur.wikipedia.org/wiki/1180_%DA%A9%DB%8C_%D8%AF%DB%81%D8%A7%D8%A6%DB%8C', 'https://ur.wikipedia.org/wiki/1183_(%D8%B9%D8%AF%D8%AF)', 'https://ur.wikipedia.org/wiki/1316%DA%BE', 'https://ur.wikipedia.org/wiki/11_%D8%A7%D9%83%D8%AA%D9%88%D8%A8%D8%B1', 'https://ur.wikipedia.org/wiki/1530_%DA%A9%DB%8C_%D8%AF%DB%81%D8%A7%D8%A6%DB%8C', 'https://ur.wikipedia.org/wiki/1900_%DA%AF%D8%B1%D9%85%D8%A7%D8%A6%DB%8C_%D8%A7%D9%88%D9%84%D9%85%D9%BE%DA%A9%D8%B3', 'https://ur.wikipedia.org/wiki/1309%DA%BE', 'https://ur.wikipedia.org/wiki/1503%D8%A1', 'https://ur.wikipedia.org/wiki/179', 'https://ur.wikipedia.org/wiki/1349_(%D8%B9%D8%AF%D8%AF)', 'https://ur.wikipedia.org/wiki/181', 'https://ur.wikipedia.org/wiki/1601_(%D8%B9%D8%AF%D8%AF)', 'https://ur.wikipedia.org/wiki/1413', 'https://ur.wikipedia.org/wiki/1411%DA%BE', 'https://ur.wikipedia.org/wiki/15_%D8%AC%D9%86%D9%88%D8%B1%D9%8A', 'https://ur.wikipedia.org/wiki/1629', 'https://ur.wikipedia.org/wiki/118_(%D8%B9%D8%AF%D8%AF)', 'https://ur.wikipedia.org/wiki/1763', 'https://ur.wikipedia.org/wiki/15_%D8%AC%D9%85%D8%A7%D8%AF%D9%8A_%D8%A7%D9%84%D8%A7%D9%88%D9%84', 'https://ur.wikipedia.org/wiki/1540_(%D8%B9%D8%AF%D8%AF)', 'https://ur.wikipedia.org/wiki/13_(%D8%B6%D8%AF_%D8%A7%D8%A8%DB%81%D8%A7%D9%85)', 'https://ur.wikipedia.org/wiki/1907%D8%A1', 'https://ur.wikipedia.org/wiki/1501', 'https://ur.wikipedia.org/wiki/1626%D8%A1', 'https://ur.wikipedia.org/wiki/1875%D8%A1', 'https://ur.wikipedia.org/wiki/1492', 'https://ur.wikipedia.org/wiki/1530_%D9%83%D9%8A_%D8%AF%DB%81%D8%A7%D8%A6%D9%8A', 'https://ur.wikipedia.org/wiki/1460_%DA%A9%DB%8C_%D8%AF%DB%81%D8%A7%D8%A6%DB%8C', 'https://ur.wikipedia.org/wiki/1103%D8%A1', 'https://ur.wikipedia.org/wiki/19', 'https://ur.wikipedia.org/wiki/1%D8%A7%D9%8A%D8%B3_%D8%AC%D9%8A_%D8%A7%D9%8A%D9%85%D8%8C_%D8%A8%DA%BE%D8%A7%D8%B1%D8%AA', 'https://ur.wikipedia.org/wiki/1689_(%D8%B9%D8%AF%D8%AF)', 'https://ur.wikipedia.org/wiki/1170%DA%BE', 'https://ur.wikipedia.org/wiki/17_%D8%A7%D9%BE%D8%B1%D9%8A%D9%84', 'https://ur.wikipedia.org/wiki/1240%DA%BE', 'https://ur.wikipedia.org/wiki/1797', 'https://ur.wikipedia.org/wiki/1806%D8%A1_%DB%81%D9%86%D8%AF%D9%88%D8%B3%D8%AA%D8%A7%D9%86_%D9%85%DB%8C%DA%BA', 'https://ur.wikipedia.org/wiki/1234%D8%A1', 'https://ur.wikipedia.org/wiki/1805_(%D8%B9%D8%AF%D8%AF)', 'https://ur.wikipedia.org/wiki/14_%D8%AC%D9%86%D9%88%D8%B1%DB%8C', 'https://ur.wikipedia.org/wiki/1104_(%D8%B9%D8%AF%D8%AF)', 'https://ur.wikipedia.org/wiki/1517_(%D8%B9%D8%AF%D8%AF)', 'https://ur.wikipedia.org/wiki/1175', 'https://ur.wikipedia.org/wiki/1383_(%D8%B9%D8%AF%D8%AF)', 'https://ur.wikipedia.org/wiki/1365', 'https://ur.wikipedia.org/wiki/1952_%DA%AF%D8%B1%D9%85%D8%A7%D8%A6%DB%8C_%D8%A7%D9%88%D9%84%D9%85%D9%BE%DA%A9%D8%B3', 'https://ur.wikipedia.org/wiki/1402%DA%BE', 'https://ur.wikipedia.org/wiki/1863%D8%A1', 'https://ur.wikipedia.org/wiki/1059%D8%A1', 'https://ur.wikipedia.org/wiki/1299', 'https://ur.wikipedia.org/wiki/1993_(%D8%B9%D8%AF%D8%AF)', 'https://ur.wikipedia.org/wiki/1801%D8%A1_%DB%81%D9%86%D8%AF%D9%88%D8%B3%D8%AA%D8%A7%D9%86_%D9%85%D9%8A%DA%BA', 'https://ur.wikipedia.org/wiki/111%DA%BE', 'https://ur.wikipedia.org/wiki/1898', 'https://ur.wikipedia.org/wiki/1660%D8%A1_%D9%83%D9%8A_%D8%AF%DB%81%D8%A7%D8%A6%D9%8A', 'https://chakwal.wordpress.com/contacts/police-department/', 'https://ur.wikipedia.org/wiki/1570%D8%A1_%D9%83%D9%8A_%D8%AF%DB%81%D8%A7%D8%A6%D9%8A', 'https://ur.wikipedia.org/wiki/1611', 'https://ur.wikipedia.org/wiki/1903%D8%A1', 'https://ur.wikipedia.org/wiki/1842_(%D8%B9%D8%AF%D8%AF)', 'https://ur.wikipedia.org/wiki/1260', 'https://ur.wikipedia.org/wiki/151%DA%BE', 'https://ur.wikipedia.org/wiki/1817_(%D8%B9%D8%AF%D8%AF)', 'https://ur.wikipedia.org/wiki/199%DA%BE', 'https://ur.wikipedia.org/wiki/1421', 'https://ur.wikipedia.org/wiki/1955%D8%A1', 'https://ur.wikipedia.org/wiki/1762', 'https://ur.wikipedia.org/wiki/1760_%DA%A9%DB%8C_%D8%AF%DB%81%D8%A7%D8%A6%DB%8C', 'https://ur.wikipedia.org/wiki/1424', 'https://ur.wikipedia.org/wiki/107%DA%BE', 'https://ur.wikipedia.org/wiki/1780_%DA%A9%DB%8C_%D8%AF%DB%81%D8%A7%D8%A6%DB%8C', 'https://ur.wikipedia.org/wiki/1661%D8%A1', 'https://ur.wikipedia.org/wiki/1406_(%D8%B9%D8%AF%D8%AF)', 'https://ur.wikipedia.org/wiki/1369', 'https://ur.wikipedia.org/wiki/1290_%D9%83%D9%8A_%D8%AF%DB%81%D8%A7%D8%A6%D9%8A', 'https://ur.wikipedia.org/wiki/1589', 'https://ur.wikipedia.org/wiki/1560_(%D8%B9%D8%AF%D8%AF)', 'https://ur.wikipedia.org/wiki/1580%D8%A1', 'https://ur.wikipedia.org/wiki/1180%D8%A1', 'https://ur.wikipedia.org/wiki/1856%D8%A1_%DB%81%D9%86%D8%AF%D9%88%D8%B3%D8%AA%D8%A7%D9%86_%D9%85%DB%8C%DA%BA', 'https://ur.wikipedia.org/wiki/1240_(%D8%B9%D8%AF%D8%AF)', 'https://ur.wikipedia.org/wiki/1368_(%D8%B9%D8%AF%D8%AF)', 'https://ur.wikipedia.org/wiki/1561%D8%A1', 'https://ur.wikipedia.org/wiki/1529', 'https://ur.wikipedia.org/wiki/1916%D8%B3%D8%A8%D9%85', 'https://ur.wikipedia.org/wiki/1461_(%D8%B9%D8%AF%D8%AF)', 'https://ur.wikipedia.org/wiki/1418%DA%BE', 'https://ur.wikipedia.org/wiki/1920_%DA%AF%D8%B1%D9%85%D8%A7%D8%A6%DB%8C_%D8%A7%D9%88%D9%84%D9%85%D9%BE%DA%A9%D8%B3', 'https://ur.wikipedia.org/wiki/1616', 'https://ur.wikipedia.org/wiki/1542_(%D8%B9%D8%AF%D8%AF)', 'https://ur.wikipedia.org/wiki/1984%D8%A1_%DA%A9%DB%92_%D8%B3%DA%A9%DA%BE_%D9%85%D8%AE%D8%A7%D9%84%D9%81_%D9%81%D8%B3%D8%A7%D8%AF%D8%A7%D8%AA', 'https://ur.wikipedia.org/wiki/1902%D8%A1', 'http://www.theismaili.org/his-highness-aga-khan', 'https://ur.wikipedia.org/wiki/1794%D8%A1', 'https://ur.wikipedia.org/wiki/1355%DA%BE', 'https://ur.wikipedia.org/wiki/1102', 'https://ur.wikipedia.org/wiki/1400%D8%A1', 'https://ur.wikipedia.org/wiki/17_%D8%AF%D8%B3%D9%85%D8%A8%D8%B1', 'https://ur.wikipedia.org/wiki/1074_(%D8%B9%D8%AF%D8%AF)', 'https://ur.wikipedia.org/wiki/1372%DA%BE', 'https://ur.wikipedia.org/wiki/160_%D9%83%D9%8A_%D8%AF%DB%81%D8%A7%D8%A6%D9%8A', 'https://ur.wikipedia.org/wiki/1385%DA%BE', 'https://ur.wikipedia.org/wiki/1683_(%D8%B9%D8%AF%D8%AF)', 'http://www.youtube.com/watch?v=7NYRVsKAkFM&feature=related', 'https://ur.wikipedia.org/wiki/13_%D9%83%D9%8A_%DA%AF%D9%86%D8%AA%D9%8A_%D9%83%D8%A7_%D8%AE%D9%88%D9%81', 'https://ur.wikipedia.org/wiki/16_%D8%A7%DA%A9%D8%AA%D9%88%D8%A8%D8%B1', 'https://ur.wikipedia.org/wiki/1774%D8%A1', 'https://ur.wikipedia.org/wiki/1911%D8%A1_%DA%A9%D8%A7_%D8%A7%D9%86%D9%82%D9%84%D8%A7%D8%A8', 'https://ur.wikipedia.org/wiki/1206_%DB%81%D9%86%D8%AF%D9%88%D8%B3%D8%AA%D8%A7%D9%86_%D9%85%D9%8A%DA%BA', 'https://ur.wikipedia.org/wiki/14%D8%A7%D9%BE%D8%B1%D9%8A%D9%84', 'https://ur.wikipedia.org/wiki/1310%D8%A1_%D9%83%D9%8A_%D8%AF%DB%81%D8%A7%D8%A6%D9%8A', 'https://ur.wikipedia.org/wiki/1310_%D9%83%D9%8A_%D8%AF%DB%81%D8%A7%D8%A6%D9%8A', 'https://ur.wikipedia.org/wiki/1410%D8%A1', 'https://ur.wikipedia.org/wiki/1_%D8%AF%D8%B3%D9%85%D8%A8%D8%B1%DB%92_%D8%8C_%D8%B1%D9%88%D9%85%D8%A7%D9%86%DB%8C%DB%81', 'https://ur.wikipedia.org/wiki/137%D8%A1', 'https://ur.wikipedia.org/wiki/1325', 'https://ur.wikipedia.org/wiki/1350%D8%A1_%DA%A9%DB%8C_%D8%AF%DB%81%D8%A7%D8%A6%DB%8C', 'https://ur.wikipedia.org/wiki/1797_(%D8%B9%D8%AF%D8%AF)', 'https://ur.wikipedia.org/wiki/1126', 'https://ur.wikipedia.org/wiki/1506', 'https://ur.wikipedia.org/wiki/1641', 'https://ur.wikipedia.org/wiki/10_%D9%85%D8%AD%D8%B1%D9%85', 'https://ur.wikipedia.org/wiki/1911', 'https://ur.wikipedia.org/wiki/1290%DA%BE', 'https://ur.wikipedia.org/wiki/1516', 'https://ur.wikipedia.org/wiki/16%D9%86%D8%A8%D9%88%DB%8C_%D9%85%DB%8C%DA%BA_%D8%B3%DB%8C%D8%B1%D8%AA_%D9%86%D8%A8%D9%88%DB%8C', 'https://ur.wikipedia.org/wiki/1913', 'https://ur.wikipedia.org/wiki/1177_(%D8%B9%D8%AF%D8%AF)', 'https://ur.wikipedia.org/wiki/1287', 'https://ur.wikipedia.org/wiki/1140%DA%BE', 'https://ur.wikipedia.org/wiki/1337%DA%BE', 'https://ur.wikipedia.org/wiki/1060%D8%A1', 'https://ur.wikipedia.org/wiki/1300_%DA%A9%DB%8C_%D8%AF%DB%81%D8%A7%D8%A6%DB%8C', 'https://ur.wikipedia.org/wiki/1697_(%D8%B9%D8%AF%D8%AF)', 'https://ur.wikipedia.org/wiki/1393_(%D8%B9%D8%AF%D8%AF)', 'https://ur.wikipedia.org/wiki/1733%D8%A1', 'https://ur.wikipedia.org/wiki/117%D8%A1', 'https://ur.wikipedia.org/wiki/173%D8%A1', 'https://ur.wikipedia.org/wiki/1303_(%D8%B9%D8%AF%D8%AF)', 'https://ur.wikipedia.org/wiki/154', 'https://ur.wikipedia.org/wiki/1258%DA%BE', 'https://ur.wikipedia.org/wiki/1977', 'https://ur.wikipedia.org/wiki/1369_(%D8%B9%D8%AF%D8%AF)', 'https://ur.wikipedia.org/wiki/1119%D8%A1', 'https://ur.wikipedia.org/wiki/1344', 'https://ur.wikipedia.org/wiki/1830%D8%A1', 'https://ur.wikipedia.org/wiki/1900%D8%A1_%DA%AF%D8%B1%D9%85%D8%A7%D8%A6%DB%8C_%D8%A7%D9%88%D9%84%D9%85%D9%BE%DA%A9%D8%B3', 'https://ur.wikipedia.org/wiki/1239%D8%A1', 'https://ur.wikipedia.org/wiki/1120%DA%BE', 'https://ur.wikipedia.org/wiki/1320', 'https://ur.wikipedia.org/wiki/1916_(%D8%B9%D8%AF%D8%AF)', 'https://ur.wikipedia.org/wiki/1247_(%D8%B9%D8%AF%D8%AF)', 'https://ur.wikipedia.org/wiki/1390_%DA%A9%DB%8C_%D8%AF%DB%81%D8%A7%D8%A6%DB%8C', 'https://ur.wikipedia.org/wiki/187_(%D8%B9%D8%AF%D8%AF)', 'https://ur.wikipedia.org/wiki/18_%D8%B1%D8%A8%D9%8A%D8%B9_%D8%A7%D9%84%D8%AB%D8%A7%D9%86%D9%8A', 'https://ur.wikipedia.org/wiki/1221', 'https://ur.wikipedia.org/wiki/110%D9%85%D9%88%D8%B1%DA%AF%D9%86', 'https://ur.wikipedia.org/wiki/1433_(%D8%B9%D8%AF%D8%AF)', 'https://ur.wikipedia.org/wiki/1900_%DA%AF%D8%B1%D9%85%D8%A7%D8%A6%D9%8A_%D8%A7%D9%88%D9%84%D9%85%D9%BE%D9%83%D8%B3', 'https://ur.wikipedia.org/wiki/1926', 'https://ur.wikipedia.org/wiki/1350_(%D8%B9%D8%AF%D8%AF)', 'https://ur.wikipedia.org/wiki/190%D8%A1', 'https://ur.wikipedia.org/wiki/1256_(%D8%B9%D8%AF%D8%AF)', 'https://ur.wikipedia.org/wiki/1440%DA%BE', 'http://www.jadeedmarkaz.com/epaper-urdu-may-22-2016/', 'https://ur.wikipedia.org/wiki/1823_(%D8%B9%D8%AF%D8%AF)', 'https://ur.wikipedia.org/wiki/1487%D8%A1', 'https://ur.wikipedia.org/wiki/1_%D8%B4%D8%B9%D8%A8%D8%A7%D9%86', 'https://ur.wikipedia.org/wiki/12_%D9%85%D8%A7%D8%B1%DA%86', 'https://ur.wikipedia.org/wiki/1277_(%D8%B9%D8%AF%D8%AF)', 'https://ur.wikipedia.org/wiki/1950%D8%A1_%D9%83%D9%8A_%D8%AF%DB%81%D8%A7%D8%A6%D9%8A', 'https://ur.wikipedia.org/wiki/1630', 'https://ur.wikipedia.org/wiki/1960%D8%A1_%DA%AF%D8%B1%D9%85%D8%A7%D8%A6%D9%8A_%D8%A7%D9%88%D9%84%D9%85%D9%BE%D9%83%D8%B3', 'https://ur.wikipedia.org/wiki/179%DA%BE', 'https://ur.wikipedia.org/wiki/1103%DA%BE', 'https://ur.wikipedia.org/wiki/1299_(%D8%B9%D8%AF%D8%AF)', 'https://ur.wikipedia.org/wiki/1627%D8%A1', 'https://ur.wikipedia.org/wiki/1520%D8%A1_%D9%83%D9%8A_%D8%AF%DB%81%D8%A7%D8%A6%D9%8A', 'https://ur.wikipedia.org/wiki/1944', 'https://ur.wikipedia.org/wiki/1681_(%D8%B9%D8%AF%D8%AF)', 'https://ur.wikipedia.org/wiki/1558_(%D8%B9%D8%AF%D8%AF)', 'https://ur.wikipedia.org/wiki/1172%D8%A1', 'https://ur.wikipedia.org/wiki/196_(%D8%B9%D8%AF%D8%AF)', 'https://ur.wikipedia.org/wiki/12_%D8%A7%D9%BE%D8%B1%D9%8A%D9%84', 'https://ur.wikipedia.org/wiki/1931', 'https://ur.wikipedia.org/wiki/1580', 'https://ur.wikipedia.org/wiki/1630_(%D8%B9%D8%AF%D8%AF)', 'https://ur.wikipedia.org/wiki/2000_%D9%83%D9%8A_%D8%AF%DB%81%D8%A7%D8%A6%D9%8A', 'https://ur.wikipedia.org/wiki/1801', 'https://ur.wikipedia.org/wiki/1852%D8%A1', 'https://ur.wikipedia.org/wiki/1611_(%D8%B9%D8%AF%D8%AF)', 'https://ur.wikipedia.org/wiki/1691', 'https://ur.wikipedia.org/wiki/1280%D8%A1_%D9%83%D9%8A_%D8%AF%DB%81%D8%A7%D8%A6%D9%8A', 'http://www.agnosticuniverse.org', 'https://ur.wikipedia.org/wiki/1800_(%D8%B9%D8%AF%D8%AF)', 'https://ur.wikipedia.org/wiki/1387', 'https://ur.wikipedia.org/wiki/1774_(%D8%B9%D8%AF%D8%AF)', 'https://ur.wikipedia.org/wiki/17%D9%88%DB%8C%DA%BA_%D9%84%D9%88%DA%A9_%D8%B3%D8%A8%DA%BE%D8%A7', 'https://ur.wikipedia.org/wiki/1838%D8%A1_%DB%81%D9%86%D8%AF%D9%88%D8%B3%D8%AA%D8%A7%D9%86_%D9%85%D9%8A%DA%BA', 'https://ur.wikipedia.org/wiki/1498%D8%A1', 'https://ur.wikipedia.org/wiki/189_(%D8%B9%D8%AF%D8%AF)', 'https://ur.wikipedia.org/wiki/1270%D8%A1_%D9%83%D9%8A_%D8%AF%DB%81%D8%A7%D8%A6%D9%8A', 'https://ur.wikipedia.org/wiki/1381_(%D8%B9%D8%AF%D8%AF)', 'https://ur.wikipedia.org/wiki/19_%D9%86%D9%88%D9%85%D8%A8%D8%B1', 'https://ur.wikipedia.org/wiki/1480', 'https://ur.wikipedia.org/wiki/1064%D8%A1', 'https://ur.wikipedia.org/wiki/1812%D8%A1', 'https://ur.wikipedia.org/wiki/20000_(%D8%B9%D8%AF%D8%AF)', 'http://www.bbc.com/urdu/entertainment/2016/02/160211_quetta_hazara_poetry_zis', 'https://ur.wikipedia.org/wiki/1964_(%D8%B9%D8%AF%D8%AF)', 'https://ur.wikipedia.org/wiki/1281%DA%BE', 'https://ur.wikipedia.org/wiki/1940', 'https://ur.wikipedia.org/wiki/1908', 'https://ur.wikipedia.org/wiki/1509%D8%A1', 'https://ur.wikipedia.org/wiki/1782_(%D8%B9%D8%AF%D8%AF)', 'https://ur.wikipedia.org/wiki/1960%D8%A1', 'https://ur.wikipedia.org/wiki/1769_(%D8%B9%D8%AF%D8%AF)', 'https://ur.wikipedia.org/wiki/1437%D8%A1', 'https://ur.wikipedia.org/wiki/1165%D8%A1', 'https://ur.wikipedia.org/wiki/1574%D8%A1', 'https://ur.wikipedia.org/wiki/1065', 'https://ur.wikipedia.org/wiki/1844', 'https://ur.wikipedia.org/wiki/1766', 'https://ur.wikipedia.org/wiki/1226%D8%A1', 'https://ur.wikipedia.org/wiki/1887_(%D8%B9%D8%AF%D8%AF)', 'https://ur.wikipedia.org/wiki/1410', 'https://ur.wikipedia.org/wiki/1233_(%D8%B9%D8%AF%D8%AF)', 'https://ur.wikipedia.org/wiki/1250_%DA%A9%DB%8C_%D8%AF%DB%81%D8%A7%D8%A6%DB%8C', 'https://ur.wikipedia.org/wiki/1993%D8%A1', 'https://ur.wikipedia.org/wiki/1654', 'https://ur.wikipedia.org/wiki/2002%D8%A1_%D9%85%D9%8A%DA%BA_%D8%B3%D8%B9%D9%88%D8%AF%D9%8A_%D8%B9%D8%B1%D8%A8', 'https://ur.wikipedia.org/wiki/18', 'https://ur.wikipedia.org/wiki/1707%D8%A1', 'https://ur.wikipedia.org/wiki/115_(%D8%B9%D8%AF%D8%AF)', 'https://ur.wikipedia.org/wiki/1557', 'https://ur.wikipedia.org/wiki/108_%DA%A9%D8%A7%D9%84%D8%AA%DA%BE%D8%B1', 'https://ur.wikipedia.org/wiki/1560%D8%A1', 'https://ur.wikipedia.org/wiki/144', 'https://ur.wikipedia.org/wiki/1510_%D9%83%D9%8A_%D8%AF%DB%81%D8%A7%D8%A6%D9%8A', 'https://ur.wikipedia.org/wiki/1823', 'https://ur.wikipedia.org/wiki/1645_(%D8%B9%D8%AF%D8%AF)', 'https://ur.wikipedia.org/wiki/1341%D8%A1', 'https://ur.wikipedia.org/wiki/1763_(%D8%B9%D8%AF%D8%AF)', 'https://ur.wikipedia.org/wiki/17%D8%AC%D9%86%D9%88%D8%B1%D9%8A', 'https://ur.wikipedia.org/wiki/1165%DA%BE', 'https://ur.wikipedia.org/wiki/1576%D8%A1', 'https://ur.wikipedia.org/wiki/1660%D8%A1', 'https://ur.wikipedia.org/wiki/1763%D8%A1', 'https://ur.wikipedia.org/wiki/1988_Giro_d%27Italia', 'https://ur.wikipedia.org/wiki/1860', 'https://ur.wikipedia.org/wiki/1751%D8%A1', 'https://ur.wikipedia.org/wiki/1813', 'https://ur.wikipedia.org/wiki/1428_(%D8%B9%D8%AF%D8%AF)', 'https://ur.wikipedia.org/wiki/14_%D8%AF%D8%B3%D9%85%D8%A8%D8%B1', 'https://ur.wikipedia.org/wiki/1999%D8%B3%D8%A8%D9%85', 'https://ur.wikipedia.org/wiki/1233%DA%BE', 'https://ur.wikipedia.org/wiki/1970_(%D8%B9%D8%AF%D8%AF)', 'https://ur.wikipedia.org/wiki/1319%D8%A1', 'https://ur.wikipedia.org/wiki/1318_(%D8%B9%D8%AF%D8%AF)', 'https://ur.wikipedia.org/wiki/1132_(%D8%B9%D8%AF%D8%AF)', 'https://ur.wikipedia.org/wiki/1135', 'https://ur.wikipedia.org/wiki/1585_(%D8%B9%D8%AF%D8%AF)', 'https://ur.wikipedia.org/wiki/1476_(%D8%B9%D8%AF%D8%AF)', 'https://ur.wikipedia.org/wiki/10%D9%86%D8%A8%D9%88%D9%8A_%D9%85%D9%8A%DA%BA_%D8%B3%D9%8A%D8%B1%D8%AA_%D9%86%D8%A8%D9%88%D9%8A', 'https://ur.wikipedia.org/wiki/1761_(%D8%B9%D8%AF%D8%AF)', 'https://ur.wikipedia.org/wiki/1994%D8%A1_%D9%81%DB%8C%D9%81%D8%A7_%D8%B9%D8%A7%D9%84%D9%85%DB%8C_%DA%A9%D9%BE', 'https://ur.wikipedia.org/wiki/1380_%DA%A9%DB%8C_%D8%AF%DB%81%D8%A7%D8%A6%DB%8C', 'https://ur.wikipedia.org/wiki/1801%D8%A1_%DB%81%D9%86%D8%AF%D9%88%D8%B3%D8%AA%D8%A7%D9%86_%D9%85%DB%8C%DA%BA', 'https://ur.wikipedia.org/wiki/1874%D8%A1', 'https://ur.wikipedia.org/wiki/1965_(%D8%B9%D8%AF%D8%AF)', 'https://ur.wikipedia.org/wiki/122_(%D8%B9%D8%AF%D8%AF)', 'https://ur.wikipedia.org/wiki/1320_%D9%83%D9%8A_%D8%AF%DB%81%D8%A7%D8%A6%D9%8A', 'https://ur.wikipedia.org/wiki/1074%D8%A1', 'https://ur.wikipedia.org/wiki/1889%D8%A1', 'https://ur.wikipedia.org/wiki/1062_(%D8%B9%D8%AF%D8%AF)', 'https://ur.wikipedia.org/wiki/1976_%D8%AA%D8%A7%D9%86%DA%AF%D8%B4%D8%A7%D9%86_%DA%A9%D8%A7_%D8%B2%D9%84%D8%B2%D9%84%DB%81', 'https://ur.wikipedia.org/wiki/1939%D8%A1', 'https://ur.wikipedia.org/wiki/1387%DA%BE', 'https://ur.wikipedia.org/wiki/1731%D8%A1', 'http://en.wikipedia.org/wiki/Milky_way', 'https://ur.wikipedia.org/wiki/163_(%D8%B9%D8%AF%D8%AF)', 'https://ur.wikipedia.org/wiki/1975_%D9%83%D8%B1%D9%83%D9%B9_%D8%B9%D8%A7%D9%84%D9%85%D9%8A_%D9%83%D9%BE', 'https://ur.wikipedia.org/wiki/1948_%DA%AF%D8%B1%D9%85%D8%A7%D8%A6%DB%8C_%D8%A7%D9%88%D9%84%D9%85%D9%BE%DA%A9%D8%B3', 'https://ur.wikipedia.org/wiki/1357', 'https://ur.wikipedia.org/wiki/1788_(%D8%B9%D8%AF%D8%AF)', 'https://ur.wikipedia.org/wiki/1593%D8%A1', 'https://ur.wikipedia.org/wiki/10_%D8%B3%D8%AA%D9%85%D8%A8%D8%B1', 'https://ur.wikipedia.org/wiki/1872', 'https://ur.wikipedia.org/wiki/1140_(%D8%B9%D8%AF%D8%AF)', 'https://ur.wikipedia.org/wiki/11_%D9%85%D8%AD%D8%B1%D9%85', 'https://ur.wikipedia.org/wiki/1966_(%D8%B9%D8%AF%D8%AF)', 'https://ur.wikipedia.org/wiki/1090_(%D8%B9%D8%AF%D8%AF)', 'https://ur.wikipedia.org/wiki/1476', 'https://ur.wikipedia.org/wiki/1988_%DA%AF%D8%B1%D9%85%D8%A7%D8%A6%DB%8C_%D8%A7%D9%88%D9%84%D9%85%D9%BE%DA%A9%D8%B3', 'https://ur.wikipedia.org/wiki/1160_(%D8%B9%D8%AF%D8%AF)', 'https://ur.wikipedia.org/wiki/1150%DA%BE', 'https://ur.wikipedia.org/wiki/1672', 'https://ur.wikipedia.org/wiki/1270_%D9%83%D9%8A_%D8%AF%DB%81%D8%A7%D8%A6%D9%8A', 'http://www.nanowisdoms.org/nwblog/', 'https://ur.wikipedia.org/wiki/1864%D8%A1', 'http://www.toptenitems.tk/computer/wifi-meaning.html\"', 'https://ur.wikipedia.org/wiki/1786_(%D8%B9%D8%AF%D8%AF)', 'https://ur.wikipedia.org/wiki/1111_(%D8%B9%D8%AF%D8%AF)', 'https://ur.wikipedia.org/wiki/1410%DA%BE', 'https://ur.wikipedia.org/wiki/1971_%DB%81%D8%A7%DA%A9%DB%8C_%D8%B9%D8%A7%D9%84%D9%85%DB%8C_%DA%A9%D9%BE', 'https://ur.wikipedia.org/wiki/18_%D8%B5%D9%81%D8%B1', 'https://ur.wikipedia.org/wiki/1503', 'https://ur.wikipedia.org/wiki/1990%D8%A1_%D9%81%DB%8C%D9%81%D8%A7_%D8%B9%D8%A7%D9%84%D9%85%DB%8C_%DA%A9%D9%BE', 'https://ur.wikipedia.org/wiki/1655%D8%A1', 'https://ur.wikipedia.org/wiki/1836%D8%A1_%DB%81%D9%86%D8%AF%D9%88%D8%B3%D8%AA%D8%A7%D9%86_%D9%85%DB%8C%DA%BA', 'https://ur.wikipedia.org/wiki/1112%D8%A1', 'https://ur.wikipedia.org/wiki/115%DA%BE', 'https://ur.wikipedia.org/wiki/1208%D8%A1', 'https://ur.wikipedia.org/wiki/1574_(%D8%B9%D8%AF%D8%AF)', 'https://ur.wikipedia.org/wiki/1932_%DA%AF%D8%B1%D9%85%D8%A7%D8%A6%DB%8C_%D8%A7%D9%88%D9%84%D9%85%D9%BE%DA%A9%D8%B3', 'https://ur.wikipedia.org/wiki/1988%D8%A1', 'https://ur.wikipedia.org/wiki/1993_%D9%85%D9%85%D8%A8%D8%A6%D9%8A_%D8%A8%D9%85_%D8%AF%DA%BE%D9%85%D8%A7%D9%83%DB%92', 'https://ur.wikipedia.org/wiki/1439%DA%BE', 'https://ur.wikipedia.org/wiki/1204%DA%BE', 'https://ur.wikipedia.org/wiki/1739_(%D8%B9%D8%AF%D8%AF)', 'https://ur.wikipedia.org/wiki/1197', 'https://ur.wikipedia.org/wiki/1187%D8%A1', 'https://ur.wikipedia.org/wiki/1634_(%D8%B9%D8%AF%D8%AF)', 'https://ur.wikipedia.org/wiki/1210%D8%A1', 'https://ur.wikipedia.org/wiki/1514_(%D8%B9%D8%AF%D8%AF)', 'https://ur.wikipedia.org/wiki/1093%D8%A1', 'https://ur.wikipedia.org/wiki/1662', 'https://ur.wikipedia.org/wiki/1080_%D9%83%D9%8A_%D8%AF%DB%81%D8%A7%D8%A6%D9%8A', 'https://ur.wikipedia.org/wiki/1738%D8%A1', 'https://ur.wikipedia.org/wiki/2001_%D8%A8%DA%BE%D8%A7%D8%B1%D8%AA%D9%8A_%D9%BE%D8%A7%D8%B1%D9%84%D9%8A%D9%85%D8%A7%D9%86_%D8%B9%D9%85%D8%A7%D8%B1%D8%AA_%D9%BE%D8%B1_%D8%AD%D9%85%D9%84%DB%81', 'https://ur.wikipedia.org/wiki/1160%D8%A1', 'https://ur.wikipedia.org/wiki/1477%D8%A1', 'https://ur.wikipedia.org/wiki/1959_(%D8%B9%D8%AF%D8%AF)', 'https://ur.wikipedia.org/wiki/1991%D8%A1_%DA%A9%D8%A7_%D9%86%D8%A7%DA%A9%D8%A7%D9%85_%D8%A7%D9%86%D9%82%D9%84%D8%A7%D8%A8_%D8%B9%D8%B1%D8%A7%D9%82', 'https://ur.wikipedia.org/wiki/1364', 'https://ur.wikipedia.org/wiki/127%DA%BE', 'https://ur.wikipedia.org/wiki/1150', 'https://ur.wikipedia.org/wiki/19_%D8%B5%D9%81%D8%B1', 'https://ur.wikipedia.org/wiki/1403%D8%A1', 'https://ur.wikipedia.org/wiki/1489_(%D8%B9%D8%AF%D8%AF)', 'https://ur.wikipedia.org/wiki/1379_(%D8%B9%D8%AF%D8%AF)', 'https://ur.wikipedia.org/wiki/16_%D8%B1%D9%85%D8%B6%D8%A7%D9%86', 'https://ur.wikipedia.org/wiki/1469_(%D8%B9%D8%AF%D8%AF)', 'https://ur.wikipedia.org/wiki/1973%D8%A1', 'https://ur.wikipedia.org/wiki/1927_(%D8%B9%D8%AF%D8%AF)', 'https://ur.wikipedia.org/wiki/1481', 'https://ur.wikipedia.org/wiki/1482', 'https://ur.wikipedia.org/wiki/1844_(%D8%B9%D8%AF%D8%AF)', 'https://ur.wikipedia.org/wiki/1717_(%D8%B9%D8%AF%D8%AF)', 'https://ur.wikipedia.org/wiki/1741', 'https://ur.wikipedia.org/wiki/1468', 'https://ur.wikipedia.org/wiki/168%DA%BE', 'https://ur.wikipedia.org/wiki/1982_%D9%81%D9%8A%D9%81%D8%A7_%D8%B9%D8%A7%D9%84%D9%85%D9%8A_%D9%83%D9%BE', 'http://3rbseyes.com/717761-246-post.html', 'https://ur.wikipedia.org/wiki/2000_%DA%A9%DB%8C_%D8%AF%DB%81%D8%A7%D8%A6%DB%8C', 'https://ur.wikipedia.org/wiki/1350_%D9%83%D9%8A_%D8%AF%DB%81%D8%A7%D8%A6%D9%8A', 'https://ur.wikipedia.org/wiki/2/%D8%A7%DB%8C%D9%85_%D8%A2%D8%B1', 'https://ur.wikipedia.org/wiki/1184%DA%BE', 'https://ur.wikipedia.org/wiki/1603_(%D8%B9%D8%AF%D8%AF)', 'https://ur.wikipedia.org/wiki/1450%D8%A1', 'https://ur.wikipedia.org/wiki/2004_%D9%85%D9%8A%DA%BA_%D9%BE%D8%A7%D9%83%D8%B3%D8%AA%D8%A7%D9%86', 'https://ur.wikipedia.org/wiki/1940%D8%A1_%DA%A9%DB%8C_%D8%AF%DB%81%D8%A7%D8%A6%DB%8C', 'https://ur.wikipedia.org/wiki/1262_(%D8%B9%D8%AF%D8%AF)', 'https://ur.wikipedia.org/wiki/19_%D8%B3%D8%AA%D9%85%D8%A8%D8%B1', 'https://ur.wikipedia.org/wiki/15_%D9%81%D8%B1%D9%88%D8%B1%D9%8A', 'https://ur.wikipedia.org/wiki/163%DA%BE', 'https://ur.wikipedia.org/wiki/1451%D8%A1', 'https://books.google.co.in/books?id=l4xUsPyL6koC&pg=PA410&lpg=PA410&dq=raja+jang+bahadur+nanpara&source=bl&ots=vbUHCnaFkB&sig=E7f2xMDmeC6Jd8Sya-XI5_ALk2Y&hl=en&sa=X&ved=0ahUKEwiA1uv8xoDSAhWKtI8KHerjAH0Q6AEIOTAG', 'https://ur.wikipedia.org/wiki/1676_(%D8%B9%D8%AF%D8%AF)', 'https://ur.wikipedia.org/wiki/1700%E2%80%931709', 'https://ur.wikipedia.org/wiki/1918%D8%A1', 'https://ur.wikipedia.org/wiki/159', 'https://ur.wikipedia.org/wiki/1470_%DA%A9%DB%8C_%D8%AF%DB%81%D8%A7%D8%A6%DB%8C', 'https://ur.wikipedia.org/wiki/1578%D8%A1', 'https://ur.wikipedia.org/wiki/1408%D8%A1', 'https://ur.wikipedia.org/wiki/1187', 'https://ur.wikipedia.org/wiki/1936_%DA%AF%D8%B1%D9%85%D8%A7%D8%A6%D9%8A_%D8%A7%D9%88%D9%84%D9%85%D9%BE%D9%83%D8%B3', 'https://ur.wikipedia.org/wiki/1607', 'https://ur.wikipedia.org/wiki/1117%DA%BE', 'https://ur.wikipedia.org/wiki/1500_(%D8%B9%D8%AF%D8%AF)', 'https://ur.wikipedia.org/wiki/1213_(%D8%B9%D8%AF%D8%AF)', 'https://ur.wikipedia.org/wiki/1298_(%D8%B9%D8%AF%D8%AF)', 'https://ur.wikipedia.org/wiki/1330%D8%A1_%D9%83%D9%8A_%D8%AF%DB%81%D8%A7%D8%A6%D9%8A', 'https://ur.wikipedia.org/wiki/1450_%D9%83%D9%8A_%D8%AF%DB%81%D8%A7%D8%A6%D9%8A', 'https://ur.wikipedia.org/wiki/1602_(%D8%B9%D8%AF%D8%AF)', 'https://ur.wikipedia.org/wiki/1292_(%D8%B9%D8%AF%D8%AF)', 'https://ur.wikipedia.org/wiki/1079%D8%A1', 'https://ur.wikipedia.org/wiki/1894%D8%A1', 'https://ur.wikipedia.org/wiki/1168%D8%A1', 'https://ur.wikipedia.org/wiki/1194%DA%BE', 'https://ur.wikipedia.org/wiki/10_%D9%85%DB%8C%D9%B9%D8%B1_%D8%A7%DB%8C%D8%A6%D8%B1_%D8%B1%D8%A7%D8%A6%D9%81%D9%84', 'https://ur.wikipedia.org/wiki/1113%DA%BE', 'https://ur.wikipedia.org/wiki/1857_%DA%A9%DB%8C_%D8%AC%D9%86%DA%AF_%D8%A2%D8%B2%D8%A7%D8%AF%DB%8C', 'https://ur.wikipedia.org/wiki/1487_(%D8%B9%D8%AF%D8%AF)', 'https://ur.wikipedia.org/wiki/10_%D9%85%D8%A7%D8%B1%DA%86', 'https://ur.wikipedia.org/wiki/1408_(%D8%B9%D8%AF%D8%AF)', 'https://ur.wikipedia.org/wiki/1612_(%D8%B9%D8%AF%D8%AF)', 'https://ur.wikipedia.org/wiki/1565%D8%A1', 'https://ur.wikipedia.org/wiki/1469%D8%A1', 'https://ur.wikipedia.org/wiki/1260_(%D8%B9%D8%AF%D8%AF)', 'https://ur.wikipedia.org/wiki/167', 'https://ur.wikipedia.org/wiki/161', 'https://ur.wikipedia.org/wiki/1570%D8%A1', 'https://ur.wikipedia.org/wiki/1696%D8%A1_%DB%81%D9%86%D8%AF%D9%88%D8%B3%D8%AA%D8%A7%D9%86_%D9%85%D9%8A%DA%BA', 'https://ur.wikipedia.org/wiki/1334_(%D8%B9%D8%AF%D8%AF)', 'https://ur.wikipedia.org/wiki/1859_(%D8%B9%D8%AF%D8%AF)', 'https://ur.wikipedia.org/wiki/1924_%DA%AF%D8%B1%D9%85%D8%A7%D8%A6%DB%8C_%D8%A7%D9%88%D9%84%D9%85%D9%BE%DA%A9%D8%B3', 'https://ur.wikipedia.org/wiki/1570_(%D8%B9%D8%AF%D8%AF)', 'https://ur.wikipedia.org/wiki/171%DA%BE', 'https://ur.wikipedia.org/wiki/188_(%D8%B9%D8%AF%D8%AF)', 'https://ur.wikipedia.org/wiki/1610%D8%A1_%DA%A9%DB%8C_%D8%AF%DB%81%D8%A7%D8%A6%DB%8C', 'https://ur.wikipedia.org/wiki/1250', 'https://ur.wikipedia.org/wiki/1154%DA%BE', 'https://ur.wikipedia.org/wiki/160', 'https://ur.wikipedia.org/wiki/1921', 'https://ur.wikipedia.org/wiki/1930%D8%A1_%D9%83%D9%8A_%D8%AF%DB%81%D8%A7%D8%A6%D9%8A', 'https://ur.wikipedia.org/wiki/1650%D8%A1_%DA%A9%DB%8C_%D8%AF%DB%81%D8%A7%D8%A6%DB%8C', 'https://ur.wikipedia.org/wiki/1925%D8%A1', 'https://ur.wikipedia.org/wiki/1261', 'https://ur.wikipedia.org/wiki/1790_%D9%83%D9%8A_%D8%AF%DB%81%D8%A7%D8%A6%D9%8A', 'https://ur.wikipedia.org/wiki/145%DA%BE', 'https://ur.wikipedia.org/wiki/1512', 'https://ur.wikipedia.org/wiki/128_(%D8%B9%D8%AF%D8%AF)', 'https://ur.wikipedia.org/wiki/10%D8%A7%D9%BE%D8%B1%DB%8C%D9%84', 'https://ur.wikipedia.org/wiki/1425_(%D8%B9%D8%AF%D8%AF)', 'https://ur.wikipedia.org/wiki/1129%DA%BE', 'https://ur.wikipedia.org/wiki/1317%DA%BE', 'https://ur.wikipedia.org/wiki/14%D9%86%D8%A8%D9%88%D9%8A_%D9%85%D9%8A%DA%BA_%D8%B3%D9%8A%D8%B1%D8%AA_%D9%86%D8%A8%D9%88%D9%8A', 'https://ur.wikipedia.org/wiki/1920', 'https://ur.wikipedia.org/wiki/1747_(%D8%B9%D8%AF%D8%AF)', 'https://ur.wikipedia.org/wiki/1619', 'https://ur.wikipedia.org/wiki/1972_(%D8%B9%D8%AF%D8%AF)', 'https://ur.wikipedia.org/wiki/149', 'https://ur.wikipedia.org/wiki/1218_(%D8%B9%D8%AF%D8%AF)', 'https://ur.wikipedia.org/wiki/1160_%D9%83%D9%8A_%D8%AF%DB%81%D8%A7%D8%A6%D9%8A', 'https://ur.wikipedia.org/wiki/1950_(%D8%B9%D8%AF%D8%AF)', 'https://ur.wikipedia.org/wiki/1600%D8%A1_%D9%83%D9%8A_%D8%AF%DB%81%D8%A7%D8%A6%D9%8A', 'https://ur.wikipedia.org/wiki/1440%D8%A1', 'https://ur.wikipedia.org/wiki/1290_(%D8%B9%D8%AF%D8%AF)', 'https://ur.wikipedia.org/wiki/1096%DA%BE', 'https://ur.wikipedia.org/wiki/1246', 'https://ur.wikipedia.org/wiki/1538_(%D8%B9%D8%AF%D8%AF)', 'https://ur.wikipedia.org/wiki/16%D9%85%D8%A7%D8%B1%DA%86', 'https://ur.wikipedia.org/wiki/1443_(%D8%B9%D8%AF%D8%AF)', 'https://ur.wikipedia.org/wiki/114', 'https://ur.wikipedia.org/wiki/1089_(%D8%B9%D8%AF%D8%AF)', 'https://ur.wikipedia.org/wiki/1632_(%D8%B9%D8%AF%D8%AF)', 'https://ur.wikipedia.org/wiki/1916%D8%A1', 'https://ur.wikipedia.org/wiki/13_%D8%AC%D9%88%D9%84%D8%A7%D8%A6%DB%8C', 'https://ismailignosis.com/2015/08/02/the-secret-life-of-the-aga-khan/==', 'https://ur.wikipedia.org/wiki/19%DA%BE', 'https://ur.wikipedia.org/wiki/1309', 'https://ur.wikipedia.org/wiki/1128_(%D8%B9%D8%AF%D8%AF)', 'https://ur.wikipedia.org/wiki/1355_(%D8%B9%D8%AF%D8%AF)', 'https://ur.wikipedia.org/wiki/1835', 'https://ur.wikipedia.org/wiki/1998_%D9%81%DB%8C%D9%81%D8%A7_%D8%B9%D8%A7%D9%84%D9%85%DB%8C_%DA%A9%D9%BE', 'https://ur.wikipedia.org/wiki/148/(%D8%A7%DB%8C_%D8%A8%DB%8C)', 'https://ur.wikipedia.org/wiki/19%D8%A7%D9%BE%D8%B1%DB%8C%D9%84', 'https://ur.wikipedia.org/wiki/1139', 'https://ur.wikipedia.org/wiki/1780_(%D8%B9%D8%AF%D8%AF)', 'https://ur.wikipedia.org/wiki/1615%D8%A1', 'https://ur.wikipedia.org/wiki/1234_(%D8%B9%D8%AF%D8%AF)', 'https://ur.wikipedia.org/wiki/1559_(%D8%B9%D8%AF%D8%AF)', 'https://ur.wikipedia.org/wiki/1409%D8%A1', 'https://ur.wikipedia.org/wiki/1618_(%D8%B9%D8%AF%D8%AF)', 'https://ur.wikipedia.org/wiki/1949%D8%A1', 'https://ur.wikipedia.org/wiki/1792%D8%A1', 'https://ur.wikipedia.org/wiki/1840%D8%A1', 'https://ur.wikipedia.org/wiki/139_(%D8%B9%D8%AF%D8%AF)', 'https://ur.wikipedia.org/wiki/123%DA%BE', 'https://ur.wikipedia.org/wiki/170%DA%BE', 'https://ur.wikipedia.org/wiki/176_(%D8%B9%D8%AF%D8%AF)', 'https://ur.wikipedia.org/wiki/1206%D8%A1_%DB%81%D9%86%D8%AF%D9%88%D8%B3%D8%AA%D8%A7%D9%86_%D9%85%DB%8C%DA%BA', 'https://ur.wikipedia.org/wiki/1122%D8%A1', 'http://plato.stanford.edu/contents.html', 'https://ur.wikipedia.org/wiki/1652_(%D8%B9%D8%AF%D8%AF)', 'https://ur.wikipedia.org/wiki/180', 'https://ur.wikipedia.org/wiki/190_%DA%A9%D9%88%D9%84%D9%B9%D8%B1%DB%8C%D9%86_%D8%B1%D9%88%DA%88', 'https://ur.wikipedia.org/wiki/1824', 'https://ur.wikipedia.org/wiki/1766_(%D8%B9%D8%AF%D8%AF)', 'https://ur.wikipedia.org/wiki/1926_%D8%A8%D9%86%D9%8A_%D9%85%D9%84%D8%B2_%DB%81%DA%91%D8%AA%D8%A7%D9%84', 'https://ur.wikipedia.org/wiki/1124%D8%A1', 'https://ur.wikipedia.org/wiki/1095%DA%BE', 'https://ur.wikipedia.org/wiki/1843_(%D8%B9%D8%AF%D8%AF)', 'https://ur.wikipedia.org/wiki/138%DA%BE', 'https://ur.wikipedia.org/wiki/112', 'https://ur.wikipedia.org/wiki/1161', 'https://ur.wikipedia.org/wiki/1996%D8%A1_%DA%AF%D8%B1%D9%85%D8%A7%D8%A6%DB%8C_%D8%A7%D9%88%D9%84%D9%85%D9%BE%DA%A9%D8%B3', 'https://ur.wikipedia.org/wiki/2003_%D9%85%DB%8C%DA%BA_%D9%BE%D8%A7%DA%A9%D8%B3%D8%AA%D8%A7%D9%86_%D9%85%DB%8C%DA%BA_%D8%AF%DB%81%D8%B4%D8%AA_%DA%AF%D8%B1%D8%AF%DB%8C', 'https://ur.wikipedia.org/wiki/1491%D8%A1', 'https://ur.wikipedia.org/wiki/1980_%D9%85%D8%B1%D8%A7%D8%AF_%D8%A2%D8%A8%D8%A7%D8%AF_%D9%81%D8%B3%D8%A7%D8%AF%D8%A7%D8%AA', 'https://ur.wikipedia.org/wiki/18/%D8%A7%DB%8C%D9%85_%D8%A2%D8%B1', 'https://ur.wikipedia.org/wiki/1430%D8%A1_%D9%83%D9%8A_%D8%AF%DB%81%D8%A7%D8%A6%D9%8A', 'https://ur.wikipedia.org/wiki/136%D8%A1', 'https://ur.wikipedia.org/wiki/2002_%D9%85%D9%8A%DA%BA_%D9%BE%D8%A7%D9%83%D8%B3%D8%AA%D8%A7%D9%86', 'https://ur.wikipedia.org/wiki/1479_(%D8%B9%D8%AF%D8%AF)', 'https://ur.wikipedia.org/wiki/1128', 'https://ur.wikipedia.org/wiki/168%D8%A1', 'https://ur.wikipedia.org/wiki/1609_(%D8%B9%D8%AF%D8%AF)', 'https://ur.wikipedia.org/wiki/1707', 'https://ur.wikipedia.org/wiki/1853_(%D8%B9%D8%AF%D8%AF)', 'https://ur.wikipedia.org/wiki/182', 'https://ur.wikipedia.org/wiki/1745_(%D8%B9%D8%AF%D8%AF)', 'https://ur.wikipedia.org/wiki/186%DA%BE', 'https://ur.wikipedia.org/wiki/1217_(%D8%B9%D8%AF%D8%AF)', 'https://ur.wikipedia.org/wiki/2002%D8%A1_%DA%A9%D8%B1%D8%A7%DA%86%DB%8C_%D8%A8%D8%B3_%D9%BE%D8%B1_%D8%A8%D9%85_%D8%AD%D9%85%D9%84%DB%81', 'http://www.elmedeen.com/cat-177-تفسیر-ابن-کثیر-مترجم-اردو', 'https://ur.wikipedia.org/wiki/1588', 'https://ur.wikipedia.org/wiki/1989_%DA%A9%DB%92_%D8%A7%D9%86%D9%82%D9%84%D8%A7%D8%A8%D8%A7%D8%AA', 'https://ur.wikipedia.org/wiki/1190%D8%A1', 'http://www.youtube.com/watch?v=jRIsDer17Zo', 'https://ur.wikipedia.org/wiki/1938_%D9%81%D9%8A%D9%81%D8%A7_%D8%B9%D8%A7%D9%84%D9%85%D9%8A_%D9%83%D9%BE', 'https://ur.wikipedia.org/wiki/1237', 'https://ur.wikipedia.org/wiki/1154_(%D8%B9%D8%AF%D8%AF)', 'https://ur.wikipedia.org/wiki/115_%D9%82%D8%A8%D9%84_%D9%85%D8%B3%DB%8C%D8%AD', 'https://ur.wikipedia.org/wiki/1089', 'https://ur.wikipedia.org/wiki/1224%DA%BE', 'https://ur.wikipedia.org/wiki/1918%D8%A1_%DA%A9%DB%8C_%D8%A8%D8%A7%D9%84%DB%8C_%D9%88%D9%88%DA%88_%D9%81%D9%84%D9%85%D9%88%DA%BA_%DA%A9%DB%8C_%D9%81%DB%81%D8%B1%D8%B3%D8%AA', 'https://ur.wikipedia.org/wiki/18_%D8%AC%D9%88%D9%84%D8%A7%D8%A6%DB%8C', 'https://ur.wikipedia.org/wiki/1190%D8%A1_%D9%83%D9%8A_%D8%AF%DB%81%D8%A7%D8%A6%D9%8A', 'https://ur.wikipedia.org/wiki/1087%DA%BE', 'https://ur.wikipedia.org/wiki/1236', 'https://ur.wikipedia.org/wiki/1242%DA%BE', 'https://ur.wikipedia.org/wiki/1500%D8%A1_%D9%83%D9%8A_%D8%AF%DB%81%D8%A7%D8%A6%D9%8A', 'https://ur.wikipedia.org/wiki/1842', 'https://ur.wikipedia.org/wiki/1735%D8%A1', 'https://ur.wikipedia.org/wiki/1263_(%D8%B9%D8%AF%D8%AF)', 'https://ur.wikipedia.org/wiki/2004', 'https://ur.wikipedia.org/wiki/1926%D8%A1_%D8%A8%D9%86%DB%8C_%D9%85%D9%84%D8%B2_%DB%81%DA%91%D8%AA%D8%A7%D9%84', 'https://ur.wikipedia.org/wiki/1388%DA%BE', 'https://ur.wikipedia.org/wiki/1760_%D9%83%D9%8A_%D8%AF%DB%81%D8%A7%D8%A6%D9%8A', 'https://ur.wikipedia.org/wiki/16_(%D8%B9%D8%AF%D8%AF)', 'https://ur.wikipedia.org/wiki/19%D9%81%D8%B1%D9%88%D8%B1%DB%8C', 'https://ur.wikipedia.org/wiki/1710', 'https://ur.wikipedia.org/wiki/1980_%D9%83%D9%8A_%D8%AF%DB%81%D8%A7%D8%A6%D9%8A', 'https://ur.wikipedia.org/wiki/1257%DA%BE', 'https://ur.wikipedia.org/wiki/2001%D8%A1_%D8%B3%DB%92_%D9%BE%D8%A7%DA%A9%D8%B3%D8%AA%D8%A7%D9%86_%D9%85%DB%8C%DA%BA_%D8%AF%DB%81%D8%B4%D8%AA_%DA%AF%D8%B1%D8%AF%D8%A7%D9%86%DB%81_%DA%A9%D8%A7%D8%B1%D8%B1%D9%88%D8%A7%D8%A6%DB%8C%D9%88%DA%BA_%DA%A9%DB%8C_%D9%81%DB%81%D8%B1%D8%B3%D8%AA', 'http://www.ste.gov.sy>/ref<', 'https://ur.wikipedia.org/wiki/1819', 'https://ur.wikipedia.org/wiki/1913_(%D8%B9%D8%AF%D8%AF)', 'https://ur.wikipedia.org/wiki/1057%D8%A1', 'https://ur.wikipedia.org/wiki/1443', 'https://ur.wikipedia.org/wiki/1117', 'https://ur.wikipedia.org/wiki/1910_(%D8%B9%D8%AF%D8%AF)', 'https://ur.wikipedia.org/wiki/1700%D8%A1_%DB%81%D9%86%D8%AF%D9%88%D8%B3%D8%AA%D8%A7%D9%86_%D9%85%DB%8C%DA%BA', 'https://ur.wikipedia.org/wiki/1308%DA%BE', 'https://ur.wikipedia.org/wiki/15_%D8%A7%DA%AF%D8%B3%D8%AA', 'https://ur.wikipedia.org/wiki/1680_%DA%A9%DB%8C_%D8%AF%DB%81%D8%A7%D8%A6%DB%8C', 'https://ur.wikipedia.org/wiki/1560', 'https://ur.wikipedia.org/wiki/1399', 'https://ur.wikipedia.org/wiki/150_%D9%83%D9%8A_%D8%AF%DB%81%D8%A7%D8%A6%D9%8A', 'https://ur.wikipedia.org/wiki/10_%D9%83%D8%A7_%D8%AF%D9%85', 'https://ur.wikipedia.org/wiki/1980_(%D8%B9%D8%AF%D8%AF)', 'https://ur.wikipedia.org/wiki/2000%D8%A1_%DA%AF%D8%B1%D9%85%D8%A7%D8%A6%DB%8C_%D8%A7%D9%88%D9%84%D9%85%D9%BE%DA%A9%D8%B3', 'https://ur.wikipedia.org/wiki/1506_(%D8%B9%D8%AF%D8%AF)', 'https://ur.wikipedia.org/wiki/129%D8%A1', 'https://ur.wikipedia.org/wiki/1822', 'https://ur.wikipedia.org/wiki/1629%D8%A1', 'https://ur.wikipedia.org/wiki/1187%DA%BE', 'https://ur.wikipedia.org/wiki/1154', 'https://ur.wikipedia.org/wiki/10_(%D8%B9%D8%AF%D8%AF)', 'https://ur.wikipedia.org/wiki/1589_(%D8%B9%D8%AF%D8%AF)', 'https://ur.wikipedia.org/wiki/14%D8%A7%DA%AF%D8%B3%D8%AA', 'https://ur.wikipedia.org/wiki/173/(%D8%A7%DB%8C_%D8%A8%DB%8C)', 'https://ur.wikipedia.org/wiki/123%D8%A1', 'https://ur.wikipedia.org/wiki/1778%D8%A1', 'https://ur.wikipedia.org/wiki/1504%D8%A1_%DB%81%D9%86%D8%AF%D9%88%D8%B3%D8%AA%D8%A7%D9%86_%D9%85%D9%8A%DA%BA', 'https://ur.wikipedia.org/wiki/1540%D8%A1_%DA%A9%DB%8C_%D8%AF%DB%81%D8%A7%D8%A6%DB%8C', 'https://ur.wikipedia.org/wiki/1418%D8%A1', 'https://ur.wikipedia.org/wiki/1094', 'https://ur.wikipedia.org/wiki/1474_(%D8%B9%D8%AF%D8%AF)', 'https://ur.wikipedia.org/wiki/1533%D8%A1', 'https://ur.wikipedia.org/wiki/1622', 'https://ur.wikipedia.org/wiki/1720%D8%A1_%DA%A9%DB%8C_%D8%AF%DB%81%D8%A7%D8%A6%DB%8C', 'https://ur.wikipedia.org/wiki/1887_%D8%AF%D8%B1%DB%8C%D8%A7%D8%A6%DB%92_%D8%B2%D8%B1%D8%AF_%DA%A9%D8%A7_%D8%B3%DB%8C%D9%84%D8%A7%D8%A8', 'https://ur.wikipedia.org/wiki/1590', 'https://ur.wikipedia.org/wiki/1872_(%D8%B9%D8%AF%D8%AF)', 'https://ur.wikipedia.org/wiki/1664_(%D8%B9%D8%AF%D8%AF)', 'https://ur.wikipedia.org/wiki/1984_%DA%AF%D8%B1%D9%85%D8%A7%D8%A6%D9%8A_%D8%A7%D9%88%D9%84%D9%85%D9%BE%D9%83%D8%B3', 'https://ur.wikipedia.org/wiki/1220%D8%A1', 'https://ur.wikipedia.org/wiki/1110%D8%A1_%DA%A9%DB%8C_%D8%AF%DB%81%D8%A7%D8%A6%DB%8C', 'https://ur.wikipedia.org/wiki/1747', 'https://ur.wikipedia.org/wiki/1202', 'https://ur.wikipedia.org/wiki/1647%D8%A1', 'https://ur.wikipedia.org/wiki/11_%D8%B3%D8%AA%D9%85%D8%A8%D8%B1_2001%D8%8C_%D8%A7%D9%85%D8%B1%D9%8A%D9%83%DB%81_%D8%AF%DB%81%D8%B4%D8%AA_%DA%AF%D8%B1%D8%AF%D9%8A', 'https://ur.wikipedia.org/wiki/1150%D8%A1_%D9%83%D9%8A_%D8%AF%DB%81%D8%A7%D8%A6%D9%8A', 'https://ur.wikipedia.org/wiki/1440%D8%A1_%D9%83%D9%8A_%D8%AF%DB%81%D8%A7%D8%A6%D9%8A', 'https://ur.wikipedia.org/wiki/1960_%DA%AF%D8%B1%D9%85%D8%A7%D8%A6%D9%8A_%D8%A7%D9%88%D9%84%D9%85%D9%BE%D9%83%D8%B3', 'https://ur.wikipedia.org/wiki/1635', 'https://ur.wikipedia.org/wiki/1656_(%D8%B9%D8%AF%D8%AF)', 'https://ur.wikipedia.org/wiki/1896%D8%A1_%DA%AF%D8%B1%D9%85%D8%A7%D8%A6%D9%8A_%D8%A7%D9%88%D9%84%D9%85%D9%BE%D9%83%D8%B3', 'https://ur.wikipedia.org/wiki/1590%D8%A1', 'https://ur.wikipedia.org/wiki/1780%D8%A1_%DA%A9%DB%8C_%D8%AF%DB%81%D8%A7%D8%A6%DB%8C', 'https://ur.wikipedia.org/wiki/17_%D9%86%D9%88%D9%85%D8%A8%D8%B1', 'https://ur.wikipedia.org/wiki/2003_%D9%85%D9%8A%DA%BA_%D9%BE%D8%A7%D9%83%D8%B3%D8%AA%D8%A7%D9%86_%D9%85%D9%8A%DA%BA_%D8%AF%DB%81%D8%B4%D8%AA_%DA%AF%D8%B1%D8%AF%D9%8A', 'https://ur.wikipedia.org/wiki/1882', 'https://ur.wikipedia.org/wiki/1225', 'https://ur.wikipedia.org/wiki/1130%D8%A1_%D9%83%D9%8A_%D8%AF%DB%81%D8%A7%D8%A6%D9%8A', 'https://ur.wikipedia.org/wiki/1411%D8%A1', 'https://ur.wikipedia.org/wiki/1765_%D9%85%DB%8C%DA%BA_%D9%82%D8%A7%D8%A6%D9%85_%DB%81%D9%88%D9%86%DB%92_%D9%88%D8%A7%D9%84%DB%8C_%D8%B3%DB%8C%D8%A7%D8%B3%DB%8C_%D8%AA%D9%86%D8%B8%DB%8C%D9%85%DB%8C%DA%BA', 'https://ur.wikipedia.org/wiki/1221%DA%BE', 'https://ur.wikipedia.org/wiki/1858', 'https://ur.wikipedia.org/wiki/1979%D8%A1', 'https://ur.wikipedia.org/wiki/1645%D8%A1', 'https://ur.wikipedia.org/wiki/1429%D8%A1', 'https://ur.wikipedia.org/wiki/1870_(%D8%B9%D8%AF%D8%AF)', 'https://ur.wikipedia.org/wiki/1166_(%D8%B9%D8%AF%D8%AF)', 'https://ur.wikipedia.org/wiki/11_%D9%85%D9%86%D9%B9', 'https://ur.wikipedia.org/wiki/1236%D8%A1', 'https://ur.wikipedia.org/wiki/19_%D8%AC%D9%85%D8%A7%D8%AF%DB%8C_%D8%A7%D9%84%D8%A7%D9%88%D9%84', 'http://groups.google.com/group/TombraiderGame/web/tombraider1.jar', 'https://ur.wikipedia.org/wiki/1620_(%D8%B9%D8%AF%D8%AF)', 'https://ur.wikipedia.org/wiki/1977_(%D8%B9%D8%AF%D8%AF)', 'https://ur.wikipedia.org/wiki/1563', 'https://ur.wikipedia.org/wiki/1162%D8%A1', 'https://ur.wikipedia.org/wiki/1253_(%D8%B9%D8%AF%D8%AF)', 'https://ur.wikipedia.org/wiki/1953', 'https://ur.wikipedia.org/wiki/1622_(%D8%B9%D8%AF%D8%AF)', 'https://ur.wikipedia.org/wiki/1389%DA%BE', 'https://ur.wikipedia.org/wiki/1279', 'https://ur.wikipedia.org/wiki/1220_(%D8%B9%D8%AF%D8%AF)', 'https://ur.wikipedia.org/wiki/113_(%D8%B9%D8%AF%D8%AF)', 'https://ur.wikipedia.org/wiki/1439_(%D8%B9%D8%AF%D8%AF)', 'https://ur.wikipedia.org/wiki/1625%D8%A1', 'https://ur.wikipedia.org/wiki/1465', 'https://ur.wikipedia.org/wiki/19_%D8%AC%D9%85%D8%A7%D8%AF%D9%8A_%D8%A7%D9%84%D8%AB%D8%A7%D9%86%D9%8A', 'https://ur.wikipedia.org/wiki/1294', 'https://ur.wikipedia.org/wiki/18_%D8%AC%D9%88%D9%84%D8%A7%D8%A6%D9%8A', 'https://ur.wikipedia.org/wiki/1211', 'https://ur.wikipedia.org/wiki/165%D8%A1', 'https://ur.wikipedia.org/wiki/2003_%D9%85%DB%8C%DA%BA_%D9%BE%D8%A7%DA%A9%D8%B3%D8%AA%D8%A7%D9%86', 'https://ur.wikipedia.org/wiki/1701%D8%A1', 'https://ur.wikipedia.org/wiki/15%D9%81%D8%B1%D9%88%D8%B1%DB%8C', 'https://ur.wikipedia.org/wiki/199%D8%A1', 'https://ur.wikipedia.org/wiki/1822_(%D8%B9%D8%AF%D8%AF)', 'https://ur.wikipedia.org/wiki/1936%D8%A1_%DA%AF%D8%B1%D9%85%D8%A7%D8%A6%DB%8C_%D8%A7%D9%88%D9%84%D9%85%D9%BE%DA%A9%D8%B3', 'https://ur.wikipedia.org/wiki/178%D8%A1', 'https://ur.wikipedia.org/wiki/1555_(%D8%B9%D8%AF%D8%AF)', 'https://ur.wikipedia.org/wiki/1930_%D9%83%D9%8A_%D8%AF%DB%81%D8%A7%D8%A6%D9%8A', 'http://www.youtube.com/watch?v=hOUvEOMhvW0&feature=related', 'https://ur.wikipedia.org/wiki/12_%D8%AC%D9%86%D9%88%D8%B1%DB%8C', 'https://ur.wikipedia.org/wiki/1170%D8%A1_%DA%A9%DB%8C_%D8%AF%DB%81%D8%A7%D8%A6%DB%8C', 'https://ur.wikipedia.org/wiki/1745', 'https://ur.wikipedia.org/wiki/13_%D8%B5%D9%81%D8%B1', 'https://ur.wikipedia.org/wiki/1729_(%D8%B9%D8%AF%D8%AF)', 'https://ur.wikipedia.org/wiki/1293', 'https://ur.wikipedia.org/wiki/1065%D8%A1', 'https://ur.wikipedia.org/wiki/1784_(%D8%B9%D8%AF%D8%AF)', 'https://ur.wikipedia.org/wiki/181_(%D8%B9%D8%AF%D8%AF)', 'https://ur.wikipedia.org/wiki/1100%D8%A1_%DA%A9%DB%8C_%D8%AF%DB%81%D8%A7%D8%A6%DB%8C', 'https://ur.wikipedia.org/wiki/13_%D8%B1%D8%A8%D9%8A%D8%B9_%D8%A7%D9%84%D8%AB%D8%A7%D9%86%D9%8A', 'https://ur.wikipedia.org/wiki/1948_%D8%B9%D8%B1%D8%A8_%D8%A7%D8%B3%D8%B1%D8%A7%D8%A6%D9%8A%D9%84_%D8%AC%D9%86%DA%AF', 'https://ur.wikipedia.org/wiki/1909%D8%A1', 'https://ur.wikipedia.org/wiki/1800%D8%A1', 'https://ur.wikipedia.org/wiki/15_%D8%B0%D9%88%D8%A7%D9%84%D8%AD%D8%AC%DB%81', 'https://ur.wikipedia.org/wiki/1376%DA%BE', 'https://ur.wikipedia.org/wiki/1692_(%D8%B9%D8%AF%D8%AF)', 'https://ur.wikipedia.org/wiki/19%D8%A7%D9%BE%D8%B1%D9%8A%D9%84', 'https://ur.wikipedia.org/wiki/1300%E2%80%931309', 'https://ur.wikipedia.org/wiki/1146_(%D8%B9%D8%AF%D8%AF)', 'https://ur.wikipedia.org/wiki/120', 'https://ur.wikipedia.org/wiki/1942%D8%A1', 'https://ur.wikipedia.org/wiki/1067%D8%A1', 'https://ur.wikipedia.org/wiki/17%D9%81%D8%B1%D9%88%D8%B1%D9%8A', 'https://ur.wikipedia.org/wiki/14_%D9%85%D8%A6%DB%8C', 'https://ur.wikipedia.org/wiki/1288%D8%A1', 'https://ur.wikipedia.org/wiki/1709_(%D8%B9%D8%AF%D8%AF)', 'https://ur.wikipedia.org/wiki/1357%D8%A1', 'https://ur.wikipedia.org/wiki/11_%D8%AC%D9%88%D9%84%D8%A7%D8%A6%D9%8A', 'https://ur.wikipedia.org/wiki/1890_%DA%A9%DB%8C_%D8%AF%DB%81%D8%A7%D8%A6%DB%8C', 'https://ur.wikipedia.org/wiki/1533_(%D8%B9%D8%AF%D8%AF)', 'https://ur.wikipedia.org/wiki/17_%D8%B4%D9%88%D8%A7%D9%84', 'https://ur.wikipedia.org/wiki/130%D8%A1', 'https://ur.wikipedia.org/wiki/133%D8%A1', 'https://ur.wikipedia.org/wiki/1928_%DA%AF%D8%B1%D9%85%D8%A7%D8%A6%DB%8C_%D8%A7%D9%88%D9%84%D9%85%D9%BE%DA%A9%D8%B3', 'https://ur.wikipedia.org/wiki/135%DA%BE', 'https://ur.wikipedia.org/wiki/1209%D8%A1', 'https://ur.wikipedia.org/wiki/1217%DA%BE', 'https://ur.wikipedia.org/wiki/1455%D8%A1', 'https://ur.wikipedia.org/wiki/1457_(%D8%B9%D8%AF%D8%AF)', 'https://ur.wikipedia.org/wiki/1948%D8%A1_%DA%AF%D8%B1%D9%85%D8%A7%D8%A6%DB%8C_%D8%A7%D9%88%D9%84%D9%85%D9%BE%DA%A9%D8%B3', 'https://ur.wikipedia.org/wiki/1874_(%D8%B9%D8%AF%D8%AF)', 'https://ur.wikipedia.org/wiki/1864_(%D8%B9%D8%AF%D8%AF)', 'https://ur.wikipedia.org/wiki/1330%DA%BE', 'https://ur.wikipedia.org/wiki/1342%D8%A1', 'https://ur.wikipedia.org/wiki/2003%D8%A1_%DA%A9%DB%8C_%D9%88%D9%81%DB%8C%D8%A7%D8%AA', 'https://ur.wikipedia.org/wiki/1457', 'https://ur.wikipedia.org/wiki/1629_(%D8%B9%D8%AF%D8%AF)', 'https://ur.wikipedia.org/wiki/1904', 'https://ur.wikipedia.org/wiki/180_%DA%A9%DB%8C_%D8%AF%DB%81%D8%A7%D8%A6%DB%8C', 'https://ur.wikipedia.org/wiki/1979_(%D8%B9%D8%AF%D8%AF)', 'https://ur.wikipedia.org/wiki/1682', 'https://ur.wikipedia.org/wiki/1106%D8%A1', 'https://ur.wikipedia.org/wiki/16_%D8%B3%D8%AA%D9%85%D8%A8%D8%B1', 'https://ur.wikipedia.org/wiki/1736%D8%A1', 'https://ur.wikipedia.org/wiki/1347%DA%BE', 'https://ur.wikipedia.org/wiki/1305', 'https://ur.wikipedia.org/wiki/1736', 'https://ur.wikipedia.org/wiki/14_%D8%B1%D9%85%D8%B6%D8%A7%D9%86', 'https://ur.wikipedia.org/wiki/11%D8%AC%D9%86%D9%88%D8%B1%DB%8C', 'https://ur.wikipedia.org/wiki/1491_(%D8%B9%D8%AF%D8%AF)', 'https://ur.wikipedia.org/wiki/124%D8%A1', 'https://ur.wikipedia.org/wiki/1837%D8%A1', 'https://ur.wikipedia.org/wiki/13th_century', 'https://ur.wikipedia.org/wiki/1485%D8%A1', 'https://ur.wikipedia.org/wiki/1427%D8%A1', 'https://ur.wikipedia.org/wiki/1708', 'https://ur.wikipedia.org/wiki/200', 'https://ur.wikipedia.org/wiki/1574', 'https://ur.wikipedia.org/wiki/1330%D8%A1_%DA%A9%DB%8C_%D8%AF%DB%81%D8%A7%D8%A6%DB%8C', 'https://ur.wikipedia.org/wiki/1161%DA%BE', 'https://ur.wikipedia.org/wiki/1508%D8%A1', 'https://ur.wikipedia.org/wiki/1091_(%D8%B9%D8%AF%D8%AF)', 'https://ur.wikipedia.org/wiki/1821_(%D8%B9%D8%AF%D8%AF)', 'https://ur.wikipedia.org/wiki/16%D9%81%D8%B1%D9%88%D8%B1%DB%8C', 'https://ur.wikipedia.org/wiki/1590%D8%A1_%DA%A9%DB%8C_%D8%AF%DB%81%D8%A7%D8%A6%DB%8C', 'https://ur.wikipedia.org/wiki/1404_(%D8%B9%D8%AF%D8%AF)', 'https://ur.wikipedia.org/wiki/1820%D8%A1_%DA%A9%DB%92_%D8%A7%D9%86%D9%82%D9%84%D8%A7%D8%A8%D8%A7%D8%AA', 'https://ur.wikipedia.org/wiki/19_%D8%A7%D9%83%D8%AA%D9%88%D8%A8%D8%B1', 'http://dailytimes.com.pk/writer/shehroz-kaleem/', 'https://ur.wikipedia.org/wiki/1211%DA%BE', 'https://ur.wikipedia.org/wiki/1685_(%D8%B9%D8%AF%D8%AF)', 'https://ur.wikipedia.org/wiki/1308', 'https://ur.wikipedia.org/wiki/1580_%D9%83%D9%8A_%D8%AF%DB%81%D8%A7%D8%A6%D9%8A', 'https://ur.wikipedia.org/wiki/1910%D8%A1', 'https://ur.wikipedia.org/wiki/1366%D8%A1', 'https://ur.wikipedia.org/wiki/1190_%DA%A9%DB%8C_%D8%AF%DB%81%D8%A7%D8%A6%DB%8C', 'https://ur.wikipedia.org/wiki/1286_(%D8%B9%D8%AF%D8%AF)', 'https://ur.wikipedia.org/wiki/1596_(%D8%B9%D8%AF%D8%AF)', 'https://ur.wikipedia.org/wiki/1186%D8%A1', 'https://ur.wikipedia.org/wiki/1670_%D9%83%D9%8A_%D8%AF%DB%81%D8%A7%D8%A6%D9%8A', 'https://ur.wikipedia.org/wiki/1379%D8%A1', 'https://ur.wikipedia.org/wiki/14%D9%86%D8%A8%D9%88%DB%8C_%D9%85%DB%8C%DA%BA_%D8%B3%DB%8C%D8%B1%D8%AA_%D9%86%D8%A8%D9%88%DB%8C', 'https://ur.wikipedia.org/wiki/12_%D8%B1%D9%85%D8%B6%D8%A7%D9%86', 'http://www.who.int/gho/publications/world_health_statistics/EN_WHS2013_Full.pdf', 'http://www.islamidawah.com/', 'https://ur.wikipedia.org/wiki/1269%DA%BE', 'https://ur.wikipedia.org/wiki/119_(%D8%B9%D8%AF%D8%AF)', 'https://ur.wikipedia.org/wiki/1881%D8%A1', 'https://ur.wikipedia.org/wiki/1384%DA%BE', 'https://ur.wikipedia.org/wiki/1215%DA%BE', 'https://ur.wikipedia.org/wiki/1072', 'https://ur.wikipedia.org/wiki/13_%D8%AC%D9%88%D9%84%D8%A7%D8%A6%DB%8C_2018%D8%A1_%D9%85%D8%B3%D8%AA%D9%88%D9%86%DA%AF_%D8%AE%D9%88%D8%AF%DA%A9%D8%B4_%D8%AD%D9%85%D9%84%DB%81', 'https://ur.wikipedia.org/wiki/1543%D8%A1', 'https://ur.wikipedia.org/wiki/1684_(%D8%B9%D8%AF%D8%AF)', 'https://ur.wikipedia.org/wiki/1838%D8%A1_%DB%81%D9%86%D8%AF%D9%88%D8%B3%D8%AA%D8%A7%D9%86_%D9%85%DB%8C%DA%BA', 'https://ur.wikipedia.org/wiki/1%D8%AC%D9%88%D9%86', 'https://ur.wikipedia.org/wiki/1810%D8%A1_%D9%83%D9%8A_%D8%AF%DB%81%D8%A7%D8%A6%D9%8A', 'https://ur.wikipedia.org/wiki/1086%D8%A1', 'https://ur.wikipedia.org/wiki/1665%D8%A1', 'https://ur.wikipedia.org/wiki/18_%D9%81%D8%B1%D9%88%D8%B1%DB%8C', 'https://ur.wikipedia.org/wiki/1483%D8%A1', 'https://ur.wikipedia.org/wiki/11_%D8%A7%D9%8A%D9%84_%D8%B3%D9%86%D9%88%D8%A8%D8%B1', 'https://ur.wikipedia.org/wiki/143%DA%BE', 'https://ur.wikipedia.org/wiki/131%D8%A1', 'https://ur.wikipedia.org/wiki/1830%D8%A1_%DA%A9%DB%8C_%D8%AF%DB%81%D8%A7%D8%A6%DB%8C', 'https://ur.wikipedia.org/wiki/1062%D8%A1', 'https://ur.wikipedia.org/wiki/1211%D8%A1', 'https://ur.wikipedia.org/wiki/1854', 'https://ur.wikipedia.org/wiki/1667', 'https://ur.wikipedia.org/wiki/1261_(%D8%B9%D8%AF%D8%AF)', 'https://ur.wikipedia.org/wiki/1771%D8%A1', 'https://ur.wikipedia.org/wiki/18_%D8%B0%D9%88%D8%A7%D9%84%D9%82%D8%B9%D8%AF%DB%81', 'https://ur.wikipedia.org/wiki/1700_%DA%A9%DB%8C_%D8%AF%DB%81%D8%A7%D8%A6%DB%8C', 'https://ur.wikipedia.org/wiki/1335_(%D8%B9%D8%AF%D8%AF)', 'https://ur.wikipedia.org/wiki/1575', 'https://ur.wikipedia.org/wiki/1152_(%D8%B9%D8%AF%D8%AF)', 'https://ur.wikipedia.org/wiki/1860_%DA%A9%DB%8C_%D8%AF%DB%81%D8%A7%D8%A6%DB%8C', 'https://ur.wikipedia.org/wiki/1836%D8%A1', 'https://ur.wikipedia.org/wiki/160%D8%A1', 'https://ur.wikipedia.org/wiki/1948%D8%A1_%D8%B9%D8%B1%D8%A8_%D8%A7%D8%B3%D8%B1%D8%A7%D8%A6%DB%8C%D9%84_%D8%AC%D9%86%DA%AF', 'https://ur.wikipedia.org/wiki/1300_%D9%83%D9%8A_%D8%AF%DB%81%D8%A7%D8%A6%D9%8A', 'https://ur.wikipedia.org/wiki/12_%D9%81%D8%B1%D9%88%D8%B1%D9%8A', 'https://ur.wikipedia.org/wiki/1377%D8%A1', 'http://www.fiji.gov.fj', 'https://ur.wikipedia.org/wiki/1667_(%D8%B9%D8%AF%D8%AF)', 'https://ur.wikipedia.org/wiki/1347', 'https://ur.wikipedia.org/wiki/1948%D8%A1', 'https://ur.wikipedia.org/wiki/19_%D8%AC%D9%88%D9%86', 'https://ur.wikipedia.org/wiki/1924_%DA%A9%D9%88%DB%81%D8%A7%D9%B9_%D9%81%D8%B3%D8%A7%D8%AF%D8%A7%D8%AA', 'https://ur.wikipedia.org/wiki/1841', 'https://ur.wikipedia.org/wiki/1751', 'https://ur.wikipedia.org/wiki/1990_%D9%81%DB%8C%D9%81%D8%A7_%D8%B9%D8%A7%D9%84%D9%85%DB%8C_%DA%A9%D9%BE', 'https://ur.wikipedia.org/wiki/1542', 'https://ur.wikipedia.org/wiki/19_(%D8%B9%D8%AF%D8%AF)', 'https://ur.wikipedia.org/wiki/1801_%DB%81%D9%86%D8%AF%D9%88%D8%B3%D8%AA%D8%A7%D9%86_%D9%85%DB%8C%DA%BA', 'https://ur.wikipedia.org/wiki/1205', 'https://ur.wikipedia.org/wiki/1964', 'https://ur.wikipedia.org/wiki/1297_(%D8%B9%D8%AF%D8%AF)', 'http://www.britannica.com/EBchecked/topic/653569/Yom-Kippur.', 'https://ur.wikipedia.org/wiki/1740_%DA%A9%DB%8C_%D8%AF%DB%81%D8%A7%D8%A6%DB%8C', 'https://ur.wikipedia.org/wiki/1755%D8%A1', 'https://ur.wikipedia.org/wiki/1706%D8%A1', 'https://ur.wikipedia.org/wiki/1869_(%D8%B9%D8%AF%D8%AF)', 'https://ur.wikipedia.org/wiki/11_%D8%B0%D9%88%D8%A7%D9%84%D9%82%D8%B9%D8%AF%DB%81', 'https://ur.wikipedia.org/wiki/135', 'https://ur.wikipedia.org/wiki/1284_(%D8%B9%D8%AF%D8%AF)', 'https://ur.wikipedia.org/wiki/11%D8%A1', 'https://ur.wikipedia.org/wiki/1397%D8%A1', 'https://ur.wikipedia.org/wiki/1819_(%D8%B9%D8%AF%D8%AF)', 'https://ur.wikipedia.org/wiki/1835%D8%A1_%DB%81%D9%86%D8%AF%D9%88%D8%B3%D8%AA%D8%A7%D9%86_%D9%85%DB%8C%DA%BA', 'https://ur.wikipedia.org/wiki/1124%DA%BE', 'https://ur.wikipedia.org/wiki/1811', 'https://ur.wikipedia.org/wiki/1984_%DA%AF%D8%B1%D9%85%D8%A7%D8%A6%DB%8C_%D8%A7%D9%88%D9%84%D9%85%D9%BE%DA%A9%D8%B3', 'https://ur.wikipedia.org/wiki/1753_(%D8%B9%D8%AF%D8%AF)', 'https://ur.wikipedia.org/wiki/1138', 'https://ur.wikipedia.org/wiki/147%D8%A1', 'https://ur.wikipedia.org/wiki/1690_%D9%83%D9%8A_%D8%AF%DB%81%D8%A7%D8%A6%D9%8A', 'https://ur.wikipedia.org/wiki/1937%D8%A1', 'https://ur.wikipedia.org/wiki/1070%D8%A1', 'https://ur.wikipedia.org/wiki/1458%D8%A1', 'https://ur.wikipedia.org/wiki/1853%D8%A1', 'https://ur.wikipedia.org/wiki/1429', 'https://ur.wikipedia.org/wiki/134', 'https://ur.wikipedia.org/wiki/128%DA%BE', 'https://ur.wikipedia.org/wiki/1510%D8%A1_%D9%83%D9%8A_%D8%AF%DB%81%D8%A7%D8%A6%D9%8A', 'https://ur.wikipedia.org/wiki/1870%D8%A1_%DA%A9%DB%8C_%D8%AF%DB%81%D8%A7%D8%A6%DB%8C', 'https://ur.wikipedia.org/wiki/14_%D8%A7%D9%BE%D8%B1%DB%8C%D9%84', 'https://ur.wikipedia.org/wiki/1066%DA%BE', 'https://ur.wikipedia.org/wiki/1849_(%D8%B9%D8%AF%D8%AF)', 'https://ur.wikipedia.org/wiki/1362', 'https://ur.wikipedia.org/wiki/1825', 'https://ur.wikipedia.org/wiki/172_(%D8%B9%D8%AF%D8%AF)', 'https://ur.wikipedia.org/wiki/1201_(%D8%B9%D8%AF%D8%AF)', 'https://ur.wikipedia.org/wiki/1356%DA%BE', 'https://ur.wikipedia.org/wiki/1224_(%D8%B9%D8%AF%D8%AF)', 'https://ur.wikipedia.org/wiki/1947%D8%B3%D8%A8%D9%85', 'https://ur.wikipedia.org/wiki/1427%DA%BE', 'https://ur.wikipedia.org/wiki/1090%D8%A1_%D9%83%D9%8A_%D8%AF%DB%81%D8%A7%D8%A6%D9%8A', 'https://ur.wikipedia.org/wiki/1242_(%D8%B9%D8%AF%D8%AF)', 'https://ur.wikipedia.org/wiki/1221_(%D8%B9%D8%AF%D8%AF)', 'https://ur.wikipedia.org/wiki/1545_(%D8%B9%D8%AF%D8%AF)', 'https://ur.wikipedia.org/wiki/1_%D8%A7%DA%AF%D8%B3%D8%AA', 'https://ur.wikipedia.org/wiki/1182%D8%A1', 'https://ur.wikipedia.org/wiki/1530_(%D8%B9%D8%AF%D8%AF)', 'https://ur.wikipedia.org/wiki/1400%DA%BE', 'https://ur.wikipedia.org/wiki/1788%D8%A1', 'https://ur.wikipedia.org/wiki/1799', 'https://ur.wikipedia.org/wiki/1_%D8%A7%DB%8C%D8%B3%D8%AF%D8%B1%D8%B3', 'https://ur.wikipedia.org/wiki/1663%D8%A1', 'https://ur.wikipedia.org/wiki/1986%D8%A1', 'https://ur.wikipedia.org/wiki/1401', 'https://ur.wikipedia.org/wiki/1276', 'https://ur.wikipedia.org/wiki/1911_(%D8%B9%D8%AF%D8%AF)', 'https://ur.wikipedia.org/wiki/1356', 'https://ur.wikipedia.org/wiki/15_%D8%B3%D8%AA%D9%85%D8%A8%D8%B1', 'https://ur.wikipedia.org/wiki/1098_(%D8%B9%D8%AF%D8%AF)', 'https://ur.wikipedia.org/wiki/1073%D8%A1', 'https://ur.wikipedia.org/wiki/1115%DA%BE', 'https://ur.wikipedia.org/wiki/1700', 'https://ur.wikipedia.org/wiki/1217', 'https://ur.wikipedia.org/wiki/1638%D8%A1', 'https://ur.wikipedia.org/wiki/1388%D8%A1', 'https://ur.wikipedia.org/wiki/18%D9%81%D8%B1%D9%88%D8%B1%DB%8C', 'https://ur.wikipedia.org/wiki/1700_%DB%81%D9%86%D8%AF%D9%88%D8%B3%D8%AA%D8%A7%D9%86_%D9%85%D9%8A%DA%BA', 'https://ur.wikipedia.org/wiki/1481%D8%A1', 'https://ur.wikipedia.org/wiki/1354', 'https://ur.wikipedia.org/wiki/1446%D8%A1', 'https://ur.wikipedia.org/wiki/1253%D8%A1', 'https://ur.wikipedia.org/wiki/1631%D8%A1', 'https://ur.wikipedia.org/wiki/1914%D8%A1', 'https://ur.wikipedia.org/wiki/1812', 'https://ur.wikipedia.org/wiki/1120', 'https://ur.wikipedia.org/wiki/1544%D8%A1', 'https://ur.wikipedia.org/wiki/1100_(%D8%B9%D8%AF%D8%AF)', 'https://ur.wikipedia.org/wiki/1830_%DA%A9%DB%8C_%D8%AF%DB%81%D8%A7%D8%A6%DB%8C', 'https://ur.wikipedia.org/wiki/1309_(%D8%B9%D8%AF%D8%AF)', 'https://ur.wikipedia.org/wiki/11%D8%A7%D9%BE%D8%B1%DB%8C%D9%84', 'https://ur.wikipedia.org/wiki/1446', 'https://ur.wikipedia.org/wiki/1917', 'https://ur.wikipedia.org/wiki/1302', 'https://ur.wikipedia.org/wiki/19_%D8%AC%D9%86%D9%88%D8%B1%D9%8A', 'https://ur.wikipedia.org/wiki/1642%D8%A1', 'https://ur.wikipedia.org/wiki/1442', 'https://ur.wikipedia.org/wiki/1130_%DA%A9%DB%8C_%D8%AF%DB%81%D8%A7%D8%A6%DB%8C', 'https://ur.wikipedia.org/wiki/1758%D8%A1', 'https://ur.wikipedia.org/wiki/1680', 'https://ur.wikipedia.org/wiki/129', 'https://ur.wikipedia.org/wiki/1264%D8%A1', 'https://ur.wikipedia.org/wiki/1420%D8%A1_%DA%A9%DB%8C_%D8%AF%DB%81%D8%A7%D8%A6%DB%8C', 'https://ur.wikipedia.org/wiki/1148%DA%BE', 'https://ur.wikipedia.org/wiki/1602%D8%A1', 'https://ur.wikipedia.org/wiki/1765%D8%A1_%D9%85%DB%8C%DA%BA_%D9%82%D8%A7%D8%A6%D9%85_%DB%81%D9%88%D9%86%DB%92_%D9%88%D8%A7%D9%84%DB%8C_%D8%B3%DB%8C%D8%A7%D8%B3%DB%8C_%D8%AA%D9%86%D8%B8%DB%8C%D9%85%DB%8C%DA%BA', 'https://ur.wikipedia.org/wiki/11_%D8%B3%D8%AA%D9%85%D8%A8%D8%B1_2001%D8%A1%D8%8C_%D8%B1%DB%8C%D8%A7%D8%B3%D8%AA%DB%81%D8%A7%D8%A6%DB%92_%D9%85%D8%AA%D8%AD%D8%AF%DB%81_%D8%AF%DB%81%D8%B4%D8%AA_%DA%AF%D8%B1%D8%AF%DB%8C', 'https://ur.wikipedia.org/wiki/1406%D8%A1', 'https://ur.wikipedia.org/wiki/2003_%D9%83%D8%B1%D9%83%D9%B9_%D8%B9%D8%A7%D9%84%D9%85%D9%8A_%D9%83%D9%BE', 'https://ur.wikipedia.org/wiki/1910_%DA%A9%DB%8C_%D8%AF%DB%81%D8%A7%D8%A6%DB%8C', 'https://ur.wikipedia.org/wiki/1337', 'https://ur.wikipedia.org/wiki/1397', 'https://ur.wikipedia.org/wiki/1976%D8%A1_%DA%AF%D8%B1%D9%85%D8%A7%D8%A6%DB%8C_%D8%A7%D9%88%D9%84%D9%85%D9%BE%DA%A9%D8%B3', 'https://ur.wikipedia.org/wiki/1380', 'https://ur.wikipedia.org/wiki/1866', 'https://ur.wikipedia.org/wiki/1896_%DA%AF%D8%B1%D9%85%D8%A7%D8%A6%D9%8A_%D8%A7%D9%88%D9%84%D9%85%D9%BE%D9%83%D8%B3', 'https://ur.wikipedia.org/wiki/1241%DA%BE', 'https://ur.wikipedia.org/wiki/1364_(%D8%B9%D8%AF%D8%AF)', 'https://ur.wikipedia.org/wiki/1092_(%D8%B9%D8%AF%D8%AF)', 'https://ur.wikipedia.org/wiki/1430_(%D8%B9%D8%AF%D8%AF)', 'https://ur.wikipedia.org/wiki/1314', 'https://ur.wikipedia.org/wiki/1578_(%D8%B9%D8%AF%D8%AF)', 'https://ur.wikipedia.org/wiki/1938%D8%A1_%D9%81%DB%8C%D9%81%D8%A7_%D8%B9%D8%A7%D9%84%D9%85%DB%8C_%DA%A9%D9%BE', 'https://ur.wikipedia.org/wiki/1270_(%D8%B9%D8%AF%D8%AF)', 'https://ur.wikipedia.org/wiki/166%DA%BE', 'https://ur.wikipedia.org/wiki/1890%D8%A1_%D9%83%D9%8A_%D8%AF%DB%81%D8%A7%D8%A6%D9%8A', 'https://ur.wikipedia.org/wiki/1901_(%D8%B9%D8%AF%D8%AF)', 'https://ur.wikipedia.org/wiki/1884_(%D8%B9%D8%AF%D8%AF)', 'https://ur.wikipedia.org/wiki/12%D9%81%D8%B1%D9%88%D8%B1%DB%8C', 'https://ur.wikipedia.org/wiki/1363', 'https://ur.wikipedia.org/wiki/1126%D8%A1', 'https://ur.wikipedia.org/wiki/1414', 'https://ur.wikipedia.org/wiki/155_(%D8%B9%D8%AF%D8%AF)', 'https://ur.wikipedia.org/wiki/1791_(%D8%B9%D8%AF%D8%AF)', 'https://ur.wikipedia.org/wiki/1346_(%D8%B9%D8%AF%D8%AF)', 'https://ur.wikipedia.org/wiki/11_%D8%A7%D9%88_%DA%A9%D9%84%D8%A7%DA%A9', 'https://ur.wikipedia.org/wiki/11_%D8%A7%DA%AF%D8%B3%D8%AA', 'https://ur.wikipedia.org/wiki/1760%D8%A1', 'https://ur.wikipedia.org/wiki/108_%D9%85%D8%A7%D8%A6%D9%84_%D8%B1%DB%8C%D9%86%DA%86%D8%8C_%D8%A8%D8%B1%D9%B9%D8%B4_%DA%A9%D9%88%D9%84%D9%85%D8%A8%DB%8C%D8%A7', 'https://ur.wikipedia.org/wiki/1562%D8%A1', 'https://ur.wikipedia.org/wiki/161_(%D8%B9%D8%AF%D8%AF)', 'https://ur.wikipedia.org/wiki/1495_(%D8%B9%D8%AF%D8%AF)', 'https://ur.wikipedia.org/wiki/1440_(%D8%B9%D8%AF%D8%AF)', 'https://ur.wikipedia.org/wiki/1926%D8%A1', 'https://ur.wikipedia.org/wiki/1414%DA%BE', 'https://ur.wikipedia.org/wiki/1521_(%D8%B9%D8%AF%D8%AF)', 'https://ur.wikipedia.org/wiki/1177', 'https://ur.wikipedia.org/wiki/1765_%D9%85%D9%8A%DA%BA_%D9%82%D8%A7%D8%A6%D9%85_%DB%81%D9%88%D9%86%DB%92_%D9%88%D8%A7%D9%84%D9%8A_%D8%B3%D9%8A%D8%A7%D8%B3%D9%8A_%D8%AA%D9%86%D8%B8%D9%8A%D9%85%D9%8A%DA%BA', 'https://ur.wikipedia.org/wiki/167_(%D8%B9%D8%AF%D8%AF)', 'https://ur.wikipedia.org/wiki/1130%D8%A1', 'https://ur.wikipedia.org/wiki/1384%D8%A1', 'https://ur.wikipedia.org/wiki/1127_(%D8%B9%D8%AF%D8%AF)', 'https://ur.wikipedia.org/wiki/19_%D8%A7%D9%BE%D8%B1%DB%8C%D9%84', 'https://ur.wikipedia.org/wiki/1922', 'https://ur.wikipedia.org/wiki/1908_(%D8%B9%D8%AF%D8%AF)', 'https://ur.wikipedia.org/wiki/1276%DA%BE', 'https://ur.wikipedia.org/wiki/131_(%D8%B9%D8%AF%D8%AF)', 'https://ur.wikipedia.org/wiki/1824_(%D8%B9%D8%AF%D8%AF)', 'https://ur.wikipedia.org/wiki/1672%D8%A1', 'https://www.google.com/maps/vt/data=HUGLBZItlMo0V-wSyUcobgHElJj_qnt5z6HVorflDpZWNV3aATHZTHYIvrTxCbk27r67BIZimPk9vWPQkUz2W0TTTb36FPzHTFzexUhQZsRx2N4PbhqJjrQpB4PBbQlVcYAfmobQ4GNQOYQPNL3vs5fF8uI8xhnUFWTz3XoX0lD2fky6xVoygS6Knkxm5M3twa8eHhrduwDGRdoCiPgcezLOqKi1Bw5P8Zqn?scale=2&w=304}}', 'https://ur.wikipedia.org/wiki/1298', 'https://ur.wikipedia.org/wiki/1449', 'https://ur.wikipedia.org/wiki/1960%D8%A1_%DA%A9%DB%8C_%D8%AF%DB%81%D8%A7%D8%A6%DB%8C', 'https://ur.wikipedia.org/wiki/1785', 'https://ur.wikipedia.org/wiki/13_%D8%B4%D9%88%D8%A7%D9%84', 'https://ur.wikipedia.org/wiki/1125_(%D8%B9%D8%AF%D8%AF)', 'https://ur.wikipedia.org/wiki/10_%D8%AC%D9%88%D9%84%D8%A7%D8%A6%DB%8C', 'https://ur.wikipedia.org/wiki/1984%D8%A1_%DA%AF%D8%B1%D9%85%D8%A7%D8%A6%DB%8C_%D8%A7%D9%88%D9%84%D9%85%D9%BE%DA%A9%D8%B3_%D9%85%DB%8C%DA%BA_%D9%BE%D8%A7%DA%A9%D8%B3%D8%AA%D8%A7%D9%86_%DA%A9%DB%8C_%D8%B4%D8%B1%D8%A7%DA%A9%D8%AA', 'https://ur.wikipedia.org/wiki/1395_(%D8%B9%D8%AF%D8%AF)', 'https://ur.wikipedia.org/wiki/1688_(%D8%B9%D8%AF%D8%AF)', 'https://ur.wikipedia.org/wiki/196%D8%A1', 'https://ur.wikipedia.org/wiki/1390_%D9%83%D9%8A_%D8%AF%DB%81%D8%A7%D8%A6%D9%8A', 'https://ur.wikipedia.org/wiki/1301%DA%BE', 'https://ur.wikipedia.org/wiki/1345%D8%A1', 'https://ur.wikipedia.org/wiki/1555%D8%A1', 'https://ur.wikipedia.org/wiki/1434%DA%BE', 'https://ur.wikipedia.org/wiki/115%D8%A1', 'https://ur.wikipedia.org/wiki/1332%D8%A1', 'https://ur.wikipedia.org/wiki/1133%DA%BE', 'https://ur.wikipedia.org/wiki/1722_(%D8%B9%D8%AF%D8%AF)', 'https://ur.wikipedia.org/wiki/1222_(%D8%B9%D8%AF%D8%AF)', 'https://ur.wikipedia.org/wiki/1230%D8%A1_%DA%A9%DB%8C_%D8%AF%DB%81%D8%A7%D8%A6%DB%8C', 'https://ur.wikipedia.org/wiki/1326%DA%BE', 'https://ur.wikipedia.org/wiki/1499_(%D8%B9%D8%AF%D8%AF)', 'http://www.youtube.com/watch?v=1IKjgmIDeBU', 'https://ur.wikipedia.org/wiki/161%DA%BE', 'https://ur.wikipedia.org/wiki/16_%D8%AC%D9%86%D9%88%D8%B1%DB%8C', 'https://ur.wikipedia.org/wiki/1088_(%D8%B9%D8%AF%D8%AF)', 'https://ur.wikipedia.org/wiki/1369%D8%A1', 'https://ur.wikipedia.org/wiki/1929', 'https://ur.wikipedia.org/wiki/1223%DA%BE', 'https://ur.wikipedia.org/wiki/1075%D8%A1', 'https://ur.wikipedia.org/wiki/1986_%D9%81%D9%8A%D9%81%D8%A7_%D8%B9%D8%A7%D9%84%D9%85%D9%8A_%D9%83%D9%BE', 'https://ur.wikipedia.org/wiki/1798%D8%A1', 'https://ur.wikipedia.org/wiki/1365%D8%A1', 'https://ur.wikipedia.org/wiki/13_%D8%AC%D9%85%D8%A7%D8%AF%DB%8C_%D8%A7%D9%84%D8%A7%D9%88%D9%84', 'https://ur.wikipedia.org/wiki/1255', 'https://ur.wikipedia.org/wiki/1400_%DA%A9%DB%8C_%D8%AF%DB%81%D8%A7%D8%A6%DB%8C', 'https://ur.wikipedia.org/wiki/1857%D8%A1_%DA%A9%DB%8C_%D8%AC%D9%86%DA%AF_%D8%A2%D8%B2%D8%A7%D8%AF%DB%8C', 'https://ur.wikipedia.org/wiki/1692%D8%A1', 'https://ur.wikipedia.org/wiki/1673', 'https://ur.wikipedia.org/wiki/1234', 'https://ur.wikipedia.org/wiki/1892_(%D8%B9%D8%AF%D8%AF)', 'https://ur.wikipedia.org/wiki/178%DA%BE', 'https://ur.wikipedia.org/wiki/1879%D8%A1_%DA%A9%DB%8C_%D8%A2%D8%AB%D8%A7%D8%B1_%D9%82%D8%AF%DB%8C%D9%85%DB%81_%DA%A9%DB%8C_%D8%AF%D8%B1%DB%8C%D8%A7%D9%81%D8%AA%DB%8C%DA%BA', 'https://ur.wikipedia.org/wiki/1520_(%D8%B9%D8%AF%D8%AF)', 'https://ur.wikipedia.org/wiki/1964_%DA%AF%D8%B1%D9%85%D8%A7%D8%A6%DB%8C_%D8%A7%D9%88%D9%84%D9%85%D9%BE%DA%A9%D8%B3', 'https://ur.wikipedia.org/wiki/1307%D8%A1', 'https://ur.wikipedia.org/wiki/1957_(%D8%B9%D8%AF%D8%AF)', 'https://ur.wikipedia.org/wiki/1928%D8%A1', 'https://ur.wikipedia.org/wiki/1230%D8%A1', 'https://ur.wikipedia.org/wiki/1520_%DA%A9%DB%8C_%D8%AF%DB%81%D8%A7%D8%A6%DB%8C', 'https://ur.wikipedia.org/wiki/1985', 'https://ur.wikipedia.org/wiki/1411', 'https://ur.wikipedia.org/wiki/1473%D8%A1', 'https://ur.wikipedia.org/wiki/170_%D9%83%D9%8A_%D8%AF%DB%81%D8%A7%D8%A6%D9%8A', 'https://ur.wikipedia.org/wiki/1986', 'https://ur.wikipedia.org/wiki/177%D8%A1', 'https://ur.wikipedia.org/wiki/150', 'https://ur.wikipedia.org/wiki/137', 'https://ur.wikipedia.org/wiki/1669%D8%A1', 'https://ur.wikipedia.org/wiki/1310_(%D8%B9%D8%AF%D8%AF)', 'https://ur.wikipedia.org/wiki/1967', 'https://ur.wikipedia.org/wiki/16%DA%BE', 'https://ur.wikipedia.org/wiki/1551_(%D8%B9%D8%AF%D8%AF)', 'https://ur.wikipedia.org/wiki/1820%D8%A1_%D9%83%D9%8A_%D8%AF%DB%81%D8%A7%D8%A6%D9%8A', 'https://ur.wikipedia.org/wiki/1451_(%D8%B9%D8%AF%D8%AF)', 'https://ur.wikipedia.org/wiki/1487', 'https://ur.wikipedia.org/wiki/1611%D8%A1', 'https://ur.wikipedia.org/wiki/1707_(%D8%B9%D8%AF%D8%AF)', 'https://ur.wikipedia.org/wiki/1374_(%D8%B9%D8%AF%D8%AF)', 'https://ur.wikipedia.org/wiki/1276%D8%A1', 'https://ur.wikipedia.org/wiki/151_(%D8%B9%D8%AF%D8%AF)', 'https://ur.wikipedia.org/wiki/17_%D9%85%D8%A7%D8%B1%DA%86', 'https://ur.wikipedia.org/wiki/1906', 'https://ur.wikipedia.org/wiki/1398', 'https://ur.wikipedia.org/wiki/187%DA%BE', 'https://ur.wikipedia.org/wiki/1360%D8%A1_%DA%A9%DB%8C_%D8%AF%DB%81%D8%A7%D8%A6%DB%8C', 'https://ur.wikipedia.org/wiki/1586', 'https://ur.wikipedia.org/wiki/1682%D8%A1', 'https://ur.wikipedia.org/wiki/1974%D8%A1', 'https://ur.wikipedia.org/wiki/1244%D8%A1', 'https://ur.wikipedia.org/wiki/2000%E2%80%932009', 'https://ur.wikipedia.org/wiki/1730%D8%A1_%DA%A9%DB%8C_%D8%AF%DB%81%D8%A7%D8%A6%DB%8C', 'https://ur.wikipedia.org/wiki/19%D8%A1', 'https://ur.wikipedia.org/wiki/1826_(%D8%B9%D8%AF%D8%AF)', 'https://ur.wikipedia.org/wiki/1613_(%D8%B9%D8%AF%D8%AF)', 'https://ur.wikipedia.org/wiki/17_%D9%81%D8%B1%D9%88%D8%B1%DB%8C', 'https://ur.wikipedia.org/wiki/1728', 'https://ur.wikipedia.org/wiki/13%D9%86%D8%A8%D9%88%DB%8C_%D9%85%DB%8C%DA%BA_%D8%B3%DB%8C%D8%B1%D8%AA_%D9%86%D8%A8%D9%88%DB%8C', 'https://ur.wikipedia.org/wiki/1988_%DA%AF%D8%B1%D9%85%D8%A7%D8%A6%D9%8A_%D8%A7%D9%88%D9%84%D9%85%D9%BE%D9%83%D8%B3', 'https://ur.wikipedia.org/wiki/1986_(%D8%B9%D8%AF%D8%AF)', 'https://ur.wikipedia.org/wiki/140', 'https://ur.wikipedia.org/wiki/17_%D8%B4%D8%B9%D8%A8%D8%A7%D9%86', 'https://ur.wikipedia.org/wiki/1362%D8%A1', 'https://ur.wikipedia.org/wiki/129_(%D8%B9%D8%AF%D8%AF)', 'https://ur.wikipedia.org/wiki/1309%D8%A1', 'https://ur.wikipedia.org/wiki/1467', 'https://ur.wikipedia.org/wiki/1649', 'https://ur.wikipedia.org/wiki/197', 'https://ur.wikipedia.org/wiki/1233%D8%A1', 'https://ur.wikipedia.org/wiki/1687_(%D8%B9%D8%AF%D8%AF)', 'https://ur.wikipedia.org/wiki/12_%D8%AC%D9%88%D9%84%D8%A7%D8%A6%DB%8C', 'https://ur.wikipedia.org/wiki/1992_%DA%AF%D8%B1%D9%85%D8%A7%D8%A6%DB%8C_%D8%A7%D9%88%D9%84%D9%85%D9%BE%DA%A9%D8%B3', 'https://ur.wikipedia.org/wiki/1928%D8%A1_%DA%AF%D8%B1%D9%85%D8%A7%D8%A6%D9%8A_%D8%A7%D9%88%D9%84%D9%85%D9%BE%D9%83%D8%B3', 'http://www.ocasia.org/game/NocsMedalCount.as', 'https://ur.wikipedia.org/wiki/1904_%DA%AF%D8%B1%D9%85%D8%A7%D8%A6%D9%8A_%D8%A7%D9%88%D9%84%D9%85%D9%BE%D9%83%D8%B3', 'http://www.elmedeen.com/author-274-حضرت-مولانا-محمد-اسلم-شیخوپوری-صاحب', 'https://ur.wikipedia.org/wiki/1714%D8%A1', 'https://ur.wikipedia.org/wiki/1783_(%D8%B9%D8%AF%D8%AF)', 'https://ur.wikipedia.org/wiki/1806_(%D8%B9%D8%AF%D8%AF)', 'https://ur.wikipedia.org/wiki/11%DA%BE', 'https://ur.wikipedia.org/wiki/1851', 'https://ur.wikipedia.org/wiki/1925', 'https://ur.wikipedia.org/wiki/1251_(%D8%B9%D8%AF%D8%AF)', 'https://ur.wikipedia.org/wiki/1475', 'https://ur.wikipedia.org/wiki/1266%D8%A1', 'https://ur.wikipedia.org/wiki/1373%D8%A1', 'https://ur.wikipedia.org/wiki/1363%D8%A1', 'https://ur.wikipedia.org/wiki/1924_%DA%AF%D8%B1%D9%85%D8%A7%D8%A6%D9%8A_%D8%A7%D9%88%D9%84%D9%85%D9%BE%D9%83%D8%B3', 'https://ur.wikipedia.org/wiki/1394%D8%A1', 'https://ur.wikipedia.org/wiki/13_%D8%B5%D8%AF%DB%8C_%DB%81%D8%AC%D8%B1%DB%8C', 'https://ur.wikipedia.org/wiki/1251%DA%BE', 'https://ur.wikipedia.org/wiki/11_(%D8%B6%D8%AF_%D8%A7%D8%A8%DB%81%D8%A7%D9%85)', 'https://ur.wikipedia.org/wiki/10_%D8%B1%DB%8C%D9%84%D9%86%DA%AF%D9%B9%D9%86_%D9%BE%D9%84%DB%8C%D8%B3', 'https://ur.wikipedia.org/wiki/122%D8%A1', 'https://ur.wikipedia.org/wiki/1791', 'https://ur.wikipedia.org/wiki/19_%D9%85%D8%A6%DB%8C', 'https://ur.wikipedia.org/wiki/1468_(%D8%B9%D8%AF%D8%AF)', 'https://ur.wikipedia.org/wiki/1275', 'https://ur.wikipedia.org/wiki/1310', 'https://ur.wikipedia.org/wiki/1580%D8%A1_%DA%A9%DB%8C_%D8%AF%DB%81%D8%A7%D8%A6%DB%8C', 'https://ur.wikipedia.org/wiki/1_%D8%A7%D9%BE%D8%B1%DB%8C%D9%84', 'https://ur.wikipedia.org/wiki/1713', 'https://ur.wikipedia.org/wiki/1441_(%D8%B9%D8%AF%D8%AF)', 'https://ur.wikipedia.org/wiki/1164', 'https://ur.wikipedia.org/wiki/1883', 'https://ur.wikipedia.org/wiki/13%D8%AC%D9%86%D9%88%D8%B1%D9%8A', 'https://ur.wikipedia.org/wiki/1514', 'https://ur.wikipedia.org/wiki/1802_(%D8%B9%D8%AF%D8%AF)', 'https://ur.wikipedia.org/wiki/1193%D8%A1', 'https://ur.wikipedia.org/wiki/1683%D8%A1', 'https://ur.wikipedia.org/wiki/1921_%D8%A8%DA%A9%D9%86%DA%AF%DA%BE%D9%85_%D8%A7%DB%8C%D9%86%DA%88_%DA%A9%D8%B1%D9%86%D8%A7%D9%B9%DA%A9_%D9%85%D9%84%D8%B2_%DB%81%DA%91%D8%AA%D8%A7%D9%84', 'https://ur.wikipedia.org/wiki/1260%DA%BE', 'https://ur.wikipedia.org/wiki/1938_%D9%81%DB%8C%D9%81%D8%A7_%D8%B9%D8%A7%D9%84%D9%85%DB%8C_%DA%A9%D9%BE', 'https://ur.wikipedia.org/wiki/1197%DA%BE', 'https://ur.wikipedia.org/wiki/1726%DA%BE', 'https://ur.wikipedia.org/wiki/1730_(%D8%B9%D8%AF%D8%AF)', 'https://ur.wikipedia.org/wiki/1737_(%D8%B9%D8%AF%D8%AF)', 'https://ur.wikipedia.org/wiki/1703_(%D8%B9%D8%AF%D8%AF)', 'https://ur.wikipedia.org/wiki/1416', 'https://ur.wikipedia.org/wiki/1904_%DA%AF%D8%B1%D9%85%D8%A7%D8%A6%D9%8A_%D8%A7%D9%88%D9%84%D9%85%D9%BE%D9%83%D8%B3_%D9%83%DB%92_%D9%85%D9%8A%D8%AF%D8%A7%D9%86', 'https://ur.wikipedia.org/wiki/1993_%D9%BE%D8%A7%D9%86%DA%AF%D9%84_%D9%82%D8%AA%D9%84_%D8%B9%D8%A7%D9%85', 'https://ur.wikipedia.org/wiki/1473', 'https://ur.wikipedia.org/wiki/11%D9%86%D9%88%D9%85%D8%A8%D8%B1', 'https://ur.wikipedia.org/wiki/1422_(%D8%B9%D8%AF%D8%AF)', 'https://ur.wikipedia.org/wiki/178_(%D8%B9%D8%AF%D8%AF)', 'https://ur.wikipedia.org/wiki/1450%D8%A1_%D9%83%D9%8A_%D8%AF%DB%81%D8%A7%D8%A6%D9%8A', 'https://ur.wikipedia.org/wiki/12_%D8%A7%DA%AF%D8%B3%D8%AA', 'https://ur.wikipedia.org/wiki/1850_%D9%83%D9%8A_%D8%AF%DB%81%D8%A7%D8%A6%D9%8A', 'https://ur.wikipedia.org/wiki/1080%D8%A1_%DA%A9%DB%8C_%D8%AF%DB%81%D8%A7%D8%A6%DB%8C', 'https://ur.wikipedia.org/wiki/1875_(%D8%B9%D8%AF%D8%AF)', 'https://ur.wikipedia.org/wiki/2002_%D9%81%DB%8C%D9%81%D8%A7_%D8%B9%D8%A7%D9%84%D9%85%DB%8C_%DA%A9%D9%BE', 'https://ur.wikipedia.org/wiki/1927', 'https://ur.wikipedia.org/wiki/1604', 'https://ur.wikipedia.org/wiki/1941%D8%A1', 'https://ur.wikipedia.org/wiki/1349%DA%BE', 'https://ur.wikipedia.org/wiki/1083', 'https://ur.wikipedia.org/wiki/15_%D9%85%D8%A6%DB%8C', 'https://ur.wikipedia.org/wiki/1153%DA%BE', 'https://ur.wikipedia.org/wiki/1076%D8%A1', 'https://ur.wikipedia.org/wiki/1452_(%D8%B9%D8%AF%D8%AF)', 'https://ur.wikipedia.org/wiki/11_%D8%AC%D9%86%D9%88%D8%B1%D9%8A', 'https://ur.wikipedia.org/wiki/190', 'https://ur.wikipedia.org/wiki/1184_(%D8%B9%D8%AF%D8%AF)', 'https://ur.wikipedia.org/wiki/1179%DA%BE', 'https://ur.wikipedia.org/wiki/1899%D8%A1-1900%D8%A1_%DA%A9%D8%A7_%DB%81%D9%86%D8%AF%D9%88%D8%B3%D8%AA%D8%A7%D9%86%DB%8C_%D9%82%D8%AD%D8%B7', 'https://en.wikipedia.org/w/index.php?title=Gardez&re', 'https://ur.wikipedia.org/wiki/1937', 'https://ur.wikipedia.org/wiki/1972%D8%A1', 'https://ur.wikipedia.org/wiki/1313%DA%BE', 'https://ur.wikipedia.org/wiki/1163_(%D8%B9%D8%AF%D8%AF)', 'https://ur.wikipedia.org/wiki/1361', 'https://ur.wikipedia.org/wiki/1687_%D8%A7%D9%88%D8%B1_1689_%DA%A9%DB%8C_%DA%A9%D8%B1%DB%8C%D9%85%DB%8C%D8%A7%D8%A6%DB%8C_%D9%85%DB%81%D9%85%DB%8C%DA%BA', 'https://ur.wikipedia.org/wiki/1777%D8%A1', 'https://ur.wikipedia.org/wiki/19_%D9%85%D8%A6%D9%8A', 'https://ur.wikipedia.org/wiki/1867%D8%A1', 'https://ur.wikipedia.org/wiki/2', 'https://ur.wikipedia.org/wiki/1947_(%D8%B9%D8%AF%D8%AF)', 'https://ur.wikipedia.org/wiki/148%DA%BE', 'https://ur.wikipedia.org/wiki/1068%D8%A1', 'https://ur.wikipedia.org/wiki/1_%D8%AC%D9%86%D9%88%D8%B1%DB%8C', 'https://ur.wikipedia.org/wiki/11_%D8%A7%D9%BE%D8%B1%D9%8A%D9%84', 'https://ur.wikipedia.org/wiki/1950%D8%A1', 'https://ur.wikipedia.org/wiki/1286%DA%BE', 'https://ur.wikipedia.org/wiki/1430%DA%BE', 'https://ur.wikipedia.org/wiki/10_%D8%B1%D8%A8%DB%8C%D8%B9_%D8%A7%D9%84%D8%A7%D9%88%D9%84', 'https://ur.wikipedia.org/wiki/1651_(%D8%B9%D8%AF%D8%AF)', 'https://ur.wikipedia.org/wiki/1386%DA%BE', 'https://ur.wikipedia.org/wiki/1332', 'https://ur.wikipedia.org/wiki/1198%DA%BE', 'https://ur.wikipedia.org/wiki/142', 'https://ur.wikipedia.org/wiki/1948_(%D8%B9%D8%AF%D8%AF)', 'https://ur.wikipedia.org/wiki/1%D8%A7%D9%BE%D8%B1%D9%8A%D9%84', 'https://ur.wikipedia.org/wiki/1421%DA%BE', 'https://ur.wikipedia.org/wiki/1703', 'https://ur.wikipedia.org/wiki/1392', 'https://ur.wikipedia.org/wiki/1630_%DA%A9%DB%8C_%D8%AF%DB%81%D8%A7%D8%A6%DB%8C', 'https://ur.wikipedia.org/wiki/189', 'https://ur.wikipedia.org/wiki/19_(%D8%B6%D8%AF_%D8%A7%D8%A8%DB%81%D8%A7%D9%85)', 'https://ur.wikipedia.org/wiki/105_%D9%85%D8%A7%D8%A6%D9%84_%DB%81%D8%A7%D8%A4%D8%B3', 'https://ur.wikipedia.org/wiki/19_%D9%85%D8%AD%D8%B1%D9%85', 'https://ur.wikipedia.org/wiki/1236_(%D8%B9%D8%AF%D8%AF)', 'https://ur.wikipedia.org/wiki/1403', 'https://ur.wikipedia.org/wiki/17_%D8%B0%D9%88%D8%A7%D9%84%D8%AD%D8%AC%DB%81', 'https://ur.wikipedia.org/wiki/16_%D8%AC%D9%85%D8%A7%D8%AF%DB%8C_%D8%A7%D9%84%D8%AB%D8%A7%D9%86%DB%8C', 'https://ur.wikipedia.org/wiki/1680%D8%A1', 'https://ur.wikipedia.org/wiki/13_%D9%81%D8%B1%D9%88%D8%B1%D9%8A', 'https://ur.wikipedia.org/wiki/1121%D8%A1', 'https://ur.wikipedia.org/wiki/1456_(%D8%B9%D8%AF%D8%AF)', 'http://www.bbc.co.uk/urdu/pakistan/story/2009/02/printable/090210_ayear_baloch_sen.shtml', 'https://ur.wikipedia.org/wiki/1976_%DA%AF%D8%B1%D9%85%D8%A7%D8%A6%D9%8A_%D8%A7%D9%88%D9%84%D9%85%D9%BE%D9%83%D8%B3', 'https://ur.wikipedia.org/wiki/16_%D9%81%D8%B1%D9%88%D8%B1%DB%8C', 'https://ur.wikipedia.org/wiki/1609', 'https://ur.wikipedia.org/wiki/1231', 'https://ur.wikipedia.org/wiki/1492_(%D8%B9%D8%AF%D8%AF)', 'https://ur.wikipedia.org/wiki/112%DA%BE', 'https://ur.wikipedia.org/wiki/2002%D8%A1_%D9%85%D9%8A%DA%BA_%D9%BE%D8%A7%D9%83%D8%B3%D8%AA%D8%A7%D9%86_%D9%85%D9%8A%DA%BA_%D8%AF%DB%81%D8%B4%D8%AA_%DA%AF%D8%B1%D8%AF%D9%8A', 'https://ur.wikipedia.org/wiki/1390', 'https://ur.wikipedia.org/wiki/1336_(%D8%B9%D8%AF%D8%AF)', 'https://ur.wikipedia.org/wiki/1600%D8%A1_%D9%85%DB%8C%DA%BA_%D9%81%DB%81%D8%B1%D8%B3%D8%AA_%D9%85%D9%85%D8%A7%D9%84%DA%A9_%D8%A8%D9%84%D8%AD%D8%A7%D8%B8_%D8%A2%D8%A8%D8%A7%D8%AF%DB%8C', 'https://ur.wikipedia.org/wiki/18_%D8%A7%D9%BE%D8%B1%DB%8C%D9%84', 'https://ur.wikipedia.org/wiki/190_%DA%A9%DB%8C_%D8%AF%DB%81%D8%A7%D8%A6%DB%8C', 'https://ur.wikipedia.org/wiki/1295%D8%A1', 'https://ur.wikipedia.org/wiki/1780_%D9%83%D9%8A_%D8%AF%DB%81%D8%A7%D8%A6%D9%8A', 'https://ur.wikipedia.org/wiki/184', 'https://ur.wikipedia.org/wiki/1219%D8%A1', 'https://ur.wikipedia.org/wiki/1896%D8%A1_%DA%AF%D8%B1%D9%85%D8%A7%D8%A6%DB%8C_%D8%A7%D9%88%D9%84%D9%85%D9%BE%DA%A9%D8%B3', 'https://ur.wikipedia.org/wiki/1351%D8%A1', 'https://ur.wikipedia.org/wiki/115', 'https://ur.wikipedia.org/wiki/12_%D8%A7%D9%BE%D8%B1%DB%8C%D9%84', 'https://ur.wikipedia.org/wiki/18%D8%AC%D9%86%D9%88%D8%B1%D9%8A', 'https://ur.wikipedia.org/wiki/158%D8%A1', 'https://ur.wikipedia.org/wiki/1083%DA%BE', 'http://www.ditext.com/runes/index.html', 'https://ur.wikipedia.org/wiki/1700_%DB%81%D9%86%D8%AF%D9%88%D8%B3%D8%AA%D8%A7%D9%86_%D9%85%DB%8C%DA%BA', 'https://ur.wikipedia.org/wiki/1712', 'https://ur.wikipedia.org/wiki/1080%D8%A1_%D9%83%D9%8A_%D8%AF%DB%81%D8%A7%D8%A6%D9%8A', 'https://ur.wikipedia.org/wiki/1600%D8%A1_%DA%A9%DB%8C_%D8%AF%DB%81%D8%A7%D8%A6%DB%8C', 'https://ur.wikipedia.org/wiki/1482%D8%A1', 'https://ur.wikipedia.org/wiki/1951%D8%A1', 'https://ur.wikipedia.org/wiki/1148', 'http://www.youtube.com/watch?v=HEheh1BH34Q&feature=related', 'https://ur.wikipedia.org/wiki/16_%D8%AC%D9%88%D9%86', 'https://ur.wikipedia.org/wiki/13%D9%81%D8%B1%D9%88%D8%B1%D9%8A', 'https://ur.wikipedia.org/wiki/1904_%DA%AF%D8%B1%D9%85%D8%A7%D8%A6%DB%8C_%D8%A7%D9%88%D9%84%D9%85%D9%BE%DA%A9%D8%B3', 'https://ur.wikipedia.org/wiki/1437%DA%BE', 'https://ur.wikipedia.org/wiki/16_%D8%A7%D9%BE%D8%B1%DB%8C%D9%84', 'https://ur.wikipedia.org/wiki/1413%D8%A1', 'https://ur.wikipedia.org/wiki/1220%DA%BE', 'https://ur.wikipedia.org/wiki/1973_(%D8%B9%D8%AF%D8%AF)', 'https://ur.wikipedia.org/wiki/1223', 'https://ur.wikipedia.org/wiki/1344_(%D8%B9%D8%AF%D8%AF)', 'https://ur.wikipedia.org/wiki/1150%D8%A1_%DA%A9%DB%8C_%D8%AF%DB%81%D8%A7%D8%A6%DB%8C', 'https://ur.wikipedia.org/wiki/1954', 'https://ur.wikipedia.org/wiki/1522', 'https://ur.wikipedia.org/wiki/1274_(%D8%B9%D8%AF%D8%AF)', 'https://ur.wikipedia.org/wiki/1334%DA%BE', 'https://ur.wikipedia.org/wiki/1715%D8%A1', 'https://ur.wikipedia.org/wiki/1581%D8%A1', 'https://ur.wikipedia.org/wiki/1947%D8%A1', 'https://ur.wikipedia.org/wiki/1772', 'https://ur.wikipedia.org/wiki/1475%D8%A1', 'https://ur.wikipedia.org/wiki/1077_(%D8%B9%D8%AF%D8%AF)', 'https://ur.wikipedia.org/wiki/13%D9%86%D8%A8%D9%88%D9%8A_%D9%85%D9%8A%DA%BA_%D8%B3%D9%8A%D8%B1%D8%AA_%D9%86%D8%A8%D9%88%D9%8A', 'https://ur.wikipedia.org/wiki/1255_(%D8%B9%D8%AF%D8%AF)', 'https://ur.wikipedia.org/wiki/1164_(%D8%B9%D8%AF%D8%AF)', 'https://ur.wikipedia.org/wiki/1787_(%D8%B9%D8%AF%D8%AF)', 'https://ur.wikipedia.org/wiki/1761_%DB%81%D9%86%D8%AF%D9%88%D8%B3%D8%AA%D8%A7%D9%86_%D9%85%D9%8A%DA%BA', 'https://ur.wikipedia.org/wiki/1838', 'https://ur.wikipedia.org/wiki/1734_(%D8%B9%D8%AF%D8%AF)', 'https://ur.wikipedia.org/wiki/1537', 'https://ur.wikipedia.org/wiki/1601', 'https://ur.wikipedia.org/wiki/11_%D8%B1%D9%85%D8%B6%D8%A7%D9%86', 'https://ur.wikipedia.org/wiki/1_%D8%AC%D9%88%D9%84%D8%A7%D8%A6%D9%8A', 'https://ur.wikipedia.org/wiki/1240', 'https://ur.wikipedia.org/wiki/1744_(%D8%B9%D8%AF%D8%AF)', 'https://ur.wikipedia.org/wiki/1518_(%D8%B9%D8%AF%D8%AF)', 'https://ur.wikipedia.org/wiki/1210%D8%A1_%DA%A9%DB%8C_%D8%AF%DB%81%D8%A7%D8%A6%DB%8C', 'https://ur.wikipedia.org/wiki/2001%D8%A1_%D9%85%D9%8A%DA%BA_%D9%BE%D8%A7%D9%83%D8%B3%D8%AA%D8%A7%D9%86', 'https://ur.wikipedia.org/wiki/13_%D8%B0%D9%88%D8%A7%D9%84%D8%AD%D8%AC%DB%81', 'https://ur.wikipedia.org/wiki/1497', 'https://ur.wikipedia.org/wiki/1530%D8%A1_%DA%A9%DB%8C_%D8%AF%DB%81%D8%A7%D8%A6%DB%8C', 'https://ur.wikipedia.org/wiki/1200%D8%A1', 'https://ur.wikipedia.org/wiki/1650_%D9%83%D9%8A_%D8%AF%DB%81%D8%A7%D8%A6%D9%8A', 'https://ur.wikipedia.org/wiki/1438%DA%BE', 'https://ur.wikipedia.org/wiki/1930_(%D8%B9%D8%AF%D8%AF)', 'https://ur.wikipedia.org/wiki/1634', 'https://ur.wikipedia.org/wiki/1716_(%D8%B9%D8%AF%D8%AF)', 'https://ur.wikipedia.org/wiki/1393%DA%BE', 'https://ur.wikipedia.org/wiki/1923%D8%A1_%DA%A9%DB%8C_%D8%A8%D8%A7%D9%84%DB%8C_%D9%88%D9%88%DA%88_%D9%81%D9%84%D9%85%D9%88%DA%BA_%DA%A9%DB%8C_%D9%81%DB%81%D8%B1%D8%B3%D8%AA', 'https://ur.wikipedia.org/wiki/1821%D8%A1', 'https://ur.wikipedia.org/wiki/15_%D9%85%D8%A6%D9%8A', 'https://ur.wikipedia.org/wiki/1163%D8%A1', 'https://ur.wikipedia.org/wiki/1679', 'https://ur.wikipedia.org/wiki/1232', 'https://ur.wikipedia.org/wiki/1293%D8%A1', 'https://ur.wikipedia.org/wiki/1961%D8%A1', 'https://ur.wikipedia.org/wiki/1278_(%D8%B9%D8%AF%D8%AF)', 'https://ur.wikipedia.org/wiki/1908_%DA%AF%D8%B1%D9%85%D8%A7%D8%A6%D9%8A_%D8%A7%D9%88%D9%84%D9%85%D9%BE%D9%83%D8%B3', 'https://ur.wikipedia.org/wiki/1900%E2%80%931909', 'https://ur.wikipedia.org/wiki/174%DA%BE', 'https://ur.wikipedia.org/wiki/15_%D9%85%D8%A7%DB%8C%D9%88_%D8%B4%DB%81%D8%B1', 'https://ur.wikipedia.org/wiki/19%D9%86%D8%A8%D9%88%D9%8A_%D9%85%D9%8A%DA%BA_%D8%B3%D9%8A%D8%B1%D8%AA_%D9%86%D8%A8%D9%88%D9%8A', 'https://ur.wikipedia.org/wiki/1214%D8%A1', 'https://ur.wikipedia.org/wiki/1840%D8%A1_%D9%83%D9%8A_%D8%AF%DB%81%D8%A7%D8%A6%D9%8A', 'https://ur.wikipedia.org/wiki/1415', 'https://ur.wikipedia.org/wiki/1948%D8%A1_%DA%A9%DB%8C_%D8%B9%D8%B1%D8%A8_%D8%A7%D8%B3%D8%B1%D8%A7%D8%A6%DB%8C%D9%84%DB%8C_%D8%AC%D9%86%DA%AF', 'https://ur.wikipedia.org/wiki/18%D8%A7%D9%BE%D8%B1%DB%8C%D9%84', 'https://ur.wikipedia.org/wiki/1431%D8%A1', 'https://ur.wikipedia.org/wiki/14_(%D8%B6%D8%AF_%D8%A7%D8%A8%DB%81%D8%A7%D9%85)', 'https://ur.wikipedia.org/wiki/1720_(%D8%B9%D8%AF%D8%AF)', 'https://ur.wikipedia.org/wiki/188', 'https://ur.wikipedia.org/wiki/1142%DA%BE', 'https://ur.wikipedia.org/wiki/1461', 'https://ur.wikipedia.org/wiki/1214', 'https://ur.wikipedia.org/wiki/1501_(%D8%B9%D8%AF%D8%AF)', 'http://www.arts.cuhk.edu.hk/humftp/E-text/Russell/agnostic.htm', 'https://ur.wikipedia.org/wiki/1228_(%D8%B9%D8%AF%D8%AF)', 'https://ur.wikipedia.org/wiki/2001%D8%A1_%D8%B3%DB%92_%D9%BE%D8%A7%D9%83%D8%B3%D8%AA%D8%A7%D9%86_%D9%85%D9%8A%DA%BA_%D8%AF%DB%81%D8%B4%D8%AA_%DA%AF%D8%B1%D8%AF%D8%A7%D9%86%DB%81_%D9%83%D8%A7%D8%B1%D8%B1%D9%88%D8%A7%D8%A6%D9%8A%D9%88%DA%BA_%D9%83%D9%8A_%D9%81%DB%81%D8%B1%D8%B3%D8%AA', 'https://ur.wikipedia.org/wiki/1429_(%D8%B9%D8%AF%D8%AF)', 'https://ur.wikipedia.org/wiki/1910', 'https://ur.wikipedia.org/wiki/1174', 'https://ur.wikipedia.org/wiki/1280', 'https://ur.wikipedia.org/wiki/18_%D9%86%D9%88%D9%85%D8%A8%D8%B1', 'https://ur.wikipedia.org/wiki/1507_(%D8%B9%D8%AF%D8%AF)', 'https://ur.wikipedia.org/wiki/1253%DA%BE', 'https://ur.wikipedia.org/wiki/1352%D8%A1', 'https://ur.wikipedia.org/wiki/1918_(%D8%B9%D8%AF%D8%AF)', 'https://ur.wikipedia.org/wiki/138_(%D8%B9%D8%AF%D8%AF)', 'https://ur.wikipedia.org/wiki/1534%D8%A1', 'https://ur.wikipedia.org/wiki/1282%DA%BE', 'https://ur.wikipedia.org/wiki/1263%DA%BE', 'https://ur.wikipedia.org/wiki/1353%DA%BE', 'https://ur.wikipedia.org/wiki/14_%D8%AC%D9%88%D9%84%D8%A7%D8%A6%DB%8C', 'https://ur.wikipedia.org/wiki/1888_(%D8%B9%D8%AF%D8%AF)', 'https://ur.wikipedia.org/wiki/13_%D8%B3%D8%AA%D9%85%D8%A8%D8%B1', 'https://ur.wikipedia.org/wiki/1140_%D9%83%D9%8A_%D8%AF%DB%81%D8%A7%D8%A6%D9%8A', 'https://ur.wikipedia.org/wiki/1144', 'https://ur.wikipedia.org/wiki/1890_(%D8%B9%D8%AF%D8%AF)', 'https://ur.wikipedia.org/wiki/1_%D8%B0%D9%88%D8%A7%D9%84%D9%82%D8%B9%D8%AF%DB%81', 'https://ur.wikipedia.org/wiki/10_%D8%B1%D8%A8%D9%8A%D8%B9_%D8%A7%D9%84%D8%A7%D9%88%D9%84', 'https://ur.wikipedia.org/wiki/1248', 'https://ur.wikipedia.org/wiki/1644_(%D8%B9%D8%AF%D8%AF)', 'https://ur.wikipedia.org/wiki/1379%DA%BE', 'https://ur.wikipedia.org/wiki/1593', 'https://ur.wikipedia.org/wiki/1325_(%D8%B9%D8%AF%D8%AF)', 'https://ur.wikipedia.org/wiki/1526', 'https://ur.wikipedia.org/wiki/1064%DA%BE', 'https://ur.wikipedia.org/wiki/1894', 'https://ur.wikipedia.org/wiki/1392_(%D8%B9%D8%AF%D8%AF)', 'https://ur.wikipedia.org/wiki/1828_(%D8%B9%D8%AF%D8%AF)', 'https://ur.wikipedia.org/wiki/1968_%DA%AF%D8%B1%D9%85%D8%A7%D8%A6%DB%8C_%D8%A7%D9%88%D9%84%D9%85%D9%BE%DA%A9%D8%B3', 'https://ur.wikipedia.org/wiki/1685%D8%A1', 'https://ur.wikipedia.org/wiki/1868%D8%A1', 'https://ur.wikipedia.org/wiki/132', 'https://ur.wikipedia.org/wiki/13', 'https://ur.wikipedia.org/wiki/12%D9%81%D8%B1%D9%88%D8%B1%D9%8A', 'https://ur.wikipedia.org/wiki/1954%D8%A1_%D9%81%DB%8C%D9%81%D8%A7_%D8%B9%D8%A7%D9%84%D9%85%DB%8C_%DA%A9%D9%BE', 'https://ur.wikipedia.org/wiki/1827%D8%A1', 'https://ur.wikipedia.org/wiki/1300%DA%BE', 'https://ur.wikipedia.org/wiki/1173_(%D8%B9%D8%AF%D8%AF)', 'https://ur.wikipedia.org/wiki/162', 'https://ur.wikipedia.org/wiki/1910_%D9%83%D9%8A_%D8%AF%DB%81%D8%A7%D8%A6%D9%8A', 'https://ur.wikipedia.org/wiki/13_%D8%AC%D9%86%D9%88%D8%B1%D9%8A', 'https://ur.wikipedia.org/wiki/1107%D8%A1', 'https://ur.wikipedia.org/wiki/1267%D8%A1', 'https://ur.wikipedia.org/wiki/1359%DA%BE', 'https://ur.wikipedia.org/wiki/1289_(%D8%B9%D8%AF%D8%AF)', 'http://www.rationalist.org.uk', 'https://ur.wikipedia.org/wiki/1193_(%D8%B9%D8%AF%D8%AF)', 'https://ur.wikipedia.org/wiki/177%DA%BE', 'https://ur.wikipedia.org/wiki/1490_%D9%83%D9%8A_%D8%AF%DB%81%D8%A7%D8%A6%D9%8A', 'https://ur.wikipedia.org/wiki/1931_%DA%86%DB%8C%D9%86_%DA%A9%DB%92_%D8%B3%DB%8C%D9%84%D8%A7%D8%A8', 'https://ur.wikipedia.org/wiki/1149%DA%BE', 'https://ur.wikipedia.org/wiki/1642', 'https://ur.wikipedia.org/wiki/1657', 'https://ur.wikipedia.org/wiki/1950%D8%A1_%DA%A9%DB%8C_%D8%AF%DB%81%D8%A7%D8%A6%DB%8C', 'https://ur.wikipedia.org/wiki/1419', 'https://ur.wikipedia.org/wiki/1972_%DA%AF%D8%B1%D9%85%D8%A7%D8%A6%DB%8C_%D8%A7%D9%88%D9%84%D9%85%D9%BE%DA%A9%D8%B3', 'https://ur.wikipedia.org/wiki/1354%D8%A1', 'https://ur.wikipedia.org/wiki/1730%D8%A1_%D9%83%D9%8A_%D8%AF%DB%81%D8%A7%D8%A6%D9%8A', 'https://ur.wikipedia.org/wiki/1111', 'https://ur.wikipedia.org/wiki/1994_%D8%A7%D9%85%D8%A7%D9%85_%D8%B1%D8%B6%D8%A7_%DA%A9%DB%92_%D9%85%D8%B2%D8%A7%D8%B1_%D9%BE%D8%B1_%D8%A8%D9%85_%D8%AF%DA%BE%D9%85%D8%A7%DA%A9%DB%81', 'https://ur.wikipedia.org/wiki/1%D8%B4%D9%88%D8%A7%D9%84', 'https://ur.wikipedia.org/wiki/1495', 'https://ur.wikipedia.org/wiki/15_%D8%B1%D9%85%D8%B6%D8%A7%D9%86', 'https://ur.wikipedia.org/wiki/1920:%D8%A7%D9%8A%D9%88%D9%84_%D8%B1%D9%B9%D8%B1%D9%86%D8%B2', 'https://ur.wikipedia.org/wiki/1880_%DA%A9%DB%8C_%D8%AF%DB%81%D8%A7%D8%A6%DB%8C', 'https://ur.wikipedia.org/wiki/1382%DA%BE', 'https://ur.wikipedia.org/wiki/2002_%DA%A9%D8%B1%D8%A7%DA%86%DB%8C_%D8%A8%D8%B3_%D9%BE%D8%B1_%D8%A8%D9%85_%D8%AD%D9%85%D9%84%DB%81', 'https://ur.wikipedia.org/wiki/1212', 'https://ur.wikipedia.org/wiki/1643_(%D8%B9%D8%AF%D8%AF)', 'https://ur.wikipedia.org/wiki/1562', 'https://ur.wikipedia.org/wiki/1928%D8%A1_%DA%AF%D8%B1%D9%85%D8%A7%D8%A6%DB%8C_%D8%A7%D9%88%D9%84%D9%85%D9%BE%DA%A9%D8%B3', 'https://ur.wikipedia.org/wiki/1735', 'https://ur.wikipedia.org/wiki/1725%D8%A1', 'https://ur.wikipedia.org/wiki/1679_(%D8%B9%D8%AF%D8%AF)', 'https://ur.wikipedia.org/wiki/1650', 'https://ur.wikipedia.org/wiki/1550', 'https://ur.wikipedia.org/wiki/1669', 'https://ur.wikipedia.org/wiki/1991_%DA%A9%D8%A7_%D9%86%D8%A7%DA%A9%D8%A7%D9%85_%D8%A7%D9%86%D9%82%D9%84%D8%A7%D8%A8_%D8%B9%D8%B1%D8%A7%D9%82', 'https://ur.wikipedia.org/wiki/1740%D8%A1_%D9%83%D9%8A_%D8%AF%DB%81%D8%A7%D8%A6%D9%8A', 'http://www.scribd.com/doc/112008074/Khulafa-e-Hazrat-Shaykhul-Hadith-Muhammad-Zakariyya-r-a', 'https://ur.wikipedia.org/wiki/1327%DA%BE', 'https://ur.wikipedia.org/wiki/1861%D8%A1', 'https://ur.wikipedia.org/wiki/1254%D8%A1', 'https://ur.wikipedia.org/wiki/1385%D8%A1', 'https://ur.wikipedia.org/wiki/1915_%DA%86%D9%86%D8%A7%D9%82_%D9%82%D9%84%D8%B9%DB%81_%D9%BE%D9%84', 'https://ur.wikipedia.org/wiki/1225%D8%A1', 'https://ur.wikipedia.org/wiki/1313%D8%A1', 'https://ur.wikipedia.org/wiki/2002_%D9%85%DB%8C%DA%BA_%D9%BE%D8%A7%DA%A9%D8%B3%D8%AA%D8%A7%D9%86_%D9%85%DB%8C%DA%BA_%D8%AF%DB%81%D8%B4%D8%AA_%DA%AF%D8%B1%D8%AF%DB%8C_%DA%A9%DB%92_%D9%88%D8%A7%D9%82%D8%B9%D8%A7%D8%AA', 'https://ur.wikipedia.org/wiki/1206_(%D8%B9%D8%AF%D8%AF)', 'https://ur.wikipedia.org/wiki/1330_(%D8%B9%D8%AF%D8%AF)', 'https://ur.wikipedia.org/wiki/17_%D8%AC%D9%88%D9%86', 'https://ur.wikipedia.org/wiki/12_%D8%B3%D8%AA%D9%85%D8%A8%D8%B1', 'https://ur.wikipedia.org/wiki/1853', 'https://ur.wikipedia.org/wiki/1280%D8%A1_%DA%A9%DB%8C_%D8%AF%DB%81%D8%A7%D8%A6%DB%8C', 'https://ur.wikipedia.org/wiki/16_%D9%85%D8%A7%D8%B1%DA%86', 'https://ur.wikipedia.org/wiki/1637%D8%A1', 'https://ur.wikipedia.org/wiki/1340%D8%A1_%D9%83%D9%8A_%D8%AF%DB%81%D8%A7%D8%A6%D9%8A', 'https://ur.wikipedia.org/wiki/111', 'https://ur.wikipedia.org/wiki/1984%D8%A1_%D9%83%DB%92_%D8%B3%D9%83%DA%BE_%D9%85%D8%AE%D8%A7%D9%84%D9%81_%D9%81%D8%B3%D8%A7%D8%AF%D8%A7%D8%AA', 'https://ur.wikipedia.org/wiki/1811%D8%A1', 'https://ur.wikipedia.org/wiki/1445_(%D8%B9%D8%AF%D8%AF)', 'https://ur.wikipedia.org/wiki/1420%D8%A1_%D9%83%D9%8A_%D8%AF%DB%81%D8%A7%D8%A6%D9%8A', 'https://ur.wikipedia.org/wiki/1942', 'https://ur.wikipedia.org/wiki/158%DA%BE', 'https://ur.wikipedia.org/wiki/19_%D8%B1%D8%A8%DB%8C%D8%B9_%D8%A7%D9%84%D8%A7%D9%88%D9%84', 'https://ur.wikipedia.org/wiki/1579', 'https://ur.wikipedia.org/wiki/1479%D8%A1', 'https://ur.wikipedia.org/wiki/1870%D8%A1', 'https://ur.wikipedia.org/wiki/1710%D8%A1_%DA%A9%DB%8C_%D8%AF%DB%81%D8%A7%D8%A6%DB%8C', 'https://ur.wikipedia.org/wiki/1093', 'http://blogs.dunyanews.tv/urdu/?author=323', 'https://ur.wikipedia.org/wiki/1423%DA%BE', 'https://ur.wikipedia.org/wiki/1214_(%D8%B9%D8%AF%D8%AF)', 'https://ur.wikipedia.org/wiki/1388_(%D8%B9%D8%AF%D8%AF)', 'https://ur.wikipedia.org/wiki/120%D8%A1', 'https://ur.wikipedia.org/wiki/1198', 'https://ur.wikipedia.org/wiki/182_(%D8%B9%D8%AF%D8%AF)', 'https://ur.wikipedia.org/wiki/1%D8%A1', 'https://ur.wikipedia.org/wiki/1670', 'https://ur.wikipedia.org/wiki/1303%DA%BE', 'https://ur.wikipedia.org/wiki/1628_(%D8%B9%D8%AF%D8%AF)', 'https://ur.wikipedia.org/wiki/1399%D8%A1', 'https://ur.wikipedia.org/wiki/1920:%D8%A7%DB%8C%D9%88%D9%84_%D8%B1%D9%B9%D8%B1%D9%86%D8%B2', 'https://ur.wikipedia.org/wiki/1315%DA%BE', 'https://ur.wikipedia.org/wiki/1896_%DA%AF%D8%B1%D9%85%D8%A7%D8%A6%D9%8A_%D8%A7%D9%88%D9%84%D9%85%D9%BE%D9%83%D8%B3_%D9%85%D9%8A%DA%BA_%D8%A7%D9%8A%D8%AA%DA%BE%D9%84%D9%8A%D9%B9%D9%83%D8%B3', 'https://ur.wikipedia.org/wiki/1735_(%D8%B9%D8%AF%D8%AF)', 'https://ur.wikipedia.org/wiki/13_%D8%B1%D8%A8%D9%8A%D8%B9_%D8%A7%D9%84%D8%A7%D9%88%D9%84', 'https://ur.wikipedia.org/wiki/1831', 'https://ur.wikipedia.org/wiki/1718_(%D8%B9%D8%AF%D8%AF)', 'https://ur.wikipedia.org/wiki/18%D9%85%D8%A7%D8%B1%DA%86', 'https://ur.wikipedia.org/wiki/1258%D8%A1', 'https://ur.wikipedia.org/wiki/1334%D8%A1', 'https://ur.wikipedia.org/wiki/11_%D9%81%D8%B1%D9%88%D8%B1%DB%8C', 'https://ur.wikipedia.org/wiki/1686%D8%A1', 'https://ur.wikipedia.org/wiki/1639%D8%A1', 'https://ur.wikipedia.org/wiki/2002_%D9%83%D8%B1%D8%A7%DA%86%D9%8A_%D8%A8%D8%B3_%D8%A8%D9%85_%D8%AF%DA%BE%D9%85%D8%A7%D9%83%D8%A7', 'https://ur.wikipedia.org/wiki/1830_%D9%83%D9%8A_%D8%AF%DB%81%D8%A7%D8%A6%D9%8A', 'https://ur.wikipedia.org/wiki/185%D8%A1', 'https://ur.wikipedia.org/wiki/1235%DA%BE', 'https://ur.wikipedia.org/wiki/1896%D8%A1_%DA%AF%D8%B1%D9%85%D8%A7%D8%A6%DB%8C_%D8%A7%D9%88%D9%84%D9%85%D9%BE%DA%A9%D8%B3_%D9%85%DB%8C%DA%BA_%D8%A7%DB%8C%D8%AA%DA%BE%D9%84%DB%8C%D9%B9%DA%A9%D8%B3', 'https://ur.wikipedia.org/wiki/1930%D8%A1_%D9%81%DB%8C%D9%81%D8%A7_%D8%B9%D8%A7%D9%84%D9%85%DB%8C_%DA%A9%D9%BE', 'https://ur.wikipedia.org/wiki/1192', 'https://ur.wikipedia.org/wiki/1331', 'http://iis.ac.uk/publication/cyclical-time-and-ismaili-gnosis', 'https://ur.wikipedia.org/wiki/14_%D8%B0%D9%88%D8%A7%D9%84%D8%AD%D8%AC%DB%81', 'https://ur.wikipedia.org/wiki/1308_(%D8%B9%D8%AF%D8%AF)', 'https://ur.wikipedia.org/wiki/12_%D8%A7%D9%83%D8%AA%D9%88%D8%A8%D8%B1_1999_%D9%83%D9%8A_%D9%BE%D8%A7%D9%83%D8%B3%D8%AA%D8%A7%D9%86_%D9%83%D9%8A_%D9%81%D9%88%D8%AC%D9%8A_%D8%A8%D8%BA%D8%A7%D9%88%D8%AA', 'https://ur.wikipedia.org/wiki/1196%DA%BE', 'https://ur.wikipedia.org/wiki/1_%D8%AC%D9%85%D8%A7%D8%AF%D9%8A_%D8%A7%D9%84%D8%A7%D9%88%D9%84', 'https://ur.wikipedia.org/wiki/15%D8%AC%D9%86%D9%88%D8%B1%DB%8C', 'https://ur.wikipedia.org/wiki/14_%D8%B1%D8%A8%DB%8C%D8%B9_%D8%A7%D9%84%D8%AB%D8%A7%D9%86%DB%8C', 'https://ur.wikipedia.org/wiki/1614', 'https://ur.wikipedia.org/wiki/1127%DA%BE', 'https://ur.wikipedia.org/wiki/1224%D8%A1', 'https://ur.wikipedia.org/wiki/1159_(%D8%B9%D8%AF%D8%AF)', 'https://ur.wikipedia.org/wiki/1460%D8%A1', 'https://ur.wikipedia.org/wiki/1988_(%D8%B9%D8%AF%D8%AF)', 'https://ur.wikipedia.org/wiki/1059_(%D8%B9%D8%AF%D8%AF)', 'https://ur.wikipedia.org/wiki/1387%D8%A1', 'https://ur.wikipedia.org/wiki/1318', 'https://ur.wikipedia.org/wiki/1991_%D9%BE%D9%86%D8%AC%D8%A7%D8%A8_%D9%82%D8%AA%D9%84_%D8%B9%D8%A7%D9%85', 'https://ur.wikipedia.org/wiki/1822%D8%A1', 'https://ur.wikipedia.org/wiki/107%D8%A1', 'https://ur.wikipedia.org/wiki/1748', 'https://ur.wikipedia.org/wiki/1443%DA%BE', 'https://ur.wikipedia.org/wiki/2001%D8%A1_%D8%A8%DA%BE%D8%A7%D8%B1%D8%AA%D9%8A_%D9%BE%D8%A7%D8%B1%D9%84%D9%8A%D9%85%D8%A7%D9%86_%D8%B9%D9%85%D8%A7%D8%B1%D8%AA_%D9%BE%D8%B1_%D8%AD%D9%85%D9%84%DB%81', 'https://ur.wikipedia.org/wiki/1271%D8%A1', 'https://ur.wikipedia.org/wiki/1230_(%D8%B9%D8%AF%D8%AF)', 'https://ur.wikipedia.org/wiki/176%D8%A1', 'https://ur.wikipedia.org/wiki/1090', 'https://ur.wikipedia.org/wiki/1893%D8%A1', 'https://ur.wikipedia.org/wiki/11_%D8%AC%D9%88%D9%84%D8%A7%D8%A6%DB%8C', 'https://ur.wikipedia.org/wiki/140_%DA%A9%DB%8C_%D8%AF%DB%81%D8%A7%D8%A6%DB%8C', 'https://ur.wikipedia.org/wiki/1216', 'https://ur.wikipedia.org/wiki/1387_(%D8%B9%D8%AF%D8%AF)', 'https://ur.wikipedia.org/wiki/1%D9%85%D8%AD%D8%B1%D9%85_%D8%A7%D9%84%D8%AD%D8%B1%D8%A7%D9%85', 'https://ur.wikipedia.org/wiki/1189%DA%BE', 'https://ur.wikipedia.org/wiki/2001%D8%A1_%D9%85%D9%8A%DA%BA_%D9%BE%D8%A7%D9%83%D8%B3%D8%AA%D8%A7%D9%86_%D9%85%D9%8A%DA%BA_%D8%AF%DB%81%D8%B4%D8%AA_%DA%AF%D8%B1%D8%AF%D9%8A_%D9%83%DB%92_%D9%88%D8%A7%D9%82%D8%B9%D8%A7%D8%AA', 'https://ur.wikipedia.org/wiki/1952%D8%A1_%DA%AF%D8%B1%D9%85%D8%A7%D8%A6%DB%8C_%D8%A7%D9%88%D9%84%D9%85%D9%BE%DA%A9%D8%B3', 'https://ur.wikipedia.org/wiki/1807', 'https://ur.wikipedia.org/wiki/169%DA%BE', 'https://ur.wikipedia.org/wiki/1999%D8%A1', 'https://ur.wikipedia.org/wiki/1347_(%D8%B9%D8%AF%D8%AF)', 'https://ur.wikipedia.org/wiki/1646', 'https://ur.wikipedia.org/wiki/1900%D8%A1_%D9%83%D9%8A_%D8%AF%DB%81%D8%A7%D8%A6%D9%8A', 'https://ur.wikipedia.org/wiki/1410%D8%A1_%D9%83%D9%8A_%D8%AF%DB%81%D8%A7%D8%A6%D9%8A', 'https://ur.wikipedia.org/wiki/10%D8%AC%D9%86%D9%88%D8%B1%D9%8A', 'https://ur.wikipedia.org/wiki/2002_%D9%83%D8%B1%D8%A7%DA%86%D9%8A_%D8%A8%D8%B3_%D9%BE%D8%B1_%D8%A8%D9%85_%D8%AD%D9%85%D9%84%DB%81', 'https://ur.wikipedia.org/wiki/1947', 'https://ur.wikipedia.org/wiki/15_%D9%86%D9%88%D9%85%D8%A8%D8%B1', 'https://ur.wikipedia.org/wiki/12_%D9%85%D8%A6%D9%8A', 'https://ur.wikipedia.org/wiki/11_%D8%AC%D9%85%D8%A7%D8%AF%DB%8C_%D8%A7%D9%84%D8%A7%D9%88%D9%84', 'https://ur.wikipedia.org/wiki/152', 'https://ur.wikipedia.org/wiki/1400%D8%A1_%DA%A9%DB%8C_%D8%AF%DB%81%D8%A7%D8%A6%DB%8C', 'https://ur.wikipedia.org/wiki/1201%DA%BE', 'https://ur.wikipedia.org/wiki/112_(%D8%B9%D8%AF%D8%AF)', 'https://ur.wikipedia.org/wiki/110%D8%A1', 'https://ur.wikipedia.org/wiki/1938%D8%A1', 'https://ur.wikipedia.org/wiki/1981%D8%A1', 'https://ur.wikipedia.org/wiki/128', 'https://ur.wikipedia.org/wiki/16_%D8%B1%D8%A8%D9%8A%D8%B9_%D8%A7%D9%84%D8%A7%D9%88%D9%84', 'https://ur.wikipedia.org/wiki/1760_(%D8%B9%D8%AF%D8%AF)', 'https://ur.wikipedia.org/wiki/1834', 'https://ur.wikipedia.org/wiki/1750', 'https://ur.wikipedia.org/wiki/1454_(%D8%B9%D8%AF%D8%AF)', 'https://ur.wikipedia.org/wiki/1993%D8%A1_%D8%A8%D9%85%D8%A8%D8%A6%D9%8A_%D8%A8%D9%85_%D8%AF%DA%BE%D9%85%D8%A7%D9%83%DB%92', 'https://ur.wikipedia.org/wiki/10_%D8%A7%D9%BE%D8%B1%D9%8A%D9%84', 'https://ur.wikipedia.org/wiki/1393%D8%A1', 'https://ur.wikipedia.org/wiki/1541%D8%A1', 'https://ur.wikipedia.org/wiki/1776', 'https://ur.wikipedia.org/wiki/1285_(%D8%B9%D8%AF%D8%AF)', 'https://ur.wikipedia.org/wiki/16_%D8%AF%D8%B3%D9%85%D8%A8%D8%B1', 'https://ur.wikipedia.org/wiki/1591_(%D8%B9%D8%AF%D8%AF)', 'https://ur.wikipedia.org/wiki/1972', 'https://ur.wikipedia.org/wiki/1610%D8%A1_%D9%83%D9%8A_%D8%AF%DB%81%D8%A7%D8%A6%D9%8A', 'https://ur.wikipedia.org/wiki/13_%D8%B1%D8%A8%DB%8C%D8%B9_%D8%A7%D9%84%D8%AB%D8%A7%D9%86%DB%8C', 'https://ur.wikipedia.org/wiki/1471', 'https://ur.wikipedia.org/wiki/1605', 'https://ur.wikipedia.org/wiki/1353', 'https://ur.wikipedia.org/wiki/1710_(%D8%B9%D8%AF%D8%AF)', 'https://ur.wikipedia.org/wiki/1206%DA%BE', 'https://ur.wikipedia.org/wiki/1652', 'https://ur.wikipedia.org/wiki/1900_%DA%AF%D8%B1%D9%85%D8%A7%D8%A6%DB%8C_%D8%A7%D9%88%D9%84%D9%85%D9%BE%DA%A9%D8%B3_%DA%A9%DB%92_%D9%85%DB%8C%D8%AF%D8%A7%D9%86', 'https://ur.wikipedia.org/wiki/1680%D8%A1_%DA%A9%DB%8C_%D8%AF%DB%81%D8%A7%D8%A6%DB%8C', 'https://ur.wikipedia.org/wiki/1183%DA%BE', 'https://ur.wikipedia.org/wiki/1108%DA%BE', 'https://ur.wikipedia.org/wiki/188%D8%A1', 'https://ur.wikipedia.org/wiki/1267%DA%BE', 'https://ur.wikipedia.org/wiki/1161%D8%A1', 'https://ur.wikipedia.org/wiki/1129', 'https://ur.wikipedia.org/wiki/1560_%DA%A9%DB%8C_%D8%AF%DB%81%D8%A7%D8%A6%DB%8C', 'https://ur.wikipedia.org/wiki/1941', 'https://ur.wikipedia.org/wiki/1258', 'https://ur.wikipedia.org/wiki/11%D8%A7%D9%BE%D8%B1%D9%8A%D9%84', 'https://ur.wikipedia.org/wiki/17th_Century', 'https://ur.wikipedia.org/wiki/1798', 'https://ur.wikipedia.org/wiki/150_(%D8%B9%D8%AF%D8%AF)', 'https://ur.wikipedia.org/wiki/11_%D8%AC%D9%85%D8%A7%D8%AF%DB%8C_%D8%A7%D9%84%D8%AB%D8%A7%D9%86%DB%8C', 'https://ur.wikipedia.org/wiki/1339%D8%A1', 'https://ur.wikipedia.org/wiki/1101%D8%A1', 'https://ur.wikipedia.org/wiki/1636', 'https://ur.wikipedia.org/wiki/1653', 'https://ur.wikipedia.org/wiki/1140%D8%A1_%D9%83%D9%8A_%D8%AF%DB%81%D8%A7%D8%A6%D9%8A', 'https://ur.wikipedia.org/wiki/1405%D8%A1', 'https://ur.wikipedia.org/wiki/1665', 'https://ur.wikipedia.org/wiki/1839%D8%A1_%DA%A9%DB%8C_%D8%AE%DB%8C%D9%88%DB%81_%D9%85%DB%81%D9%85', 'https://ur.wikipedia.org/wiki/1624', 'https://ur.wikipedia.org/wiki/1857_%DA%A9%DB%8C_%D8%AC%D9%86%DA%AF_%D8%A7%D8%B2%D8%A7%D8%AF%DB%8C', 'https://ur.wikipedia.org/wiki/1987%D8%A1', 'https://ur.wikipedia.org/wiki/1855%D8%A1', 'https://ur.wikipedia.org/wiki/1606_(%D8%B9%D8%AF%D8%AF)', 'https://ur.wikipedia.org/wiki/1523', 'https://ur.wikipedia.org/wiki/1993%D8%A1_%D9%85%D9%85%D8%A8%D8%A6%DB%8C_%D8%A8%D9%85_%D8%AF%DA%BE%D9%85%D8%A7%DA%A9%DB%92', 'https://ur.wikipedia.org/wiki/1806_%DB%81%D9%86%D8%AF%D9%88%D8%B3%D8%AA%D8%A7%D9%86_%D9%85%D9%8A%DA%BA', 'http://www.jahanescience.com/2015/08/Time-Travel.html?spref=fb', 'https://ur.wikipedia.org/wiki/1729%D8%A1', 'https://ur.wikipedia.org/wiki/1298%D8%A1', 'https://ur.wikipedia.org/wiki/16%D8%A7%D9%BE%D8%B1%D9%8A%D9%84', 'https://ur.wikipedia.org/wiki/14_%D8%A7%D9%BE%D8%B1%D9%8A%D9%84', 'https://ur.wikipedia.org/wiki/1843%D8%A1', 'https://ur.wikipedia.org/wiki/1259%DA%BE', 'https://ur.wikipedia.org/wiki/1739', 'https://ur.wikipedia.org/wiki/18_%D8%AC%D9%85%D8%A7%D8%AF%DB%8C_%D8%A7%D9%84%D8%A7%D9%88%D9%84', 'https://ur.wikipedia.org/wiki/1805%D8%A1', 'https://ur.wikipedia.org/wiki/1205_(%D8%B9%D8%AF%D8%AF)', 'https://ur.wikipedia.org/wiki/1921%D8%A1_%D8%A8%DA%A9%D9%86%DA%AF%DA%BE%D9%85_%D8%A7%DB%8C%D9%86%DA%88_%DA%A9%D8%B1%D9%86%D8%A7%D9%B9%DA%A9_%D9%85%D9%84%D8%B2_%DB%81%DA%91%D8%AA%D8%A7%D9%84', 'https://ur.wikipedia.org/wiki/1138%D8%A1', 'https://ur.wikipedia.org/wiki/1386_(%D8%B9%D8%AF%D8%AF)', 'https://ur.wikipedia.org/wiki/1856%D8%A1_%DB%81%D9%86%D8%AF%D9%88%D8%B3%D8%AA%D8%A7%D9%86_%D9%85%D9%8A%DA%BA', 'https://ur.wikipedia.org/wiki/1082', 'https://ur.wikipedia.org/wiki/1855_(%D8%B9%D8%AF%D8%AF)', 'https://ur.wikipedia.org/wiki/11_%D8%B3%D8%AA%D9%85%D8%A8%D8%B1', 'https://ur.wikipedia.org/wiki/1229%DA%BE', 'https://ur.wikipedia.org/wiki/1756', 'https://ur.wikipedia.org/wiki/114%DA%BE', 'https://ur.wikipedia.org/wiki/14_%D8%B1%D8%A8%DB%8C%D8%B9_%D8%A7%D9%84%D8%A7%D9%88%D9%84', 'https://ur.wikipedia.org/wiki/1936_%DA%AF%D8%B1%D9%85%D8%A7%D8%A6%DB%8C_%D8%A7%D9%88%D9%84%D9%85%D9%BE%DA%A9%D8%B3', 'https://ur.wikipedia.org/wiki/1633', 'https://ur.wikipedia.org/wiki/1700%D8%A1_%DB%81%D9%86%D8%AF%D9%88%D8%B3%D8%AA%D8%A7%D9%86_%D9%85%D9%8A%DA%BA', 'https://ur.wikipedia.org/wiki/1693_(%D8%B9%D8%AF%D8%AF)', 'https://ur.wikipedia.org/wiki/1958_%D9%81%DB%8C%D9%81%D8%A7_%D8%B9%D8%A7%D9%84%D9%85%DB%8C_%DA%A9%D9%BE', 'https://ur.wikipedia.org/wiki/13_%D8%AC%D9%85%D8%A7%D8%AF%D9%8A_%D8%A7%D9%84%D8%AB%D8%A7%D9%86%D9%8A', 'https://ur.wikipedia.org/wiki/18%D9%81%D8%B1%D9%88%D8%B1%D9%8A', 'https://ur.wikipedia.org/wiki/1956_%DA%AF%D8%B1%D9%85%D8%A7%D8%A6%D9%8A_%D8%A7%D9%88%D9%84%D9%85%D9%BE%D9%83%D8%B3', 'https://ur.wikipedia.org/wiki/1881', 'https://ur.wikipedia.org/wiki/1470%D8%A1_%DA%A9%DB%8C_%D8%AF%DB%81%D8%A7%D8%A6%DB%8C', 'https://ur.wikipedia.org/wiki/1370_%D9%83%D9%8A_%D8%AF%DB%81%D8%A7%D8%A6%D9%8A', 'https://ur.wikipedia.org/wiki/1551', 'https://ur.wikipedia.org/wiki/141_(%D8%B9%D8%AF%D8%AF)', 'https://ur.wikipedia.org/wiki/1295', 'https://ur.wikipedia.org/wiki/19_%D9%81%D8%B1%D9%88%D8%B1%D9%8A', 'https://ur.wikipedia.org/wiki/1578', 'https://ur.wikipedia.org/wiki/1733_(%D8%B9%D8%AF%D8%AF)', 'https://ur.wikipedia.org/wiki/13_%D8%B4%D8%B9%D8%A8%D8%A7%D9%86', 'https://ur.wikipedia.org/wiki/1195%DA%BE', 'https://ur.wikipedia.org/wiki/1816%D8%A1', 'https://ur.wikipedia.org/wiki/1951%D8%A1_%D9%85%D9%8A%DA%BA_%D9%BE%D8%A7%D9%83%D8%B3%D8%AA%D8%A7%D9%86', 'https://ur.wikipedia.org/wiki/1725_(%D8%B9%D8%AF%D8%AF)', 'https://ur.wikipedia.org/wiki/1175%D8%A1', 'https://ur.wikipedia.org/wiki/1_%D8%AF%D8%B3%D9%85%D8%A8%D8%B1%DB%92%D8%8C_%D8%B1%D9%88%D9%85%D8%A7%D9%86%D9%8A%DB%81', 'https://ur.wikipedia.org/wiki/1962_%D9%81%D9%8A%D9%81%D8%A7_%D8%B9%D8%A7%D9%84%D9%85%D9%8A_%D9%83%D9%BE', 'https://ur.wikipedia.org/wiki/1542%D8%A1', 'https://ur.wikipedia.org/wiki/1720', 'https://ur.wikipedia.org/wiki/1335%DA%BE', 'https://ur.wikipedia.org/wiki/110_(%D8%B9%D8%AF%D8%AF)', 'https://ur.wikipedia.org/wiki/1_%D9%85%D8%A7%D8%B1%DA%86', 'https://ur.wikipedia.org/wiki/174', 'https://ur.wikipedia.org/wiki/1928', 'https://ur.wikipedia.org/wiki/1362_(%D8%B9%D8%AF%D8%AF)', 'https://ur.wikipedia.org/wiki/1284%D8%A1', 'https://ur.wikipedia.org/wiki/1627', 'https://ur.wikipedia.org/wiki/1193', 'https://ur.wikipedia.org/wiki/1312%D8%A1', 'https://ur.wikipedia.org/wiki/195_(%D8%B9%D8%AF%D8%AF)', 'https://ur.wikipedia.org/wiki/1975_%D9%83%D8%B1%D9%83%D9%B9_%D8%B9%D8%A7%D9%84%D9%85%D9%8A_%D9%83%D9%BE_%D9%81%D8%A7%D8%A6%D9%86%D9%84', 'https://ur.wikipedia.org/wiki/1945%D8%A1', 'https://ur.wikipedia.org/wiki/1837_%DB%81%D9%86%D8%AF%D9%88%D8%B3%D8%AA%D8%A7%D9%86_%D9%85%DB%8C%DA%BA', 'https://ur.wikipedia.org/wiki/187', 'https://ur.wikipedia.org/wiki/1749_(%D8%B9%D8%AF%D8%AF)', 'https://ur.wikipedia.org/wiki/10_%D8%B4%D8%B9%D8%A8%D8%A7%D9%86', 'https://ur.wikipedia.org/wiki/1433', 'https://ur.wikipedia.org/wiki/1075_(%D8%B9%D8%AF%D8%AF)', 'https://ur.wikipedia.org/wiki/1750%D8%A1_%D9%83%D9%8A_%D8%AF%DB%81%D8%A7%D8%A6%D9%8A', 'https://ur.wikipedia.org/wiki/1329_(%D8%B9%D8%AF%D8%AF)', 'https://ur.wikipedia.org/wiki/1866_(%D8%B9%D8%AF%D8%AF)', 'https://ur.wikipedia.org/wiki/1900_(%D8%B9%D8%AF%D8%AF)', 'https://ur.wikipedia.org/wiki/1131%DA%BE', 'https://ur.wikipedia.org/wiki/17_%D9%85%D8%AD%D8%B1%D9%85', 'https://ur.wikipedia.org/wiki/1179', 'https://ur.wikipedia.org/wiki/1699', 'https://ur.wikipedia.org/wiki/1888%D8%A1', 'https://ur.wikipedia.org/wiki/13_%D8%AC%D9%86%D9%88%D8%B1%DB%8C', 'https://ur.wikipedia.org/wiki/1583_(%D8%B9%D8%AF%D8%AF)', 'https://ur.wikipedia.org/wiki/1170%D8%A1_%D9%83%D9%8A_%D8%AF%DB%81%D8%A7%D8%A6%D9%8A', 'https://ur.wikipedia.org/wiki/125', 'https://ur.wikipedia.org/wiki/1915_(%D8%B9%D8%AF%D8%AF)', 'https://ur.wikipedia.org/wiki/1390_(%D8%B9%D8%AF%D8%AF)', 'http://www.youtube.com/user/ask4zeb#p/u/11/KzXS382jvUE', 'https://ur.wikipedia.org/wiki/1307%DA%BE', 'https://ur.wikipedia.org/wiki/17_%D8%A7%DA%A9%D8%AA%D9%88%D8%A8%D8%B1', 'https://ur.wikipedia.org/wiki/1908_%DA%AF%D8%B1%D9%85%D8%A7%D8%A6%DB%8C_%D8%A7%D9%88%D9%84%D9%85%D9%BE%DA%A9%D8%B3', 'https://ur.wikipedia.org/wiki/170%D8%A1', 'https://ur.wikipedia.org/wiki/1999_(%D8%B9%D8%AF%D8%AF)', 'https://ur.wikipedia.org/wiki/1249', 'https://ur.wikipedia.org/wiki/1689%D8%A1', 'https://ur.wikipedia.org/wiki/120_%DA%A9%DB%8C_%D8%AF%DB%81%D8%A7%D8%A6%DB%8C', 'https://ur.wikipedia.org/wiki/1498_(%D8%B9%D8%AF%D8%AF)', 'https://ur.wikipedia.org/wiki/1812_(%D8%B9%D8%AF%D8%AF)', 'https://ur.wikipedia.org/wiki/171%D8%A1', 'https://ur.wikipedia.org/wiki/1910%D8%A1_%DA%A9%DB%8C_%D8%AF%DB%81%D8%A7%D8%A6%DB%8C', 'https://ur.wikipedia.org/wiki/1503_(%D8%B9%D8%AF%D8%AF)', 'https://ur.wikipedia.org/wiki/1736_(%D8%B9%D8%AF%D8%AF)', 'https://ur.wikipedia.org/wiki/1530', 'https://ur.wikipedia.org/wiki/10_%D8%AC%D9%86%D9%88%D8%B1%DB%8C', 'https://ur.wikipedia.org/wiki/1597_(%D8%B9%D8%AF%D8%AF)', 'https://ur.wikipedia.org/wiki/1490%D8%A1_%D9%83%D9%8A_%D8%AF%DB%81%D8%A7%D8%A6%D9%8A', 'https://ur.wikipedia.org/wiki/1466', 'https://ur.wikipedia.org/wiki/17%D8%A7%D9%BE%D8%B1%D9%8A%D9%84', 'https://ur.wikipedia.org/wiki/1203_(%D8%B9%D8%AF%D8%AF)', 'https://ur.wikipedia.org/wiki/1268', 'https://ur.wikipedia.org/wiki/2000%D8%AF%D8%A8%D9%85', 'https://ur.wikipedia.org/wiki/172%D8%A1', 'https://ur.wikipedia.org/wiki/1259', 'https://ur.wikipedia.org/wiki/1068%DA%BE', 'https://ur.wikipedia.org/wiki/1393', 'https://ur.wikipedia.org/wiki/1064', 'https://ur.wikipedia.org/wiki/157_(%D8%B9%D8%AF%D8%AF)', 'https://ur.wikipedia.org/wiki/1717', 'https://ur.wikipedia.org/wiki/1110%D8%A1', 'https://ur.wikipedia.org/wiki/1096', 'https://ur.wikipedia.org/wiki/1343_(%D8%B9%D8%AF%D8%AF)', 'https://ur.wikipedia.org/wiki/1839%D8%A1', 'https://ur.wikipedia.org/wiki/146', 'https://ur.wikipedia.org/wiki/12_%D9%81%D8%B1%D9%88%D8%B1%DB%8C', 'https://ur.wikipedia.org/wiki/1897%D8%A1', 'https://ur.wikipedia.org/wiki/1470_(%D8%B9%D8%AF%D8%AF)', 'https://ur.wikipedia.org/wiki/1769%D8%A1', 'https://ur.wikipedia.org/wiki/1597', 'https://ur.wikipedia.org/wiki/1378', 'https://ur.wikipedia.org/wiki/1466_(%D8%B9%D8%AF%D8%AF)', 'https://ur.wikipedia.org/wiki/1422', 'https://ur.wikipedia.org/wiki/1304', 'https://ur.wikipedia.org/wiki/11_%D8%AC%D9%88%D9%86', 'https://ur.wikipedia.org/wiki/1230', 'http://www.youtube.com/watch?v=fgg2tpUVbXQ', 'https://ur.wikipedia.org/wiki/1145%DA%BE', 'https://ur.wikipedia.org/wiki/1_%D9%81%D8%B1%D9%88%D8%B1%D9%8A', 'https://ur.wikipedia.org/wiki/1080_%DA%A9%DB%8C_%D8%AF%DB%81%D8%A7%D8%A6%DB%8C', 'https://ur.wikipedia.org/wiki/1586%D8%A1', 'https://ur.wikipedia.org/wiki/1904_(%D8%B9%D8%AF%D8%AF)', 'https://ur.wikipedia.org/wiki/1063', 'https://ur.wikipedia.org/wiki/169', 'https://ur.wikipedia.org/wiki/1789%D8%A1', 'https://ur.wikipedia.org/wiki/1%D9%81%D8%B1%D9%88%D8%B1%DB%8C', 'https://ur.wikipedia.org/wiki/1444%D8%A1', 'https://ur.wikipedia.org/wiki/15_%D8%AF%D8%B3%D9%85%D8%A8%D8%B1', 'https://ur.wikipedia.org/wiki/1220', 'https://ur.wikipedia.org/wiki/1421%D8%A1', 'https://ur.wikipedia.org/wiki/1837_%DB%81%D9%86%D8%AF%D9%88%D8%B3%D8%AA%D8%A7%D9%86_%D9%85%D9%8A%DA%BA', 'https://ur.wikipedia.org/wiki/195%DA%BE', 'https://ur.wikipedia.org/wiki/1159%D8%A1', 'https://ur.wikipedia.org/wiki/1273_(%D8%B9%D8%AF%D8%AF)', 'https://ur.wikipedia.org/wiki/1511_(%D8%B9%D8%AF%D8%AF)', 'https://ur.wikipedia.org/wiki/1882%D8%A1', 'https://ur.wikipedia.org/wiki/1929%D8%A1', 'https://ur.wikipedia.org/wiki/1865%D8%A1', 'https://ur.wikipedia.org/wiki/15%DA%BE', 'https://ur.wikipedia.org/wiki/15_%D9%85%D8%A7%D9%8A%D9%88_%D8%B4%DB%81%D8%B1', 'https://ur.wikipedia.org/wiki/12_%D8%B0%D9%88%D8%A7%D9%84%D9%82%D8%B9%D8%AF%DB%81', 'https://ur.wikipedia.org/wiki/1564%D8%A1', 'https://ur.wikipedia.org/wiki/1933%D8%A1', 'https://ur.wikipedia.org/wiki/1151%D8%A1', 'https://ur.wikipedia.org/wiki/1595%D8%A1', 'https://ur.wikipedia.org/wiki/1271', 'https://ur.wikipedia.org/wiki/130_%D9%83%D9%8A_%D8%AF%DB%81%D8%A7%D8%A6%D9%8A', 'https://ur.wikipedia.org/wiki/1223%D8%A1', 'https://ur.wikipedia.org/wiki/1213', 'https://ur.wikipedia.org/wiki/1414%D8%A1', 'https://ur.wikipedia.org/wiki/1920_(%D8%B9%D8%AF%D8%AF)', 'https://ur.wikipedia.org/wiki/1105%D8%A1', 'https://ur.wikipedia.org/wiki/1616%D8%A1', 'https://ur.wikipedia.org/wiki/1330_%DA%A9%DB%8C_%D8%AF%DB%81%D8%A7%D8%A6%DB%8C', 'https://ur.wikipedia.org/wiki/18_%D9%85%D8%AD%D8%B1%D9%85', 'https://ur.wikipedia.org/wiki/1083%D8%A1', 'https://ur.wikipedia.org/wiki/1605_(%D8%B9%D8%AF%D8%AF)', 'https://ur.wikipedia.org/wiki/133%DA%BE', 'https://ur.wikipedia.org/wiki/1069_(%D8%B9%D8%AF%D8%AF)', 'https://ur.wikipedia.org/wiki/1302%D8%A1', 'https://ur.wikipedia.org/wiki/1815', 'https://ur.wikipedia.org/wiki/1%D8%A7%D9%BE%D8%B1%DB%8C%D9%84', 'https://ur.wikipedia.org/wiki/109%D8%A1', 'https://ur.wikipedia.org/wiki/12_%D8%AC%D9%88%D9%86', 'https://ur.wikipedia.org/wiki/1832%D8%A1', 'https://ur.wikipedia.org/wiki/1106%DA%BE', 'https://ur.wikipedia.org/wiki/185%DA%BE', 'https://ur.wikipedia.org/wiki/1850_%DA%A9%DB%8C_%D8%AF%DB%81%D8%A7%D8%A6%DB%8C', 'https://ur.wikipedia.org/wiki/1903', 'https://ur.wikipedia.org/wiki/1958', 'https://ur.wikipedia.org/wiki/1340%D8%A1', 'https://ur.wikipedia.org/wiki/1265%D8%A1', 'https://ur.wikipedia.org/wiki/1890%D8%A1_%DA%A9%DB%8C_%D8%AF%DB%81%D8%A7%D8%A6%DB%8C', 'https://ur.wikipedia.org/wiki/1924%D8%A1_%DA%A9%D9%88%DB%81%D8%A7%D9%B9_%D9%81%D8%B3%D8%A7%D8%AF%D8%A7%D8%AA', 'https://ur.wikipedia.org/wiki/15_%D8%AC%D9%86%D9%88%D8%B1%DB%8C', 'https://ur.wikipedia.org/wiki/1100_%D8%B9%DB%8C%D8%B3%D9%88%DB%8C', 'https://ur.wikipedia.org/wiki/1980_%DA%A9%DB%8C_%D8%AF%DB%81%D8%A7%D8%A6%DB%8C', 'https://ur.wikipedia.org/wiki/1364%DA%BE', 'https://ur.wikipedia.org/wiki/143%D8%A1', 'https://ur.wikipedia.org/wiki/14%D8%AC%D9%86%D9%88%D8%B1%DB%8C', 'https://ur.wikipedia.org/wiki/1%DA%BE', 'https://ur.wikipedia.org/wiki/1092%D8%A1', 'https://ur.wikipedia.org/wiki/1856%D8%A1', 'https://ur.wikipedia.org/wiki/186', 'https://ur.wikipedia.org/wiki/185_(%D8%B9%D8%AF%D8%AF)', 'https://ur.wikipedia.org/wiki/1156%D8%A1', 'https://ur.wikipedia.org/wiki/1292%DA%BE', 'https://ur.wikipedia.org/wiki/1145', 'https://ur.wikipedia.org/wiki/1430_%D9%83%D9%8A_%D8%AF%DB%81%D8%A7%D8%A6%D9%8A', 'https://ur.wikipedia.org/wiki/1203%DA%BE', 'https://ur.wikipedia.org/wiki/131%DA%BE', 'https://ur.wikipedia.org/wiki/1757', 'https://ur.wikipedia.org/wiki/1722', 'https://ur.wikipedia.org/wiki/10%D8%A1_%DA%A9%DB%8C_%D8%AF%DB%81%D8%A7%D8%A6%DB%8C', 'https://ur.wikipedia.org/wiki/1507', 'https://ur.wikipedia.org/wiki/15%D8%A1', 'https://ur.wikipedia.org/wiki/1480%D8%A1_%D9%83%D9%8A_%D8%AF%DB%81%D8%A7%D8%A6%D9%8A', 'https://ur.wikipedia.org/wiki/116%DA%BE', 'https://ur.wikipedia.org/wiki/1402_(%D8%B9%D8%AF%D8%AF)', 'https://ur.wikipedia.org/wiki/1147_(%D8%B9%D8%AF%D8%AF)', 'https://ur.wikipedia.org/wiki/1340%DA%BE', 'https://ur.wikipedia.org/wiki/1990%D8%A1_%DA%A9%DB%8C_%D8%AF%DB%81%D8%A7%D8%A6%DB%8C', 'https://ur.wikipedia.org/wiki/17_%D8%B3%D8%AA%D9%85%D8%A8%D8%B1', 'https://ur.wikipedia.org/wiki/121%DA%BE', 'https://ur.wikipedia.org/wiki/1281%D8%A1', 'https://ur.wikipedia.org/wiki/1935_(%D8%B9%D8%AF%D8%AF)', 'https://ur.wikipedia.org/wiki/1232%DA%BE', 'https://ur.wikipedia.org/wiki/1828', 'https://ur.wikipedia.org/wiki/1963%D8%A1', 'https://ur.wikipedia.org/wiki/1328_(%D8%B9%D8%AF%D8%AF)', 'https://ur.wikipedia.org/wiki/1397%DA%BE', 'https://ur.wikipedia.org/wiki/1370%DA%BE', 'https://ur.wikipedia.org/wiki/1258_(%D8%B9%D8%AF%D8%AF)', 'https://ur.wikipedia.org/wiki/1409_(%D8%B9%D8%AF%D8%AF)', 'https://ur.wikipedia.org/wiki/1294%DA%BE', 'https://ur.wikipedia.org/wiki/1835%D8%A1', 'https://ur.wikipedia.org/wiki/1987_%D9%83%D8%B1%D9%83%D9%B9_%D8%B9%D8%A7%D9%84%D9%85%D9%8A_%D9%83%D9%BE', 'https://ur.wikipedia.org/wiki/1585%D8%A1', 'http://www.bwncity.com', 'https://ur.wikipedia.org/wiki/1723', 'https://ur.wikipedia.org/wiki/1935%D8%A1', 'https://ur.wikipedia.org/wiki/111%D8%A1', 'https://ur.wikipedia.org/wiki/1997%D8%A1', 'https://ur.wikipedia.org/wiki/1993_%D8%A8%D9%85%D8%A8%D8%A6%D9%8A_%D8%A8%D9%85_%D8%AF%DA%BE%D9%85%D8%A7%D9%83%DB%92', 'https://ur.wikipedia.org/wiki/1333%D8%A1', 'https://ur.wikipedia.org/wiki/148', 'https://ur.wikipedia.org/wiki/1453', 'https://ur.wikipedia.org/wiki/1988%D8%A1_%DA%AF%D8%B1%D9%85%D8%A7%D8%A6%D9%8A_%D8%A7%D9%88%D9%84%D9%85%D9%BE%D9%83%D8%B3', 'https://ur.wikipedia.org/wiki/1689%D8%A1_%DA%A9%DB%8C_%D8%B3%DA%A9%D9%88%D9%BE%DB%8C%DB%92_%DA%A9%DB%8C_%D8%A2%DA%AF', 'https://ur.wikipedia.org/wiki/1490', 'https://ur.wikipedia.org/wiki/1168', 'https://ur.wikipedia.org/wiki/1618', 'https://ur.wikipedia.org/wiki/1793_(%D8%B9%D8%AF%D8%AF)', 'https://ur.wikipedia.org/wiki/1359_(%D8%B9%D8%AF%D8%AF)', 'https://ur.wikipedia.org/wiki/1986_%D9%81%DB%8C%D9%81%D8%A7_%D8%B9%D8%A7%D9%84%D9%85%DB%8C_%DA%A9%D9%BE', 'https://ur.wikipedia.org/wiki/1150_%DA%A9%DB%8C_%D8%AF%DB%81%D8%A7%D8%A6%DB%8C', 'https://ur.wikipedia.org/wiki/1928%D8%A1_%D8%AC%D9%86%D9%88%D8%A8%D9%8A_%D8%A8%DA%BE%D8%A7%D8%B1%D8%AA%D9%8A_%D8%B1%D9%8A%D9%84%D9%88%DB%92_%DB%81%DA%91%D8%AA%D8%A7%D9%84', 'http://www.tahaffuz.com/4439/#sthash.pL6zNn86.dpuf', 'https://ur.wikipedia.org/wiki/1740_(%D8%B9%D8%AF%D8%AF)', 'https://ur.wikipedia.org/wiki/1409%DA%BE', 'https://ur.wikipedia.org/wiki/1630%D8%A1_%D9%83%D9%8A_%D8%AF%DB%81%D8%A7%D8%A6%D9%8A', 'https://ur.wikipedia.org/wiki/1327%D8%A1', 'https://ur.wikipedia.org/wiki/1564_(%D8%B9%D8%AF%D8%AF)', 'https://ur.wikipedia.org/wiki/1769', 'https://ur.wikipedia.org/wiki/1662%D8%A1', 'https://ur.wikipedia.org/wiki/1917%D8%A1_%DA%A9%DB%8C_%D8%A8%D8%A7%D9%84%DB%8C_%D9%88%D9%88%DA%88_%D9%81%D9%84%D9%85%D9%88%DA%BA_%DA%A9%DB%8C_%D9%81%DB%81%D8%B1%D8%B3%D8%AA', 'https://ur.wikipedia.org/wiki/119%DA%BE', 'https://ur.wikipedia.org/wiki/1090%DA%BE', 'https://ur.wikipedia.org/wiki/1145%D8%A1', 'https://ur.wikipedia.org/wiki/1617_(%D8%B9%D8%AF%D8%AF)', 'https://ur.wikipedia.org/wiki/1998', 'https://ur.wikipedia.org/wiki/1478', 'https://ur.wikipedia.org/wiki/1553', 'https://ur.wikipedia.org/wiki/1275%D8%A1', 'https://ur.wikipedia.org/wiki/1493', 'https://ur.wikipedia.org/wiki/1265', 'https://ur.wikipedia.org/wiki/1268%D8%A1', 'https://ur.wikipedia.org/wiki/1212_(%D8%B9%D8%AF%D8%AF)', 'https://ur.wikipedia.org/wiki/1499', 'https://ur.wikipedia.org/wiki/1620', 'https://ur.wikipedia.org/wiki/109', 'https://ur.wikipedia.org/wiki/1666%D8%A1', 'https://ur.wikipedia.org/wiki/1600_%D9%83%D9%8A_%D8%AF%DB%81%D8%A7%D8%A6%D9%8A', 'https://ur.wikipedia.org/wiki/1367_(%D8%B9%D8%AF%D8%AF)', 'https://ur.wikipedia.org/wiki/1932', 'https://ur.wikipedia.org/wiki/1749', 'https://ur.wikipedia.org/wiki/1920%D8%A1_%DA%AF%D8%B1%D9%85%D8%A7%D8%A6%DB%8C_%D8%A7%D9%88%D9%84%D9%85%D9%BE%DA%A9%D8%B3', 'https://ur.wikipedia.org/wiki/1290%D8%A1', 'https://ur.wikipedia.org/wiki/1455_(%D8%B9%D8%AF%D8%AF)', 'https://ur.wikipedia.org/wiki/1418', 'https://ur.wikipedia.org/wiki/1852', 'https://ur.wikipedia.org/wiki/1770_(%D8%B9%D8%AF%D8%AF)', 'https://ur.wikipedia.org/wiki/1539', 'https://ur.wikipedia.org/wiki/1104', 'https://ur.wikipedia.org/wiki/1687%D8%A1', 'https://ur.wikipedia.org/wiki/1698_(%D8%B9%D8%AF%D8%AF)', 'https://ur.wikipedia.org/wiki/1259%D8%A1', 'https://ur.wikipedia.org/wiki/1181%DA%BE', 'https://ur.wikipedia.org/wiki/105_(%D8%B9%D8%AF%D8%AF)', 'https://ur.wikipedia.org/wiki/1975', 'https://ur.wikipedia.org/wiki/1995_(%D8%B9%D8%AF%D8%AF)', 'https://ur.wikipedia.org/wiki/1090%D8%A1', 'https://ur.wikipedia.org/wiki/2002%D8%A1_%D9%85%DB%8C%DA%BA_%D9%BE%D8%A7%DA%A9%D8%B3%D8%AA%D8%A7%D9%86_%D9%85%DB%8C%DA%BA_%D8%AF%DB%81%D8%B4%D8%AA_%DA%AF%D8%B1%D8%AF%DB%8C', 'https://ur.wikipedia.org/wiki/1427_(%D8%B9%D8%AF%D8%AF)', 'https://ur.wikipedia.org/wiki/1095_(%D8%B9%D8%AF%D8%AF)', 'https://ur.wikipedia.org/wiki/1540_%DA%A9%DB%8C_%D8%AF%DB%81%D8%A7%D8%A6%DB%8C', 'https://ur.wikipedia.org/wiki/1304%DA%BE', 'https://ur.wikipedia.org/wiki/1280_(%D8%B9%D8%AF%D8%AF)', 'https://ur.wikipedia.org/wiki/116%D8%A1', 'https://ur.wikipedia.org/wiki/1900_%DA%A9%DB%8C_%D8%AF%DB%81%D8%A7%D8%A6%DB%8C', 'https://ur.wikipedia.org/wiki/139', 'https://ur.wikipedia.org/wiki/1097_(%D8%B9%D8%AF%D8%AF)', 'https://ur.wikipedia.org/wiki/1294_(%D8%B9%D8%AF%D8%AF)', 'https://ur.wikipedia.org/wiki/1265_(%D8%B9%D8%AF%D8%AF)', 'https://ur.wikipedia.org/wiki/1341', 'https://ur.wikipedia.org/wiki/1570_%D9%83%D9%8A_%D8%AF%DB%81%D8%A7%D8%A6%D9%8A', 'https://ur.wikipedia.org/wiki/1660_(%D8%B9%D8%AF%D8%AF)', 'https://ur.wikipedia.org/wiki/140%DA%BE', 'https://ur.wikipedia.org/wiki/147', 'https://ur.wikipedia.org/wiki/1984_%DA%A9%DB%92_%D8%B3%DA%A9%DA%BE_%D9%85%D8%AE%D8%A7%D9%84%D9%81_%D9%81%D8%B3%D8%A7%D8%AF%D8%A7%D8%AA', 'https://ur.wikipedia.org/wiki/1434', 'https://ur.wikipedia.org/wiki/1210_%D9%83%D9%8A_%D8%AF%DB%81%D8%A7%D8%A6%D9%8A', 'https://ur.wikipedia.org/wiki/1350%D8%A1', 'https://ur.wikipedia.org/wiki/1116%D8%A1', 'https://ur.wikipedia.org/wiki/1924%D8%A1_%D9%83%D9%88%DB%81%D8%A7%D9%B9_%D9%81%D8%B3%D8%A7%D8%AF%D8%A7%D8%AA', 'https://ur.wikipedia.org/wiki/1690%D8%A1_%DA%A9%DB%8C_%D8%AF%DB%81%D8%A7%D8%A6%DB%8C', 'https://ur.wikipedia.org/wiki/1398%D8%A1', 'https://ur.wikipedia.org/wiki/1856_%DB%81%D9%86%D8%AF%D9%88%D8%B3%D8%AA%D8%A7%D9%86_%D9%85%DB%8C%DA%BA', 'https://ur.wikipedia.org/wiki/1880%D8%A1', 'https://ur.wikipedia.org/wiki/10_%D8%B1%D8%A8%DB%8C%D8%B9_%D8%A7%D9%84%D8%AB%D8%A7%D9%86%DB%8C', 'https://ur.wikipedia.org/wiki/1114_(%D8%B9%D8%AF%D8%AF)', 'https://ur.wikipedia.org/wiki/2002', 'https://ur.wikipedia.org/wiki/191%D8%A1', 'https://ur.wikipedia.org/wiki/1909_(%D8%B9%D8%AF%D8%AF)', 'https://ur.wikipedia.org/wiki/123', 'https://ur.wikipedia.org/wiki/1987', 'https://ur.wikipedia.org/wiki/1060%DA%BE', 'https://ur.wikipedia.org/wiki/10_%D8%AC%D9%85%D8%A7%D8%AF%DB%8C_%D8%A7%D9%84%D8%AB%D8%A7%D9%86%DB%8C', 'https://ur.wikipedia.org/wiki/1169', 'https://ur.wikipedia.org/wiki/14%D9%81%D8%B1%D9%88%D8%B1%D9%8A', 'https://ur.wikipedia.org/wiki/15_%D9%85%D8%AF%D8%AF%DA%AF%D8%A7%D8%B1%D8%8C_%D8%A8%DB%81%D8%A7%D9%88%D9%84%D9%BE%D9%88%D8%B1', 'https://ur.wikipedia.org/wiki/137_(%D8%B9%D8%AF%D8%AF)', 'https://ur.wikipedia.org/wiki/1063%DA%BE', 'https://ur.wikipedia.org/wiki/1801_%DB%81%D9%86%D8%AF%D9%88%D8%B3%D8%AA%D8%A7%D9%86_%D9%85%D9%8A%DA%BA', 'https://ur.wikipedia.org/wiki/1967%D8%A1', 'https://ur.wikipedia.org/wiki/11_%D8%A7%DB%8C%D9%84_%D8%B3%D9%86%D9%88%D8%A8%D8%B1', 'https://ur.wikipedia.org/wiki/1907', 'https://ur.wikipedia.org/wiki/11_%D8%A7%DA%A9%D8%AA%D9%88%D8%A8%D8%B1', 'https://ur.wikipedia.org/wiki/1546_(%D8%B9%D8%AF%D8%AF)', 'https://ur.wikipedia.org/wiki/1934%D8%A1_%D9%81%DB%8C%D9%81%D8%A7_%D8%B9%D8%A7%D9%84%D9%85%DB%8C_%DA%A9%D9%BE', 'https://ur.wikipedia.org/wiki/1897', 'https://ur.wikipedia.org/wiki/12%D9%86%D8%A8%D9%88%D9%8A_%D9%85%D9%8A%DA%BA_%D8%B3%D9%8A%D8%B1%D8%AA_%D9%86%D8%A8%D9%88%D9%8A', 'https://ur.wikipedia.org/wiki/1693%D8%A1', 'https://ur.wikipedia.org/wiki/1_%D8%B3%D8%AA%D9%85%D8%A8%D8%B1', 'https://ur.wikipedia.org/wiki/1155_(%D8%B9%D8%AF%D8%AF)', 'https://ur.wikipedia.org/wiki/1410_%D9%83%D9%8A_%D8%AF%DB%81%D8%A7%D8%A6%D9%8A', 'https://ur.wikipedia.org/wiki/1848_%DA%A9%DB%92_%D8%A7%D9%86%D9%82%D9%84%D8%A7%D8%A8%D8%A7%D8%AA', 'https://ur.wikipedia.org/wiki/1784%D8%A1', 'https://ur.wikipedia.org/wiki/1996_%DA%A9%D8%B1%DA%A9%D9%B9_%D8%B9%D8%A7%D9%84%D9%85%DB%8C_%DA%A9%D9%BE', 'https://ur.wikipedia.org/wiki/1992%D8%A1', 'https://ur.wikipedia.org/wiki/1067', 'https://ur.wikipedia.org/wiki/1321_(%D8%B9%D8%AF%D8%AF)', 'https://ur.wikipedia.org/wiki/15_%D8%AC%D9%88%D9%84%D8%A7%D8%A6%DB%8C', 'https://ur.wikipedia.org/wiki/1737', 'https://ur.wikipedia.org/wiki/1337_(%D8%B9%D8%AF%D8%AF)', 'https://ur.wikipedia.org/wiki/16_%D8%B3%D9%86%DA%AF%DA%BE%D8%A7%D8%B1', 'https://ur.wikipedia.org/wiki/1310%D8%A1', 'https://ur.wikipedia.org/wiki/1899%D8%A1', 'https://ur.wikipedia.org/wiki/1%D9%86%D9%88%D9%85%D8%A8%D8%B1', 'https://ur.wikipedia.org/wiki/10_%D8%B1%D9%85%D8%B6%D8%A7%D9%86', 'https://ur.wikipedia.org/wiki/1201', 'https://ur.wikipedia.org/wiki/1696%D8%A1_%DB%81%D9%86%D8%AF%D9%88%D8%B3%D8%AA%D8%A7%D9%86_%D9%85%DB%8C%DA%BA', 'https://ur.wikipedia.org/wiki/19_%D8%B1%D8%AC%D8%A8', 'https://ur.wikipedia.org/wiki/1981_(%D8%B9%D8%AF%D8%AF)', 'https://ur.wikipedia.org/wiki/1483_(%D8%B9%D8%AF%D8%AF)', 'https://ur.wikipedia.org/wiki/1978_%D9%81%DB%8C%D9%81%D8%A7_%D8%B9%D8%A7%D9%84%D9%85%DB%8C_%DA%A9%D9%BE', 'https://ur.wikipedia.org/wiki/1870', 'https://ur.wikipedia.org/wiki/1107', 'https://ur.wikipedia.org/wiki/1241_(%D8%B9%D8%AF%D8%AF)', 'https://ur.wikipedia.org/wiki/167%D8%A1', 'https://ur.wikipedia.org/wiki/1244', 'https://ur.wikipedia.org/wiki/1601%D8%A1', 'https://ur.wikipedia.org/wiki/1200%D8%A1_%DA%A9%DB%8C_%D8%AF%DB%81%D8%A7%D8%A6%DB%8C', 'https://ur.wikipedia.org/wiki/16_%D8%AC%D9%85%D8%A7%D8%AF%D9%8A_%D8%A7%D9%84%D8%A7%D9%88%D9%84', 'https://ur.wikipedia.org/wiki/1924%D8%A1_%DA%AF%D8%B1%D9%85%D8%A7%D8%A6%DB%8C_%D8%A7%D9%88%D9%84%D9%85%D9%BE%DA%A9%D8%B3', 'https://ur.wikipedia.org/wiki/1194', 'http://en.wikipedia.org/wiki/Sun', 'https://ur.wikipedia.org/wiki/2002%D8%A1_%D9%85%DB%8C%DA%BA_%D8%B3%D8%B9%D9%88%D8%AF%DB%8C_%D8%B9%D8%B1%D8%A8', 'http://chennaiplus.net/wp-content/uploads/2011/10/abdullah_mosque.jpg', 'https://ur.wikipedia.org/wiki/1619%D8%A1', 'https://ur.wikipedia.org/wiki/1166', 'https://ur.wikipedia.org/wiki/1956_(%D8%B9%D8%AF%D8%AF)', 'https://ur.wikipedia.org/wiki/1604_(%D8%B9%D8%AF%D8%AF)', 'https://ur.wikipedia.org/wiki/1924_%D9%83%D9%88%DB%81%D8%A7%D9%B9_%D9%81%D8%B3%D8%A7%D8%AF%D8%A7%D8%AA', 'https://ur.wikipedia.org/wiki/1140%D8%A1', 'https://ur.wikipedia.org/wiki/12%D8%AC%D9%86%D9%88%D8%B1%D9%8A', 'https://ur.wikipedia.org/wiki/1072%DA%BE', 'https://ur.wikipedia.org/wiki/1120_%D9%83%D9%8A_%D8%AF%DB%81%D8%A7%D8%A6%D9%8A', 'http://www.elmedeen.com/author-465-حضرت-مولانامحمد-زکریا-کاندھلوی-صاحب', 'https://ur.wikipedia.org/wiki/1320%DA%BE', 'https://ur.wikipedia.org/wiki/1178%D8%A1', 'https://ur.wikipedia.org/wiki/1202%DA%BE', 'https://ur.wikipedia.org/wiki/1180_%D9%83%D9%8A_%D8%AF%DB%81%D8%A7%D8%A6%D9%8A', 'https://ur.wikipedia.org/wiki/1373', 'https://ur.wikipedia.org/wiki/1321', 'https://ur.wikipedia.org/wiki/1355', 'https://ur.wikipedia.org/wiki/1094%D8%A1', 'http://atra.gov.af/en', 'https://ur.wikipedia.org/wiki/1974_(%D8%B9%D8%AF%D8%AF)', 'https://ur.wikipedia.org/wiki/1134', 'https://ur.wikipedia.org/wiki/1622%D8%A1', 'https://ur.wikipedia.org/wiki/1885%D8%A1', 'https://ur.wikipedia.org/wiki/1582', 'https://ur.wikipedia.org/wiki/1281', 'https://ur.wikipedia.org/wiki/1207', 'https://ur.wikipedia.org/wiki/1605%D8%A1', 'https://ur.wikipedia.org/wiki/1922_(%D8%B9%D8%AF%D8%AF)', 'https://ur.wikipedia.org/wiki/1%D9%B9%D8%A7%D8%A6%D9%85', 'https://ur.wikipedia.org/wiki/1514%D8%A1', 'https://ur.wikipedia.org/wiki/1515%D8%A1', 'https://ur.wikipedia.org/wiki/10_%D8%B4%D9%88%D8%A7%D9%84', 'https://ur.wikipedia.org/wiki/1525%D8%A1', 'https://ur.wikipedia.org/wiki/1688', 'https://ur.wikipedia.org/wiki/1761_%DB%81%D9%86%D8%AF%D9%88%D8%B3%D8%AA%D8%A7%D9%86_%D9%85%DB%8C%DA%BA', 'https://ur.wikipedia.org/wiki/1620_%DA%A9%DB%8C_%D8%AF%DB%81%D8%A7%D8%A6%DB%8C', 'https://ur.wikipedia.org/wiki/1307', 'https://ur.wikipedia.org/wiki/1765_(%D8%B9%D8%AF%D8%AF)', 'https://ur.wikipedia.org/wiki/1972%D8%A1_%DA%AF%D8%B1%D9%85%D8%A7%D8%A6%DB%8C_%D8%A7%D9%88%D9%84%D9%85%D9%BE%DA%A9%D8%B3', 'https://ur.wikipedia.org/wiki/15_%D8%A7%D9%BE%D8%B1%D9%8A%D9%84', 'https://ur.wikipedia.org/wiki/1237_(%D8%B9%D8%AF%D8%AF)', 'https://ur.wikipedia.org/wiki/1742_(%D8%B9%D8%AF%D8%AF)', 'https://ur.wikipedia.org/wiki/1848%D8%A1_%DA%A9%DB%92_%D8%A7%D9%86%D9%82%D9%84%D8%A7%D8%A8%D8%A7%D8%AA', 'https://ur.wikipedia.org/wiki/144_(%D8%B9%D8%AF%D8%AF)', 'https://ur.wikipedia.org/wiki/1964_%DA%AF%D8%B1%D9%85%D8%A7%D8%A6%D9%8A_%D8%A7%D9%88%D9%84%D9%85%D9%BE%D9%83%D8%B3', 'https://ur.wikipedia.org/wiki/1300_(%D8%B9%D8%AF%D8%AF)', 'https://ur.wikipedia.org/wiki/1976_(%D8%B9%D8%AF%D8%AF)', 'https://ur.wikipedia.org/wiki/1255%D8%A1', 'https://ur.wikipedia.org/wiki/1686', 'https://ur.wikipedia.org/wiki/1432%D8%A1', 'https://ur.wikipedia.org/wiki/193%D8%A1', 'https://ur.wikipedia.org/wiki/1890%D8%A1', 'https://ur.wikipedia.org/wiki/1528', 'https://ur.wikipedia.org/wiki/2001%D8%A1', 'https://ur.wikipedia.org/wiki/1459_(%D8%B9%D8%AF%D8%AF)', 'https://ur.wikipedia.org/wiki/1886_(%D8%B9%D8%AF%D8%AF)', 'https://ur.wikipedia.org/wiki/1092%DA%BE', 'https://ur.wikipedia.org/wiki/1267', 'https://ur.wikipedia.org/wiki/1541', 'https://ur.wikipedia.org/wiki/11_%D8%B1%D8%A8%D9%8A%D8%B9_%D8%A7%D9%84%D8%A7%D9%88%D9%84', 'http://www.electionpakistani.com/ge2013/NA-175.htm}}', 'https://ur.wikipedia.org/wiki/1573_(%D8%B9%D8%AF%D8%AF)', 'https://ur.wikipedia.org/wiki/11_%D8%B5%D8%AF%DB%8C_%DB%81%D8%AC%D8%B1%DB%8C', 'https://ur.wikipedia.org/wiki/16_%D8%B1%D8%A8%DB%8C%D8%B9_%D8%A7%D9%84%D8%AB%D8%A7%D9%86%DB%8C', 'https://ur.wikipedia.org/wiki/1336%DA%BE', 'https://ur.wikipedia.org/wiki/1692', 'https://ur.wikipedia.org/wiki/14_%D8%B1%D8%A8%D9%8A%D8%B9_%D8%A7%D9%84%D8%AB%D8%A7%D9%86%D9%8A', 'https://ur.wikipedia.org/wiki/16_%D8%AC%D9%85%D8%A7%D8%AF%D9%8A_%D8%A7%D9%84%D8%AB%D8%A7%D9%86%D9%8A', 'https://ur.wikipedia.org/wiki/1276_(%D8%B9%D8%AF%D8%AF)', 'https://ur.wikipedia.org/wiki/1172%DA%BE', 'https://ur.wikipedia.org/wiki/1933_(%D8%B9%D8%AF%D8%AF)', 'https://ur.wikipedia.org/wiki/1077%D8%A1', 'https://ur.wikipedia.org/wiki/1204_(%D8%B9%D8%AF%D8%AF)', 'https://ur.wikipedia.org/wiki/1912%D8%A1', 'https://ur.wikipedia.org/wiki/13%D8%AC%D9%86%D9%88%D8%B1%DB%8C', 'https://ur.wikipedia.org/wiki/1838_(%D8%B9%D8%AF%D8%AF)', 'https://ur.wikipedia.org/wiki/1%D8%A7%DB%8C%D8%B3_%D8%AC%DB%8C_%D8%A7%DB%8C%D9%85%D8%8C_%D8%A8%DA%BE%D8%A7%D8%B1%D8%AA', 'https://ur.wikipedia.org/wiki/1731_(%D8%B9%D8%AF%D8%AF)', 'https://ur.wikipedia.org/wiki/1990', 'https://ur.wikipedia.org/wiki/169%D8%A1', 'https://ur.wikipedia.org/wiki/19_%D8%AC%D9%88%D9%84%D8%A7%D8%A6%D9%8A', 'https://ur.wikipedia.org/wiki/1695_(%D8%B9%D8%AF%D8%AF)', 'https://ur.wikipedia.org/wiki/1659_(%D8%B9%D8%AF%D8%AF)', 'https://ur.wikipedia.org/wiki/1728%D8%A1', 'https://ur.wikipedia.org/wiki/1540', 'https://ur.wikipedia.org/wiki/1070_%D9%83%D9%8A_%D8%AF%DB%81%D8%A7%D8%A6%D9%8A', 'https://ur.wikipedia.org/wiki/1759%D8%A1', 'https://ur.wikipedia.org/wiki/1971', 'https://ur.wikipedia.org/wiki/1755_(%D8%B9%D8%AF%D8%AF)', 'https://ur.wikipedia.org/wiki/1993_%D9%85%D9%85%D8%A8%D8%A6%DB%8C_%D8%A8%D9%85_%D8%AF%DA%BE%D9%85%D8%A7%DA%A9%DB%92', 'https://ur.wikipedia.org/wiki/19%D9%81%D8%B1%D9%88%D8%B1%D9%8A', 'https://ur.wikipedia.org/wiki/1517', 'https://ur.wikipedia.org/wiki/1251', 'https://ur.wikipedia.org/wiki/1149', 'https://ur.wikipedia.org/wiki/1583', 'https://ur.wikipedia.org/wiki/1398_(%D8%B9%D8%AF%D8%AF)', 'https://ur.wikipedia.org/wiki/1968%D8%A1_%DA%AF%D8%B1%D9%85%D8%A7%D8%A6%D9%8A_%D8%A7%D9%88%D9%84%D9%85%D9%BE%D9%83%D8%B3', 'https://ur.wikipedia.org/wiki/1_%D9%81%D8%B1%D9%88%D8%B1%DB%8C', 'https://ur.wikipedia.org/wiki/1188', 'https://ur.wikipedia.org/wiki/1534', 'https://ur.wikipedia.org/wiki/17_%D8%AC%D9%88%D9%84%D8%A7%D8%A6%DB%8C', 'https://ur.wikipedia.org/wiki/13_%D9%85%D8%AD%D8%B1%D9%85', 'https://ur.wikipedia.org/wiki/1837%D8%A1_%DB%81%D9%86%D8%AF%D9%88%D8%B3%D8%AA%D8%A7%D9%86_%D9%85%DB%8C%DA%BA', 'https://ur.wikipedia.org/wiki/131', 'https://ur.wikipedia.org/wiki/1300%D8%A1', 'https://ur.wikipedia.org/wiki/18_(%D8%B6%D8%AF_%D8%A7%D8%A8%DB%81%D8%A7%D9%85)', 'https://ur.wikipedia.org/wiki/1649%D8%A1', 'https://ur.wikipedia.org/wiki/1263%D8%A1', 'https://ur.wikipedia.org/wiki/1921%D8%A1_%D8%A8%D9%83%D9%86%DA%AF%DA%BE%D9%85_%D8%A7%D9%8A%D9%86%DA%88_%D9%83%D8%B1%D9%86%D8%A7%D9%B9%D9%83_%D9%85%D9%84%D8%B2_%DB%81%DA%91%D8%AA%D8%A7%D9%84', 'https://ur.wikipedia.org/wiki/1740%D8%A1', 'https://ur.wikipedia.org/wiki/1266%DA%BE', 'https://ur.wikipedia.org/wiki/1113_(%D8%B9%D8%AF%D8%AF)', 'https://ur.wikipedia.org/wiki/1095', 'https://ur.wikipedia.org/wiki/1352%DA%BE', 'https://ur.wikipedia.org/wiki/1893', 'https://ur.wikipedia.org/wiki/1968%D8%A1', 'https://ur.wikipedia.org/wiki/1192%D8%A1', 'https://ur.wikipedia.org/wiki/1384', 'https://ur.wikipedia.org/wiki/1120%D8%A1_%DA%A9%DB%8C_%D8%AF%DB%81%D8%A7%D8%A6%DB%8C', 'https://ur.wikipedia.org/wiki/1436%DA%BE', 'https://ur.wikipedia.org/wiki/1360%D8%A1', 'https://ur.wikipedia.org/wiki/1248_(%D8%B9%D8%AF%D8%AF)', 'https://ur.wikipedia.org/wiki/1330_%D9%83%D9%8A_%D8%AF%DB%81%D8%A7%D8%A6%D9%8A', 'https://ur.wikipedia.org/wiki/180_%D9%83%D9%8A_%D8%AF%DB%81%D8%A7%D8%A6%D9%8A', 'https://ur.wikipedia.org/wiki/1063_(%D8%B9%D8%AF%D8%AF)', 'https://ur.wikipedia.org/wiki/1742%D8%A1', 'http://www.fuuastisb.edu.pk/', 'https://ur.wikipedia.org/wiki/124', 'https://ur.wikipedia.org/wiki/1810_%D9%83%D9%8A_%D8%AF%DB%81%D8%A7%D8%A6%D9%8A', 'https://ur.wikipedia.org/wiki/1087', 'https://ur.wikipedia.org/wiki/1118_(%D8%B9%D8%AF%D8%AF)', 'https://ur.wikipedia.org/wiki/1552_(%D8%B9%D8%AF%D8%AF)', 'https://ur.wikipedia.org/wiki/1138_%D8%AD%D9%84%D8%A8_%DA%A9%D8%A7_%D8%B2%D9%84%D8%B2%D9%84%DB%81', 'https://ur.wikipedia.org/wiki/1390%DA%BE', 'https://ur.wikipedia.org/wiki/1962%D8%A1_%D9%81%DB%8C%D9%81%D8%A7_%D8%B9%D8%A7%D9%84%D9%85%DB%8C_%DA%A9%D9%BE', 'https://ur.wikipedia.org/wiki/1173%D8%A1', 'https://ur.wikipedia.org/wiki/1759_(%D8%B9%D8%AF%D8%AF)', 'https://ur.wikipedia.org/wiki/130%D8%A1_%D9%83%D9%8A_%D8%AF%DB%81%D8%A7%D8%A6%D9%8A', 'https://ur.wikipedia.org/wiki/1990%D8%A1', 'https://ur.wikipedia.org/wiki/17%D9%81%D8%B1%D9%88%D8%B1%DB%8C', 'https://ur.wikipedia.org/wiki/117%DA%BE', 'https://ur.wikipedia.org/wiki/1732%D8%A1', 'https://ur.wikipedia.org/wiki/1288', 'https://ur.wikipedia.org/wiki/1813%D8%A1', 'https://ur.wikipedia.org/wiki/1470_%D9%83%D9%8A_%D8%AF%DB%81%D8%A7%D8%A6%D9%8A', 'https://ur.wikipedia.org/wiki/1263', 'https://ur.wikipedia.org/wiki/1324_(%D8%B9%D8%AF%D8%AF)', 'https://ur.wikipedia.org/wiki/12_%D9%86%D9%88%D9%85%D8%A8%D8%B1', 'https://ur.wikipedia.org/wiki/1227_(%D8%B9%D8%AF%D8%AF)', 'https://ur.wikipedia.org/wiki/1221%D8%A1', 'https://ur.wikipedia.org/wiki/156%DA%BE', 'https://ur.wikipedia.org/wiki/162_(%D8%B9%D8%AF%D8%AF)', 'https://ur.wikipedia.org/wiki/106%DA%BE', 'https://ur.wikipedia.org/wiki/1723%D8%A1', 'https://ur.wikipedia.org/wiki/15%D9%86%D8%A8%D9%88%D9%8A_%D9%85%D9%8A%DA%BA_%D8%B3%D9%8A%D8%B1%D8%AA_%D9%86%D8%A8%D9%88%D9%8A', 'https://ur.wikipedia.org/wiki/1396_(%D8%B9%D8%AF%D8%AF)', 'http://www.rcnp.osaka-u.ac.jp/~sakemi/future/slide/PHOTN.pdf', 'https://ur.wikipedia.org/wiki/1700_(%D8%B9%D8%AF%D8%AF)', 'https://ur.wikipedia.org/wiki/1251%D8%A1', 'https://ur.wikipedia.org/wiki/1800%E2%80%931809', 'https://ur.wikipedia.org/wiki/1730_%DA%A9%DB%8C_%D8%AF%DB%81%D8%A7%D8%A6%DB%8C', 'https://ur.wikipedia.org/wiki/1825_(%D8%B9%D8%AF%D8%AF)', 'https://ur.wikipedia.org/wiki/1245', 'https://ur.wikipedia.org/wiki/1859%D8%A1', 'https://ur.wikipedia.org/wiki/1212%D8%A1', 'https://ur.wikipedia.org/wiki/1400%D8%A1_%D9%83%D9%8A_%D8%AF%DB%81%D8%A7%D8%A6%D9%8A', 'https://ur.wikipedia.org/wiki/1976%D8%A1_%DA%AF%D8%B1%D9%85%D8%A7%D8%A6%D9%8A_%D8%A7%D9%88%D9%84%D9%85%D9%BE%D9%83%D8%B3', 'https://ur.wikipedia.org/wiki/10_%D8%AC%D9%88%D9%86', 'https://ur.wikipedia.org/wiki/1782', 'https://ur.wikipedia.org/wiki/1983_%DA%A9%D8%B1%DA%A9%D9%B9_%D8%B9%D8%A7%D9%84%D9%85%DB%8C_%DA%A9%D9%BE', 'https://ur.wikipedia.org/wiki/1136', 'https://ur.wikipedia.org/wiki/1670%D8%A1_%DA%A9%DB%8C_%D8%AF%DB%81%D8%A7%D8%A6%DB%8C', 'https://ur.wikipedia.org/wiki/1716', 'https://ur.wikipedia.org/wiki/1944_(%D8%B9%D8%AF%D8%AF)', 'https://ur.wikipedia.org/wiki/1935', 'https://ur.wikipedia.org/wiki/136_(%D8%B9%D8%AF%D8%AF)', 'https://ur.wikipedia.org/wiki/1996_(%D8%B9%D8%AF%D8%AF)', 'https://ur.wikipedia.org/wiki/1478_(%D8%B9%D8%AF%D8%AF)', 'http://www.fuuast.edu.pk/english/', 'https://ur.wikipedia.org/wiki/1450%D8%A1_%DA%A9%DB%8C_%D8%AF%DB%81%D8%A7%D8%A6%DB%8C', 'https://ur.wikipedia.org/wiki/11_%D8%B3%D8%AA%D9%85%D8%A8%D8%B1_2001%D8%8C_%D8%A7%D9%85%D8%B1%DB%8C%DA%A9%DB%81_%D8%AF%DB%81%D8%B4%D8%AA_%DA%AF%D8%B1%D8%AF%DB%8C', 'https://ur.wikipedia.org/wiki/148_(%D8%B9%D8%AF%D8%AF)', 'https://ur.wikipedia.org/wiki/12%D8%AC%D9%86%D9%88%D8%B1%DB%8C', 'https://ur.wikipedia.org/wiki/1233', 'https://ur.wikipedia.org/wiki/1191%DA%BE', 'https://ur.wikipedia.org/wiki/1380_(%D8%B9%D8%AF%D8%AF)', 'https://ur.wikipedia.org/wiki/168_(%D8%B9%D8%AF%D8%AF)', 'https://ur.wikipedia.org/wiki/1969_(%D8%B9%D8%AF%D8%AF)', 'https://ur.wikipedia.org/wiki/160%D8%A1_%DA%A9%DB%8C_%D8%AF%DB%81%D8%A7%D8%A6%DB%8C', 'https://ur.wikipedia.org/wiki/1775', 'https://ur.wikipedia.org/wiki/1250%D8%A1_%D9%83%D9%8A_%D8%AF%DB%81%D8%A7%D8%A6%D9%8A', 'https://ur.wikipedia.org/wiki/1360', 'https://ur.wikipedia.org/wiki/1429%DA%BE', 'https://ur.wikipedia.org/wiki/1571%D8%A1', 'https://ur.wikipedia.org/wiki/1671%D8%A1', 'https://ur.wikipedia.org/wiki/1875', 'https://ur.wikipedia.org/wiki/12_%D8%B1%D8%A8%D9%8A%D8%B9_%D8%A7%D9%84%D8%AB%D8%A7%D9%86%D9%8A', 'https://ur.wikipedia.org/wiki/1305%DA%BE', 'https://ur.wikipedia.org/wiki/143', 'https://ur.wikipedia.org/wiki/10%D8%A1', 'https://ur.wikipedia.org/wiki/1130_%D9%83%D9%8A_%D8%AF%DB%81%D8%A7%D8%A6%D9%8A', 'https://ur.wikipedia.org/wiki/190_%D9%83%D9%88%D9%84%D9%B9%D8%B1%D9%8A%D9%86_%D8%B1%D9%88%DA%88', 'https://ur.wikipedia.org/wiki/1101', 'https://ur.wikipedia.org/wiki/1142', 'https://ur.wikipedia.org/wiki/1955', 'https://ur.wikipedia.org/wiki/1166%DA%BE', 'https://ur.wikipedia.org/wiki/1257%D8%A1', 'https://ur.wikipedia.org/wiki/1845_(%D8%B9%D8%AF%D8%AF)', 'https://ur.wikipedia.org/wiki/190_%D9%83%D9%8A_%D8%AF%DB%81%D8%A7%D8%A6%D9%8A', 'https://ur.wikipedia.org/wiki/130_(%D8%B9%D8%AF%D8%AF)', 'https://ur.wikipedia.org/wiki/1438', 'https://ur.wikipedia.org/wiki/1997_(%D8%B9%D8%AF%D8%AF)', 'https://ur.wikipedia.org/wiki/1383%DA%BE', 'https://ur.wikipedia.org/wiki/10%D8%A7%D9%BE%D8%B1%D9%8A%D9%84', 'https://ur.wikipedia.org/wiki/1188%D8%A1', 'https://ur.wikipedia.org/wiki/137%DA%BE', 'https://ur.wikipedia.org/wiki/191', 'https://ur.wikipedia.org/wiki/1560%D8%A1_%DA%A9%DB%8C_%D8%AF%DB%81%D8%A7%D8%A6%DB%8C', 'https://ur.wikipedia.org/wiki/192%DA%BE', 'https://ur.wikipedia.org/wiki/120%D8%A1_%D9%83%D9%8A_%D8%AF%DB%81%D8%A7%D8%A6%D9%8A', 'https://ur.wikipedia.org/wiki/1456%D8%A1', 'https://ur.wikipedia.org/wiki/1950', 'https://ur.wikipedia.org/wiki/1730', 'https://ur.wikipedia.org/wiki/150%DA%BE', 'https://ur.wikipedia.org/wiki/11%D9%86%D8%A8%D9%88%DB%8C_%D9%85%DB%8C%DA%BA_%D8%B3%DB%8C%D8%B1%D8%AA_%D9%86%D8%A8%D9%88%DB%8C', 'https://ur.wikipedia.org/wiki/1312_(%D8%B9%D8%AF%D8%AF)', 'https://ur.wikipedia.org/wiki/1761', 'https://ur.wikipedia.org/wiki/1871_(%D8%B9%D8%AF%D8%AF)', 'https://ur.wikipedia.org/wiki/1892%D8%A1', 'https://ur.wikipedia.org/wiki/13_%D9%85%D8%A6%D9%8A', 'https://ur.wikipedia.org/wiki/1%D8%AC%D9%86%D9%88%D8%B1%DB%8C', 'https://ur.wikipedia.org/wiki/1435', 'https://ur.wikipedia.org/wiki/1985_(%D8%B9%D8%AF%D8%AF)', 'https://ur.wikipedia.org/wiki/1726', 'https://ur.wikipedia.org/wiki/1912', 'https://ur.wikipedia.org/wiki/1126%DA%BE', 'https://ur.wikipedia.org/wiki/1634%D8%A1', 'https://ur.wikipedia.org/wiki/1535_(%D8%B9%D8%AF%D8%AF)', 'https://ur.wikipedia.org/wiki/1274%DA%BE', 'https://ur.wikipedia.org/wiki/1192_(%D8%B9%D8%AF%D8%AF)', 'https://ur.wikipedia.org/wiki/1760', 'https://ur.wikipedia.org/wiki/1105%DA%BE', 'https://ur.wikipedia.org/wiki/1669_(%D8%B9%D8%AF%D8%AF)', 'https://ur.wikipedia.org/wiki/19_%D8%B4%D8%B9%D8%A8%D8%A7%D9%86', 'https://ur.wikipedia.org/wiki/1080%DA%BE', 'https://ur.wikipedia.org/wiki/1708%D8%A1', 'https://ur.wikipedia.org/wiki/1790', 'https://ur.wikipedia.org/wiki/1150_%D9%83%D9%8A_%D8%AF%DB%81%D8%A7%D8%A6%D9%8A', 'https://ur.wikipedia.org/wiki/1615_(%D8%B9%D8%AF%D8%AF)', 'https://ur.wikipedia.org/wiki/1905%D8%A1', 'https://ur.wikipedia.org/wiki/1167', 'https://ur.wikipedia.org/wiki/1840', 'https://ur.wikipedia.org/wiki/1746%D8%A1', 'https://ur.wikipedia.org/wiki/1813_(%D8%B9%D8%AF%D8%AF)', 'https://ur.wikipedia.org/wiki/2001%D8%A1_%D8%B3%DB%92_%D9%BE%D8%A7%DA%A9%D8%B3%D8%AA%D8%A7%D9%86_%D9%85%DB%8C%DA%BA_%D8%AF%DB%81%D8%B4%D8%AA_%DA%AF%D8%B1%D8%AF%D8%A7%D9%86%D9%87%D9%94_%DA%A9%D8%A7%D8%B1%D8%B1%D9%88%D8%A7%D8%A6%DB%8C%D9%88%DA%BA_%DA%A9%DB%8C_%D9%81%DB%81%D8%B1%D8%B3%D8%AA', 'https://ur.wikipedia.org/wiki/1488_(%D8%B9%D8%AF%D8%AF)', 'https://ur.wikipedia.org/wiki/1158', 'https://ur.wikipedia.org/wiki/1444%DA%BE', 'https://ur.wikipedia.org/wiki/1875_%D9%85%DB%8C%DA%BA_%D8%A7%D8%AF%D8%A8', 'https://ur.wikipedia.org/wiki/1435_(%D8%B9%D8%AF%D8%AF)', 'https://ur.wikipedia.org/wiki/11_%D8%AC%D9%86%D9%88%D8%B1%DB%8C', 'https://ur.wikipedia.org/wiki/1929_(%D8%B9%D8%AF%D8%AF)', 'https://ur.wikipedia.org/wiki/1667%D8%A1', 'https://ur.wikipedia.org/wiki/1711%D8%A1', 'https://ur.wikipedia.org/wiki/1790%D8%A1', 'https://ur.wikipedia.org/wiki/13%D9%88%DB%8C%DA%BA_%D8%B5%D8%AF%DB%8C_%D8%B9%DB%8C%D8%B3%D9%88%DB%8C_%DA%A9%D8%A7_%D8%A7%DB%8C%D8%B1%D8%A7%D9%86', 'https://ur.wikipedia.org/wiki/1948%D8%A1_%D8%B9%D8%B1%D8%A8_%D8%A7%D8%B3%D8%B1%D8%A7%D8%A6%D9%8A%D9%84_%D8%AC%D9%86%DA%AF', 'https://ur.wikipedia.org/wiki/1598', 'https://ur.wikipedia.org/wiki/1957%D8%A1', 'https://ur.wikipedia.org/wiki/1073%DA%BE', 'https://ur.wikipedia.org/wiki/1690%D8%A1_%D9%83%D9%8A_%D8%AF%DB%81%D8%A7%D8%A6%D9%8A', 'https://ur.wikipedia.org/wiki/1366_(%D8%B9%D8%AF%D8%AF)', 'https://ur.wikipedia.org/wiki/1770%D8%A1_%D9%83%D9%8A_%D8%AF%DB%81%D8%A7%D8%A6%D9%8A', 'https://ur.wikipedia.org/wiki/1250%DA%BE', 'https://ur.wikipedia.org/wiki/1937_(%D8%B9%D8%AF%D8%AF)', 'https://ur.wikipedia.org/wiki/1934_(%D8%B9%D8%AF%D8%AF)', 'https://ur.wikipedia.org/wiki/1765%D8%A1_%D9%85%D9%8A%DA%BA_%D9%82%D8%A7%D8%A6%D9%85_%DB%81%D9%88%D9%86%DB%92_%D9%88%D8%A7%D9%84%D9%8A_%D8%B3%D9%8A%D8%A7%D8%B3%D9%8A_%D8%AA%D9%86%D8%B8%D9%8A%D9%85%D9%8A%DA%BA', 'https://ur.wikipedia.org/wiki/1628%D8%A1', 'https://ur.wikipedia.org/wiki/1109%DA%BE', 'https://ur.wikipedia.org/wiki/18%D8%AC%D9%86%D9%88%D8%B1%DB%8C', 'https://ur.wikipedia.org/wiki/1067%DA%BE', 'https://ur.wikipedia.org/wiki/1415%DA%BE', 'https://ur.wikipedia.org/wiki/1209_(%D8%B9%D8%AF%D8%AF)', 'https://ur.wikipedia.org/wiki/1911%D8%A1', 'https://ur.wikipedia.org/wiki/1558', 'https://ur.wikipedia.org/wiki/1319', 'http://www.elmedeen.com/author-502-مولانا-عبد-الماجد-دریا-آبادی-صاحب', 'https://ur.wikipedia.org/wiki/1657%D8%A1', 'https://ur.wikipedia.org/wiki/1999_%DA%A9%D8%B1%DA%A9%D9%B9_%D8%B9%D8%A7%D9%84%D9%85%DB%8C_%DA%A9%D9%BE', 'https://ur.wikipedia.org/wiki/19_%D8%B1%D9%85%D8%B6%D8%A7%D9%86', 'https://ur.wikipedia.org/wiki/1069', 'https://ur.wikipedia.org/wiki/1554%D8%A1', 'https://ur.wikipedia.org/wiki/190%D8%A1_%DA%A9%DB%8C_%D8%AF%DB%81%D8%A7%D8%A6%DB%8C', 'https://ur.wikipedia.org/wiki/1833%D8%A1', 'https://ur.wikipedia.org/wiki/1767_(%D8%B9%D8%AF%D8%AF)', 'https://ur.wikipedia.org/wiki/122%DA%BE', 'https://ur.wikipedia.org/wiki/1688%D8%A1', 'https://ur.wikipedia.org/wiki/1727%D8%A1', 'https://ur.wikipedia.org/wiki/1149_(%D8%B9%D8%AF%D8%AF)', 'https://ur.wikipedia.org/wiki/1972_%DA%AF%D8%B1%D9%85%D8%A7%D8%A6%D9%8A_%D8%A7%D9%88%D9%84%D9%85%D9%BE%D9%83%D8%B3', 'https://ur.wikipedia.org/wiki/1183%D8%A1', 'https://ur.wikipedia.org/wiki/1073_(%D8%B9%D8%AF%D8%AF)', 'http://en.wikipedia.org/wiki/Earth', 'https://ur.wikipedia.org/wiki/1996_%D9%83%D8%B1%D9%83%D9%B9_%D8%B9%D8%A7%D9%84%D9%85%D9%8A_%D9%83%D9%BE', 'https://ur.wikipedia.org/wiki/1940_%DA%A9%DB%8C_%D8%AF%DB%81%D8%A7%D8%A6%DB%8C', 'https://ur.wikipedia.org/wiki/164_(%D8%B9%D8%AF%D8%AF)', 'https://ur.wikipedia.org/wiki/1804', 'https://ur.wikipedia.org/wiki/1646_(%D8%B9%D8%AF%D8%AF)', 'https://ur.wikipedia.org/wiki/180_(%D8%B9%D8%AF%D8%AF)', 'https://ur.wikipedia.org/wiki/1160%D8%A1_%DA%A9%DB%8C_%D8%AF%DB%81%D8%A7%D8%A6%DB%8C', 'https://ur.wikipedia.org/wiki/1928_(%D8%B9%D8%AF%D8%AF)', 'https://ur.wikipedia.org/wiki/2000_%DA%AF%D8%B1%D9%85%D8%A7%D8%A6%D9%8A_%D8%A7%D9%88%D9%84%D9%85%D9%BE%D9%83%D8%B3', 'https://ur.wikipedia.org/wiki/1113%D8%A1', 'https://ur.wikipedia.org/wiki/1365%DA%BE', 'https://ur.wikipedia.org/wiki/1371', 'https://ur.wikipedia.org/wiki/19_%D9%85%D8%A7%D8%B1%DA%86', 'https://ur.wikipedia.org/wiki/1851_(%D8%B9%D8%AF%D8%AF)', 'https://ur.wikipedia.org/wiki/1580_(%D8%B9%D8%AF%D8%AF)', 'https://ur.wikipedia.org/wiki/15_%D8%AC%D9%85%D8%A7%D8%AF%D9%8A_%D8%A7%D9%84%D8%AB%D8%A7%D9%86%D9%8A', 'https://ur.wikipedia.org/wiki/12_%D8%A7%DA%A9%D8%AA%D9%88%D8%A8%D8%B1_1999_%DA%A9%DB%8C_%D9%BE%D8%A7%DA%A9%D8%B3%D8%AA%D8%A7%D9%86_%DA%A9%DB%8C_%D9%81%D9%88%D8%AC%DB%8C_%D8%A8%D8%BA%D8%A7%D9%88%D8%AA', 'https://ur.wikipedia.org/wiki/1790%D8%A1_%DA%A9%DB%8C_%D8%AF%DB%81%D8%A7%D8%A6%DB%8C', 'https://ur.wikipedia.org/wiki/1440_%DA%A9%DB%8C_%D8%AF%DB%81%D8%A7%D8%A6%DB%8C', 'https://ur.wikipedia.org/wiki/172', 'https://ur.wikipedia.org/wiki/155', 'https://ur.wikipedia.org/wiki/120%D8%A1_%DA%A9%DB%8C_%D8%AF%DB%81%D8%A7%D8%A6%DB%8C', 'https://ur.wikipedia.org/wiki/1629-%D8%A11631%D8%A1_%DA%A9%D8%A7_%D8%A7%D8%B7%D8%A7%D9%84%D9%88%DB%8C_%D8%B7%D8%A7%D8%B9%D9%88%D9%86', 'https://ur.wikipedia.org/wiki/1799%D8%A1', 'https://ur.wikipedia.org/wiki/1275_(%D8%B9%D8%AF%D8%AF)', 'https://ur.wikipedia.org/wiki/144%D8%A1', 'https://ur.wikipedia.org/wiki/1196', 'https://ur.wikipedia.org/wiki/1835_%DB%81%D9%86%D8%AF%D9%88%D8%B3%D8%AA%D8%A7%D9%86_%D9%85%D9%8A%DA%BA', 'https://ur.wikipedia.org/wiki/1788', 'https://ur.wikipedia.org/wiki/1256', 'https://ur.wikipedia.org/wiki/1155%DA%BE', 'https://ur.wikipedia.org/wiki/1592%D8%A1', 'https://ur.wikipedia.org/wiki/1_%D8%B1%D8%A8%D9%8A%D8%B9_%D8%A7%D9%84%D8%AB%D8%A7%D9%86%D9%8A', 'https://ur.wikipedia.org/wiki/1080', 'https://ur.wikipedia.org/wiki/1693', 'https://ur.wikipedia.org/wiki/1471_(%D8%B9%D8%AF%D8%AF)', 'https://ur.wikipedia.org/wiki/1529%D8%A1', 'https://ur.wikipedia.org/wiki/15_%D9%81%D8%B1%D9%88%D8%B1%DB%8C', 'https://ur.wikipedia.org/wiki/153', 'https://ur.wikipedia.org/wiki/16_%D8%AC%D9%85%D8%A7%D8%AF%DB%8C_%D8%A7%D9%84%D8%A7%D9%88%D9%84', 'https://ur.wikipedia.org/wiki/1984_%D8%B3%D9%83%DA%BE_%D9%85%D8%AE%D8%A7%D9%84%D9%81_%D9%81%D8%B3%D8%A7%D8%AF%D8%A7%D8%AA', 'https://ur.wikipedia.org/wiki/10_%D9%83%D9%8A_%D8%AF%DB%81%D8%A7%D8%A6%D9%8A', 'https://ur.wikipedia.org/wiki/1920%D8%A1_%DA%A9%DB%8C_%D8%AF%DB%81%D8%A7%D8%A6%DB%8C', 'https://ur.wikipedia.org/wiki/1378%DA%BE', 'https://ur.wikipedia.org/wiki/1870_%D9%83%D9%8A_%D8%AF%DB%81%D8%A7%D8%A6%D9%8A', 'https://ur.wikipedia.org/wiki/1486_(%D8%B9%D8%AF%D8%AF)', 'https://ur.wikipedia.org/wiki/1157%D8%A1', 'https://ur.wikipedia.org/wiki/1738_(%D8%B9%D8%AF%D8%AF)', 'https://ur.wikipedia.org/wiki/1809', 'https://ur.wikipedia.org/wiki/1420%D8%A1', 'https://ur.wikipedia.org/wiki/1186', 'https://ur.wikipedia.org/wiki/1400%E2%80%931409', 'https://ur.wikipedia.org/wiki/1840_(%D8%B9%D8%AF%D8%AF)', 'https://ur.wikipedia.org/wiki/11_%D8%B3%D8%AA%D9%85%D8%A8%D8%B1_2001%D8%8C_%D8%B1%D9%8A%D8%A7%D8%B3%D8%AA%DB%81%D8%A7%D8%A6%DB%92_%D9%85%D8%AA%D8%AD%D8%AF%DB%81_%D8%AF%DB%81%D8%B4%D8%AA_%DA%AF%D8%B1%D8%AF%D9%8A', 'https://ur.wikipedia.org/wiki/1372', 'https://ur.wikipedia.org/wiki/1549_(%D8%B9%D8%AF%D8%AF)', 'https://ur.wikipedia.org/wiki/1170_(%D8%B9%D8%AF%D8%AF)', 'https://ur.wikipedia.org/wiki/1640_%D9%83%D9%8A_%D8%AF%DB%81%D8%A7%D8%A6%D9%8A', 'https://ur.wikipedia.org/wiki/1223_(%D8%B9%D8%AF%D8%AF)', 'https://ur.wikipedia.org/wiki/1399%DA%BE', 'https://ur.wikipedia.org/wiki/1680%D8%A1_%D9%83%D9%8A_%D8%AF%DB%81%D8%A7%D8%A6%D9%8A', 'http://www.elmedeen.com/author-583-حضرت-مولانا-شاہ-عبد-العزیز-محدث-دہلوی-رحمہ-اللہ', 'https://ur.wikipedia.org/wiki/1820', 'https://ur.wikipedia.org/wiki/1117_(%D8%B9%D8%AF%D8%AF)', 'https://ur.wikipedia.org/wiki/1065%DA%BE', 'https://ur.wikipedia.org/wiki/1_(%D8%B6%D8%AF_%D8%A7%D8%A8%DB%81%D8%A7%D9%85)', 'https://ur.wikipedia.org/wiki/1677', 'https://ur.wikipedia.org/wiki/1486%D8%A1', 'https://ur.wikipedia.org/wiki/14%DA%BE', 'https://ur.wikipedia.org/wiki/1959', 'https://ur.wikipedia.org/wiki/139%DA%BE', 'https://ur.wikipedia.org/wiki/1948%D8%A1_%D9%81%D9%84%D8%B3%D8%B7%DB%8C%D9%86%DB%8C_%D8%AE%D8%B1%D9%88%D8%AC', 'https://ur.wikipedia.org/wiki/1606%D8%A1', 'https://ur.wikipedia.org/wiki/1457%D8%A1', 'https://ur.wikipedia.org/wiki/1867_(%D8%B9%D8%AF%D8%AF)', 'https://ur.wikipedia.org/wiki/1857_(%D8%B9%D8%AF%D8%AF)', 'https://ur.wikipedia.org/wiki/1229%D8%A1', 'https://ur.wikipedia.org/wiki/1479', 'https://ur.wikipedia.org/wiki/1441%D8%A1', 'https://ur.wikipedia.org/wiki/1603%D8%A1', 'https://ur.wikipedia.org/wiki/1402', 'https://ur.wikipedia.org/wiki/1921_%D8%A8%D9%83%D9%86%DA%AF%DA%BE%D9%85_%D8%A7%D9%8A%D9%86%DA%88_%D9%83%D8%B1%D9%86%D8%A7%D9%B9%D9%83_%D9%85%D9%84%D8%B2_%DB%81%DA%91%D8%AA%D8%A7%D9%84', 'https://ur.wikipedia.org/wiki/1913%D8%A1', 'https://ur.wikipedia.org/wiki/1304%D8%A1', 'https://ur.wikipedia.org/wiki/12%D9%85%D8%A7%D8%B1%DA%86', 'https://ur.wikipedia.org/wiki/1099%DA%BE', 'https://ur.wikipedia.org/wiki/1269_(%D8%B9%D8%AF%D8%AF)', 'https://ur.wikipedia.org/wiki/2000%D8%A1_%D9%85%DB%8C%DA%BA_%D9%81%D9%84%D9%85', 'https://ur.wikipedia.org/wiki/1184', 'https://ur.wikipedia.org/wiki/1738', 'https://ur.wikipedia.org/wiki/18%DA%BE', 'https://ur.wikipedia.org/wiki/1390%D8%A1', 'https://ur.wikipedia.org/wiki/1193%DA%BE', 'https://ur.wikipedia.org/wiki/1437_(%D8%B9%D8%AF%D8%AF)', 'https://ur.wikipedia.org/wiki/177', 'https://ur.wikipedia.org/wiki/1675', 'https://ur.wikipedia.org/wiki/1717%D8%A1', 'https://ur.wikipedia.org/wiki/1705', 'https://ur.wikipedia.org/wiki/1599', 'https://ur.wikipedia.org/wiki/1691_(%D8%B9%D8%AF%D8%AF)', 'https://ur.wikipedia.org/wiki/1197_(%D8%B9%D8%AF%D8%AF)', 'https://ur.wikipedia.org/wiki/1921%D8%A1', 'https://ur.wikipedia.org/wiki/1397_(%D8%B9%D8%AF%D8%AF)', 'https://ur.wikipedia.org/wiki/1474%D8%A1', 'https://ur.wikipedia.org/wiki/1912%D8%A1_%DA%AF%D8%B1%D9%85%D8%A7%D8%A6%DB%8C_%D8%A7%D9%88%D9%84%D9%85%D9%BE%DA%A9%D8%B3', 'https://ur.wikipedia.org/wiki/120_(%D8%B9%D8%AF%D8%AF)', 'https://ur.wikipedia.org/wiki/1421_(%D8%B9%D8%AF%D8%AF)', 'https://ur.wikipedia.org/wiki/1141', 'https://ur.wikipedia.org/wiki/1178_(%D8%B9%D8%AF%D8%AF)', 'https://ur.wikipedia.org/wiki/1143%D9%87%D9%80', 'https://ur.wikipedia.org/wiki/1062%DA%BE', 'https://ur.wikipedia.org/wiki/1543', 'https://ur.wikipedia.org/wiki/14', 'https://ur.wikipedia.org/wiki/1829_(%D8%B9%D8%AF%D8%AF)', 'https://ur.wikipedia.org/wiki/1540_%D9%83%D9%8A_%D8%AF%DB%81%D8%A7%D8%A6%D9%8A', 'https://ur.wikipedia.org/wiki/1577_(%D8%B9%D8%AF%D8%AF)', 'https://ur.wikipedia.org/wiki/1677%D8%A1', 'https://ur.wikipedia.org/wiki/1070%D8%A1_%DA%A9%DB%8C_%D8%AF%DB%81%D8%A7%D8%A6%DB%8C', 'https://ur.wikipedia.org/wiki/1900%D8%A1', 'https://ur.wikipedia.org/wiki/1095%D8%A1', 'https://ur.wikipedia.org/wiki/1971_(%D8%B9%D8%AF%D8%AF)', 'https://ur.wikipedia.org/wiki/1640%D8%A1_%D9%83%D9%8A_%D8%AF%DB%81%D8%A7%D8%A6%D9%8A', 'https://ur.wikipedia.org/wiki/182%DA%BE', 'https://ur.wikipedia.org/wiki/18_%D8%AC%D9%86%D9%88%D8%B1%DB%8C', 'https://ur.wikipedia.org/wiki/1130_(%D8%B9%D8%AF%D8%AF)', 'https://ur.wikipedia.org/wiki/1948', 'https://ur.wikipedia.org/wiki/19_%D8%AC%D9%86%D9%88%D8%B1%DB%8C', 'https://ur.wikipedia.org/wiki/1230%D8%A1_%D9%83%D9%8A_%D8%AF%DB%81%D8%A7%D8%A6%D9%8A', 'https://ur.wikipedia.org/wiki/1670%D8%A1', 'https://ur.wikipedia.org/wiki/1283_(%D8%B9%D8%AF%D8%AF)', 'https://ur.wikipedia.org/wiki/1536', 'https://ur.wikipedia.org/wiki/12_%D8%B4%D9%88%D8%A7%D9%84', 'https://ur.wikipedia.org/wiki/18_%D8%B1%D8%AC%D8%A8', 'https://ur.wikipedia.org/wiki/140_(%D8%B9%D8%AF%D8%AF)', 'https://ur.wikipedia.org/wiki/1543_(%D8%B9%D8%AF%D8%AF)', 'https://ur.wikipedia.org/wiki/1855%D8%A1_%D8%A8%D9%88%D8%B1%D8%B5%DB%81_%D8%B2%D9%84%D8%B2%D9%84%DB%81', 'https://ur.wikipedia.org/wiki/1524%D8%A1', 'https://ur.wikipedia.org/wiki/1950_%D9%83%D9%8A_%D8%AF%DB%81%D8%A7%D8%A6%D9%8A', 'https://ur.wikipedia.org/wiki/1139_(%D8%B9%D8%AF%D8%AF)', 'https://ur.wikipedia.org/wiki/1433%DA%BE', 'https://ur.wikipedia.org/wiki/1980_%DA%AF%D8%B1%D9%85%D8%A7%D8%A6%DB%8C_%D8%A7%D9%88%D9%84%D9%85%D9%BE%DA%A9%D8%B3', 'https://ur.wikipedia.org/wiki/1181%D8%A1', 'https://ur.wikipedia.org/wiki/1803_(%D8%B9%D8%AF%D8%AF)', 'https://ur.wikipedia.org/wiki/1835_%DB%81%D9%86%D8%AF%D9%88%D8%B3%D8%AA%D8%A7%D9%86_%D9%85%DB%8C%DA%BA', 'https://ur.wikipedia.org/wiki/1780%D8%A1_%D9%83%D9%8A_%D8%AF%DB%81%D8%A7%D8%A6%D9%8A', 'https://ur.wikipedia.org/wiki/1297%D8%A1', 'https://ur.wikipedia.org/wiki/1199%DA%BE', 'https://ur.wikipedia.org/wiki/1081%DA%BE', 'https://ur.wikipedia.org/wiki/1482_(%D8%B9%D8%AF%D8%AF)', 'https://ur.wikipedia.org/wiki/1100_%DA%A9%DB%8C_%D8%AF%DB%81%D8%A7%D8%A6%DB%8C', 'https://ur.wikipedia.org/wiki/1252_(%D8%B9%D8%AF%D8%AF)', 'https://ur.wikipedia.org/wiki/105%D8%A1', 'https://ur.wikipedia.org/wiki/2001_%D8%B3%DB%92_%D9%BE%D8%A7%DA%A9%D8%B3%D8%AA%D8%A7%D9%86_%D9%85%DB%8C%DA%BA_%D8%AF%DB%81%D8%B4%D8%AA_%DA%AF%D8%B1%D8%AF%D8%A7%D9%86%D9%87%D9%94_%DA%A9%D8%A7%D8%B1%D8%B1%D9%88%D8%A7%D8%A6%DB%8C%D9%88%DA%BA_%DA%A9%DB%8C_%D9%81%DB%81%D8%B1%D8%B3%D8%AA', 'https://ur.wikipedia.org/wiki/1111%DA%BE', 'https://ur.wikipedia.org/wiki/1370%D8%A1_%D9%83%D9%8A_%D8%AF%DB%81%D8%A7%D8%A6%D9%8A', 'https://ur.wikipedia.org/wiki/1307_(%D8%B9%D8%AF%D8%AF)', 'https://ur.wikipedia.org/wiki/1906%D8%A1', 'https://ur.wikipedia.org/wiki/1596%D8%A1', 'https://ur.wikipedia.org/wiki/1214%DA%BE', 'https://ur.wikipedia.org/wiki/1984', 'https://ur.wikipedia.org/wiki/1526_(%D8%B9%D8%AF%D8%AF)', 'https://ur.wikipedia.org/wiki/1897_(%D8%B9%D8%AF%D8%AF)', 'https://ur.wikipedia.org/wiki/1874', 'https://ur.wikipedia.org/wiki/1956%D8%A1_%DA%AF%D8%B1%D9%85%D8%A7%D8%A6%D9%8A_%D8%A7%D9%88%D9%84%D9%85%D9%BE%D9%83%D8%B3', 'https://ur.wikipedia.org/wiki/1656', 'https://ur.wikipedia.org/wiki/1848%D8%A1', 'https://ur.wikipedia.org/wiki/14%D9%88%D9%8A%DA%BA_%D8%AF%D9%84%D8%A7%D8%A6%D9%8A_%D9%84%D8%A7%D9%85%D8%A7', 'https://ur.wikipedia.org/wiki/1084%DA%BE', 'https://ur.wikipedia.org/wiki/13_(%D8%B9%D8%AF%D8%AF)', 'https://ur.wikipedia.org/wiki/19_%D8%A7%DA%A9%D8%AA%D9%88%D8%A8%D8%B1', 'https://ur.wikipedia.org/wiki/1130%D8%A1_%DA%A9%DB%8C_%D8%AF%DB%81%D8%A7%D8%A6%DB%8C', 'https://ur.wikipedia.org/wiki/154_(%D8%B9%D8%AF%D8%AF)', 'https://ur.wikipedia.org/wiki/1765%D8%A1', 'https://ur.wikipedia.org/wiki/1099', 'https://ur.wikipedia.org/wiki/1924%D8%A1_%DA%A9%DB%8C_%D8%A8%D8%A7%D9%84%DB%8C_%D9%88%D9%88%DA%88_%D9%81%D9%84%D9%85%D9%88%DA%BA_%DA%A9%DB%8C_%D9%81%DB%81%D8%B1%D8%B3%D8%AA', 'https://ur.wikipedia.org/wiki/1616_(%D8%B9%D8%AF%D8%AF)', 'https://ur.wikipedia.org/wiki/19%D9%88%DB%8C%DA%BA_%D8%B5%D8%AF%DB%8C', 'https://ur.wikipedia.org/wiki/15%D8%A7%D9%BE%D8%B1%D9%8A%D9%84', 'https://ur.wikipedia.org/wiki/18_%D8%B3%D8%AA%D9%85%D8%A8%D8%B1', 'https://ur.wikipedia.org/wiki/1643%D8%A1', 'https://ur.wikipedia.org/wiki/1896%D8%A1_%DA%AF%D8%B1%D9%85%D8%A7%D8%A6%D9%8A_%D8%A7%D9%88%D9%84%D9%85%D9%BE%D9%83%D8%B3_%D9%85%D9%8A%DA%BA_%D8%A7%D9%8A%D8%AA%DA%BE%D9%84%D9%8A%D9%B9%D9%83%D8%B3', 'https://ur.wikipedia.org/wiki/1260%D8%A1_%DA%A9%DB%8C_%D8%AF%DB%81%D8%A7%D8%A6%DB%8C', 'https://ur.wikipedia.org/wiki/1807_(%D8%B9%D8%AF%D8%AF)', 'https://ur.wikipedia.org/wiki/1898_(%D8%B9%D8%AF%D8%AF)', 'https://ur.wikipedia.org/wiki/14_%D8%B3%D8%AA%D9%85%D8%A8%D8%B1', 'https://ur.wikipedia.org/wiki/1305_(%D8%B9%D8%AF%D8%AF)', 'https://ur.wikipedia.org/wiki/14_%D8%AC%D9%85%D8%A7%D8%AF%D9%8A_%D8%A7%D9%84%D8%A7%D9%88%D9%84', 'https://ur.wikipedia.org/wiki/1984_(%D8%B9%D8%AF%D8%AF)', 'https://ur.wikipedia.org/wiki/1838_%DB%81%D9%86%D8%AF%D9%88%D8%B3%D8%AA%D8%A7%D9%86_%D9%85%D9%8A%DA%BA', 'https://ur.wikipedia.org/wiki/113%D8%A1', 'https://ur.wikipedia.org/wiki/1810%D8%A1_%DA%A9%DB%8C_%D8%AF%DB%81%D8%A7%D8%A6%DB%8C', 'https://ur.wikipedia.org/wiki/1806_%DB%81%D9%86%D8%AF%D9%88%D8%B3%D8%AA%D8%A7%D9%86_%D9%85%DB%8C%DA%BA', 'https://ur.wikipedia.org/wiki/1552%D8%A1', 'https://ur.wikipedia.org/wiki/1819%D8%A1', 'https://ur.wikipedia.org/wiki/1_%D8%AC%D9%85%D8%A7%D8%AF%D9%8A_%D8%A7%D9%84%D8%AB%D8%A7%D9%86%D9%8A', 'https://ur.wikipedia.org/wiki/18_%D8%B1%D8%A8%D9%8A%D8%B9_%D8%A7%D9%84%D8%A7%D9%88%D9%84', 'https://ur.wikipedia.org/wiki/192', 'https://ur.wikipedia.org/wiki/17_%D8%AC%D9%86%D9%88%D8%B1%D9%8A', 'https://ur.wikipedia.org/wiki/1328', 'https://ur.wikipedia.org/wiki/1761%D8%A1_%DB%81%D9%86%D8%AF%D9%88%D8%B3%D8%AA%D8%A7%D9%86_%D9%85%DB%8C%DA%BA', 'https://ur.wikipedia.org/wiki/1131_(%D8%B9%D8%AF%D8%AF)', 'https://ur.wikipedia.org/wiki/1370', 'https://ur.wikipedia.org/wiki/1058', 'https://ur.wikipedia.org/wiki/1231%DA%BE', 'https://ur.wikipedia.org/wiki/1591', 'https://ur.wikipedia.org/wiki/113', 'https://ur.wikipedia.org/wiki/1851%D8%A1', 'https://ur.wikipedia.org/wiki/1245%DA%BE', 'https://ur.wikipedia.org/wiki/1904%D8%A1_%DA%AF%D8%B1%D9%85%D8%A7%D8%A6%DB%8C_%D8%A7%D9%88%D9%84%D9%85%D9%BE%DA%A9%D8%B3_%DA%A9%DB%92_%D9%85%DB%8C%D8%AF%D8%A7%D9%86', 'https://ur.wikipedia.org/wiki/1_%D8%B5%D9%81%D8%B1', 'https://ur.wikipedia.org/wiki/1510%D8%A1_%DA%A9%DB%8C_%D8%AF%DB%81%D8%A7%D8%A6%DB%8C', 'https://ur.wikipedia.org/wiki/1930%D8%A1_%DA%A9%DB%8C_%D8%AF%DB%81%D8%A7%D8%A6%DB%8C', 'https://ur.wikipedia.org/wiki/1567', 'https://ur.wikipedia.org/wiki/1810%D8%A1', 'https://ur.wikipedia.org/wiki/1061_(%D8%B9%D8%AF%D8%AF)', 'https://ur.wikipedia.org/wiki/1550%D8%A1_%DA%A9%DB%8C_%D8%AF%DB%81%D8%A7%D8%A6%DB%8C', 'https://ur.wikipedia.org/wiki/13_%D8%A7%D9%BE%D8%B1%D9%8A%D9%84', 'https://ur.wikipedia.org/wiki/1300%D8%A1_%DA%A9%DB%8C_%D8%AF%DB%81%D8%A7%D8%A6%DB%8C', 'https://ur.wikipedia.org/wiki/1905_(%D8%B9%D8%AF%D8%AF)', 'https://ur.wikipedia.org/wiki/1206%D8%A1_%DB%81%D9%86%D8%AF%D9%88%D8%B3%D8%AA%D8%A7%D9%86_%D9%85%D9%8A%DA%BA', 'https://ur.wikipedia.org/wiki/1366', 'https://ur.wikipedia.org/wiki/10_%DA%BE', 'https://ur.wikipedia.org/wiki/1373_(%D8%B9%D8%AF%D8%AF)', 'https://ur.wikipedia.org/wiki/1850%D8%A1_%DA%A9%DB%8C_%D8%AF%DB%81%D8%A7%D8%A6%DB%8C', 'https://ur.wikipedia.org/wiki/1436', 'https://ur.wikipedia.org/wiki/1801_(%D8%B9%D8%AF%D8%AF)', 'https://ur.wikipedia.org/wiki/1176%DA%BE', 'https://ur.wikipedia.org/wiki/1956_%DA%AF%D8%B1%D9%85%D8%A7%D8%A6%DB%8C_%D8%A7%D9%88%D9%84%D9%85%D9%BE%DA%A9%D8%B3', 'https://ur.wikipedia.org/wiki/1636%D8%A1', 'https://ur.wikipedia.org/wiki/13%D8%A7%D9%BE%D8%B1%D9%8A%D9%84', 'https://ur.wikipedia.org/wiki/1242%D8%A1', 'https://ur.wikipedia.org/wiki/1746_(%D8%B9%D8%AF%D8%AF)', 'https://ur.wikipedia.org/wiki/1346%DA%BE', 'https://ur.wikipedia.org/wiki/10_%D8%B0%D9%88%D8%A7%D9%84%D9%82%D8%B9%D8%AF%DB%81', 'https://ur.wikipedia.org/wiki/13_%D8%AC%D9%85%D8%A7%D8%AF%DB%8C_%D8%A7%D9%84%D8%AB%D8%A7%D9%86%DB%8C', 'https://ur.wikipedia.org/wiki/1127', 'https://ur.wikipedia.org/wiki/1523_(%D8%B9%D8%AF%D8%AF)', 'https://ur.wikipedia.org/wiki/1990_%D9%81%D9%8A%D9%81%D8%A7_%D8%B9%D8%A7%D9%84%D9%85%D9%8A_%D9%83%D9%BE', 'https://ur.wikipedia.org/wiki/1318%D8%A1', 'https://ur.wikipedia.org/wiki/1965', 'https://ur.wikipedia.org/wiki/1795', 'https://ur.wikipedia.org/wiki/1141%DA%BE', 'https://ur.wikipedia.org/wiki/1174%D8%A1', 'https://ur.wikipedia.org/wiki/1278%D8%A1', 'https://ur.wikipedia.org/wiki/1626', 'https://ur.wikipedia.org/wiki/2004_(%D8%B9%D8%AF%D8%AF)', 'https://ur.wikipedia.org/wiki/1067_(%D8%B9%D8%AF%D8%AF)', 'https://ur.wikipedia.org/wiki/1696', 'https://ur.wikipedia.org/wiki/1805', 'https://ur.wikipedia.org/wiki/1389', 'https://ur.wikipedia.org/wiki/10%D9%85%D8%A7%D8%B1%DA%86', 'https://ur.wikipedia.org/wiki/1864', 'https://ur.wikipedia.org/wiki/1796_(%D8%B9%D8%AF%D8%AF)', 'https://ur.wikipedia.org/wiki/1891_(%D8%B9%D8%AF%D8%AF)', 'https://ur.wikipedia.org/wiki/1349', 'https://ur.wikipedia.org/wiki/1857_%D9%83%D9%8A_%D8%AC%D9%86%DA%AF_%D8%A2%D8%B2%D8%A7%D8%AF%D9%8A', 'https://ur.wikipedia.org/wiki/11_%D8%B4%D9%88%D8%A7%D9%84', 'https://ur.wikipedia.org/wiki/1400_%D9%83%D9%8A_%D8%AF%DB%81%D8%A7%D8%A6%D9%8A', 'https://www.facebook.com/TehreekSirateMustaqeem/#https://www.facebook.com/DrAshrafAsifJalali/#', 'https://ur.wikipedia.org/wiki/1097%D8%A1', 'https://ur.wikipedia.org/wiki/1760%D8%A1_%DA%A9%DB%8C_%D8%AF%DB%81%D8%A7%D8%A6%DB%8C', 'https://ur.wikipedia.org/wiki/1112_(%D8%B9%D8%AF%D8%AF)', 'https://ur.wikipedia.org/wiki/1068_(%D8%B9%D8%AF%D8%AF)', 'https://ur.wikipedia.org/wiki/1612%D8%A1', 'https://ur.wikipedia.org/wiki/1970_%D9%83%D9%8A_%D8%AF%DB%81%D8%A7%D8%A6%D9%8A', 'https://ur.wikipedia.org/wiki/11_(%D8%B9%D8%AF%D8%AF)', 'https://ur.wikipedia.org/wiki/1612', 'https://ur.wikipedia.org/wiki/1249_(%D8%B9%D8%AF%D8%AF)', 'https://ur.wikipedia.org/wiki/1423%D8%A1', 'https://ur.wikipedia.org/wiki/142857', 'https://ur.wikipedia.org/wiki/1855', 'https://ur.wikipedia.org/wiki/1523%D8%A1', 'https://ur.wikipedia.org/wiki/1274%D8%A1', 'https://ur.wikipedia.org/wiki/1705_(%D8%B9%D8%AF%D8%AF)', 'https://ur.wikipedia.org/wiki/1815_(%D8%B9%D8%AF%D8%AF)', 'https://ur.wikipedia.org/wiki/14_%D8%B5%D8%AF%DB%8C_%DB%81%D8%AC%D8%B1%DB%8C', 'https://ur.wikipedia.org/wiki/1170_%D9%83%D9%8A_%D8%AF%DB%81%D8%A7%D8%A6%D9%8A', 'https://ur.wikipedia.org/wiki/170', 'https://ur.wikipedia.org/wiki/1208', 'https://ur.wikipedia.org/wiki/10_%D8%B1%D8%AC%D8%A8', 'https://ur.wikipedia.org/wiki/1375_(%D8%B9%D8%AF%D8%AF)', 'https://ur.wikipedia.org/wiki/1781', 'https://ur.wikipedia.org/wiki/1709%D8%A1', 'https://ur.wikipedia.org/wiki/1%D9%86%D8%A8%D9%88%D9%8A_%D9%85%D9%8A%DA%BA_%D8%B3%D9%8A%D8%B1%D8%AA_%D9%86%D8%A8%D9%88%D9%8A', 'https://ur.wikipedia.org/wiki/1363%DA%BE', 'https://ur.wikipedia.org/wiki/1948%D8%A1_%DA%A9%D8%A7_%D9%81%D9%84%D8%B3%D8%B7%DB%8C%D9%86%DB%8C_%D8%AE%D8%B1%D9%88%D8%AC', 'https://ur.wikipedia.org/wiki/1592', 'https://ur.wikipedia.org/wiki/1323_(%D8%B9%D8%AF%D8%AF)', 'https://ur.wikipedia.org/wiki/1302_(%D8%B9%D8%AF%D8%AF)', 'https://ur.wikipedia.org/wiki/1439%D8%A1', 'https://ur.wikipedia.org/wiki/1641_(%D8%B9%D8%AF%D8%AF)', 'https://ur.wikipedia.org/wiki/1715_(%D8%B9%D8%AF%D8%AF)', 'https://ur.wikipedia.org/wiki/1152%DA%BE', 'https://ur.wikipedia.org/wiki/1292', 'https://ur.wikipedia.org/wiki/1428%DA%BE', 'https://ur.wikipedia.org/wiki/1253', 'https://ur.wikipedia.org/wiki/1060_%D9%83%D9%8A_%D8%AF%DB%81%D8%A7%D8%A6%D9%8A', 'https://ur.wikipedia.org/wiki/1277%D8%A1', 'https://ur.wikipedia.org/wiki/1690_(%D8%B9%D8%AF%D8%AF)', 'https://ur.wikipedia.org/wiki/1493_(%D8%B9%D8%AF%D8%AF)', 'https://ur.wikipedia.org/wiki/1254_(%D8%B9%D8%AF%D8%AF)', 'https://ur.wikipedia.org/wiki/1527', 'https://ur.wikipedia.org/wiki/1189', 'https://ur.wikipedia.org/wiki/1779', 'https://ur.wikipedia.org/wiki/1431%DA%BE', 'https://ur.wikipedia.org/wiki/1628', 'https://ur.wikipedia.org/wiki/1264', 'https://ur.wikipedia.org/wiki/1548', 'https://ur.wikipedia.org/wiki/1576_(%D8%B9%D8%AF%D8%AF)', 'https://ur.wikipedia.org/wiki/1849%D8%A1', 'https://ur.wikipedia.org/wiki/1996%D8%A1', 'https://ur.wikipedia.org/wiki/1919%D8%A1_%DA%A9%DB%8C_%D8%A8%D8%A7%D9%84%DB%8C_%D9%88%D9%88%DA%88_%D9%81%D9%84%D9%85%D9%88%DA%BA_%DA%A9%DB%8C_%D9%81%DB%81%D8%B1%D8%B3%D8%AA', 'https://ur.wikipedia.org/wiki/1088%D8%A1', 'https://ur.wikipedia.org/wiki/1100%D8%A1_%D9%83%D9%8A_%D8%AF%DB%81%D8%A7%D8%A6%D9%8A', 'https://ur.wikipedia.org/wiki/1665_(%D8%B9%D8%AF%D8%AF)', 'https://ur.wikipedia.org/wiki/12_%D8%B1%D8%A8%DB%8C%D8%B9_%D8%A7%D9%84%D8%A7%D9%88%D9%84', 'https://ur.wikipedia.org/wiki/153%D8%A1', 'https://ur.wikipedia.org/wiki/1190', 'https://ur.wikipedia.org/wiki/1856_%DB%81%D9%86%D8%AF%D9%88%D8%B3%D8%AA%D8%A7%D9%86_%D9%85%D9%8A%DA%BA', 'https://ur.wikipedia.org/wiki/1711_(%D8%B9%D8%AF%D8%AF)', 'https://ur.wikipedia.org/wiki/14_%D8%AC%D9%88%D9%84%D8%A7%D8%A6%D9%8A', 'https://ur.wikipedia.org/wiki/1724%D8%A1', 'https://ur.wikipedia.org/wiki/1995%D8%A1', 'https://ur.wikipedia.org/wiki/1882_(%D8%B9%D8%AF%D8%AF)', 'https://ur.wikipedia.org/wiki/1228%DA%BE', 'https://ur.wikipedia.org/wiki/1679%D8%A1', 'https://ur.wikipedia.org/wiki/1914_%DB%8C%D9%88%D9%86%D8%A7%D9%86%DB%8C_%D9%85%D9%84%DA%A9_%D8%A8%D8%AF%D8%B1%DB%8C', 'https://ur.wikipedia.org/wiki/17%D9%88%DB%8C%DA%BA_%D9%84%D9%88%DA%A9_%D8%B3%D8%A8%DA%BE%D8%A7_%DA%A9%DB%92_%D8%A7%D8%B1%DA%A9%D8%A7%D9%86_%D9%BE%D8%A7%D8%B1%D9%84%DB%8C%D9%85%D8%A7%D9%86_%DA%A9%DB%8C_%D9%81%DB%81%D8%B1%D8%B3%D8%AA', 'https://ur.wikipedia.org/wiki/1500%E2%80%931509', 'https://ur.wikipedia.org/wiki/1350%DA%BE', 'https://ur.wikipedia.org/wiki/12_%D9%85%D8%AD%D8%B1%D9%85', 'https://ur.wikipedia.org/wiki/1559%D8%A1', 'https://ur.wikipedia.org/wiki/1156%DA%BE', 'https://ur.wikipedia.org/wiki/1919%D8%B3%D8%A8%D9%85', 'https://ur.wikipedia.org/wiki/1893_(%D8%B9%D8%AF%D8%AF)', 'https://ur.wikipedia.org/wiki/114%D8%A1', 'https://ur.wikipedia.org/wiki/1613', 'https://ur.wikipedia.org/wiki/1222', 'https://ur.wikipedia.org/wiki/11_%D8%A7%D9%BE%D8%B1%DB%8C%D9%84', 'https://ur.wikipedia.org/wiki/1255%DA%BE', 'https://ur.wikipedia.org/wiki/12_%D8%B1%D8%AC%D8%A8', 'https://ur.wikipedia.org/wiki/166%D8%A1', 'https://ur.wikipedia.org/wiki/1660_%D9%83%D9%8A_%D8%AF%DB%81%D8%A7%D8%A6%D9%8A', 'https://ur.wikipedia.org/wiki/1704%D8%A1', 'https://ur.wikipedia.org/wiki/1516%D8%A1', 'https://ur.wikipedia.org/wiki/12_%D8%B4%D8%B9%D8%A8%D8%A7%D9%86', 'https://ur.wikipedia.org/wiki/1240_%DA%A9%DB%8C_%D8%AF%DB%81%D8%A7%D8%A6%DB%8C', 'https://ur.wikipedia.org/wiki/1723_(%D8%B9%D8%AF%D8%AF)', 'https://ur.wikipedia.org/wiki/12_%D8%A7%D9%83%D8%AA%D9%88%D8%A8%D8%B1', 'https://ur.wikipedia.org/wiki/14_%D9%86%D9%88%D9%85%D8%A8%D8%B1', 'https://ur.wikipedia.org/wiki/1745%D8%A1', 'https://ur.wikipedia.org/wiki/1412%D8%A1', 'https://ur.wikipedia.org/wiki/197%D8%A1', 'https://ur.wikipedia.org/wiki/1369%DA%BE', 'https://ur.wikipedia.org/wiki/1654%D8%A1', 'https://ur.wikipedia.org/wiki/19%D9%85%D8%A7%D8%B1%DA%86', 'https://ur.wikipedia.org/wiki/1091%D8%A1', 'https://ur.wikipedia.org/wiki/1107_(%D8%B9%D8%AF%D8%AF)', 'https://ur.wikipedia.org/wiki/130_%DA%A9%DB%8C_%D8%AF%DB%81%D8%A7%D8%A6%DB%8C', 'https://ur.wikipedia.org/wiki/1_%D8%B4%D9%88%D8%A7%D9%84', 'https://ur.wikipedia.org/wiki/1748%D8%A1', 'https://ur.wikipedia.org/wiki/1465%D8%A1', 'https://ur.wikipedia.org/wiki/1463%D8%A1', 'https://ur.wikipedia.org/wiki/1330%D8%A1', 'https://ur.wikipedia.org/wiki/1227', 'https://ur.wikipedia.org/wiki/1959%D8%A1', 'https://ur.wikipedia.org/wiki/1229', 'https://ur.wikipedia.org/wiki/1424%DA%BE', 'https://ur.wikipedia.org/wiki/1537_(%D8%B9%D8%AF%D8%AF)', 'https://ur.wikipedia.org/wiki/2002_%D9%85%DB%8C%DA%BA_%D9%BE%D8%A7%DA%A9%D8%B3%D8%AA%D8%A7%D9%86', 'https://ur.wikipedia.org/wiki/10_%D8%AF%D8%B3%D9%85%D8%A8%D8%B1', 'https://ur.wikipedia.org/wiki/184_(%D8%B9%D8%AF%D8%AF)', 'https://ur.wikipedia.org/wiki/1704', 'https://ur.wikipedia.org/wiki/1361%D8%A1', 'https://ur.wikipedia.org/wiki/1558%D8%A1', 'https://ur.wikipedia.org/wiki/1170_%DA%A9%DB%8C_%D8%AF%DB%81%D8%A7%D8%A6%DB%8C', 'https://ur.wikipedia.org/wiki/1896_%DA%AF%D8%B1%D9%85%D8%A7%D8%A6%DB%8C_%D8%A7%D9%88%D9%84%D9%85%D9%BE%DA%A9%D8%B3_%D9%85%DB%8C%DA%BA_%D8%A7%DB%8C%D8%AA%DA%BE%D9%84%DB%8C%D9%B9%DA%A9%D8%B3', 'https://ur.wikipedia.org/wiki/13_%D8%B1%D8%A8%DB%8C%D8%B9_%D8%A7%D9%84%D8%A7%D9%88%D9%84', 'https://ur.wikipedia.org/wiki/1436_(%D8%B9%D8%AF%D8%AF)', 'https://ur.wikipedia.org/wiki/1912_%DA%AF%D8%B1%D9%85%D8%A7%D8%A6%D9%8A_%D8%A7%D9%88%D9%84%D9%85%D9%BE%D9%83%D8%B3', 'https://ur.wikipedia.org/wiki/1925%D8%A1_%DA%A9%DB%8C_%D8%A8%D8%A7%D9%84%DB%8C_%D9%88%D9%88%DA%88_%D9%81%D9%84%D9%85%D9%88%DA%BA_%DA%A9%DB%8C_%D9%81%DB%81%D8%B1%D8%B3%D8%AA', 'https://ur.wikipedia.org/wiki/1912_%DA%AF%D8%B1%D9%85%D8%A7%D8%A6%DB%8C_%D8%A7%D9%88%D9%84%D9%85%D9%BE%DA%A9%D8%B3', 'https://ur.wikipedia.org/wiki/1737%D8%A1', 'https://ur.wikipedia.org/wiki/17_%D8%A7%DA%AF%D8%B3%D8%AA', 'https://ur.wikipedia.org/wiki/1_%D8%AC%D9%85%D8%A7%D8%AF%DB%8C_%D8%A7%D9%84%D8%A7%D9%88%D9%84', 'https://ur.wikipedia.org/wiki/1215%D8%A1', 'https://ur.wikipedia.org/wiki/1926_(%D8%B9%D8%AF%D8%AF)', 'https://ur.wikipedia.org/wiki/1647_(%D8%B9%D8%AF%D8%AF)', 'https://ur.wikipedia.org/wiki/16_%D8%A7%DA%AF%D8%B3%D8%AA', 'https://ur.wikipedia.org/wiki/1550%D8%A1', 'https://ur.wikipedia.org/wiki/1671', 'https://ur.wikipedia.org/wiki/1195', 'https://ur.wikipedia.org/wiki/15_%D8%A7%DA%A9%D8%AA%D9%88%D8%A8%D8%B1', 'https://ur.wikipedia.org/wiki/1366%DA%BE', 'https://ur.wikipedia.org/wiki/184%D8%A1', 'https://ur.wikipedia.org/wiki/1971%D8%A1', 'https://ur.wikipedia.org/wiki/1960_%DA%AF%D8%B1%D9%85%D8%A7%D8%A6%DB%8C_%D8%A7%D9%88%D9%84%D9%85%D9%BE%DA%A9%D8%B3', 'https://ur.wikipedia.org/wiki/1676%D8%A1', 'https://ur.wikipedia.org/wiki/1928_%D8%AC%D9%86%D9%88%D8%A8%D9%8A_%D8%A8%DA%BE%D8%A7%D8%B1%D8%AA%D9%8A_%D8%B1%D9%8A%D9%84%D9%88%DB%92_%DB%81%DA%91%D8%AA%D8%A7%D9%84', 'https://ur.wikipedia.org/wiki/1285%DA%BE', 'https://ur.wikipedia.org/wiki/192_(%D8%B9%D8%AF%D8%AF)', 'https://ur.wikipedia.org/wiki/1220_%D9%83%D9%8A_%D8%AF%DB%81%D8%A7%D8%A6%D9%8A', 'https://ur.wikipedia.org/wiki/1060_%DA%A9%DB%8C_%D8%AF%DB%81%D8%A7%D8%A6%DB%8C', 'http://web.archive.org/web/20181225203220/http://zakon5.rada.gov.ua/laws/show/254%D0%BA/96-%D0%B2%D1%80/page2۔', 'https://ur.wikipedia.org/wiki/2002%D8%A1_%D9%81%DB%8C%D9%81%D8%A7_%D8%B9%D8%A7%D9%84%D9%85%DB%8C_%DA%A9%D9%BE', 'https://ur.wikipedia.org/wiki/1468%D8%A1', 'https://ur.wikipedia.org/wiki/1180%DA%BE', 'https://ur.wikipedia.org/wiki/1798_(%D8%B9%D8%AF%D8%AF)', 'https://ur.wikipedia.org/wiki/1526%D8%A1', 'https://ur.wikipedia.org/wiki/1962', 'https://ur.wikipedia.org/wiki/161%D8%A1', 'https://ur.wikipedia.org/wiki/1_%D8%AC%DB%8C', 'https://ur.wikipedia.org/wiki/19_%D8%B1%D8%A8%D9%8A%D8%B9_%D8%A7%D9%84%D8%A7%D9%88%D9%84', 'https://ur.wikipedia.org/wiki/1589%D8%A1', 'https://ur.wikipedia.org/wiki/1521%D8%A1', 'https://ur.wikipedia.org/wiki/1646%D8%A1', 'https://ur.wikipedia.org/wiki/1600_%DA%A9%DB%8C_%D8%AF%DB%81%D8%A7%D8%A6%DB%8C', 'https://ur.wikipedia.org/wiki/190_(%D8%B9%D8%AF%D8%AF)', 'https://ur.wikipedia.org/wiki/1181_(%D8%B9%D8%AF%D8%AF)', 'https://ur.wikipedia.org/wiki/1159%DA%BE', 'https://ur.wikipedia.org/wiki/1310_%DA%A9%DB%8C_%D8%AF%DB%81%D8%A7%D8%A6%DB%8C', 'http://hospitals.aku.edu', 'https://ur.wikipedia.org/wiki/16_%D8%B5%D9%81%D8%B1', 'https://ur.wikipedia.org/wiki/1470', 'https://ur.wikipedia.org/wiki/1361%DA%BE', 'https://ur.wikipedia.org/wiki/1358_(%D8%B9%D8%AF%D8%AF)', 'https://ur.wikipedia.org/wiki/1610_%DA%A9%DB%8C_%D8%AF%DB%81%D8%A7%D8%A6%DB%8C', 'https://ur.wikipedia.org/wiki/1581', 'https://ur.wikipedia.org/wiki/1469', 'https://ur.wikipedia.org/wiki/1408', 'https://ur.wikipedia.org/wiki/1719_(%D8%B9%D8%AF%D8%AF)', 'https://ur.wikipedia.org/wiki/151%D8%A1', 'https://ur.wikipedia.org/wiki/1_%D9%86%D9%88%D9%85%D8%A8%D8%B1', 'https://ur.wikipedia.org/wiki/1293%DA%BE', 'https://ur.wikipedia.org/wiki/1220%D8%A1_%D9%83%D9%8A_%D8%AF%DB%81%D8%A7%D8%A6%D9%8A', 'https://ur.wikipedia.org/wiki/1970', 'https://ur.wikipedia.org/wiki/1867', 'https://ur.wikipedia.org/wiki/1974%D8%A1_%D9%81%DB%8C%D9%81%D8%A7_%D8%B9%D8%A7%D9%84%D9%85%DB%8C_%DA%A9%D9%BE', 'https://ur.wikipedia.org/wiki/1250_(%D8%B9%D8%AF%D8%AF)', 'https://ur.wikipedia.org/wiki/175_(%D8%B9%D8%AF%D8%AF)', 'https://ur.wikipedia.org/wiki/1485', 'https://ur.wikipedia.org/wiki/1122', 'https://ur.wikipedia.org/wiki/12_%D8%AC%D9%88%D9%84%D8%A7%D8%A6%D9%8A', 'https://ur.wikipedia.org/wiki/1410_%DA%A9%DB%8C_%D8%AF%DB%81%D8%A7%D8%A6%DB%8C', 'https://ur.wikipedia.org/wiki/1923', 'https://ur.wikipedia.org/wiki/1_%D8%A7%D9%83%D8%AA%D9%88%D8%A8%D8%B1', 'https://ur.wikipedia.org/wiki/1244%DA%BE', 'https://ur.wikipedia.org/wiki/15_%D8%B1%D8%A8%D9%8A%D8%B9_%D8%A7%D9%84%D8%A7%D9%88%D9%84', 'https://ur.wikipedia.org/wiki/1432_(%D8%B9%D8%AF%D8%AF)', 'https://ur.wikipedia.org/wiki/1982%D8%A1_%D9%81%DB%8C%D9%81%D8%A7_%D8%B9%D8%A7%D9%84%D9%85%DB%8C_%DA%A9%D9%BE', 'https://ur.wikipedia.org/wiki/13_%D8%AC%D9%85%D8%A7%D8%AF%D9%8A_%D8%A7%D9%84%D8%A7%D9%88%D9%84', 'https://ur.wikipedia.org/wiki/13_%D8%A7%D9%83%D8%AA%D9%88%D8%A8%D8%B1', 'https://ur.wikipedia.org/wiki/1978_%D9%81%D9%8A%D9%81%D8%A7_%D8%B9%D8%A7%D9%84%D9%85%D9%8A_%D9%83%D9%BE', 'https://ur.wikipedia.org/wiki/1966%D8%A1', 'https://ur.wikipedia.org/wiki/1958_%D9%81%D9%8A%D9%81%D8%A7_%D8%B9%D8%A7%D9%84%D9%85%D9%8A_%D9%83%D9%BE', 'http://www.rationalistinternational.net', 'https://ur.wikipedia.org/wiki/118', 'https://ur.wikipedia.org/wiki/1938_(%D8%B9%D8%AF%D8%AF)', 'https://ur.wikipedia.org/wiki/19_%D8%A7%D9%BE%D8%B1%D9%8A%D9%84', 'https://ur.wikipedia.org/wiki/1672_(%D8%B9%D8%AF%D8%AF)', 'https://ur.wikipedia.org/wiki/1519', 'https://ur.wikipedia.org/wiki/1879%D8%A1', 'https://ur.wikipedia.org/wiki/133_(%D8%B9%D8%AF%D8%AF)', 'https://ur.wikipedia.org/wiki/183%DA%BE', 'https://ur.wikipedia.org/wiki/1513_(%D8%B9%D8%AF%D8%AF)', 'https://ur.wikipedia.org/wiki/17_%D9%85%D8%A6%D9%8A', 'https://ur.wikipedia.org/wiki/2002%D8%A1_%D9%85%DB%8C%DA%BA_%D9%BE%D8%A7%DA%A9%D8%B3%D8%AA%D8%A7%D9%86', 'https://ur.wikipedia.org/wiki/11_%D8%B1%D8%A8%D9%8A%D8%B9_%D8%A7%D9%84%D8%AB%D8%A7%D9%86%D9%8A', 'https://ur.wikipedia.org/wiki/1962%D8%A1', 'https://ur.wikipedia.org/wiki/14_%D8%A8%D9%84%DB%8C%DA%88%D8%B2', 'https://ur.wikipedia.org/wiki/1266', 'https://ur.wikipedia.org/wiki/1480_%DA%A9%DB%8C_%D8%AF%DB%81%D8%A7%D8%A6%DB%8C', 'https://ur.wikipedia.org/wiki/1445', 'https://ur.wikipedia.org/wiki/1105', 'https://ur.wikipedia.org/wiki/1934_fifa_world_cup', 'https://ur.wikipedia.org/wiki/1079', 'https://ur.wikipedia.org/wiki/1674_(%D8%B9%D8%AF%D8%AF)', 'https://ur.wikipedia.org/wiki/1557_(%D8%B9%D8%AF%D8%AF)', 'https://ur.wikipedia.org/wiki/1158%D8%A1', 'https://ur.wikipedia.org/wiki/1820_(%D8%B9%D8%AF%D8%AF)', 'https://ur.wikipedia.org/wiki/16_%D8%B1%D8%A8%DB%8C%D8%B9_%D8%A7%D9%84%D8%A7%D9%88%D9%84', 'https://ur.wikipedia.org/wiki/1610%D8%A1', 'https://ur.wikipedia.org/wiki/1306%D8%A1', 'https://ur.wikipedia.org/wiki/151', 'https://ur.wikipedia.org/wiki/1210_%DA%A9%DB%8C_%D8%AF%DB%81%D8%A7%D8%A6%DB%8C', 'https://ur.wikipedia.org/wiki/12_%D8%AC%D9%85%D8%A7%D8%AF%D9%8A_%D8%A7%D9%84%D8%A7%D9%88%D9%84', 'https://ur.wikipedia.org/wiki/1980%D8%A1_%DA%AF%D8%B1%D9%85%D8%A7%D8%A6%DB%8C_%D8%A7%D9%88%D9%84%D9%85%D9%BE%DA%A9%D8%B3', 'https://ur.wikipedia.org/wiki/1740', 'http://www.escapadarural.com/que-hacer/arenas-de-san-pedro/palacio-del-infante-don-luis-de-borbon*', 'https://ur.wikipedia.org/wiki/1950_%D9%81%D9%8A%D9%81%D8%A7_%D8%B9%D8%A7%D9%84%D9%85%D9%8A_%D9%83%D9%BE', 'https://ur.wikipedia.org/wiki/1119', 'https://ur.wikipedia.org/wiki/1979_%DA%A9%DB%92_%D8%A7%DB%8C%D8%B1%D8%A7%D9%86%DB%8C_%D8%A7%D9%86%D9%82%D9%84%D8%A7%D8%A8_%DA%A9%DB%92_%D8%A7%D8%B3%D8%A8%D8%A7%D8%A8_%D8%A7%D9%88%D8%B1_%D9%BE%D8%B3_%D9%85%D9%86%D8%B8%D8%B1', 'http://tombraider-game.blogspot.com/2007/11/blog-post_2445.html', 'https://ur.wikipedia.org/wiki/1501%D8%A1', 'https://ur.wikipedia.org/wiki/1112%DA%BE', 'https://ur.wikipedia.org/wiki/1325%DA%BE', 'https://ur.wikipedia.org/wiki/18%D8%A7%D9%BE%D8%B1%D9%8A%D9%84', 'https://ur.wikipedia.org/wiki/1104%D8%A1', 'https://ur.wikipedia.org/wiki/1841_(%D8%B9%D8%AF%D8%AF)', 'https://ur.wikipedia.org/wiki/106%D8%A1', 'https://ur.wikipedia.org/wiki/1924%D8%A1_%DA%AF%D8%B1%D9%85%D8%A7%D8%A6%D9%8A_%D8%A7%D9%88%D9%84%D9%85%D9%BE%D9%83%D8%B3', 'https://ur.wikipedia.org/wiki/1117%D8%A1', 'https://ur.wikipedia.org/wiki/16%D8%AC%D9%86%D9%88%D8%B1%D9%8A', 'https://ur.wikipedia.org/wiki/164%D8%A1', 'https://ur.wikipedia.org/wiki/1076%DA%BE', 'https://ur.wikipedia.org/wiki/1303%D8%A1', 'https://ur.wikipedia.org/wiki/1283%DA%BE', 'https://ur.wikipedia.org/wiki/1057', 'https://ur.wikipedia.org/wiki/1132', 'https://ur.wikipedia.org/wiki/1785_(%D8%B9%D8%AF%D8%AF)', 'https://ur.wikipedia.org/wiki/1289%D8%A1', 'https://ur.wikipedia.org/wiki/1404%D8%A1', 'https://ur.wikipedia.org/wiki/1790_%DA%A9%DB%8C_%D8%AF%DB%81%D8%A7%D8%A6%DB%8C', 'https://ur.wikipedia.org/wiki/132%DA%BE', 'https://ur.wikipedia.org/wiki/1443%D8%A1', 'https://ur.wikipedia.org/wiki/1343%D8%A1', 'https://ur.wikipedia.org/wiki/1987_%DA%A9%D8%B1%DA%A9%D9%B9_%D8%B9%D8%A7%D9%84%D9%85%DB%8C_%DA%A9%D9%BE', 'https://ur.wikipedia.org/wiki/162%D8%A1', 'https://ur.wikipedia.org/wiki/1984%D8%A1_%DA%AF%D8%B1%D9%85%D8%A7%D8%A6%D9%8A_%D8%A7%D9%88%D9%84%D9%85%D9%BE%D9%83%D8%B3', 'https://ur.wikipedia.org/wiki/1838_%DB%81%D9%86%D8%AF%D9%88%D8%B3%D8%AA%D8%A7%D9%86_%D9%85%DB%8C%DA%BA', 'https://ur.wikipedia.org/wiki/1215_(%D8%B9%D8%AF%D8%AF)', 'https://ur.wikipedia.org/wiki/1449%D8%A1', 'https://ur.wikipedia.org/wiki/1149%D8%A1', 'https://ur.wikipedia.org/wiki/1555', 'https://ur.wikipedia.org/wiki/1560%D8%A1_%D9%83%D9%8A_%D8%AF%DB%81%D8%A7%D8%A6%D9%8A', 'https://ur.wikipedia.org/wiki/1291_(%D8%B9%D8%AF%D8%AF)', 'https://ur.wikipedia.org/wiki/1428', 'https://ur.wikipedia.org/wiki/1896%D8%A1', 'https://ur.wikipedia.org/wiki/1751_(%D8%B9%D8%AF%D8%AF)', 'https://ur.wikipedia.org/wiki/1135_(%D8%B9%D8%AF%D8%AF)', 'https://ur.wikipedia.org/wiki/10%D8%AC%D9%86%D9%88%D8%B1%DB%8C', 'https://ur.wikipedia.org/wiki/1545%D8%A1', 'https://ur.wikipedia.org/wiki/1989', 'https://ur.wikipedia.org/wiki/1773%D8%A1', 'https://ur.wikipedia.org/wiki/1248%DA%BE', 'https://ur.wikipedia.org/wiki/1123', 'https://ur.wikipedia.org/wiki/1756_(%D8%B9%D8%AF%D8%AF)', 'https://ur.wikipedia.org/wiki/1207%D8%A1', 'https://ur.wikipedia.org/wiki/13_%D9%86%D9%88%D9%85%D8%A8%D8%B1', 'https://ur.wikipedia.org/wiki/1243', 'https://ur.wikipedia.org/wiki/17_%D8%B1%D8%A8%D9%8A%D8%B9_%D8%A7%D9%84%D8%AB%D8%A7%D9%86%D9%8A', 'https://ur.wikipedia.org/wiki/1323%D8%A1', 'https://ur.wikipedia.org/wiki/180%D8%A1', 'https://ur.wikipedia.org/wiki/1268_(%D8%B9%D8%AF%D8%AF)', 'https://ur.wikipedia.org/wiki/1494_(%D8%B9%D8%AF%D8%AF)', 'https://ur.wikipedia.org/wiki/1582_(%D8%B9%D8%AF%D8%AF)', 'https://ur.wikipedia.org/wiki/1136%DA%BE', 'https://ur.wikipedia.org/wiki/1140%D8%A1_%DA%A9%DB%8C_%D8%AF%DB%81%D8%A7%D8%A6%DB%8C', 'https://ur.wikipedia.org/wiki/1885', 'https://ur.wikipedia.org/wiki/2003_(%D8%B9%D8%AF%D8%AF)', 'https://ur.wikipedia.org/wiki/1816_(%D8%B9%D8%AF%D8%AF)', 'https://ur.wikipedia.org/wiki/1783', 'https://ur.wikipedia.org/wiki/1481_(%D8%B9%D8%AF%D8%AF)', 'https://ur.wikipedia.org/wiki/1785%D8%A1', 'https://ur.wikipedia.org/wiki/1540%D8%A1_%D9%83%D9%8A_%D8%AF%DB%81%D8%A7%D8%A6%D9%8A', 'https://ur.wikipedia.org/wiki/1412_(%D8%B9%D8%AF%D8%AF)', 'https://ur.wikipedia.org/wiki/1509', 'https://ur.wikipedia.org/wiki/1724_(%D8%B9%D8%AF%D8%AF)', 'https://ur.wikipedia.org/wiki/14_%D8%B0%D9%88%D8%A7%D9%84%D9%82%D8%B9%D8%AF%DB%81', 'https://ur.wikipedia.org/wiki/1752_(%D8%B9%D8%AF%D8%AF)', 'https://ur.wikipedia.org/wiki/1222%DA%BE', 'https://ur.wikipedia.org/wiki/1290%D8%A1_%DA%A9%DB%8C_%D8%AF%DB%81%D8%A7%D8%A6%DB%8C', 'https://ur.wikipedia.org/wiki/1406', 'http://www.akdn.org/about-us/his-highness-aga-khan', 'https://ur.wikipedia.org/wiki/1409', 'https://ur.wikipedia.org/wiki/140%D8%A1_%DA%A9%DB%8C_%D8%AF%DB%81%D8%A7%D8%A6%DB%8C', 'https://ur.wikipedia.org/wiki/1993%D8%A1_%D9%85%D9%85%D8%A8%D8%A6%D9%8A_%D8%A8%D9%85_%D8%AF%DA%BE%D9%85%D8%A7%D9%83%DB%92', 'https://ur.wikipedia.org/wiki/1419%DA%BE', 'https://ur.wikipedia.org/wiki/1097%DA%BE', 'https://ur.wikipedia.org/wiki/1571_(%D8%B9%D8%AF%D8%AF)', 'https://ur.wikipedia.org/wiki/1370%D8%A1_%DA%A9%DB%8C_%D8%AF%DB%81%D8%A7%D8%A6%DB%8C', 'https://ur.wikipedia.org/wiki/1978_%D8%A7%DB%8C%D8%B4%DB%8C%D8%A7%D8%A6%DB%8C_%DA%A9%DA%BE%DB%8C%D9%84', 'https://ur.wikipedia.org/wiki/15%D9%81%D8%B1%D9%88%D8%B1%D9%8A', 'https://ur.wikipedia.org/wiki/1681%D8%A1', 'https://ur.wikipedia.org/wiki/1510_%DA%A9%DB%8C_%D8%AF%DB%81%D8%A7%D8%A6%DB%8C', 'https://ur.wikipedia.org/wiki/1670%D8%A1_%D9%83%D9%8A_%D8%AF%DB%81%D8%A7%D8%A6%D9%8A', 'https://ur.wikipedia.org/wiki/1808', 'https://ur.wikipedia.org/wiki/1648%D8%A1', 'https://ur.wikipedia.org/wiki/1527_(%D8%B9%D8%AF%D8%AF)', 'https://ur.wikipedia.org/wiki/10_%D8%A7%DA%AF%D8%B3%D8%AA', 'https://ur.wikipedia.org/wiki/180%DA%BE', 'https://ur.wikipedia.org/wiki/178', 'https://ur.wikipedia.org/wiki/1571', 'https://ur.wikipedia.org/wiki/1789', 'https://ur.wikipedia.org/wiki/147%DA%BE', 'https://ur.wikipedia.org/wiki/1531%D8%A1', 'https://ur.wikipedia.org/wiki/1663', 'https://ur.wikipedia.org/wiki/1321%D8%A1', 'https://ur.wikipedia.org/wiki/1351_(%D8%B9%D8%AF%D8%AF)', 'https://ur.wikipedia.org/wiki/1296_(%D8%B9%D8%AF%D8%AF)', 'https://ur.wikipedia.org/wiki/146%D8%A1', 'https://ur.wikipedia.org/wiki/1167%DA%BE', 'https://ur.wikipedia.org/wiki/1870%D8%A1_%D9%83%D9%8A_%D8%AF%DB%81%D8%A7%D8%A6%D9%8A', 'https://ur.wikipedia.org/wiki/16', 'https://ur.wikipedia.org/wiki/1134_(%D8%B9%D8%AF%D8%AF)', 'https://ur.wikipedia.org/wiki/116', 'https://ur.wikipedia.org/wiki/1322', 'https://ur.wikipedia.org/wiki/12_%D8%AC%D9%85%D8%A7%D8%AF%DB%8C_%D8%A7%D9%84%D8%A7%D9%88%D9%84', 'https://ur.wikipedia.org/wiki/1218%DA%BE', 'https://ur.wikipedia.org/wiki/1491', 'https://ur.wikipedia.org/wiki/1497_(%D8%B9%D8%AF%D8%AF)', 'https://ur.wikipedia.org/wiki/1696_(%D8%B9%D8%AF%D8%AF)', 'https://ur.wikipedia.org/wiki/1431_(%D8%B9%D8%AF%D8%AF)', 'https://ur.wikipedia.org/wiki/1876%D8%A1%E2%80%9378%D8%A1_%DA%A9%D8%A7_%D8%B9%D8%B8%DB%8C%D9%85_%D9%82%D8%AD%D8%B7', 'https://ur.wikipedia.org/wiki/15', 'https://ur.wikipedia.org/wiki/180%D8%A1_%D9%83%D9%8A_%D8%AF%DB%81%D8%A7%D8%A6%D9%8A', 'https://ur.wikipedia.org/wiki/19_%D8%AC%D9%85%D8%A7%D8%AF%D9%8A_%D8%A7%D9%84%D8%A7%D9%88%D9%84', 'https://ur.wikipedia.org/wiki/17_%D8%B1%D9%85%D8%B6%D8%A7%D9%86', 'https://ur.wikipedia.org/wiki/1157_(%D8%B9%D8%AF%D8%AF)', 'https://ur.wikipedia.org/wiki/1500%D8%A1_%DA%A9%DB%8C_%D8%AF%DB%81%D8%A7%D8%A6%DB%8C', 'https://ur.wikipedia.org/wiki/2002%D8%A1', 'https://ur.wikipedia.org/wiki/1599_(%D8%B9%D8%AF%D8%AF)', 'https://ur.wikipedia.org/wiki/15_%D8%B5%D9%81%D8%B1', 'https://ur.wikipedia.org/wiki/1801%D8%A1', 'https://ur.wikipedia.org/wiki/1696_%DB%81%D9%86%D8%AF%D9%88%D8%B3%D8%AA%D8%A7%D9%86_%D9%85%D9%8A%DA%BA', 'https://ur.wikipedia.org/wiki/1162%DA%BE', 'https://ur.wikipedia.org/wiki/1994_%D9%81%D9%8A%D9%81%D8%A7_%D8%B9%D8%A7%D9%84%D9%85%D9%8A_%D9%83%D9%BE', 'https://ur.wikipedia.org/wiki/158', 'https://ur.wikipedia.org/wiki/1952_(%D8%B9%D8%AF%D8%AF)', 'https://ur.wikipedia.org/wiki/10_%D8%B1%D8%A8%D9%8A%D8%B9_%D8%A7%D9%84%D8%AB%D8%A7%D9%86%D9%8A', 'https://ur.wikipedia.org/wiki/1702', 'https://ur.wikipedia.org/wiki/1210%D8%A1_%D9%83%D9%8A_%D8%AF%DB%81%D8%A7%D8%A6%D9%8A', 'https://ur.wikipedia.org/wiki/1159', 'https://ur.wikipedia.org/wiki/2002_%D9%81%D9%8A%D9%81%D8%A7_%D8%B9%D8%A7%D9%84%D9%85%D9%8A_%D9%83%D9%BE', 'https://ur.wikipedia.org/wiki/1873%D8%A1', 'https://ur.wikipedia.org/wiki/17%DA%BE', 'https://ur.wikipedia.org/wiki/187/EB_%DA%AF%DA%AF%D9%88', 'https://ur.wikipedia.org/wiki/1299%DA%BE', 'https://ur.wikipedia.org/wiki/1653%D8%A1', 'https://ur.wikipedia.org/wiki/1549', 'https://ur.wikipedia.org/wiki/1244_(%D8%B9%D8%AF%D8%AF)', 'https://ur.wikipedia.org/wiki/1277', 'https://ur.wikipedia.org/wiki/1936', 'https://ur.wikipedia.org/wiki/1102%DA%BE', 'https://ur.wikipedia.org/wiki/10_%D8%AC%D9%85%D8%A7%D8%AF%DB%8C_%D8%A7%D9%84%D8%A7%D9%88%D9%84', 'https://ur.wikipedia.org/wiki/15_%D8%AC%D9%88%D9%86', 'https://ur.wikipedia.org/wiki/1171_(%D8%B9%D8%AF%D8%AF)', 'https://ur.wikipedia.org/wiki/1670_(%D8%B9%D8%AF%D8%AF)', 'https://ur.wikipedia.org/wiki/1206', 'https://ur.wikipedia.org/wiki/1965%D8%A1', 'https://ur.wikipedia.org/wiki/162%DA%BE', 'https://ur.wikipedia.org/wiki/1404', 'https://ur.wikipedia.org/wiki/1340', 'https://ur.wikipedia.org/wiki/1389_(%D8%B9%D8%AF%D8%AF)', 'https://ur.wikipedia.org/wiki/1755', 'https://ur.wikipedia.org/wiki/17_%D8%B1%D8%A8%DB%8C%D8%B9_%D8%A7%D9%84%D8%A7%D9%88%D9%84', 'https://ur.wikipedia.org/wiki/2002_%D9%85%D9%8A%DA%BA_%D9%BE%D8%A7%D9%83%D8%B3%D8%AA%D8%A7%D9%86_%D9%85%D9%8A%DA%BA_%D8%AF%DB%81%D8%B4%D8%AA_%DA%AF%D8%B1%D8%AF%D9%8A', 'https://ur.wikipedia.org/wiki/1610_%D9%83%D9%8A_%D8%AF%DB%81%D8%A7%D8%A6%D9%8A', 'https://ur.wikipedia.org/wiki/1957', 'https://ur.wikipedia.org/wiki/1243%D8%A1', 'https://ur.wikipedia.org/wiki/1388', 'https://ur.wikipedia.org/wiki/1997', 'https://ur.wikipedia.org/wiki/1668_(%D8%B9%D8%AF%D8%AF)', 'https://ur.wikipedia.org/wiki/1575%D8%A1', 'https://ur.wikipedia.org/wiki/1623%D8%A1', 'https://ur.wikipedia.org/wiki/1576', 'https://ur.wikipedia.org/wiki/1902_(%D8%B9%D8%AF%D8%AF)', 'https://ur.wikipedia.org/wiki/1182%DA%BE'}\n"
     ]
    }
   ],
   "source": [
    "### write code here...\n",
    "def remove_urls(articles):\n",
    "    set_of_urls = set()\n",
    "    clean_articles = []\n",
    "\n",
    "    for article in articles:\n",
    "        lst = re.findall(r\"(?:http|https):\\/\\/\\S+\",article)\n",
    "        article = re.sub(r\"(?:http|https):\\/\\/\\S+\",\"\",article)\n",
    "        set_of_urls.update(lst)\n",
    "        clean_articles.append(article)\n",
    "    \n",
    "    return set_of_urls, clean_articles\n",
    "\n",
    "data = pd.read_csv('UrduWiki.csv')\n",
    "\n",
    "articles = data.content\n",
    "\n",
    "set_of_urls, clean_articles = remove_urls(articles)\n",
    "\n",
    "print(set_of_urls)"
   ]
  }
 ],
 "metadata": {
  "colab": {
   "collapsed_sections": [
    "Y70GeIJgWKSZ",
    "yjv8odw0WKSb"
   ],
   "name": "Assignment0.ipynb",
   "provenance": []
  },
  "kernelspec": {
   "display_name": "Python 3.8.10 64-bit",
   "language": "python",
   "name": "python3"
  },
  "language_info": {
   "codemirror_mode": {
    "name": "ipython",
    "version": 3
   },
   "file_extension": ".py",
   "mimetype": "text/x-python",
   "name": "python",
   "nbconvert_exporter": "python",
   "pygments_lexer": "ipython3",
   "version": "3.8.10"
  },
  "vscode": {
   "interpreter": {
    "hash": "916dbcbb3f70747c44a77c7bcd40155683ae19c65e1c03b4aa3499c5328201f1"
   }
  }
 },
 "nbformat": 4,
 "nbformat_minor": 1
}
