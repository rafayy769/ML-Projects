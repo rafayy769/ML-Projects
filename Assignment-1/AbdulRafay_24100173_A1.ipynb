{
 "cells": [
  {
   "cell_type": "markdown",
   "metadata": {
    "id": "E9UtJfIIGbCq"
   },
   "source": [
    "# **PA 01: k-NN Classification** "
   ]
  },
  {
   "cell_type": "markdown",
   "metadata": {
    "id": "lsb2Qkti_2i_"
   },
   "source": [
    "### Instructions\n",
    "\n",
    "\n",
    "*   The aim of this assignment is to give you hands-on experience with a real-life\n",
    "machine learning application.\n",
    "*   You will be implementing a kNN-based digit classifier.\n",
    "*   You must use the Python programming language.\n",
    "*   Please use procedural programming style and comment your code thoroughly.\n",
    "*   There are two parts of this assignment. In part 1, you can use **NumPy**, **Pandas**, **Matplotlib**, **Seaborn**, and any other standard Python libraries. You are $\\color{red}{\\text{not allowed}}$ to use **scikit-learn**, or any other machine learning toolkit. You can only use **scikit-learn** in part 2.\n",
    "*   **Carefully read the submission instructions and plagiarism policy.**"
   ]
  },
  {
   "cell_type": "markdown",
   "metadata": {
    "id": "cofpGngACtCd"
   },
   "source": [
    "### Submission Instructions\n",
    "\n",
    "You should submit both your notebook file (.ipynb) and python script (.py) on LMS.\n",
    "Please name your files Name_RollNo_Assignment1. Zip these files in a folder and name\n",
    "the folder Name_RollNo_Assignment1. If you don't know how to save .ipynb as .py see\n",
    "[this](https://i.stack.imgur.com/L1rQH.png). Failing to submit any one of them might result in the reduction of marks."
   ]
  },
  {
   "cell_type": "markdown",
   "metadata": {
    "id": "yX2AohQDWoCh"
   },
   "source": [
    "### Plagiarism Policy\n",
    "\n",
    "The code $\\color{red}{\\text{MUST}}$ be done independently. Any plagiarism or cheating of work from others\n",
    "or the internet will be immediately referred to the DC. If you are confused about what\n",
    "constitutes plagiarism, it is your responsibility to consult with the instructor or the TA\n",
    "in a timely manner. **PLEASE DO NOT LOOK AT ANYONE ELSE'S CODE\n",
    "NOR DISCUSS IT WITH THEM.**"
   ]
  },
  {
   "cell_type": "markdown",
   "metadata": {
    "id": "Dbut1LI4s_A7"
   },
   "source": [
    "### Introduction\n",
    "\n",
    "The purpose of this assignment is to get you familiar with the k nearest neighbor classification. You will be training a k-NN model and using it to classify images of handwritten digits from the famous **MNIST dataset**, which contains 70,000\n",
    "images of digits and their respective labels. You will first implement the code from scratch and then replicate the entire code using the scikit-learn library."
   ]
  },
  {
   "cell_type": "markdown",
   "metadata": {
    "id": "qMxzaKw93VoI"
   },
   "source": [
    "## **Part 1: Implement from Scratch (75 marks)**"
   ]
  },
  {
   "cell_type": "markdown",
   "metadata": {
    "id": "HqKernM3ZQgO"
   },
   "source": [
    "You are not allowed to use scikit-learn or any other machine learning toolkit for this\n",
    "part. You have to implement your own k-NN classifier from scratch. You may use\n",
    "Pandas, NumPy, Matplotlib, Seaborn, and other standard Python libraries."
   ]
  },
  {
   "cell_type": "markdown",
   "metadata": {
    "id": "wy8VfOoofhEB"
   },
   "source": [
    "### Importing Libraries"
   ]
  },
  {
   "cell_type": "code",
   "execution_count": 24,
   "metadata": {
    "id": "TjOjOx_YwyII"
   },
   "outputs": [],
   "source": [
    "# Importing relevant libraries. You may add other libraries if needed (except scikit-learn or any other machine learning toolkit)\n",
    "import numpy as np\n",
    "import matplotlib.pyplot as plt\n",
    "import seaborn as sns\n",
    "import pandas as pd\n",
    "\n",
    "%matplotlib inline"
   ]
  },
  {
   "cell_type": "markdown",
   "metadata": {
    "id": "Oyy3ePSffsIa"
   },
   "source": [
    "### Loading Dataset"
   ]
  },
  {
   "cell_type": "markdown",
   "metadata": {
    "id": "EfBfuVEZo9W7"
   },
   "source": [
    "The MNIST dataset consists of 70,000 labelled images of handwritten digits, each of size 28 pixels by 28 pixels. \n",
    "\n",
    "The dataset given to you is in a CSV file. The CSV file has 70,001 rows and 785 columns. Each row represents one image of a handwritten digit.\n",
    "The first row indicates what each column means (Print the loaded dataset to understand this). You should remove this row when creating the dataset. \n",
    "The first column gives the label (a number from 0 to 9). The next 784 columns give the value of each pixel. There are 784 pixels in each image corresponding to an image size of 28 by 28.\n",
    "\n",
    "For quicker computation, you will sample 20% of the entire dataset.\n",
    "\n",
    "You can use the Pandas library to load the CSV file but the final dataset should be stored in a Numpy array of shape (14000, 785)."
   ]
  },
  {
   "cell_type": "code",
   "execution_count": 3,
   "metadata": {
    "id": "rkj9-g9yf5yY"
   },
   "outputs": [],
   "source": [
    "# Mount your Google Drive\n",
    "# from google.colab import drive\n",
    "# drive.mount('/content/drive')"
   ]
  },
  {
   "cell_type": "code",
   "execution_count": 19,
   "metadata": {
    "id": "4OHAtnskxFYg"
   },
   "outputs": [
    {
     "name": "stderr",
     "output_type": "stream",
     "text": [
      "/home/rafay/anaconda3/lib/python3.8/site-packages/IPython/core/interactiveshell.py:3437: DtypeWarning: Columns (0,1,2,3,4,5,6,7,8,9,10,11,12,13,14,15,16,17,18,19,20,21,22,23,24,25,26,27,28,29,30,31,32,33,34,35,36,37,38,39,40,41,42,43,44,45,46,47,48,49,50,51,52,53,54,55,56,57,58,59,60,61,62,63,64,65,66,67,68,69,70,71,72,73,74,75,76,77,78,79,80,81,82,83,84,85,86,87,88,89,90,91,92,93,94,95,96,97,98,99,100,101,102,103,104,105,106,107,108,109,110,111,112,113,114,115,116,117,118,119,120,121,122,123,124,125,126,127,128,129,130,131,132,133,134,135,136,137,138,139,140,141,142,143,144,145,146,147,148,149,150,151,152,153,154,155,156,157,158,159,160,161,162,163,164,165,166,167,168,169,170,171,172,173,174,175,176,177,178,179,180,181,182,183,184,185,186,187,188,189,190,191,192,193,194,195,196,197,198,199,200,201,202,203,204,205,206,207,208,209,210,211,212,213,214,215,216,217,218,219,220,221,222,223,224,225,226,227,228,229,230,231,232,233,234,235,236,237,238,239,240,241,242,243,244,245,246,247,248,249,250,251,252,253,254,255,256,257,258,259,260,261,262,263,264,265,266,267,268,269,270,271,272,273,274,275,276,277,278,279,280,281,282,283,284,285,286,287,288,289,290,291,292,293,294,295,296,297,298,299,300,301,302,303,304,305,306,307,308,309,310,311,312,313,314,315,316,317,318,319,320,321,322,323,324,325,326,327,328,329,330,331,332,333,334,335,336,337,338,339,340,341,342,343,344,345,346,347,348,349,350,351,352,353,354,355,356,357,358,359,360,361,362,363,364,365,366,367,368,369,370,371,372,373,374,375,376,377,378,379,380,381,382,383,384,385,386,387,388,389,390,391,392,393,394,395,396,397,398,399,400,401,402,403,404,405,406,407,408,409,410,411,412,413,414,415,416,417,418,419,420,421,422,423,424,425,426,427,428,429,430,431,432,433,434,435,436,437,438,439,440,441,442,443,444,445,446,447,448,449,450,451,452,453,454,455,456,457,458,459,460,461,462,463,464,465,466,467,468,469,470,471,472,473,474,475,476,477,478,479,480,481,482,483,484,485,486,487,488,489,490,491,492,493,494,495,496,497,498,499,500,501,502,503,504,505,506,507,508,509,510,511,512,513,514,515,516,517,518,519,520,521,522,523,524,525,526,527,528,529,530,531,532,533,534,535,536,537,538,539,540,541,542,543,544,545,546,547,548,549,550,551,552,553,554,555,556,557,558,559,560,561,562,563,564,565,566,567,568,569,570,571,572,573,574,575,576,577,578,579,580,581,582,583,584,585,586,587,588,589,590,591,592,593,594,595,596,597,598,599,600,601,602,603,604,605,606,607,608,609,610,611,612,613,614,615,616,617,618,619,620,621,622,623,624,625,626,627,628,629,630,631,632,633,634,635,636,637,638,639,640,641,642,643,644,645,646,647,648,649,650,651,652,653,654,655,656,657,658,659,660,661,662,663,664,665,666,667,668,669,670,671,672,673,674,675,676,677,678,679,680,681,682,683,684,685,686,687,688,689,690,691,692,693,694,695,696,697,698,699,700,701,702,703,704,705,706,707,708,709,710,711,712,713,714,715,716,717,718,719,720,721,722,723,724,725,726,727,728,729,730,731,732,733,734,735,736,737,738,739,740,741,742,743,744,745,746,747,748,749,750,751,752,753,754,755,756,757,758,759,760,761,762,763,764,765,766,767,768,769,770,771,772,773,774,775,776,777,778,779,780,781,782,783,784) have mixed types.Specify dtype option on import or set low_memory=False.\n",
      "  exec(code_obj, self.user_global_ns, self.user_ns)\n"
     ]
    },
    {
     "data": {
      "text/html": [
       "<div>\n",
       "<style scoped>\n",
       "    .dataframe tbody tr th:only-of-type {\n",
       "        vertical-align: middle;\n",
       "    }\n",
       "\n",
       "    .dataframe tbody tr th {\n",
       "        vertical-align: top;\n",
       "    }\n",
       "\n",
       "    .dataframe thead th {\n",
       "        text-align: right;\n",
       "    }\n",
       "</style>\n",
       "<table border=\"1\" class=\"dataframe\">\n",
       "  <thead>\n",
       "    <tr style=\"text-align: right;\">\n",
       "      <th></th>\n",
       "      <th>0</th>\n",
       "      <th>1</th>\n",
       "      <th>2</th>\n",
       "      <th>3</th>\n",
       "      <th>4</th>\n",
       "      <th>5</th>\n",
       "      <th>6</th>\n",
       "      <th>7</th>\n",
       "      <th>8</th>\n",
       "      <th>9</th>\n",
       "      <th>...</th>\n",
       "      <th>775</th>\n",
       "      <th>776</th>\n",
       "      <th>777</th>\n",
       "      <th>778</th>\n",
       "      <th>779</th>\n",
       "      <th>780</th>\n",
       "      <th>781</th>\n",
       "      <th>782</th>\n",
       "      <th>783</th>\n",
       "      <th>784</th>\n",
       "    </tr>\n",
       "  </thead>\n",
       "  <tbody>\n",
       "    <tr>\n",
       "      <th>0</th>\n",
       "      <td>label</td>\n",
       "      <td>1x1</td>\n",
       "      <td>1x2</td>\n",
       "      <td>1x3</td>\n",
       "      <td>1x4</td>\n",
       "      <td>1x5</td>\n",
       "      <td>1x6</td>\n",
       "      <td>1x7</td>\n",
       "      <td>1x8</td>\n",
       "      <td>1x9</td>\n",
       "      <td>...</td>\n",
       "      <td>28x19</td>\n",
       "      <td>28x20</td>\n",
       "      <td>28x21</td>\n",
       "      <td>28x22</td>\n",
       "      <td>28x23</td>\n",
       "      <td>28x24</td>\n",
       "      <td>28x25</td>\n",
       "      <td>28x26</td>\n",
       "      <td>28x27</td>\n",
       "      <td>28x28</td>\n",
       "    </tr>\n",
       "    <tr>\n",
       "      <th>1</th>\n",
       "      <td>5</td>\n",
       "      <td>0</td>\n",
       "      <td>0</td>\n",
       "      <td>0</td>\n",
       "      <td>0</td>\n",
       "      <td>0</td>\n",
       "      <td>0</td>\n",
       "      <td>0</td>\n",
       "      <td>0</td>\n",
       "      <td>0</td>\n",
       "      <td>...</td>\n",
       "      <td>0</td>\n",
       "      <td>0</td>\n",
       "      <td>0</td>\n",
       "      <td>0</td>\n",
       "      <td>0</td>\n",
       "      <td>0</td>\n",
       "      <td>0</td>\n",
       "      <td>0</td>\n",
       "      <td>0</td>\n",
       "      <td>0</td>\n",
       "    </tr>\n",
       "    <tr>\n",
       "      <th>2</th>\n",
       "      <td>0</td>\n",
       "      <td>0</td>\n",
       "      <td>0</td>\n",
       "      <td>0</td>\n",
       "      <td>0</td>\n",
       "      <td>0</td>\n",
       "      <td>0</td>\n",
       "      <td>0</td>\n",
       "      <td>0</td>\n",
       "      <td>0</td>\n",
       "      <td>...</td>\n",
       "      <td>0</td>\n",
       "      <td>0</td>\n",
       "      <td>0</td>\n",
       "      <td>0</td>\n",
       "      <td>0</td>\n",
       "      <td>0</td>\n",
       "      <td>0</td>\n",
       "      <td>0</td>\n",
       "      <td>0</td>\n",
       "      <td>0</td>\n",
       "    </tr>\n",
       "    <tr>\n",
       "      <th>3</th>\n",
       "      <td>4</td>\n",
       "      <td>0</td>\n",
       "      <td>0</td>\n",
       "      <td>0</td>\n",
       "      <td>0</td>\n",
       "      <td>0</td>\n",
       "      <td>0</td>\n",
       "      <td>0</td>\n",
       "      <td>0</td>\n",
       "      <td>0</td>\n",
       "      <td>...</td>\n",
       "      <td>0</td>\n",
       "      <td>0</td>\n",
       "      <td>0</td>\n",
       "      <td>0</td>\n",
       "      <td>0</td>\n",
       "      <td>0</td>\n",
       "      <td>0</td>\n",
       "      <td>0</td>\n",
       "      <td>0</td>\n",
       "      <td>0</td>\n",
       "    </tr>\n",
       "    <tr>\n",
       "      <th>4</th>\n",
       "      <td>1</td>\n",
       "      <td>0</td>\n",
       "      <td>0</td>\n",
       "      <td>0</td>\n",
       "      <td>0</td>\n",
       "      <td>0</td>\n",
       "      <td>0</td>\n",
       "      <td>0</td>\n",
       "      <td>0</td>\n",
       "      <td>0</td>\n",
       "      <td>...</td>\n",
       "      <td>0</td>\n",
       "      <td>0</td>\n",
       "      <td>0</td>\n",
       "      <td>0</td>\n",
       "      <td>0</td>\n",
       "      <td>0</td>\n",
       "      <td>0</td>\n",
       "      <td>0</td>\n",
       "      <td>0</td>\n",
       "      <td>0</td>\n",
       "    </tr>\n",
       "  </tbody>\n",
       "</table>\n",
       "<p>5 rows × 785 columns</p>\n",
       "</div>"
      ],
      "text/plain": [
       "       0    1    2    3    4    5    6    7    8    9  ...    775    776  \\\n",
       "0  label  1x1  1x2  1x3  1x4  1x5  1x6  1x7  1x8  1x9  ...  28x19  28x20   \n",
       "1      5    0    0    0    0    0    0    0    0    0  ...      0      0   \n",
       "2      0    0    0    0    0    0    0    0    0    0  ...      0      0   \n",
       "3      4    0    0    0    0    0    0    0    0    0  ...      0      0   \n",
       "4      1    0    0    0    0    0    0    0    0    0  ...      0      0   \n",
       "\n",
       "     777    778    779    780    781    782    783    784  \n",
       "0  28x21  28x22  28x23  28x24  28x25  28x26  28x27  28x28  \n",
       "1      0      0      0      0      0      0      0      0  \n",
       "2      0      0      0      0      0      0      0      0  \n",
       "3      0      0      0      0      0      0      0      0  \n",
       "4      0      0      0      0      0      0      0      0  \n",
       "\n",
       "[5 rows x 785 columns]"
      ]
     },
     "execution_count": 19,
     "metadata": {},
     "output_type": "execute_result"
    }
   ],
   "source": [
    "# Load the dataset from the folder on Drive where you have saved the dataset. Path will be like \"/content/drive/...\" \n",
    "\n",
    "#########################\n",
    "\n",
    "# Enter your code here\n",
    "\n",
    "#########################\n",
    "data  = pd.read_csv('./../mnist_digit/mnist.csv')"
   ]
  },
  {
   "cell_type": "code",
   "execution_count": 21,
   "metadata": {},
   "outputs": [],
   "source": [
    "# Sample 20% of the dataset. Please note that this is not the train-test split. This is just a sample of the dataset. We are doing this to reduce the computation time.\n",
    "\n",
    "#########################\n",
    "\n",
    "# Enter your code here\n",
    "\n",
    "#########################\n",
    "dataset = data.sample(frac=0.2)"
   ]
  },
  {
   "cell_type": "code",
   "execution_count": null,
   "metadata": {
    "id": "brg7NPGaxYxx"
   },
   "outputs": [],
   "source": [
    "# Implement a function to display an image from your loaded dataset given the image index. \n",
    "# You can use the Pillow library for this purpose.\n",
    "\n",
    "\n",
    "def display_image(image_ind):\n",
    "  pass # Enter your code here\n",
    "  "
   ]
  },
  {
   "cell_type": "code",
   "execution_count": null,
   "metadata": {
    "id": "-XXy2BuzjXr7"
   },
   "outputs": [],
   "source": [
    "# Now you can display different images to visualize them\n",
    "\n",
    "display_image(3)"
   ]
  },
  {
   "cell_type": "markdown",
   "metadata": {
    "id": "erbxuVutjBs9"
   },
   "source": [
    "Now divide the dataset into training and test sets (around an 85-15 split).\n",
    "More precisely, take the first 11900 images for the training set and the last 2100 for the test set.\n",
    "\n",
    "Both the resulting splits/sets should be stored in Numpy arrays of shape (num_split_images, 785).\n",
    "Depending on your approach, you can also separate the labels into a different array (or two arrays)."
   ]
  },
  {
   "cell_type": "code",
   "execution_count": null,
   "metadata": {
    "id": "PE4VWRgAxtY4"
   },
   "outputs": [],
   "source": [
    "# Train-test split\n",
    "\n",
    "#########################\n",
    "\n",
    "# Enter your code here\n",
    "\n",
    "#########################"
   ]
  },
  {
   "cell_type": "markdown",
   "metadata": {
    "id": "HUX1FaJfpVb0"
   },
   "source": [
    "### Implementing k-NN Classifier"
   ]
  },
  {
   "cell_type": "markdown",
   "metadata": {
    "id": "kK0-iqY8poUO"
   },
   "source": [
    "Now you need to implement all of the tasks that follow.\n",
    "\n",
    "First, implement separate functions for the Euclidean and Manhattan distances. Formulas for both are given below.\n",
    "\n",
    "**Euclidean Distance:**\n",
    "\n",
    "$$\n",
    "d(\\vec{p},\\vec{q}) = \\sqrt{(p_1 - q_1)^2 + (p_2 - q_2)^2 + (p_3 - q_3)^2 + ... + (p_n - q_n)^2}\n",
    "$$\n",
    "\n",
    "**Manhattan Distance:**\n",
    "\n",
    "$$\n",
    "d(\\vec{p},\\vec{q}) = |(p_1 - q_1)| + |(p_2 - q_2)| + |(p_3 - q_3)| + ... + |(p_n - q_n)|\n",
    "$$"
   ]
  },
  {
   "cell_type": "code",
   "execution_count": null,
   "metadata": {
    "id": "_d287bYwx-B_"
   },
   "outputs": [],
   "source": [
    "# Implement functions for Euclidean and Manhattan distances\n",
    "\n",
    "#########################\n",
    "\n",
    "# Enter your code here\n",
    "\n",
    "#########################"
   ]
  },
  {
   "cell_type": "markdown",
   "metadata": {
    "id": "hV3TfMfav4-W"
   },
   "source": [
    "Next, create your own k-Nearest Neighbors classifier function by performing the following\n",
    "tasks:\n",
    "1. For a test data point, find its distance from all training\n",
    "instances.\n",
    "2. Sort the calculated distances in ascending order based on distance values.\n",
    "3. Choose k training samples with minimum distances from the test data point.\n",
    "4. Return the most frequent class of these samples. (Your function should work\n",
    "with Euclidean distance as well as Manhattan distance. Pass the distance\n",
    "metric as a parameter in the k-NN classifier function. Your function should\n",
    "also be general enough to work with any value of k.)\n",
    "\n",
    "For values of k where a tie occurs, you need to break the tie by backing off to the k-1 value. In case there is still a tie, you will continue decreasing k until there is a clear winner."
   ]
  },
  {
   "cell_type": "code",
   "execution_count": null,
   "metadata": {
    "id": "zmopD_R4yISO"
   },
   "outputs": [],
   "source": [
    "# Implement k-Nearest Neighbors classifier function\n",
    "# Feel free to make any helper functions to assist you and to make the code modular\n",
    "\n",
    "#########################\n",
    "\n",
    "# Enter your code here\n",
    "\n",
    "#########################"
   ]
  },
  {
   "cell_type": "markdown",
   "metadata": {
    "id": "ZxV02qUIwutD"
   },
   "source": [
    "Next, implement an evaluation function that calculates the confusion matrix, classification accuracy and macro-average F1\n",
    "score of your classifier. The function should take as input the predicted labels and the true labels. \n",
    "\n",
    "We recommend that you do not use hard coding in this function. Try it at your own risk :p"
   ]
  },
  {
   "cell_type": "code",
   "execution_count": null,
   "metadata": {
    "id": "CpnqQnIoN7iu"
   },
   "outputs": [],
   "source": [
    "# Implement evaluation function\n",
    "\n",
    "#########################\n",
    "\n",
    "# Enter your code here\n",
    "\n",
    "#########################"
   ]
  },
  {
   "cell_type": "markdown",
   "metadata": {
    "id": "-aqguKVcOFnb"
   },
   "source": [
    "Next, implement a function that performs m-fold cross-validation on the training data for a specified value of k. (In cross-validation, you divide\n",
    "the training data set into m parts. m-1 parts will be used for training and 1 part\n",
    "will be used for validation. Then you will take a different part of your data as a\n",
    "validation data set and train your algorithm on the rest of the data set.) \n",
    "\n",
    "The function should return predicted labels for the entire training data (size of list/array should be equal to the size of training dataset) for the specified value of k. This is the result of appending the predicted labels for each validation-train split into a single list/array. Make sure the order of the predicted labels matches the order of the training dataset, so that they may directly be passed to your evaluation function together with the actual labels."
   ]
  },
  {
   "cell_type": "code",
   "execution_count": null,
   "metadata": {
    "id": "twm1MAloljI0"
   },
   "outputs": [],
   "source": [
    "# Implement function to perform m-fold cross-validation\n",
    "\n",
    "#########################\n",
    "\n",
    "# Enter your code here\n",
    "\n",
    "#########################"
   ]
  },
  {
   "cell_type": "markdown",
   "metadata": {
    "id": "mWUgqOBHlsyK"
   },
   "source": [
    "Now run your\n",
    "cross-validation function on the training data using m = 5 for the values of k = 1, 2, 3, 4, 5, 6, 7, 8, 9, 10. Do\n",
    "this for both the Euclidean distance and the Manhattan distance for each value of\n",
    "k. Also run your evaluation function for each value of k for both distance metrics and report confusion matrix, classification accuracy and F1 score.\n",
    "\n",
    "Each confusion matrix must be displayed as a heatmap annotated with the data values. The axes should be properly labelled and the colormap used needs to be shown next to the heatmap."
   ]
  },
  {
   "cell_type": "code",
   "execution_count": null,
   "metadata": {
    "id": "1tzIj-AizD86"
   },
   "outputs": [],
   "source": [
    "# Perform 5-fold cross-validation and report evaluation metrics\n",
    "\n",
    "#########################\n",
    "\n",
    "# Enter your code here\n",
    "\n",
    "#########################"
   ]
  },
  {
   "cell_type": "markdown",
   "metadata": {
    "id": "OZH6EG8d0R4s"
   },
   "source": [
    "Next, present the results as a graph with k values on the x-axis and classification accuracy\n",
    "on the y-axis. Use a single plot to compare the two versions of the classifier (one\n",
    "using Euclidean and the other using Manhattan distance metric). Make another\n",
    "graph but with the F1 score on the y-axis this time. The graphs should be properly\n",
    "labeled."
   ]
  },
  {
   "cell_type": "code",
   "execution_count": null,
   "metadata": {
    "id": "tcUclERi0fmg"
   },
   "outputs": [],
   "source": [
    "# Draw the required plots\n",
    "\n",
    "#########################\n",
    "\n",
    "# Enter your code here\n",
    "\n",
    "#########################"
   ]
  },
  {
   "cell_type": "markdown",
   "metadata": {
    "id": "9MjHsLCx1Dic"
   },
   "source": [
    "Comment on the best value of k you have found for both distance metrics using\n",
    "cross-validation. What impact does this value have on the decision boundries generated by the model and the stability of decisions?"
   ]
  },
  {
   "cell_type": "code",
   "execution_count": null,
   "metadata": {
    "id": "_JDqvNjX1KUt"
   },
   "outputs": [],
   "source": [
    "#########################\n",
    "\n",
    "# Your response\n",
    "\n",
    "#########################"
   ]
  },
  {
   "cell_type": "markdown",
   "metadata": {
    "id": "eulkPB4y1dgM"
   },
   "source": [
    "Finally, use the best value of k for both distance metrics and run it on the test\n",
    "dataset. Find the confusion matrix, classification accuracy and F1 score and print\n",
    "them. Keep in mind the earlier instructions about displaying confusion matrices."
   ]
  },
  {
   "cell_type": "code",
   "execution_count": null,
   "metadata": {
    "id": "iU40KNeb80Xa"
   },
   "outputs": [],
   "source": [
    "# Use best values of k on test dataset\n",
    "\n",
    "#########################\n",
    "\n",
    "# Enter your code here\n",
    "\n",
    "#########################"
   ]
  },
  {
   "cell_type": "markdown",
   "metadata": {
    "id": "GZwA3ffh9ZfK"
   },
   "source": [
    "## **Part 2: Implement using Scikit-Learn (25 marks)**"
   ]
  },
  {
   "cell_type": "markdown",
   "metadata": {
    "id": "SB6Uqhlt9n7P"
   },
   "source": [
    "In this part, you have to use [scikit-learn's k-NN implementation](https://scikit-learn.org/stable/modules/generated/sklearn.neighbors.KNeighborsClassifier.html) to train and test your\n",
    "classifier on the dataset used in Part 1. Repeat the tasks you have done in Part 1\n",
    "but this time using scikit-learn. Perform 5-fold cross-validation and run\n",
    "the k-NN classifier for values of k = 1, 2, 3, 4, 5, 6, 7, 8, 9, 10 using both Euclidean\n",
    "and Manhattan distance. Use scikit-learn's [accuracy_score](https://scikit-learn.org/stable/modules/generated/sklearn.metrics.accuracy_score.html) function to calculate the\n",
    "accuracy, [classification_report](https://scikit-learn.org/stable/modules/generated/sklearn.metrics.classification_report.html) to calculate macro-average F1 score,\n",
    "and [confusion_matrix](https://scikit-learn.org/stable/modules/generated/sklearn.metrics.confusion_matrix.html) function to calculate confusion matrix from the predicted labels. Also present\n",
    "the results as a graph with k values on the x-axis and performance measures on the y-axis\n",
    "just like you did in Part 1. Use a single plot to compare the two versions of the classifier\n",
    "(one using Euclidean and the other using Manhattan distance metric). Finally, print the\n",
    "best values of k for both distance metrics. Then use these values of k on the test dataset and print the evaluation scores and confusion matrix for each of the distance metrics.\n",
    "\n",
    "Note that the confusion matrices must be displayed in the same way as in Part 1."
   ]
  },
  {
   "cell_type": "code",
   "execution_count": null,
   "metadata": {},
   "outputs": [],
   "source": []
  }
 ],
 "metadata": {
  "colab": {
   "collapsed_sections": [],
   "name": "kNN_assignment.ipynb",
   "provenance": []
  },
  "kernelspec": {
   "display_name": "Python 3.8.8 ('base')",
   "language": "python",
   "name": "python3"
  },
  "language_info": {
   "codemirror_mode": {
    "name": "ipython",
    "version": 3
   },
   "file_extension": ".py",
   "mimetype": "text/x-python",
   "name": "python",
   "nbconvert_exporter": "python",
   "pygments_lexer": "ipython3",
   "version": "3.8.8"
  },
  "vscode": {
   "interpreter": {
    "hash": "42400a08ca043ca78d1af903af70ae37a116f59c25bda86f94d66baa5f9e85e4"
   }
  }
 },
 "nbformat": 4,
 "nbformat_minor": 1
}
